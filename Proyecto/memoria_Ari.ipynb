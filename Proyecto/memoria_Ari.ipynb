{
 "cells": [
  {
   "attachments": {},
   "cell_type": "markdown",
   "metadata": {},
   "source": [
    "## **MEMORIA PROYECTO EDA ARIADNA CANO**"
   ]
  },
  {
   "attachments": {},
   "cell_type": "markdown",
   "metadata": {},
   "source": [
    "**Aspectos generales del proyecto**  \n",
    "\n",
    "El tema escogido consiste en la comparación de la tasa de suicidios dadas en unos años concretos de estudio, obteniendo así la tasa de crecimiento o decrecimiento.  \n",
    "\n",
    "Los años elegidos son 2018 - 2019 como años prepandemia covid19, 2020 y 2021 como años de plena pandemia, por último 2022 como año post pandemia y vuelta a la normalidad.\n",
    "Todos los datos utilizados para la realización de este análisis han sido obtenidos del [Instituto Nacional de Estadística](www.ine.es)\n",
    "\n",
    "**Ejecución** \n",
    "\n",
    "A lo largo del proyecto se ha mostrado la información obtenida en diferentes gráficas por cada año de estudio en función del sexo, edad y comunidad autónoma de los fallecidos, se ha ampliado el análisis haciendo especial hincapié en la comunidad autónoma de Andalucía y de manera nacional en la tasa de suicidios de jóvenes menores de 30 años. Se han descrito cálculos de crecimiento tanto de Andalucía como a nivel nacional de manera anual, comparando años entre sí, así como la tasa diaria de suicidios de cada año en estudio.\n",
    "\n",
    "**Conclusión**\n",
    "\n",
    "La tasa anual de suicidios en España ya era preocupante antes de la llegada del COVID19, no obtante, se ha comprobado en los resultados finales que durante la pandemia a pesar de tener más muertes anuales, ha habido un freno en el crecimiento de la tasa de suicidios.\n",
    "\n",
    "\n"
   ]
  }
 ],
 "metadata": {
  "kernelspec": {
   "display_name": "Python 3",
   "language": "python",
   "name": "python3"
  },
  "language_info": {
   "name": "python",
   "version": "3.7.4 (tags/v3.7.4:e09359112e, Jul  8 2019, 20:34:20) [MSC v.1916 64 bit (AMD64)]"
  },
  "orig_nbformat": 4,
  "vscode": {
   "interpreter": {
    "hash": "924a151fb5973f04e416f421822c1ba91474c73a1f889bcdd604a279afead29a"
   }
  }
 },
 "nbformat": 4,
 "nbformat_minor": 2
}
