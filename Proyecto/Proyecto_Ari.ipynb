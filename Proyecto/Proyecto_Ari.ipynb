{
 "cells": [
  {
   "attachments": {},
   "cell_type": "markdown",
   "metadata": {},
   "source": [
    "## ANÁLISIS DE DEFUNCIONES POR SUICIDIOS EN PERÍODO PRE PANDEMIA (2018-2019), PANDEMIA (2020 - 2021) Y POST PANDEMIA (2022)"
   ]
  },
  {
   "attachments": {},
   "cell_type": "markdown",
   "metadata": {},
   "source": [
    "El objetivo de este análisis es la comparación del número de defunciones por suicidios dados en los años previos a la pandemia COVID19, durante la pandemia y posterior a la pandemia por sexo, edad y comunidad autónoma, comparando el crecimiento o decrecimiento de los mismos.\n",
    "\n",
    "Las fechas que comprenden la época de pandemia son las fechas en las que España estuvo bajo estado de alarma (15/03/2020 - 09/05/2021)  \n",
    "\n",
    "Todos los datos que aparecen en este proyecto han sido obtenidos del [Instituto Nacional de Estadística](www.ine.es)"
   ]
  },
  {
   "attachments": {},
   "cell_type": "markdown",
   "metadata": {},
   "source": [
    "IMPORTAMOS LIBRERIAS"
   ]
  },
  {
   "cell_type": "code",
   "execution_count": 87,
   "metadata": {},
   "outputs": [],
   "source": [
    "import pandas as pd\n",
    "import csv"
   ]
  },
  {
   "attachments": {},
   "cell_type": "markdown",
   "metadata": {},
   "source": [
    "CREAMOS LOS DATAFRAMES A PARTIR DEL ARCHIVO CSV OBTENIDO"
   ]
  },
  {
   "cell_type": "code",
   "execution_count": 195,
   "metadata": {},
   "outputs": [],
   "source": [
    "df2018 = pd.read_csv('C:\\\\Users\\\\arica\\\\Desktop\\\\Proyecto EDA\\\\Proyecto\\\\Data\\\\Sui2018.csv', sep=';')\n",
    "com2018 = pd.read_csv('C:\\\\Users\\\\arica\\\\Desktop\\\\Proyecto EDA\\\\Proyecto\\\\Data\\\\Com2018.csv', sep=';')\n",
    "\n",
    "df2019 = pd.read_csv('C:\\\\Users\\\\arica\\\\Desktop\\\\Proyecto EDA\\\\Proyecto\\\\Data\\\\Sui2019.csv', sep=';')\n",
    "com2019 = pd.read_csv('C:\\\\Users\\\\arica\\\\Desktop\\\\Proyecto EDA\\\\Proyecto\\\\Data\\\\Com2019.csv', sep=';')\n",
    "\n",
    "df2020 = pd.read_csv('C:\\\\Users\\\\arica\\\\Desktop\\\\Proyecto EDA\\\\Proyecto\\\\Data\\\\Sui2020.csv', sep=';')\n",
    "com2020 = pd.read_csv('C:\\\\Users\\\\arica\\\\Desktop\\\\Proyecto EDA\\\\Proyecto\\\\Data\\\\Com2020.csv', sep=';')\n",
    "\n",
    "df2021 = pd.read_csv('C:\\\\Users\\\\arica\\\\Desktop\\\\Proyecto EDA\\\\Proyecto\\\\Data\\\\Sui2021.csv', sep=';')\n",
    "com2021 = pd.read_csv('C:\\\\Users\\\\arica\\\\Desktop\\\\Proyecto EDA\\\\Proyecto\\\\Data\\\\Com2021.csv', sep=';')\n",
    "\n",
    "df2022 = pd.read_csv('C:\\\\Users\\\\arica\\\\Desktop\\\\Proyecto EDA\\\\Proyecto\\\\Data\\\\Sui2022.csv', sep=';')\n",
    "com2022 = pd.read_csv('C:\\\\Users\\\\arica\\\\Desktop\\\\Proyecto EDA\\\\Proyecto\\\\Data\\\\Com2022.csv', sep=';')\n",
    "\n",
    "total = pd.read_csv(\"C:\\\\Users\\\\arica\\\\Desktop\\\\Proyecto EDA\\\\Proyecto\\\\Data\\\\Totales.csv\", sep= \";\")\n",
    "total_comunidades = pd.read_csv(\"C:\\\\Users\\\\arica\\\\Desktop\\\\Proyecto EDA\\\\Proyecto\\\\Data\\\\Totalcomunidad.csv\", sep= \";\")\n"
   ]
  },
  {
   "cell_type": "code",
   "execution_count": 89,
   "metadata": {},
   "outputs": [
    {
     "data": {
      "text/html": [
       "<div>\n",
       "<style scoped>\n",
       "    .dataframe tbody tr th:only-of-type {\n",
       "        vertical-align: middle;\n",
       "    }\n",
       "\n",
       "    .dataframe tbody tr th {\n",
       "        vertical-align: top;\n",
       "    }\n",
       "\n",
       "    .dataframe thead th {\n",
       "        text-align: right;\n",
       "    }\n",
       "</style>\n",
       "<table border=\"1\" class=\"dataframe\">\n",
       "  <thead>\n",
       "    <tr style=\"text-align: right;\">\n",
       "      <th></th>\n",
       "      <th>Edad</th>\n",
       "      <th>Sexo</th>\n",
       "      <th>Total</th>\n",
       "    </tr>\n",
       "  </thead>\n",
       "  <tbody>\n",
       "    <tr>\n",
       "      <th>0</th>\n",
       "      <td>Todas las edades</td>\n",
       "      <td>Ambos sexos</td>\n",
       "      <td>3539</td>\n",
       "    </tr>\n",
       "    <tr>\n",
       "      <th>1</th>\n",
       "      <td>Todas las edades</td>\n",
       "      <td>Hombres</td>\n",
       "      <td>2619</td>\n",
       "    </tr>\n",
       "    <tr>\n",
       "      <th>2</th>\n",
       "      <td>Todas las edades</td>\n",
       "      <td>Mujeres</td>\n",
       "      <td>920</td>\n",
       "    </tr>\n",
       "    <tr>\n",
       "      <th>3</th>\n",
       "      <td>Menores de 15 años</td>\n",
       "      <td>Ambos sexos</td>\n",
       "      <td>7</td>\n",
       "    </tr>\n",
       "    <tr>\n",
       "      <th>4</th>\n",
       "      <td>Menores de 15 años</td>\n",
       "      <td>Hombres</td>\n",
       "      <td>4</td>\n",
       "    </tr>\n",
       "  </tbody>\n",
       "</table>\n",
       "</div>"
      ],
      "text/plain": [
       "                 Edad         Sexo  Total\n",
       "0    Todas las edades  Ambos sexos   3539\n",
       "1    Todas las edades      Hombres   2619\n",
       "2    Todas las edades      Mujeres    920\n",
       "3  Menores de 15 años  Ambos sexos      7\n",
       "4  Menores de 15 años      Hombres      4"
      ]
     },
     "execution_count": 89,
     "metadata": {},
     "output_type": "execute_result"
    }
   ],
   "source": [
    "df2018.head()"
   ]
  },
  {
   "cell_type": "code",
   "execution_count": 90,
   "metadata": {},
   "outputs": [
    {
     "data": {
      "text/html": [
       "<div>\n",
       "<style scoped>\n",
       "    .dataframe tbody tr th:only-of-type {\n",
       "        vertical-align: middle;\n",
       "    }\n",
       "\n",
       "    .dataframe tbody tr th {\n",
       "        vertical-align: top;\n",
       "    }\n",
       "\n",
       "    .dataframe thead th {\n",
       "        text-align: right;\n",
       "    }\n",
       "</style>\n",
       "<table border=\"1\" class=\"dataframe\">\n",
       "  <thead>\n",
       "    <tr style=\"text-align: right;\">\n",
       "      <th></th>\n",
       "      <th>Comunidades y ciudades autónomas de residencia</th>\n",
       "      <th>Sexo</th>\n",
       "      <th>Edad</th>\n",
       "      <th>Total</th>\n",
       "    </tr>\n",
       "  </thead>\n",
       "  <tbody>\n",
       "    <tr>\n",
       "      <th>0</th>\n",
       "      <td>Andalucía</td>\n",
       "      <td>Ambos sexos</td>\n",
       "      <td>Todas las edades</td>\n",
       "      <td>793</td>\n",
       "    </tr>\n",
       "    <tr>\n",
       "      <th>1</th>\n",
       "      <td>Andalucía</td>\n",
       "      <td>Ambos sexos</td>\n",
       "      <td>Menores de 15 años</td>\n",
       "      <td>2</td>\n",
       "    </tr>\n",
       "    <tr>\n",
       "      <th>2</th>\n",
       "      <td>Andalucía</td>\n",
       "      <td>Ambos sexos</td>\n",
       "      <td>De 15 a 29 años</td>\n",
       "      <td>67</td>\n",
       "    </tr>\n",
       "    <tr>\n",
       "      <th>3</th>\n",
       "      <td>Andalucía</td>\n",
       "      <td>Ambos sexos</td>\n",
       "      <td>De 30 a 39 años</td>\n",
       "      <td>72</td>\n",
       "    </tr>\n",
       "    <tr>\n",
       "      <th>4</th>\n",
       "      <td>Andalucía</td>\n",
       "      <td>Ambos sexos</td>\n",
       "      <td>De 40 a 44 años</td>\n",
       "      <td>76</td>\n",
       "    </tr>\n",
       "  </tbody>\n",
       "</table>\n",
       "</div>"
      ],
      "text/plain": [
       "  Comunidades y ciudades autónomas de residencia         Sexo  \\\n",
       "0                                      Andalucía  Ambos sexos   \n",
       "1                                      Andalucía  Ambos sexos   \n",
       "2                                      Andalucía  Ambos sexos   \n",
       "3                                      Andalucía  Ambos sexos   \n",
       "4                                      Andalucía  Ambos sexos   \n",
       "\n",
       "                 Edad  Total  \n",
       "0    Todas las edades    793  \n",
       "1  Menores de 15 años      2  \n",
       "2     De 15 a 29 años     67  \n",
       "3     De 30 a 39 años     72  \n",
       "4     De 40 a 44 años     76  "
      ]
     },
     "execution_count": 90,
     "metadata": {},
     "output_type": "execute_result"
    }
   ],
   "source": [
    "com2020.head()"
   ]
  },
  {
   "attachments": {},
   "cell_type": "markdown",
   "metadata": {},
   "source": [
    "ELIMINAMOS LOS DATOS IRRELEVANTES E IGUALAMOS LOS NOMBRES DE LAS COLUMNAS PARA TODOS LOS DATAFRAMES"
   ]
  },
  {
   "cell_type": "code",
   "execution_count": 91,
   "metadata": {},
   "outputs": [],
   "source": [
    "com2018.rename(columns={\"Comunidades y ciudades autónomas de residencia\": \"Comunidades autónomas\"}, inplace=True)\n",
    "com2019.rename(columns={\"Comunidades y ciudades autónomas de residencia\": \"Comunidades autónomas\"}, inplace=True)\n",
    "com2020.rename(columns={\"Comunidades y ciudades autónomas de residencia\": \"Comunidades autónomas\"}, inplace=True)\n",
    "com2021.rename(columns={\"Comunidades y Ciudades Autónomas\": \"Comunidades autónomas\"}, inplace=True)\n",
    "com2022.rename(columns={\"Comunidades y Ciudades Autonomas\": \"Comunidades autónomas\"}, inplace=True)"
   ]
  },
  {
   "cell_type": "code",
   "execution_count": 92,
   "metadata": {},
   "outputs": [],
   "source": [
    "#2021\n",
    "com2021.drop(\"Nacional\", inplace=True,axis=1)"
   ]
  },
  {
   "cell_type": "code",
   "execution_count": 93,
   "metadata": {},
   "outputs": [],
   "source": [
    "#2022\n",
    "df2022.drop(\"Causas (lista reducida)\", inplace=True,axis=1)\n",
    "com2022.drop(\"Causas (lista reducida)\", inplace=True,axis=1)\n",
    "com2022.drop(\"Nacional\", inplace=True,axis=1)"
   ]
  },
  {
   "attachments": {},
   "cell_type": "markdown",
   "metadata": {},
   "source": [
    "IMPORTAMOS LIBRERIAS NECESARIAS PARA LA VISUALIZACIÓN DE DATOS"
   ]
  },
  {
   "cell_type": "code",
   "execution_count": 94,
   "metadata": {},
   "outputs": [],
   "source": [
    "#Importamos librerias\n",
    "import matplotlib as mpl\n",
    "import matplotlib.pyplot as plt\n",
    "import seaborn as sns\n",
    "import plotly.graph_objs as go\n",
    "import plotly.express as px\n",
    "from plotly.offline import init_notebook_mode, iplot, plot\n",
    "import plotly as py\n",
    "# Activamos matplotlib de forma estática\n",
    "%matplotlib inline\n"
   ]
  },
  {
   "attachments": {},
   "cell_type": "markdown",
   "metadata": {},
   "source": [
    "MOSTRAMOS EN GRÁFICOS LA INFORMACIÓN OBTENIDA"
   ]
  },
  {
   "attachments": {},
   "cell_type": "markdown",
   "metadata": {},
   "source": [
    "## **PREPANDEMIA 2018 - 2019**"
   ]
  },
  {
   "attachments": {},
   "cell_type": "markdown",
   "metadata": {},
   "source": [
    "SUICIDIOS EN 2018 POR SEXO Y EDAD"
   ]
  },
  {
   "cell_type": "code",
   "execution_count": 95,
   "metadata": {},
   "outputs": [
    {
     "data": {
      "application/vnd.plotly.v1+json": {
       "config": {
        "plotlyServerURL": "https://plot.ly"
       },
       "data": [
        {
         "alignmentgroup": "True",
         "hovertemplate": "Sexo=Ambos sexos<br>Edad=%{x}<br>Número de suicidios=%{y}<extra></extra>",
         "legendgroup": "Ambos sexos",
         "marker": {
          "color": "rgb(76,114,176)",
          "pattern": {
           "shape": ""
          }
         },
         "name": "Ambos sexos",
         "offsetgroup": "Ambos sexos",
         "orientation": "v",
         "showlegend": true,
         "textposition": "auto",
         "type": "bar",
         "x": [
          "Menores de 15 años",
          "De 15 a 29 años",
          "De 30 a 39 años",
          "De 40 a 44 años",
          "De 45 a 49 años",
          "De 50 a 54 años",
          "De 55 a 59 años",
          "De 60 a 64 años",
          "De 65 a 69 años",
          "De 70 a 74 años",
          "De 75 a 79 años",
          "De 80 a 84 años",
          "De 85 a 89 años",
          "De 90 a 94 años",
          "De 95 años y más"
         ],
         "xaxis": "x",
         "y": [
          7,
          268,
          396,
          315,
          393,
          377,
          381,
          273,
          239,
          230,
          173,
          228,
          175,
          73,
          11
         ],
         "yaxis": "y"
        },
        {
         "alignmentgroup": "True",
         "hovertemplate": "Sexo=Hombres<br>Edad=%{x}<br>Número de suicidios=%{y}<extra></extra>",
         "legendgroup": "Hombres",
         "marker": {
          "color": "rgb(221,132,82)",
          "pattern": {
           "shape": ""
          }
         },
         "name": "Hombres",
         "offsetgroup": "Hombres",
         "orientation": "v",
         "showlegend": true,
         "textposition": "auto",
         "type": "bar",
         "x": [
          "Menores de 15 años",
          "De 15 a 29 años",
          "De 30 a 39 años",
          "De 40 a 44 años",
          "De 45 a 49 años",
          "De 50 a 54 años",
          "De 55 a 59 años",
          "De 60 a 64 años",
          "De 65 a 69 años",
          "De 70 a 74 años",
          "De 75 a 79 años",
          "De 80 a 84 años",
          "De 85 a 89 años",
          "De 90 a 94 años",
          "De 95 años y más"
         ],
         "xaxis": "x",
         "y": [
          4,
          203,
          309,
          236,
          298,
          280,
          275,
          196,
          164,
          160,
          129,
          167,
          134,
          56,
          8
         ],
         "yaxis": "y"
        },
        {
         "alignmentgroup": "True",
         "hovertemplate": "Sexo=Mujeres<br>Edad=%{x}<br>Número de suicidios=%{y}<extra></extra>",
         "legendgroup": "Mujeres",
         "marker": {
          "color": "rgb(85,168,104)",
          "pattern": {
           "shape": ""
          }
         },
         "name": "Mujeres",
         "offsetgroup": "Mujeres",
         "orientation": "v",
         "showlegend": true,
         "textposition": "auto",
         "type": "bar",
         "x": [
          "Menores de 15 años",
          "De 15 a 29 años",
          "De 30 a 39 años",
          "De 40 a 44 años",
          "De 45 a 49 años",
          "De 50 a 54 años",
          "De 55 a 59 años",
          "De 60 a 64 años",
          "De 65 a 69 años",
          "De 70 a 74 años",
          "De 75 a 79 años",
          "De 80 a 84 años",
          "De 85 a 89 años",
          "De 90 a 94 años"
         ],
         "xaxis": "x",
         "y": [
          3,
          65,
          87,
          79,
          95,
          97,
          106,
          77,
          75,
          70,
          44,
          61,
          41,
          17
         ],
         "yaxis": "y"
        }
       ],
       "layout": {
        "barmode": "group",
        "legend": {
         "title": {
          "text": "Sexo"
         },
         "tracegroupgap": 0
        },
        "template": {
         "data": {
          "bar": [
           {
            "error_x": {
             "color": "rgb(36,36,36)"
            },
            "error_y": {
             "color": "rgb(36,36,36)"
            },
            "marker": {
             "line": {
              "color": "rgb(234,234,242)",
              "width": 0.5
             },
             "pattern": {
              "fillmode": "overlay",
              "size": 10,
              "solidity": 0.2
             }
            },
            "type": "bar"
           }
          ],
          "barpolar": [
           {
            "marker": {
             "line": {
              "color": "rgb(234,234,242)",
              "width": 0.5
             },
             "pattern": {
              "fillmode": "overlay",
              "size": 10,
              "solidity": 0.2
             }
            },
            "type": "barpolar"
           }
          ],
          "carpet": [
           {
            "aaxis": {
             "endlinecolor": "rgb(36,36,36)",
             "gridcolor": "white",
             "linecolor": "white",
             "minorgridcolor": "white",
             "startlinecolor": "rgb(36,36,36)"
            },
            "baxis": {
             "endlinecolor": "rgb(36,36,36)",
             "gridcolor": "white",
             "linecolor": "white",
             "minorgridcolor": "white",
             "startlinecolor": "rgb(36,36,36)"
            },
            "type": "carpet"
           }
          ],
          "choropleth": [
           {
            "colorbar": {
             "outlinewidth": 0,
             "tickcolor": "rgb(36,36,36)",
             "ticklen": 8,
             "ticks": "outside",
             "tickwidth": 2
            },
            "type": "choropleth"
           }
          ],
          "contour": [
           {
            "colorbar": {
             "outlinewidth": 0,
             "tickcolor": "rgb(36,36,36)",
             "ticklen": 8,
             "ticks": "outside",
             "tickwidth": 2
            },
            "colorscale": [
             [
              0,
              "rgb(2,4,25)"
             ],
             [
              0.06274509803921569,
              "rgb(24,15,41)"
             ],
             [
              0.12549019607843137,
              "rgb(47,23,57)"
             ],
             [
              0.18823529411764706,
              "rgb(71,28,72)"
             ],
             [
              0.25098039215686274,
              "rgb(97,30,82)"
             ],
             [
              0.3137254901960784,
              "rgb(123,30,89)"
             ],
             [
              0.3764705882352941,
              "rgb(150,27,91)"
             ],
             [
              0.4392156862745098,
              "rgb(177,22,88)"
             ],
             [
              0.5019607843137255,
              "rgb(203,26,79)"
             ],
             [
              0.5647058823529412,
              "rgb(223,47,67)"
             ],
             [
              0.6274509803921569,
              "rgb(236,76,61)"
             ],
             [
              0.6901960784313725,
              "rgb(242,107,73)"
             ],
             [
              0.7529411764705882,
              "rgb(244,135,95)"
             ],
             [
              0.8156862745098039,
              "rgb(245,162,122)"
             ],
             [
              0.8784313725490196,
              "rgb(246,188,153)"
             ],
             [
              0.9411764705882353,
              "rgb(247,212,187)"
             ],
             [
              1,
              "rgb(250,234,220)"
             ]
            ],
            "type": "contour"
           }
          ],
          "contourcarpet": [
           {
            "colorbar": {
             "outlinewidth": 0,
             "tickcolor": "rgb(36,36,36)",
             "ticklen": 8,
             "ticks": "outside",
             "tickwidth": 2
            },
            "type": "contourcarpet"
           }
          ],
          "heatmap": [
           {
            "colorbar": {
             "outlinewidth": 0,
             "tickcolor": "rgb(36,36,36)",
             "ticklen": 8,
             "ticks": "outside",
             "tickwidth": 2
            },
            "colorscale": [
             [
              0,
              "rgb(2,4,25)"
             ],
             [
              0.06274509803921569,
              "rgb(24,15,41)"
             ],
             [
              0.12549019607843137,
              "rgb(47,23,57)"
             ],
             [
              0.18823529411764706,
              "rgb(71,28,72)"
             ],
             [
              0.25098039215686274,
              "rgb(97,30,82)"
             ],
             [
              0.3137254901960784,
              "rgb(123,30,89)"
             ],
             [
              0.3764705882352941,
              "rgb(150,27,91)"
             ],
             [
              0.4392156862745098,
              "rgb(177,22,88)"
             ],
             [
              0.5019607843137255,
              "rgb(203,26,79)"
             ],
             [
              0.5647058823529412,
              "rgb(223,47,67)"
             ],
             [
              0.6274509803921569,
              "rgb(236,76,61)"
             ],
             [
              0.6901960784313725,
              "rgb(242,107,73)"
             ],
             [
              0.7529411764705882,
              "rgb(244,135,95)"
             ],
             [
              0.8156862745098039,
              "rgb(245,162,122)"
             ],
             [
              0.8784313725490196,
              "rgb(246,188,153)"
             ],
             [
              0.9411764705882353,
              "rgb(247,212,187)"
             ],
             [
              1,
              "rgb(250,234,220)"
             ]
            ],
            "type": "heatmap"
           }
          ],
          "heatmapgl": [
           {
            "colorbar": {
             "outlinewidth": 0,
             "tickcolor": "rgb(36,36,36)",
             "ticklen": 8,
             "ticks": "outside",
             "tickwidth": 2
            },
            "colorscale": [
             [
              0,
              "rgb(2,4,25)"
             ],
             [
              0.06274509803921569,
              "rgb(24,15,41)"
             ],
             [
              0.12549019607843137,
              "rgb(47,23,57)"
             ],
             [
              0.18823529411764706,
              "rgb(71,28,72)"
             ],
             [
              0.25098039215686274,
              "rgb(97,30,82)"
             ],
             [
              0.3137254901960784,
              "rgb(123,30,89)"
             ],
             [
              0.3764705882352941,
              "rgb(150,27,91)"
             ],
             [
              0.4392156862745098,
              "rgb(177,22,88)"
             ],
             [
              0.5019607843137255,
              "rgb(203,26,79)"
             ],
             [
              0.5647058823529412,
              "rgb(223,47,67)"
             ],
             [
              0.6274509803921569,
              "rgb(236,76,61)"
             ],
             [
              0.6901960784313725,
              "rgb(242,107,73)"
             ],
             [
              0.7529411764705882,
              "rgb(244,135,95)"
             ],
             [
              0.8156862745098039,
              "rgb(245,162,122)"
             ],
             [
              0.8784313725490196,
              "rgb(246,188,153)"
             ],
             [
              0.9411764705882353,
              "rgb(247,212,187)"
             ],
             [
              1,
              "rgb(250,234,220)"
             ]
            ],
            "type": "heatmapgl"
           }
          ],
          "histogram": [
           {
            "marker": {
             "pattern": {
              "fillmode": "overlay",
              "size": 10,
              "solidity": 0.2
             }
            },
            "type": "histogram"
           }
          ],
          "histogram2d": [
           {
            "colorbar": {
             "outlinewidth": 0,
             "tickcolor": "rgb(36,36,36)",
             "ticklen": 8,
             "ticks": "outside",
             "tickwidth": 2
            },
            "colorscale": [
             [
              0,
              "rgb(2,4,25)"
             ],
             [
              0.06274509803921569,
              "rgb(24,15,41)"
             ],
             [
              0.12549019607843137,
              "rgb(47,23,57)"
             ],
             [
              0.18823529411764706,
              "rgb(71,28,72)"
             ],
             [
              0.25098039215686274,
              "rgb(97,30,82)"
             ],
             [
              0.3137254901960784,
              "rgb(123,30,89)"
             ],
             [
              0.3764705882352941,
              "rgb(150,27,91)"
             ],
             [
              0.4392156862745098,
              "rgb(177,22,88)"
             ],
             [
              0.5019607843137255,
              "rgb(203,26,79)"
             ],
             [
              0.5647058823529412,
              "rgb(223,47,67)"
             ],
             [
              0.6274509803921569,
              "rgb(236,76,61)"
             ],
             [
              0.6901960784313725,
              "rgb(242,107,73)"
             ],
             [
              0.7529411764705882,
              "rgb(244,135,95)"
             ],
             [
              0.8156862745098039,
              "rgb(245,162,122)"
             ],
             [
              0.8784313725490196,
              "rgb(246,188,153)"
             ],
             [
              0.9411764705882353,
              "rgb(247,212,187)"
             ],
             [
              1,
              "rgb(250,234,220)"
             ]
            ],
            "type": "histogram2d"
           }
          ],
          "histogram2dcontour": [
           {
            "colorbar": {
             "outlinewidth": 0,
             "tickcolor": "rgb(36,36,36)",
             "ticklen": 8,
             "ticks": "outside",
             "tickwidth": 2
            },
            "colorscale": [
             [
              0,
              "rgb(2,4,25)"
             ],
             [
              0.06274509803921569,
              "rgb(24,15,41)"
             ],
             [
              0.12549019607843137,
              "rgb(47,23,57)"
             ],
             [
              0.18823529411764706,
              "rgb(71,28,72)"
             ],
             [
              0.25098039215686274,
              "rgb(97,30,82)"
             ],
             [
              0.3137254901960784,
              "rgb(123,30,89)"
             ],
             [
              0.3764705882352941,
              "rgb(150,27,91)"
             ],
             [
              0.4392156862745098,
              "rgb(177,22,88)"
             ],
             [
              0.5019607843137255,
              "rgb(203,26,79)"
             ],
             [
              0.5647058823529412,
              "rgb(223,47,67)"
             ],
             [
              0.6274509803921569,
              "rgb(236,76,61)"
             ],
             [
              0.6901960784313725,
              "rgb(242,107,73)"
             ],
             [
              0.7529411764705882,
              "rgb(244,135,95)"
             ],
             [
              0.8156862745098039,
              "rgb(245,162,122)"
             ],
             [
              0.8784313725490196,
              "rgb(246,188,153)"
             ],
             [
              0.9411764705882353,
              "rgb(247,212,187)"
             ],
             [
              1,
              "rgb(250,234,220)"
             ]
            ],
            "type": "histogram2dcontour"
           }
          ],
          "mesh3d": [
           {
            "colorbar": {
             "outlinewidth": 0,
             "tickcolor": "rgb(36,36,36)",
             "ticklen": 8,
             "ticks": "outside",
             "tickwidth": 2
            },
            "type": "mesh3d"
           }
          ],
          "parcoords": [
           {
            "line": {
             "colorbar": {
              "outlinewidth": 0,
              "tickcolor": "rgb(36,36,36)",
              "ticklen": 8,
              "ticks": "outside",
              "tickwidth": 2
             }
            },
            "type": "parcoords"
           }
          ],
          "pie": [
           {
            "automargin": true,
            "type": "pie"
           }
          ],
          "scatter": [
           {
            "fillpattern": {
             "fillmode": "overlay",
             "size": 10,
             "solidity": 0.2
            },
            "type": "scatter"
           }
          ],
          "scatter3d": [
           {
            "line": {
             "colorbar": {
              "outlinewidth": 0,
              "tickcolor": "rgb(36,36,36)",
              "ticklen": 8,
              "ticks": "outside",
              "tickwidth": 2
             }
            },
            "marker": {
             "colorbar": {
              "outlinewidth": 0,
              "tickcolor": "rgb(36,36,36)",
              "ticklen": 8,
              "ticks": "outside",
              "tickwidth": 2
             }
            },
            "type": "scatter3d"
           }
          ],
          "scattercarpet": [
           {
            "marker": {
             "colorbar": {
              "outlinewidth": 0,
              "tickcolor": "rgb(36,36,36)",
              "ticklen": 8,
              "ticks": "outside",
              "tickwidth": 2
             }
            },
            "type": "scattercarpet"
           }
          ],
          "scattergeo": [
           {
            "marker": {
             "colorbar": {
              "outlinewidth": 0,
              "tickcolor": "rgb(36,36,36)",
              "ticklen": 8,
              "ticks": "outside",
              "tickwidth": 2
             }
            },
            "type": "scattergeo"
           }
          ],
          "scattergl": [
           {
            "marker": {
             "colorbar": {
              "outlinewidth": 0,
              "tickcolor": "rgb(36,36,36)",
              "ticklen": 8,
              "ticks": "outside",
              "tickwidth": 2
             }
            },
            "type": "scattergl"
           }
          ],
          "scattermapbox": [
           {
            "marker": {
             "colorbar": {
              "outlinewidth": 0,
              "tickcolor": "rgb(36,36,36)",
              "ticklen": 8,
              "ticks": "outside",
              "tickwidth": 2
             }
            },
            "type": "scattermapbox"
           }
          ],
          "scatterpolar": [
           {
            "marker": {
             "colorbar": {
              "outlinewidth": 0,
              "tickcolor": "rgb(36,36,36)",
              "ticklen": 8,
              "ticks": "outside",
              "tickwidth": 2
             }
            },
            "type": "scatterpolar"
           }
          ],
          "scatterpolargl": [
           {
            "marker": {
             "colorbar": {
              "outlinewidth": 0,
              "tickcolor": "rgb(36,36,36)",
              "ticklen": 8,
              "ticks": "outside",
              "tickwidth": 2
             }
            },
            "type": "scatterpolargl"
           }
          ],
          "scatterternary": [
           {
            "marker": {
             "colorbar": {
              "outlinewidth": 0,
              "tickcolor": "rgb(36,36,36)",
              "ticklen": 8,
              "ticks": "outside",
              "tickwidth": 2
             }
            },
            "type": "scatterternary"
           }
          ],
          "surface": [
           {
            "colorbar": {
             "outlinewidth": 0,
             "tickcolor": "rgb(36,36,36)",
             "ticklen": 8,
             "ticks": "outside",
             "tickwidth": 2
            },
            "colorscale": [
             [
              0,
              "rgb(2,4,25)"
             ],
             [
              0.06274509803921569,
              "rgb(24,15,41)"
             ],
             [
              0.12549019607843137,
              "rgb(47,23,57)"
             ],
             [
              0.18823529411764706,
              "rgb(71,28,72)"
             ],
             [
              0.25098039215686274,
              "rgb(97,30,82)"
             ],
             [
              0.3137254901960784,
              "rgb(123,30,89)"
             ],
             [
              0.3764705882352941,
              "rgb(150,27,91)"
             ],
             [
              0.4392156862745098,
              "rgb(177,22,88)"
             ],
             [
              0.5019607843137255,
              "rgb(203,26,79)"
             ],
             [
              0.5647058823529412,
              "rgb(223,47,67)"
             ],
             [
              0.6274509803921569,
              "rgb(236,76,61)"
             ],
             [
              0.6901960784313725,
              "rgb(242,107,73)"
             ],
             [
              0.7529411764705882,
              "rgb(244,135,95)"
             ],
             [
              0.8156862745098039,
              "rgb(245,162,122)"
             ],
             [
              0.8784313725490196,
              "rgb(246,188,153)"
             ],
             [
              0.9411764705882353,
              "rgb(247,212,187)"
             ],
             [
              1,
              "rgb(250,234,220)"
             ]
            ],
            "type": "surface"
           }
          ],
          "table": [
           {
            "cells": {
             "fill": {
              "color": "rgb(231,231,240)"
             },
             "line": {
              "color": "white"
             }
            },
            "header": {
             "fill": {
              "color": "rgb(183,183,191)"
             },
             "line": {
              "color": "white"
             }
            },
            "type": "table"
           }
          ]
         },
         "layout": {
          "annotationdefaults": {
           "arrowcolor": "rgb(67,103,167)"
          },
          "autotypenumbers": "strict",
          "coloraxis": {
           "colorbar": {
            "outlinewidth": 0,
            "tickcolor": "rgb(36,36,36)",
            "ticklen": 8,
            "ticks": "outside",
            "tickwidth": 2
           }
          },
          "colorscale": {
           "sequential": [
            [
             0,
             "rgb(2,4,25)"
            ],
            [
             0.06274509803921569,
             "rgb(24,15,41)"
            ],
            [
             0.12549019607843137,
             "rgb(47,23,57)"
            ],
            [
             0.18823529411764706,
             "rgb(71,28,72)"
            ],
            [
             0.25098039215686274,
             "rgb(97,30,82)"
            ],
            [
             0.3137254901960784,
             "rgb(123,30,89)"
            ],
            [
             0.3764705882352941,
             "rgb(150,27,91)"
            ],
            [
             0.4392156862745098,
             "rgb(177,22,88)"
            ],
            [
             0.5019607843137255,
             "rgb(203,26,79)"
            ],
            [
             0.5647058823529412,
             "rgb(223,47,67)"
            ],
            [
             0.6274509803921569,
             "rgb(236,76,61)"
            ],
            [
             0.6901960784313725,
             "rgb(242,107,73)"
            ],
            [
             0.7529411764705882,
             "rgb(244,135,95)"
            ],
            [
             0.8156862745098039,
             "rgb(245,162,122)"
            ],
            [
             0.8784313725490196,
             "rgb(246,188,153)"
            ],
            [
             0.9411764705882353,
             "rgb(247,212,187)"
            ],
            [
             1,
             "rgb(250,234,220)"
            ]
           ],
           "sequentialminus": [
            [
             0,
             "rgb(2,4,25)"
            ],
            [
             0.06274509803921569,
             "rgb(24,15,41)"
            ],
            [
             0.12549019607843137,
             "rgb(47,23,57)"
            ],
            [
             0.18823529411764706,
             "rgb(71,28,72)"
            ],
            [
             0.25098039215686274,
             "rgb(97,30,82)"
            ],
            [
             0.3137254901960784,
             "rgb(123,30,89)"
            ],
            [
             0.3764705882352941,
             "rgb(150,27,91)"
            ],
            [
             0.4392156862745098,
             "rgb(177,22,88)"
            ],
            [
             0.5019607843137255,
             "rgb(203,26,79)"
            ],
            [
             0.5647058823529412,
             "rgb(223,47,67)"
            ],
            [
             0.6274509803921569,
             "rgb(236,76,61)"
            ],
            [
             0.6901960784313725,
             "rgb(242,107,73)"
            ],
            [
             0.7529411764705882,
             "rgb(244,135,95)"
            ],
            [
             0.8156862745098039,
             "rgb(245,162,122)"
            ],
            [
             0.8784313725490196,
             "rgb(246,188,153)"
            ],
            [
             0.9411764705882353,
             "rgb(247,212,187)"
            ],
            [
             1,
             "rgb(250,234,220)"
            ]
           ]
          },
          "colorway": [
           "rgb(76,114,176)",
           "rgb(221,132,82)",
           "rgb(85,168,104)",
           "rgb(196,78,82)",
           "rgb(129,114,179)",
           "rgb(147,120,96)",
           "rgb(218,139,195)",
           "rgb(140,140,140)",
           "rgb(204,185,116)",
           "rgb(100,181,205)"
          ],
          "font": {
           "color": "rgb(36,36,36)"
          },
          "geo": {
           "bgcolor": "white",
           "lakecolor": "white",
           "landcolor": "rgb(234,234,242)",
           "showlakes": true,
           "showland": true,
           "subunitcolor": "white"
          },
          "hoverlabel": {
           "align": "left"
          },
          "hovermode": "closest",
          "paper_bgcolor": "white",
          "plot_bgcolor": "rgb(234,234,242)",
          "polar": {
           "angularaxis": {
            "gridcolor": "white",
            "linecolor": "white",
            "showgrid": true,
            "ticks": ""
           },
           "bgcolor": "rgb(234,234,242)",
           "radialaxis": {
            "gridcolor": "white",
            "linecolor": "white",
            "showgrid": true,
            "ticks": ""
           }
          },
          "scene": {
           "xaxis": {
            "backgroundcolor": "rgb(234,234,242)",
            "gridcolor": "white",
            "gridwidth": 2,
            "linecolor": "white",
            "showbackground": true,
            "showgrid": true,
            "ticks": "",
            "zerolinecolor": "white"
           },
           "yaxis": {
            "backgroundcolor": "rgb(234,234,242)",
            "gridcolor": "white",
            "gridwidth": 2,
            "linecolor": "white",
            "showbackground": true,
            "showgrid": true,
            "ticks": "",
            "zerolinecolor": "white"
           },
           "zaxis": {
            "backgroundcolor": "rgb(234,234,242)",
            "gridcolor": "white",
            "gridwidth": 2,
            "linecolor": "white",
            "showbackground": true,
            "showgrid": true,
            "ticks": "",
            "zerolinecolor": "white"
           }
          },
          "shapedefaults": {
           "fillcolor": "rgb(67,103,167)",
           "line": {
            "width": 0
           },
           "opacity": 0.5
          },
          "ternary": {
           "aaxis": {
            "gridcolor": "white",
            "linecolor": "white",
            "showgrid": true,
            "ticks": ""
           },
           "baxis": {
            "gridcolor": "white",
            "linecolor": "white",
            "showgrid": true,
            "ticks": ""
           },
           "bgcolor": "rgb(234,234,242)",
           "caxis": {
            "gridcolor": "white",
            "linecolor": "white",
            "showgrid": true,
            "ticks": ""
           }
          },
          "xaxis": {
           "automargin": true,
           "gridcolor": "white",
           "linecolor": "white",
           "showgrid": true,
           "ticks": "",
           "title": {
            "standoff": 15
           },
           "zerolinecolor": "white"
          },
          "yaxis": {
           "automargin": true,
           "gridcolor": "white",
           "linecolor": "white",
           "showgrid": true,
           "ticks": "",
           "title": {
            "standoff": 15
           },
           "zerolinecolor": "white"
          }
         }
        },
        "title": {
         "text": "Suicidios 2018 por sexo y edad"
        },
        "xaxis": {
         "anchor": "y",
         "domain": [
          0,
          1
         ],
         "title": {
          "text": "Edad"
         }
        },
        "yaxis": {
         "anchor": "x",
         "domain": [
          0,
          1
         ],
         "title": {
          "text": "Número de suicidios"
         }
        }
       }
      }
     },
     "metadata": {},
     "output_type": "display_data"
    }
   ],
   "source": [
    "#Preparar dataframe. Se omiten las 3 primeras filas del df para no romper los datos y que se vea mejor la información.\n",
    "df18 = df2018.iloc[3:-1]\n",
    "fig1 = px.bar (df18, x=\"Edad\", y = \"Total\", color= \"Sexo\",title=\"Suicidios 2018 por sexo y edad\", labels={\"Total\": \"Número de suicidios\"}, template=\"seaborn\", barmode=\"group\")\n",
    "fig1.show()"
   ]
  },
  {
   "attachments": {},
   "cell_type": "markdown",
   "metadata": {},
   "source": [
    "SUICIDIOS 2018 POR COMUNIDAD AUTÓNOMA"
   ]
  },
  {
   "cell_type": "code",
   "execution_count": 96,
   "metadata": {},
   "outputs": [
    {
     "data": {
      "application/vnd.plotly.v1+json": {
       "config": {
        "plotlyServerURL": "https://plot.ly"
       },
       "data": [
        {
         "alignmentgroup": "True",
         "hovertemplate": "<b>%{hovertext}</b><br><br>Sexo=Ambos sexos<br>Comunidades autónomas=%{x}<br>Número de suicidios=%{y}<extra></extra>",
         "hovertext": [
          "Todas las edades",
          "Menores de 15 años",
          "De 15 a 29 años",
          "De 30 a 39 años",
          "De 40 a 44 años",
          "De 45 a 49 años",
          "De 50 a 54 años",
          "De 55 a 59 años",
          "De 60 a 64 años",
          "De 65 a 69 años",
          "De 70 a 74 años",
          "De 75 a 79 años",
          "De 80 a 84 años",
          "De 85 a 89 años",
          "De 90 a 94 años",
          "De 95 años y más",
          "Todas las edades",
          "Menores de 15 años",
          "De 15 a 29 años",
          "De 30 a 39 años",
          "De 40 a 44 años",
          "De 45 a 49 años",
          "De 50 a 54 años",
          "De 55 a 59 años",
          "De 60 a 64 años",
          "De 65 a 69 años",
          "De 70 a 74 años",
          "De 75 a 79 años",
          "De 80 a 84 años",
          "De 85 a 89 años",
          "De 90 a 94 años",
          "De 95 años y más",
          "Todas las edades",
          "Menores de 15 años",
          "De 15 a 29 años",
          "De 30 a 39 años",
          "De 40 a 44 años",
          "De 45 a 49 años",
          "De 50 a 54 años",
          "De 55 a 59 años",
          "De 60 a 64 años",
          "De 65 a 69 años",
          "De 70 a 74 años",
          "De 75 a 79 años",
          "De 80 a 84 años",
          "De 85 a 89 años",
          "De 90 a 94 años",
          "De 95 años y más",
          "Todas las edades",
          "Menores de 15 años",
          "De 15 a 29 años",
          "De 30 a 39 años",
          "De 40 a 44 años",
          "De 45 a 49 años",
          "De 50 a 54 años",
          "De 55 a 59 años",
          "De 60 a 64 años",
          "De 65 a 69 años",
          "De 70 a 74 años",
          "De 75 a 79 años",
          "De 80 a 84 años",
          "De 85 a 89 años",
          "De 90 a 94 años",
          "De 95 años y más",
          "Todas las edades",
          "Menores de 15 años",
          "De 15 a 29 años",
          "De 30 a 39 años",
          "De 40 a 44 años",
          "De 45 a 49 años",
          "De 50 a 54 años",
          "De 55 a 59 años",
          "De 60 a 64 años",
          "De 65 a 69 años",
          "De 70 a 74 años",
          "De 75 a 79 años",
          "De 80 a 84 años",
          "De 85 a 89 años",
          "De 90 a 94 años",
          "De 95 años y más",
          "Todas las edades",
          "Menores de 15 años",
          "De 15 a 29 años",
          "De 30 a 39 años",
          "De 40 a 44 años",
          "De 45 a 49 años",
          "De 50 a 54 años",
          "De 55 a 59 años",
          "De 60 a 64 años",
          "De 65 a 69 años",
          "De 70 a 74 años",
          "De 75 a 79 años",
          "De 80 a 84 años",
          "De 85 a 89 años",
          "De 90 a 94 años",
          "De 95 años y más",
          "Todas las edades",
          "Menores de 15 años",
          "De 15 a 29 años",
          "De 30 a 39 años",
          "De 40 a 44 años",
          "De 45 a 49 años",
          "De 50 a 54 años",
          "De 55 a 59 años",
          "De 60 a 64 años",
          "De 65 a 69 años",
          "De 70 a 74 años",
          "De 75 a 79 años",
          "De 80 a 84 años",
          "De 85 a 89 años",
          "De 90 a 94 años",
          "De 95 años y más",
          "Todas las edades",
          "Menores de 15 años",
          "De 15 a 29 años",
          "De 30 a 39 años",
          "De 40 a 44 años",
          "De 45 a 49 años",
          "De 50 a 54 años",
          "De 55 a 59 años",
          "De 60 a 64 años",
          "De 65 a 69 años",
          "De 70 a 74 años",
          "De 75 a 79 años",
          "De 80 a 84 años",
          "De 85 a 89 años",
          "De 90 a 94 años",
          "De 95 años y más",
          "Todas las edades",
          "Menores de 15 años",
          "De 15 a 29 años",
          "De 30 a 39 años",
          "De 40 a 44 años",
          "De 45 a 49 años",
          "De 50 a 54 años",
          "De 55 a 59 años",
          "De 60 a 64 años",
          "De 65 a 69 años",
          "De 70 a 74 años",
          "De 75 a 79 años",
          "De 80 a 84 años",
          "De 85 a 89 años",
          "De 90 a 94 años",
          "De 95 años y más",
          "Todas las edades",
          "Menores de 15 años",
          "De 15 a 29 años",
          "De 30 a 39 años",
          "De 40 a 44 años",
          "De 45 a 49 años",
          "De 50 a 54 años",
          "De 55 a 59 años",
          "De 60 a 64 años",
          "De 65 a 69 años",
          "De 70 a 74 años",
          "De 75 a 79 años",
          "De 80 a 84 años",
          "De 85 a 89 años",
          "De 90 a 94 años",
          "De 95 años y más",
          "Todas las edades",
          "Menores de 15 años",
          "De 15 a 29 años",
          "De 30 a 39 años",
          "De 40 a 44 años",
          "De 45 a 49 años",
          "De 50 a 54 años",
          "De 55 a 59 años",
          "De 60 a 64 años",
          "De 65 a 69 años",
          "De 70 a 74 años",
          "De 75 a 79 años",
          "De 80 a 84 años",
          "De 85 a 89 años",
          "De 90 a 94 años",
          "De 95 años y más",
          "Todas las edades",
          "Menores de 15 años",
          "De 15 a 29 años",
          "De 30 a 39 años",
          "De 40 a 44 años",
          "De 45 a 49 años",
          "De 50 a 54 años",
          "De 55 a 59 años",
          "De 60 a 64 años",
          "De 65 a 69 años",
          "De 70 a 74 años",
          "De 75 a 79 años",
          "De 80 a 84 años",
          "De 85 a 89 años",
          "De 90 a 94 años",
          "De 95 años y más",
          "Todas las edades",
          "Menores de 15 años",
          "De 15 a 29 años",
          "De 30 a 39 años",
          "De 40 a 44 años",
          "De 45 a 49 años",
          "De 50 a 54 años",
          "De 55 a 59 años",
          "De 60 a 64 años",
          "De 65 a 69 años",
          "De 70 a 74 años",
          "De 75 a 79 años",
          "De 80 a 84 años",
          "De 85 a 89 años",
          "De 90 a 94 años",
          "De 95 años y más",
          "Todas las edades",
          "Menores de 15 años",
          "De 15 a 29 años",
          "De 30 a 39 años",
          "De 40 a 44 años",
          "De 45 a 49 años",
          "De 50 a 54 años",
          "De 55 a 59 años",
          "De 60 a 64 años",
          "De 65 a 69 años",
          "De 70 a 74 años",
          "De 75 a 79 años",
          "De 80 a 84 años",
          "De 85 a 89 años",
          "De 90 a 94 años",
          "De 95 años y más",
          "Todas las edades",
          "Menores de 15 años",
          "De 15 a 29 años",
          "De 30 a 39 años",
          "De 40 a 44 años",
          "De 45 a 49 años",
          "De 50 a 54 años",
          "De 55 a 59 años",
          "De 60 a 64 años",
          "De 65 a 69 años",
          "De 70 a 74 años",
          "De 75 a 79 años",
          "De 80 a 84 años",
          "De 85 a 89 años",
          "De 90 a 94 años",
          "De 95 años y más",
          "Todas las edades",
          "Menores de 15 años",
          "De 15 a 29 años",
          "De 30 a 39 años",
          "De 40 a 44 años",
          "De 45 a 49 años",
          "De 50 a 54 años",
          "De 55 a 59 años",
          "De 60 a 64 años",
          "De 65 a 69 años",
          "De 70 a 74 años",
          "De 75 a 79 años",
          "De 80 a 84 años",
          "De 85 a 89 años",
          "De 90 a 94 años",
          "De 95 años y más",
          "Todas las edades",
          "Menores de 15 años",
          "De 15 a 29 años",
          "De 30 a 39 años",
          "De 40 a 44 años",
          "De 45 a 49 años",
          "De 50 a 54 años",
          "De 55 a 59 años",
          "De 60 a 64 años",
          "De 65 a 69 años",
          "De 70 a 74 años",
          "De 75 a 79 años",
          "De 80 a 84 años",
          "De 85 a 89 años",
          "De 90 a 94 años",
          "De 95 años y más",
          "Todas las edades",
          "Menores de 15 años",
          "De 15 a 29 años",
          "De 30 a 39 años",
          "De 40 a 44 años",
          "De 45 a 49 años",
          "De 50 a 54 años",
          "De 55 a 59 años",
          "De 60 a 64 años",
          "De 65 a 69 años",
          "De 70 a 74 años",
          "De 75 a 79 años",
          "De 80 a 84 años",
          "De 85 a 89 años",
          "De 90 a 94 años",
          "De 95 años y más",
          "Todas las edades",
          "Menores de 15 años",
          "De 15 a 29 años",
          "De 30 a 39 años",
          "De 40 a 44 años",
          "De 45 a 49 años",
          "De 50 a 54 años",
          "De 55 a 59 años",
          "De 60 a 64 años",
          "De 65 a 69 años",
          "De 70 a 74 años",
          "De 75 a 79 años",
          "De 80 a 84 años",
          "De 85 a 89 años",
          "De 90 a 94 años",
          "De 95 años y más"
         ],
         "legendgroup": "Ambos sexos",
         "marker": {
          "color": "rgb(76,114,176)",
          "pattern": {
           "shape": ""
          }
         },
         "name": "Ambos sexos",
         "offsetgroup": "Ambos sexos",
         "orientation": "v",
         "showlegend": true,
         "textposition": "auto",
         "type": "bar",
         "x": [
          "Andalucía",
          "Andalucía",
          "Andalucía",
          "Andalucía",
          "Andalucía",
          "Andalucía",
          "Andalucía",
          "Andalucía",
          "Andalucía",
          "Andalucía",
          "Andalucía",
          "Andalucía",
          "Andalucía",
          "Andalucía",
          "Andalucía",
          "Andalucía",
          "Aragón",
          "Aragón",
          "Aragón",
          "Aragón",
          "Aragón",
          "Aragón",
          "Aragón",
          "Aragón",
          "Aragón",
          "Aragón",
          "Aragón",
          "Aragón",
          "Aragón",
          "Aragón",
          "Aragón",
          "Aragón",
          "Asturias, Principado de",
          "Asturias, Principado de",
          "Asturias, Principado de",
          "Asturias, Principado de",
          "Asturias, Principado de",
          "Asturias, Principado de",
          "Asturias, Principado de",
          "Asturias, Principado de",
          "Asturias, Principado de",
          "Asturias, Principado de",
          "Asturias, Principado de",
          "Asturias, Principado de",
          "Asturias, Principado de",
          "Asturias, Principado de",
          "Asturias, Principado de",
          "Asturias, Principado de",
          "Balears, Illes",
          "Balears, Illes",
          "Balears, Illes",
          "Balears, Illes",
          "Balears, Illes",
          "Balears, Illes",
          "Balears, Illes",
          "Balears, Illes",
          "Balears, Illes",
          "Balears, Illes",
          "Balears, Illes",
          "Balears, Illes",
          "Balears, Illes",
          "Balears, Illes",
          "Balears, Illes",
          "Balears, Illes",
          "Canarias",
          "Canarias",
          "Canarias",
          "Canarias",
          "Canarias",
          "Canarias",
          "Canarias",
          "Canarias",
          "Canarias",
          "Canarias",
          "Canarias",
          "Canarias",
          "Canarias",
          "Canarias",
          "Canarias",
          "Canarias",
          "Cantabria",
          "Cantabria",
          "Cantabria",
          "Cantabria",
          "Cantabria",
          "Cantabria",
          "Cantabria",
          "Cantabria",
          "Cantabria",
          "Cantabria",
          "Cantabria",
          "Cantabria",
          "Cantabria",
          "Cantabria",
          "Cantabria",
          "Cantabria",
          "Castilla y León",
          "Castilla y León",
          "Castilla y León",
          "Castilla y León",
          "Castilla y León",
          "Castilla y León",
          "Castilla y León",
          "Castilla y León",
          "Castilla y León",
          "Castilla y León",
          "Castilla y León",
          "Castilla y León",
          "Castilla y León",
          "Castilla y León",
          "Castilla y León",
          "Castilla y León",
          "Castilla-La Mancha",
          "Castilla-La Mancha",
          "Castilla-La Mancha",
          "Castilla-La Mancha",
          "Castilla-La Mancha",
          "Castilla-La Mancha",
          "Castilla-La Mancha",
          "Castilla-La Mancha",
          "Castilla-La Mancha",
          "Castilla-La Mancha",
          "Castilla-La Mancha",
          "Castilla-La Mancha",
          "Castilla-La Mancha",
          "Castilla-La Mancha",
          "Castilla-La Mancha",
          "Castilla-La Mancha",
          "Cataluña",
          "Cataluña",
          "Cataluña",
          "Cataluña",
          "Cataluña",
          "Cataluña",
          "Cataluña",
          "Cataluña",
          "Cataluña",
          "Cataluña",
          "Cataluña",
          "Cataluña",
          "Cataluña",
          "Cataluña",
          "Cataluña",
          "Cataluña",
          "Comunitat Valenciana",
          "Comunitat Valenciana",
          "Comunitat Valenciana",
          "Comunitat Valenciana",
          "Comunitat Valenciana",
          "Comunitat Valenciana",
          "Comunitat Valenciana",
          "Comunitat Valenciana",
          "Comunitat Valenciana",
          "Comunitat Valenciana",
          "Comunitat Valenciana",
          "Comunitat Valenciana",
          "Comunitat Valenciana",
          "Comunitat Valenciana",
          "Comunitat Valenciana",
          "Comunitat Valenciana",
          "Extremadura",
          "Extremadura",
          "Extremadura",
          "Extremadura",
          "Extremadura",
          "Extremadura",
          "Extremadura",
          "Extremadura",
          "Extremadura",
          "Extremadura",
          "Extremadura",
          "Extremadura",
          "Extremadura",
          "Extremadura",
          "Extremadura",
          "Extremadura",
          "Galicia",
          "Galicia",
          "Galicia",
          "Galicia",
          "Galicia",
          "Galicia",
          "Galicia",
          "Galicia",
          "Galicia",
          "Galicia",
          "Galicia",
          "Galicia",
          "Galicia",
          "Galicia",
          "Galicia",
          "Galicia",
          "Madrid, Comunidad de",
          "Madrid, Comunidad de",
          "Madrid, Comunidad de",
          "Madrid, Comunidad de",
          "Madrid, Comunidad de",
          "Madrid, Comunidad de",
          "Madrid, Comunidad de",
          "Madrid, Comunidad de",
          "Madrid, Comunidad de",
          "Madrid, Comunidad de",
          "Madrid, Comunidad de",
          "Madrid, Comunidad de",
          "Madrid, Comunidad de",
          "Madrid, Comunidad de",
          "Madrid, Comunidad de",
          "Madrid, Comunidad de",
          "Murcia, Región de",
          "Murcia, Región de",
          "Murcia, Región de",
          "Murcia, Región de",
          "Murcia, Región de",
          "Murcia, Región de",
          "Murcia, Región de",
          "Murcia, Región de",
          "Murcia, Región de",
          "Murcia, Región de",
          "Murcia, Región de",
          "Murcia, Región de",
          "Murcia, Región de",
          "Murcia, Región de",
          "Murcia, Región de",
          "Murcia, Región de",
          "Navarra, Comunidad Foral de",
          "Navarra, Comunidad Foral de",
          "Navarra, Comunidad Foral de",
          "Navarra, Comunidad Foral de",
          "Navarra, Comunidad Foral de",
          "Navarra, Comunidad Foral de",
          "Navarra, Comunidad Foral de",
          "Navarra, Comunidad Foral de",
          "Navarra, Comunidad Foral de",
          "Navarra, Comunidad Foral de",
          "Navarra, Comunidad Foral de",
          "Navarra, Comunidad Foral de",
          "Navarra, Comunidad Foral de",
          "Navarra, Comunidad Foral de",
          "Navarra, Comunidad Foral de",
          "Navarra, Comunidad Foral de",
          "País Vasco",
          "País Vasco",
          "País Vasco",
          "País Vasco",
          "País Vasco",
          "País Vasco",
          "País Vasco",
          "País Vasco",
          "País Vasco",
          "País Vasco",
          "País Vasco",
          "País Vasco",
          "País Vasco",
          "País Vasco",
          "País Vasco",
          "País Vasco",
          "Rioja, La",
          "Rioja, La",
          "Rioja, La",
          "Rioja, La",
          "Rioja, La",
          "Rioja, La",
          "Rioja, La",
          "Rioja, La",
          "Rioja, La",
          "Rioja, La",
          "Rioja, La",
          "Rioja, La",
          "Rioja, La",
          "Rioja, La",
          "Rioja, La",
          "Rioja, La",
          "Ceuta",
          "Ceuta",
          "Ceuta",
          "Ceuta",
          "Ceuta",
          "Ceuta",
          "Ceuta",
          "Ceuta",
          "Ceuta",
          "Ceuta",
          "Ceuta",
          "Ceuta",
          "Ceuta",
          "Ceuta",
          "Ceuta",
          "Ceuta",
          "Melilla",
          "Melilla",
          "Melilla",
          "Melilla",
          "Melilla",
          "Melilla",
          "Melilla",
          "Melilla",
          "Melilla",
          "Melilla",
          "Melilla",
          "Melilla",
          "Melilla",
          "Melilla",
          "Melilla",
          "Melilla"
         ],
         "xaxis": "x",
         "y": [
          653,
          1,
          51,
          79,
          71,
          70,
          76,
          71,
          44,
          42,
          41,
          27,
          41,
          31,
          7,
          1,
          120,
          0,
          7,
          15,
          14,
          14,
          12,
          10,
          12,
          7,
          7,
          6,
          5,
          8,
          2,
          1,
          138,
          0,
          5,
          8,
          9,
          14,
          12,
          12,
          11,
          10,
          14,
          7,
          17,
          13,
          5,
          1,
          71,
          0,
          12,
          9,
          5,
          12,
          7,
          4,
          4,
          4,
          6,
          3,
          2,
          3,
          0,
          0,
          193,
          0,
          11,
          33,
          21,
          26,
          20,
          17,
          26,
          10,
          11,
          6,
          6,
          3,
          3,
          0,
          28,
          0,
          1,
          4,
          1,
          4,
          3,
          8,
          1,
          1,
          2,
          3,
          0,
          0,
          0,
          0,
          213,
          0,
          18,
          12,
          16,
          21,
          19,
          25,
          17,
          17,
          17,
          12,
          16,
          14,
          7,
          2,
          132,
          0,
          8,
          13,
          15,
          11,
          13,
          13,
          10,
          7,
          3,
          10,
          12,
          7,
          9,
          1,
          522,
          1,
          37,
          64,
          49,
          60,
          50,
          60,
          44,
          36,
          34,
          24,
          29,
          23,
          8,
          3,
          396,
          0,
          31,
          53,
          30,
          41,
          41,
          44,
          21,
          33,
          21,
          23,
          26,
          20,
          11,
          1,
          70,
          0,
          5,
          7,
          5,
          8,
          7,
          8,
          4,
          5,
          7,
          3,
          7,
          3,
          1,
          0,
          274,
          0,
          10,
          20,
          23,
          26,
          22,
          31,
          28,
          21,
          27,
          17,
          28,
          17,
          4,
          0,
          342,
          1,
          36,
          39,
          28,
          43,
          46,
          33,
          28,
          17,
          17,
          14,
          16,
          17,
          6,
          1,
          127,
          2,
          13,
          20,
          11,
          15,
          18,
          15,
          6,
          11,
          5,
          4,
          4,
          0,
          3,
          0,
          39,
          0,
          4,
          2,
          4,
          6,
          3,
          4,
          2,
          2,
          2,
          3,
          5,
          0,
          2,
          0,
          163,
          2,
          9,
          12,
          8,
          15,
          25,
          19,
          9,
          15,
          11,
          10,
          12,
          11,
          5,
          0,
          21,
          0,
          2,
          1,
          0,
          1,
          0,
          4,
          4,
          0,
          3,
          0,
          2,
          4,
          0,
          0,
          1,
          0,
          0,
          1,
          0,
          0,
          0,
          0,
          0,
          0,
          0,
          0,
          0,
          0,
          0,
          0,
          1,
          0,
          0,
          0,
          1,
          0,
          0,
          0,
          0,
          0,
          0,
          0,
          0,
          0,
          0,
          0
         ],
         "yaxis": "y"
        },
        {
         "alignmentgroup": "True",
         "hovertemplate": "<b>%{hovertext}</b><br><br>Sexo=Hombres<br>Comunidades autónomas=%{x}<br>Número de suicidios=%{y}<extra></extra>",
         "hovertext": [
          "Todas las edades",
          "Menores de 15 años",
          "De 15 a 29 años",
          "De 30 a 39 años",
          "De 40 a 44 años",
          "De 45 a 49 años",
          "De 50 a 54 años",
          "De 55 a 59 años",
          "De 60 a 64 años",
          "De 65 a 69 años",
          "De 70 a 74 años",
          "De 75 a 79 años",
          "De 80 a 84 años",
          "De 85 a 89 años",
          "De 90 a 94 años",
          "De 95 años y más",
          "Todas las edades",
          "Menores de 15 años",
          "De 15 a 29 años",
          "De 30 a 39 años",
          "De 40 a 44 años",
          "De 45 a 49 años",
          "De 50 a 54 años",
          "De 55 a 59 años",
          "De 60 a 64 años",
          "De 65 a 69 años",
          "De 70 a 74 años",
          "De 75 a 79 años",
          "De 80 a 84 años",
          "De 85 a 89 años",
          "De 90 a 94 años",
          "De 95 años y más",
          "Todas las edades",
          "Menores de 15 años",
          "De 15 a 29 años",
          "De 30 a 39 años",
          "De 40 a 44 años",
          "De 45 a 49 años",
          "De 50 a 54 años",
          "De 55 a 59 años",
          "De 60 a 64 años",
          "De 65 a 69 años",
          "De 70 a 74 años",
          "De 75 a 79 años",
          "De 80 a 84 años",
          "De 85 a 89 años",
          "De 90 a 94 años",
          "De 95 años y más",
          "Todas las edades",
          "Menores de 15 años",
          "De 15 a 29 años",
          "De 30 a 39 años",
          "De 40 a 44 años",
          "De 45 a 49 años",
          "De 50 a 54 años",
          "De 55 a 59 años",
          "De 60 a 64 años",
          "De 65 a 69 años",
          "De 70 a 74 años",
          "De 75 a 79 años",
          "De 80 a 84 años",
          "De 85 a 89 años",
          "De 90 a 94 años",
          "De 95 años y más",
          "Todas las edades",
          "Menores de 15 años",
          "De 15 a 29 años",
          "De 30 a 39 años",
          "De 40 a 44 años",
          "De 45 a 49 años",
          "De 50 a 54 años",
          "De 55 a 59 años",
          "De 60 a 64 años",
          "De 65 a 69 años",
          "De 70 a 74 años",
          "De 75 a 79 años",
          "De 80 a 84 años",
          "De 85 a 89 años",
          "De 90 a 94 años",
          "De 95 años y más",
          "Todas las edades",
          "Menores de 15 años",
          "De 15 a 29 años",
          "De 30 a 39 años",
          "De 40 a 44 años",
          "De 45 a 49 años",
          "De 50 a 54 años",
          "De 55 a 59 años",
          "De 60 a 64 años",
          "De 65 a 69 años",
          "De 70 a 74 años",
          "De 75 a 79 años",
          "De 80 a 84 años",
          "De 85 a 89 años",
          "De 90 a 94 años",
          "De 95 años y más",
          "Todas las edades",
          "Menores de 15 años",
          "De 15 a 29 años",
          "De 30 a 39 años",
          "De 40 a 44 años",
          "De 45 a 49 años",
          "De 50 a 54 años",
          "De 55 a 59 años",
          "De 60 a 64 años",
          "De 65 a 69 años",
          "De 70 a 74 años",
          "De 75 a 79 años",
          "De 80 a 84 años",
          "De 85 a 89 años",
          "De 90 a 94 años",
          "De 95 años y más",
          "Todas las edades",
          "Menores de 15 años",
          "De 15 a 29 años",
          "De 30 a 39 años",
          "De 40 a 44 años",
          "De 45 a 49 años",
          "De 50 a 54 años",
          "De 55 a 59 años",
          "De 60 a 64 años",
          "De 65 a 69 años",
          "De 70 a 74 años",
          "De 75 a 79 años",
          "De 80 a 84 años",
          "De 85 a 89 años",
          "De 90 a 94 años",
          "De 95 años y más",
          "Todas las edades",
          "Menores de 15 años",
          "De 15 a 29 años",
          "De 30 a 39 años",
          "De 40 a 44 años",
          "De 45 a 49 años",
          "De 50 a 54 años",
          "De 55 a 59 años",
          "De 60 a 64 años",
          "De 65 a 69 años",
          "De 70 a 74 años",
          "De 75 a 79 años",
          "De 80 a 84 años",
          "De 85 a 89 años",
          "De 90 a 94 años",
          "De 95 años y más",
          "Todas las edades",
          "Menores de 15 años",
          "De 15 a 29 años",
          "De 30 a 39 años",
          "De 40 a 44 años",
          "De 45 a 49 años",
          "De 50 a 54 años",
          "De 55 a 59 años",
          "De 60 a 64 años",
          "De 65 a 69 años",
          "De 70 a 74 años",
          "De 75 a 79 años",
          "De 80 a 84 años",
          "De 85 a 89 años",
          "De 90 a 94 años",
          "De 95 años y más",
          "Todas las edades",
          "Menores de 15 años",
          "De 15 a 29 años",
          "De 30 a 39 años",
          "De 40 a 44 años",
          "De 45 a 49 años",
          "De 50 a 54 años",
          "De 55 a 59 años",
          "De 60 a 64 años",
          "De 65 a 69 años",
          "De 70 a 74 años",
          "De 75 a 79 años",
          "De 80 a 84 años",
          "De 85 a 89 años",
          "De 90 a 94 años",
          "De 95 años y más",
          "Todas las edades",
          "Menores de 15 años",
          "De 15 a 29 años",
          "De 30 a 39 años",
          "De 40 a 44 años",
          "De 45 a 49 años",
          "De 50 a 54 años",
          "De 55 a 59 años",
          "De 60 a 64 años",
          "De 65 a 69 años",
          "De 70 a 74 años",
          "De 75 a 79 años",
          "De 80 a 84 años",
          "De 85 a 89 años",
          "De 90 a 94 años",
          "De 95 años y más",
          "Todas las edades",
          "Menores de 15 años",
          "De 15 a 29 años",
          "De 30 a 39 años",
          "De 40 a 44 años",
          "De 45 a 49 años",
          "De 50 a 54 años",
          "De 55 a 59 años",
          "De 60 a 64 años",
          "De 65 a 69 años",
          "De 70 a 74 años",
          "De 75 a 79 años",
          "De 80 a 84 años",
          "De 85 a 89 años",
          "De 90 a 94 años",
          "De 95 años y más",
          "Todas las edades",
          "Menores de 15 años",
          "De 15 a 29 años",
          "De 30 a 39 años",
          "De 40 a 44 años",
          "De 45 a 49 años",
          "De 50 a 54 años",
          "De 55 a 59 años",
          "De 60 a 64 años",
          "De 65 a 69 años",
          "De 70 a 74 años",
          "De 75 a 79 años",
          "De 80 a 84 años",
          "De 85 a 89 años",
          "De 90 a 94 años",
          "De 95 años y más",
          "Todas las edades",
          "Menores de 15 años",
          "De 15 a 29 años",
          "De 30 a 39 años",
          "De 40 a 44 años",
          "De 45 a 49 años",
          "De 50 a 54 años",
          "De 55 a 59 años",
          "De 60 a 64 años",
          "De 65 a 69 años",
          "De 70 a 74 años",
          "De 75 a 79 años",
          "De 80 a 84 años",
          "De 85 a 89 años",
          "De 90 a 94 años",
          "De 95 años y más",
          "Todas las edades",
          "Menores de 15 años",
          "De 15 a 29 años",
          "De 30 a 39 años",
          "De 40 a 44 años",
          "De 45 a 49 años",
          "De 50 a 54 años",
          "De 55 a 59 años",
          "De 60 a 64 años",
          "De 65 a 69 años",
          "De 70 a 74 años",
          "De 75 a 79 años",
          "De 80 a 84 años",
          "De 85 a 89 años",
          "De 90 a 94 años",
          "De 95 años y más",
          "Todas las edades",
          "Menores de 15 años",
          "De 15 a 29 años",
          "De 30 a 39 años",
          "De 40 a 44 años",
          "De 45 a 49 años",
          "De 50 a 54 años",
          "De 55 a 59 años",
          "De 60 a 64 años",
          "De 65 a 69 años",
          "De 70 a 74 años",
          "De 75 a 79 años",
          "De 80 a 84 años",
          "De 85 a 89 años",
          "De 90 a 94 años",
          "De 95 años y más",
          "Todas las edades",
          "Menores de 15 años",
          "De 15 a 29 años",
          "De 30 a 39 años",
          "De 40 a 44 años",
          "De 45 a 49 años",
          "De 50 a 54 años",
          "De 55 a 59 años",
          "De 60 a 64 años",
          "De 65 a 69 años",
          "De 70 a 74 años",
          "De 75 a 79 años",
          "De 80 a 84 años",
          "De 85 a 89 años",
          "De 90 a 94 años",
          "De 95 años y más",
          "Todas las edades",
          "Menores de 15 años",
          "De 15 a 29 años",
          "De 30 a 39 años",
          "De 40 a 44 años",
          "De 45 a 49 años",
          "De 50 a 54 años",
          "De 55 a 59 años",
          "De 60 a 64 años",
          "De 65 a 69 años",
          "De 70 a 74 años",
          "De 75 a 79 años",
          "De 80 a 84 años",
          "De 85 a 89 años",
          "De 90 a 94 años",
          "De 95 años y más"
         ],
         "legendgroup": "Hombres",
         "marker": {
          "color": "rgb(221,132,82)",
          "pattern": {
           "shape": ""
          }
         },
         "name": "Hombres",
         "offsetgroup": "Hombres",
         "orientation": "v",
         "showlegend": true,
         "textposition": "auto",
         "type": "bar",
         "x": [
          "Andalucía",
          "Andalucía",
          "Andalucía",
          "Andalucía",
          "Andalucía",
          "Andalucía",
          "Andalucía",
          "Andalucía",
          "Andalucía",
          "Andalucía",
          "Andalucía",
          "Andalucía",
          "Andalucía",
          "Andalucía",
          "Andalucía",
          "Andalucía",
          "Aragón",
          "Aragón",
          "Aragón",
          "Aragón",
          "Aragón",
          "Aragón",
          "Aragón",
          "Aragón",
          "Aragón",
          "Aragón",
          "Aragón",
          "Aragón",
          "Aragón",
          "Aragón",
          "Aragón",
          "Aragón",
          "Asturias, Principado de",
          "Asturias, Principado de",
          "Asturias, Principado de",
          "Asturias, Principado de",
          "Asturias, Principado de",
          "Asturias, Principado de",
          "Asturias, Principado de",
          "Asturias, Principado de",
          "Asturias, Principado de",
          "Asturias, Principado de",
          "Asturias, Principado de",
          "Asturias, Principado de",
          "Asturias, Principado de",
          "Asturias, Principado de",
          "Asturias, Principado de",
          "Asturias, Principado de",
          "Balears, Illes",
          "Balears, Illes",
          "Balears, Illes",
          "Balears, Illes",
          "Balears, Illes",
          "Balears, Illes",
          "Balears, Illes",
          "Balears, Illes",
          "Balears, Illes",
          "Balears, Illes",
          "Balears, Illes",
          "Balears, Illes",
          "Balears, Illes",
          "Balears, Illes",
          "Balears, Illes",
          "Balears, Illes",
          "Canarias",
          "Canarias",
          "Canarias",
          "Canarias",
          "Canarias",
          "Canarias",
          "Canarias",
          "Canarias",
          "Canarias",
          "Canarias",
          "Canarias",
          "Canarias",
          "Canarias",
          "Canarias",
          "Canarias",
          "Canarias",
          "Cantabria",
          "Cantabria",
          "Cantabria",
          "Cantabria",
          "Cantabria",
          "Cantabria",
          "Cantabria",
          "Cantabria",
          "Cantabria",
          "Cantabria",
          "Cantabria",
          "Cantabria",
          "Cantabria",
          "Cantabria",
          "Cantabria",
          "Cantabria",
          "Castilla y León",
          "Castilla y León",
          "Castilla y León",
          "Castilla y León",
          "Castilla y León",
          "Castilla y León",
          "Castilla y León",
          "Castilla y León",
          "Castilla y León",
          "Castilla y León",
          "Castilla y León",
          "Castilla y León",
          "Castilla y León",
          "Castilla y León",
          "Castilla y León",
          "Castilla y León",
          "Castilla-La Mancha",
          "Castilla-La Mancha",
          "Castilla-La Mancha",
          "Castilla-La Mancha",
          "Castilla-La Mancha",
          "Castilla-La Mancha",
          "Castilla-La Mancha",
          "Castilla-La Mancha",
          "Castilla-La Mancha",
          "Castilla-La Mancha",
          "Castilla-La Mancha",
          "Castilla-La Mancha",
          "Castilla-La Mancha",
          "Castilla-La Mancha",
          "Castilla-La Mancha",
          "Castilla-La Mancha",
          "Cataluña",
          "Cataluña",
          "Cataluña",
          "Cataluña",
          "Cataluña",
          "Cataluña",
          "Cataluña",
          "Cataluña",
          "Cataluña",
          "Cataluña",
          "Cataluña",
          "Cataluña",
          "Cataluña",
          "Cataluña",
          "Cataluña",
          "Cataluña",
          "Comunitat Valenciana",
          "Comunitat Valenciana",
          "Comunitat Valenciana",
          "Comunitat Valenciana",
          "Comunitat Valenciana",
          "Comunitat Valenciana",
          "Comunitat Valenciana",
          "Comunitat Valenciana",
          "Comunitat Valenciana",
          "Comunitat Valenciana",
          "Comunitat Valenciana",
          "Comunitat Valenciana",
          "Comunitat Valenciana",
          "Comunitat Valenciana",
          "Comunitat Valenciana",
          "Comunitat Valenciana",
          "Extremadura",
          "Extremadura",
          "Extremadura",
          "Extremadura",
          "Extremadura",
          "Extremadura",
          "Extremadura",
          "Extremadura",
          "Extremadura",
          "Extremadura",
          "Extremadura",
          "Extremadura",
          "Extremadura",
          "Extremadura",
          "Extremadura",
          "Extremadura",
          "Galicia",
          "Galicia",
          "Galicia",
          "Galicia",
          "Galicia",
          "Galicia",
          "Galicia",
          "Galicia",
          "Galicia",
          "Galicia",
          "Galicia",
          "Galicia",
          "Galicia",
          "Galicia",
          "Galicia",
          "Galicia",
          "Madrid, Comunidad de",
          "Madrid, Comunidad de",
          "Madrid, Comunidad de",
          "Madrid, Comunidad de",
          "Madrid, Comunidad de",
          "Madrid, Comunidad de",
          "Madrid, Comunidad de",
          "Madrid, Comunidad de",
          "Madrid, Comunidad de",
          "Madrid, Comunidad de",
          "Madrid, Comunidad de",
          "Madrid, Comunidad de",
          "Madrid, Comunidad de",
          "Madrid, Comunidad de",
          "Madrid, Comunidad de",
          "Madrid, Comunidad de",
          "Murcia, Región de",
          "Murcia, Región de",
          "Murcia, Región de",
          "Murcia, Región de",
          "Murcia, Región de",
          "Murcia, Región de",
          "Murcia, Región de",
          "Murcia, Región de",
          "Murcia, Región de",
          "Murcia, Región de",
          "Murcia, Región de",
          "Murcia, Región de",
          "Murcia, Región de",
          "Murcia, Región de",
          "Murcia, Región de",
          "Murcia, Región de",
          "Navarra, Comunidad Foral de",
          "Navarra, Comunidad Foral de",
          "Navarra, Comunidad Foral de",
          "Navarra, Comunidad Foral de",
          "Navarra, Comunidad Foral de",
          "Navarra, Comunidad Foral de",
          "Navarra, Comunidad Foral de",
          "Navarra, Comunidad Foral de",
          "Navarra, Comunidad Foral de",
          "Navarra, Comunidad Foral de",
          "Navarra, Comunidad Foral de",
          "Navarra, Comunidad Foral de",
          "Navarra, Comunidad Foral de",
          "Navarra, Comunidad Foral de",
          "Navarra, Comunidad Foral de",
          "Navarra, Comunidad Foral de",
          "País Vasco",
          "País Vasco",
          "País Vasco",
          "País Vasco",
          "País Vasco",
          "País Vasco",
          "País Vasco",
          "País Vasco",
          "País Vasco",
          "País Vasco",
          "País Vasco",
          "País Vasco",
          "País Vasco",
          "País Vasco",
          "País Vasco",
          "País Vasco",
          "Rioja, La",
          "Rioja, La",
          "Rioja, La",
          "Rioja, La",
          "Rioja, La",
          "Rioja, La",
          "Rioja, La",
          "Rioja, La",
          "Rioja, La",
          "Rioja, La",
          "Rioja, La",
          "Rioja, La",
          "Rioja, La",
          "Rioja, La",
          "Rioja, La",
          "Rioja, La",
          "Ceuta",
          "Ceuta",
          "Ceuta",
          "Ceuta",
          "Ceuta",
          "Ceuta",
          "Ceuta",
          "Ceuta",
          "Ceuta",
          "Ceuta",
          "Ceuta",
          "Ceuta",
          "Ceuta",
          "Ceuta",
          "Ceuta",
          "Ceuta",
          "Melilla",
          "Melilla",
          "Melilla",
          "Melilla",
          "Melilla",
          "Melilla",
          "Melilla",
          "Melilla",
          "Melilla",
          "Melilla",
          "Melilla",
          "Melilla",
          "Melilla",
          "Melilla",
          "Melilla",
          "Melilla"
         ],
         "xaxis": "x",
         "y": [
          505,
          1,
          45,
          65,
          51,
          58,
          56,
          54,
          30,
          29,
          29,
          21,
          32,
          26,
          7,
          1,
          95,
          0,
          5,
          11,
          12,
          10,
          10,
          8,
          8,
          6,
          6,
          6,
          4,
          6,
          2,
          1,
          97,
          0,
          4,
          7,
          6,
          5,
          8,
          7,
          7,
          9,
          9,
          6,
          13,
          11,
          4,
          1,
          54,
          0,
          7,
          7,
          4,
          11,
          6,
          2,
          3,
          3,
          6,
          2,
          1,
          2,
          0,
          0,
          154,
          0,
          9,
          27,
          19,
          25,
          15,
          17,
          18,
          5,
          7,
          5,
          3,
          2,
          2,
          0,
          23,
          0,
          1,
          4,
          1,
          3,
          3,
          6,
          1,
          1,
          1,
          2,
          0,
          0,
          0,
          0,
          158,
          0,
          14,
          7,
          11,
          13,
          16,
          15,
          16,
          13,
          12,
          11,
          13,
          11,
          5,
          1,
          94,
          0,
          7,
          10,
          8,
          8,
          11,
          10,
          7,
          7,
          0,
          8,
          7,
          5,
          6,
          0,
          381,
          1,
          24,
          49,
          37,
          45,
          40,
          39,
          31,
          22,
          26,
          21,
          22,
          16,
          5,
          3,
          293,
          0,
          22,
          41,
          27,
          29,
          28,
          34,
          14,
          19,
          13,
          19,
          22,
          16,
          9,
          0,
          58,
          0,
          4,
          4,
          2,
          7,
          7,
          8,
          3,
          4,
          7,
          3,
          6,
          2,
          1,
          0,
          192,
          0,
          9,
          15,
          16,
          19,
          17,
          21,
          20,
          15,
          17,
          9,
          20,
          12,
          2,
          0,
          232,
          0,
          26,
          30,
          20,
          32,
          30,
          23,
          21,
          9,
          11,
          4,
          7,
          13,
          5,
          1,
          94,
          1,
          9,
          17,
          10,
          11,
          11,
          10,
          4,
          10,
          4,
          2,
          3,
          0,
          2,
          0,
          28,
          0,
          3,
          1,
          2,
          6,
          1,
          3,
          2,
          2,
          2,
          2,
          2,
          0,
          2,
          0,
          115,
          1,
          7,
          9,
          6,
          9,
          19,
          14,
          6,
          9,
          6,
          7,
          10,
          8,
          4,
          0,
          16,
          0,
          2,
          1,
          0,
          1,
          0,
          2,
          3,
          0,
          2,
          0,
          2,
          3,
          0,
          0,
          1,
          0,
          0,
          1,
          0,
          0,
          0,
          0,
          0,
          0,
          0,
          0,
          0,
          0,
          0,
          0,
          1,
          0,
          0,
          0,
          1,
          0,
          0,
          0,
          0,
          0,
          0,
          0,
          0,
          0,
          0,
          0
         ],
         "yaxis": "y"
        },
        {
         "alignmentgroup": "True",
         "hovertemplate": "<b>%{hovertext}</b><br><br>Sexo=Mujeres<br>Comunidades autónomas=%{x}<br>Número de suicidios=%{y}<extra></extra>",
         "hovertext": [
          "Todas las edades",
          "Menores de 15 años",
          "De 15 a 29 años",
          "De 30 a 39 años",
          "De 40 a 44 años",
          "De 45 a 49 años",
          "De 50 a 54 años",
          "De 55 a 59 años",
          "De 60 a 64 años",
          "De 65 a 69 años",
          "De 70 a 74 años",
          "De 75 a 79 años",
          "De 80 a 84 años",
          "De 85 a 89 años",
          "De 90 a 94 años",
          "De 95 años y más",
          "Todas las edades",
          "Menores de 15 años",
          "De 15 a 29 años",
          "De 30 a 39 años",
          "De 40 a 44 años",
          "De 45 a 49 años",
          "De 50 a 54 años",
          "De 55 a 59 años",
          "De 60 a 64 años",
          "De 65 a 69 años",
          "De 70 a 74 años",
          "De 75 a 79 años",
          "De 80 a 84 años",
          "De 85 a 89 años",
          "De 90 a 94 años",
          "De 95 años y más",
          "Todas las edades",
          "Menores de 15 años",
          "De 15 a 29 años",
          "De 30 a 39 años",
          "De 40 a 44 años",
          "De 45 a 49 años",
          "De 50 a 54 años",
          "De 55 a 59 años",
          "De 60 a 64 años",
          "De 65 a 69 años",
          "De 70 a 74 años",
          "De 75 a 79 años",
          "De 80 a 84 años",
          "De 85 a 89 años",
          "De 90 a 94 años",
          "De 95 años y más",
          "Todas las edades",
          "Menores de 15 años",
          "De 15 a 29 años",
          "De 30 a 39 años",
          "De 40 a 44 años",
          "De 45 a 49 años",
          "De 50 a 54 años",
          "De 55 a 59 años",
          "De 60 a 64 años",
          "De 65 a 69 años",
          "De 70 a 74 años",
          "De 75 a 79 años",
          "De 80 a 84 años",
          "De 85 a 89 años",
          "De 90 a 94 años",
          "De 95 años y más",
          "Todas las edades",
          "Menores de 15 años",
          "De 15 a 29 años",
          "De 30 a 39 años",
          "De 40 a 44 años",
          "De 45 a 49 años",
          "De 50 a 54 años",
          "De 55 a 59 años",
          "De 60 a 64 años",
          "De 65 a 69 años",
          "De 70 a 74 años",
          "De 75 a 79 años",
          "De 80 a 84 años",
          "De 85 a 89 años",
          "De 90 a 94 años",
          "De 95 años y más",
          "Todas las edades",
          "Menores de 15 años",
          "De 15 a 29 años",
          "De 30 a 39 años",
          "De 40 a 44 años",
          "De 45 a 49 años",
          "De 50 a 54 años",
          "De 55 a 59 años",
          "De 60 a 64 años",
          "De 65 a 69 años",
          "De 70 a 74 años",
          "De 75 a 79 años",
          "De 80 a 84 años",
          "De 85 a 89 años",
          "De 90 a 94 años",
          "De 95 años y más",
          "Todas las edades",
          "Menores de 15 años",
          "De 15 a 29 años",
          "De 30 a 39 años",
          "De 40 a 44 años",
          "De 45 a 49 años",
          "De 50 a 54 años",
          "De 55 a 59 años",
          "De 60 a 64 años",
          "De 65 a 69 años",
          "De 70 a 74 años",
          "De 75 a 79 años",
          "De 80 a 84 años",
          "De 85 a 89 años",
          "De 90 a 94 años",
          "De 95 años y más",
          "Todas las edades",
          "Menores de 15 años",
          "De 15 a 29 años",
          "De 30 a 39 años",
          "De 40 a 44 años",
          "De 45 a 49 años",
          "De 50 a 54 años",
          "De 55 a 59 años",
          "De 60 a 64 años",
          "De 65 a 69 años",
          "De 70 a 74 años",
          "De 75 a 79 años",
          "De 80 a 84 años",
          "De 85 a 89 años",
          "De 90 a 94 años",
          "De 95 años y más",
          "Todas las edades",
          "Menores de 15 años",
          "De 15 a 29 años",
          "De 30 a 39 años",
          "De 40 a 44 años",
          "De 45 a 49 años",
          "De 50 a 54 años",
          "De 55 a 59 años",
          "De 60 a 64 años",
          "De 65 a 69 años",
          "De 70 a 74 años",
          "De 75 a 79 años",
          "De 80 a 84 años",
          "De 85 a 89 años",
          "De 90 a 94 años",
          "De 95 años y más",
          "Todas las edades",
          "Menores de 15 años",
          "De 15 a 29 años",
          "De 30 a 39 años",
          "De 40 a 44 años",
          "De 45 a 49 años",
          "De 50 a 54 años",
          "De 55 a 59 años",
          "De 60 a 64 años",
          "De 65 a 69 años",
          "De 70 a 74 años",
          "De 75 a 79 años",
          "De 80 a 84 años",
          "De 85 a 89 años",
          "De 90 a 94 años",
          "De 95 años y más",
          "Todas las edades",
          "Menores de 15 años",
          "De 15 a 29 años",
          "De 30 a 39 años",
          "De 40 a 44 años",
          "De 45 a 49 años",
          "De 50 a 54 años",
          "De 55 a 59 años",
          "De 60 a 64 años",
          "De 65 a 69 años",
          "De 70 a 74 años",
          "De 75 a 79 años",
          "De 80 a 84 años",
          "De 85 a 89 años",
          "De 90 a 94 años",
          "De 95 años y más",
          "Todas las edades",
          "Menores de 15 años",
          "De 15 a 29 años",
          "De 30 a 39 años",
          "De 40 a 44 años",
          "De 45 a 49 años",
          "De 50 a 54 años",
          "De 55 a 59 años",
          "De 60 a 64 años",
          "De 65 a 69 años",
          "De 70 a 74 años",
          "De 75 a 79 años",
          "De 80 a 84 años",
          "De 85 a 89 años",
          "De 90 a 94 años",
          "De 95 años y más",
          "Todas las edades",
          "Menores de 15 años",
          "De 15 a 29 años",
          "De 30 a 39 años",
          "De 40 a 44 años",
          "De 45 a 49 años",
          "De 50 a 54 años",
          "De 55 a 59 años",
          "De 60 a 64 años",
          "De 65 a 69 años",
          "De 70 a 74 años",
          "De 75 a 79 años",
          "De 80 a 84 años",
          "De 85 a 89 años",
          "De 90 a 94 años",
          "De 95 años y más",
          "Todas las edades",
          "Menores de 15 años",
          "De 15 a 29 años",
          "De 30 a 39 años",
          "De 40 a 44 años",
          "De 45 a 49 años",
          "De 50 a 54 años",
          "De 55 a 59 años",
          "De 60 a 64 años",
          "De 65 a 69 años",
          "De 70 a 74 años",
          "De 75 a 79 años",
          "De 80 a 84 años",
          "De 85 a 89 años",
          "De 90 a 94 años",
          "De 95 años y más",
          "Todas las edades",
          "Menores de 15 años",
          "De 15 a 29 años",
          "De 30 a 39 años",
          "De 40 a 44 años",
          "De 45 a 49 años",
          "De 50 a 54 años",
          "De 55 a 59 años",
          "De 60 a 64 años",
          "De 65 a 69 años",
          "De 70 a 74 años",
          "De 75 a 79 años",
          "De 80 a 84 años",
          "De 85 a 89 años",
          "De 90 a 94 años",
          "De 95 años y más",
          "Todas las edades",
          "Menores de 15 años",
          "De 15 a 29 años",
          "De 30 a 39 años",
          "De 40 a 44 años",
          "De 45 a 49 años",
          "De 50 a 54 años",
          "De 55 a 59 años",
          "De 60 a 64 años",
          "De 65 a 69 años",
          "De 70 a 74 años",
          "De 75 a 79 años",
          "De 80 a 84 años",
          "De 85 a 89 años",
          "De 90 a 94 años",
          "De 95 años y más",
          "Todas las edades",
          "Menores de 15 años",
          "De 15 a 29 años",
          "De 30 a 39 años",
          "De 40 a 44 años",
          "De 45 a 49 años",
          "De 50 a 54 años",
          "De 55 a 59 años",
          "De 60 a 64 años",
          "De 65 a 69 años",
          "De 70 a 74 años",
          "De 75 a 79 años",
          "De 80 a 84 años",
          "De 85 a 89 años",
          "De 90 a 94 años",
          "De 95 años y más",
          "Todas las edades",
          "Menores de 15 años",
          "De 15 a 29 años",
          "De 30 a 39 años",
          "De 40 a 44 años",
          "De 45 a 49 años",
          "De 50 a 54 años",
          "De 55 a 59 años",
          "De 60 a 64 años",
          "De 65 a 69 años",
          "De 70 a 74 años",
          "De 75 a 79 años",
          "De 80 a 84 años",
          "De 85 a 89 años",
          "De 90 a 94 años",
          "De 95 años y más",
          "Todas las edades",
          "Menores de 15 años",
          "De 15 a 29 años",
          "De 30 a 39 años",
          "De 40 a 44 años",
          "De 45 a 49 años",
          "De 50 a 54 años",
          "De 55 a 59 años",
          "De 60 a 64 años",
          "De 65 a 69 años",
          "De 70 a 74 años",
          "De 75 a 79 años",
          "De 80 a 84 años",
          "De 85 a 89 años",
          "De 90 a 94 años",
          "De 95 años y más"
         ],
         "legendgroup": "Mujeres",
         "marker": {
          "color": "rgb(85,168,104)",
          "pattern": {
           "shape": ""
          }
         },
         "name": "Mujeres",
         "offsetgroup": "Mujeres",
         "orientation": "v",
         "showlegend": true,
         "textposition": "auto",
         "type": "bar",
         "x": [
          "Andalucía",
          "Andalucía",
          "Andalucía",
          "Andalucía",
          "Andalucía",
          "Andalucía",
          "Andalucía",
          "Andalucía",
          "Andalucía",
          "Andalucía",
          "Andalucía",
          "Andalucía",
          "Andalucía",
          "Andalucía",
          "Andalucía",
          "Andalucía",
          "Aragón",
          "Aragón",
          "Aragón",
          "Aragón",
          "Aragón",
          "Aragón",
          "Aragón",
          "Aragón",
          "Aragón",
          "Aragón",
          "Aragón",
          "Aragón",
          "Aragón",
          "Aragón",
          "Aragón",
          "Aragón",
          "Asturias, Principado de",
          "Asturias, Principado de",
          "Asturias, Principado de",
          "Asturias, Principado de",
          "Asturias, Principado de",
          "Asturias, Principado de",
          "Asturias, Principado de",
          "Asturias, Principado de",
          "Asturias, Principado de",
          "Asturias, Principado de",
          "Asturias, Principado de",
          "Asturias, Principado de",
          "Asturias, Principado de",
          "Asturias, Principado de",
          "Asturias, Principado de",
          "Asturias, Principado de",
          "Balears, Illes",
          "Balears, Illes",
          "Balears, Illes",
          "Balears, Illes",
          "Balears, Illes",
          "Balears, Illes",
          "Balears, Illes",
          "Balears, Illes",
          "Balears, Illes",
          "Balears, Illes",
          "Balears, Illes",
          "Balears, Illes",
          "Balears, Illes",
          "Balears, Illes",
          "Balears, Illes",
          "Balears, Illes",
          "Canarias",
          "Canarias",
          "Canarias",
          "Canarias",
          "Canarias",
          "Canarias",
          "Canarias",
          "Canarias",
          "Canarias",
          "Canarias",
          "Canarias",
          "Canarias",
          "Canarias",
          "Canarias",
          "Canarias",
          "Canarias",
          "Cantabria",
          "Cantabria",
          "Cantabria",
          "Cantabria",
          "Cantabria",
          "Cantabria",
          "Cantabria",
          "Cantabria",
          "Cantabria",
          "Cantabria",
          "Cantabria",
          "Cantabria",
          "Cantabria",
          "Cantabria",
          "Cantabria",
          "Cantabria",
          "Castilla y León",
          "Castilla y León",
          "Castilla y León",
          "Castilla y León",
          "Castilla y León",
          "Castilla y León",
          "Castilla y León",
          "Castilla y León",
          "Castilla y León",
          "Castilla y León",
          "Castilla y León",
          "Castilla y León",
          "Castilla y León",
          "Castilla y León",
          "Castilla y León",
          "Castilla y León",
          "Castilla-La Mancha",
          "Castilla-La Mancha",
          "Castilla-La Mancha",
          "Castilla-La Mancha",
          "Castilla-La Mancha",
          "Castilla-La Mancha",
          "Castilla-La Mancha",
          "Castilla-La Mancha",
          "Castilla-La Mancha",
          "Castilla-La Mancha",
          "Castilla-La Mancha",
          "Castilla-La Mancha",
          "Castilla-La Mancha",
          "Castilla-La Mancha",
          "Castilla-La Mancha",
          "Castilla-La Mancha",
          "Cataluña",
          "Cataluña",
          "Cataluña",
          "Cataluña",
          "Cataluña",
          "Cataluña",
          "Cataluña",
          "Cataluña",
          "Cataluña",
          "Cataluña",
          "Cataluña",
          "Cataluña",
          "Cataluña",
          "Cataluña",
          "Cataluña",
          "Cataluña",
          "Comunitat Valenciana",
          "Comunitat Valenciana",
          "Comunitat Valenciana",
          "Comunitat Valenciana",
          "Comunitat Valenciana",
          "Comunitat Valenciana",
          "Comunitat Valenciana",
          "Comunitat Valenciana",
          "Comunitat Valenciana",
          "Comunitat Valenciana",
          "Comunitat Valenciana",
          "Comunitat Valenciana",
          "Comunitat Valenciana",
          "Comunitat Valenciana",
          "Comunitat Valenciana",
          "Comunitat Valenciana",
          "Extremadura",
          "Extremadura",
          "Extremadura",
          "Extremadura",
          "Extremadura",
          "Extremadura",
          "Extremadura",
          "Extremadura",
          "Extremadura",
          "Extremadura",
          "Extremadura",
          "Extremadura",
          "Extremadura",
          "Extremadura",
          "Extremadura",
          "Extremadura",
          "Galicia",
          "Galicia",
          "Galicia",
          "Galicia",
          "Galicia",
          "Galicia",
          "Galicia",
          "Galicia",
          "Galicia",
          "Galicia",
          "Galicia",
          "Galicia",
          "Galicia",
          "Galicia",
          "Galicia",
          "Galicia",
          "Madrid, Comunidad de",
          "Madrid, Comunidad de",
          "Madrid, Comunidad de",
          "Madrid, Comunidad de",
          "Madrid, Comunidad de",
          "Madrid, Comunidad de",
          "Madrid, Comunidad de",
          "Madrid, Comunidad de",
          "Madrid, Comunidad de",
          "Madrid, Comunidad de",
          "Madrid, Comunidad de",
          "Madrid, Comunidad de",
          "Madrid, Comunidad de",
          "Madrid, Comunidad de",
          "Madrid, Comunidad de",
          "Madrid, Comunidad de",
          "Murcia, Región de",
          "Murcia, Región de",
          "Murcia, Región de",
          "Murcia, Región de",
          "Murcia, Región de",
          "Murcia, Región de",
          "Murcia, Región de",
          "Murcia, Región de",
          "Murcia, Región de",
          "Murcia, Región de",
          "Murcia, Región de",
          "Murcia, Región de",
          "Murcia, Región de",
          "Murcia, Región de",
          "Murcia, Región de",
          "Murcia, Región de",
          "Navarra, Comunidad Foral de",
          "Navarra, Comunidad Foral de",
          "Navarra, Comunidad Foral de",
          "Navarra, Comunidad Foral de",
          "Navarra, Comunidad Foral de",
          "Navarra, Comunidad Foral de",
          "Navarra, Comunidad Foral de",
          "Navarra, Comunidad Foral de",
          "Navarra, Comunidad Foral de",
          "Navarra, Comunidad Foral de",
          "Navarra, Comunidad Foral de",
          "Navarra, Comunidad Foral de",
          "Navarra, Comunidad Foral de",
          "Navarra, Comunidad Foral de",
          "Navarra, Comunidad Foral de",
          "Navarra, Comunidad Foral de",
          "País Vasco",
          "País Vasco",
          "País Vasco",
          "País Vasco",
          "País Vasco",
          "País Vasco",
          "País Vasco",
          "País Vasco",
          "País Vasco",
          "País Vasco",
          "País Vasco",
          "País Vasco",
          "País Vasco",
          "País Vasco",
          "País Vasco",
          "País Vasco",
          "Rioja, La",
          "Rioja, La",
          "Rioja, La",
          "Rioja, La",
          "Rioja, La",
          "Rioja, La",
          "Rioja, La",
          "Rioja, La",
          "Rioja, La",
          "Rioja, La",
          "Rioja, La",
          "Rioja, La",
          "Rioja, La",
          "Rioja, La",
          "Rioja, La",
          "Rioja, La",
          "Ceuta",
          "Ceuta",
          "Ceuta",
          "Ceuta",
          "Ceuta",
          "Ceuta",
          "Ceuta",
          "Ceuta",
          "Ceuta",
          "Ceuta",
          "Ceuta",
          "Ceuta",
          "Ceuta",
          "Ceuta",
          "Ceuta",
          "Ceuta",
          "Melilla",
          "Melilla",
          "Melilla",
          "Melilla",
          "Melilla",
          "Melilla",
          "Melilla",
          "Melilla",
          "Melilla",
          "Melilla",
          "Melilla",
          "Melilla",
          "Melilla",
          "Melilla",
          "Melilla",
          "Melilla"
         ],
         "xaxis": "x",
         "y": [
          148,
          0,
          6,
          14,
          20,
          12,
          20,
          17,
          14,
          13,
          12,
          6,
          9,
          5,
          0,
          0,
          25,
          0,
          2,
          4,
          2,
          4,
          2,
          2,
          4,
          1,
          1,
          0,
          1,
          2,
          0,
          0,
          41,
          0,
          1,
          1,
          3,
          9,
          4,
          5,
          4,
          1,
          5,
          1,
          4,
          2,
          1,
          0,
          17,
          0,
          5,
          2,
          1,
          1,
          1,
          2,
          1,
          1,
          0,
          1,
          1,
          1,
          0,
          0,
          39,
          0,
          2,
          6,
          2,
          1,
          5,
          0,
          8,
          5,
          4,
          1,
          3,
          1,
          1,
          0,
          5,
          0,
          0,
          0,
          0,
          1,
          0,
          2,
          0,
          0,
          1,
          1,
          0,
          0,
          0,
          0,
          55,
          0,
          4,
          5,
          5,
          8,
          3,
          10,
          1,
          4,
          5,
          1,
          3,
          3,
          2,
          1,
          38,
          0,
          1,
          3,
          7,
          3,
          2,
          3,
          3,
          0,
          3,
          2,
          5,
          2,
          3,
          1,
          141,
          0,
          13,
          15,
          12,
          15,
          10,
          21,
          13,
          14,
          8,
          3,
          7,
          7,
          3,
          0,
          103,
          0,
          9,
          12,
          3,
          12,
          13,
          10,
          7,
          14,
          8,
          4,
          4,
          4,
          2,
          1,
          12,
          0,
          1,
          3,
          3,
          1,
          0,
          0,
          1,
          1,
          0,
          0,
          1,
          1,
          0,
          0,
          82,
          0,
          1,
          5,
          7,
          7,
          5,
          10,
          8,
          6,
          10,
          8,
          8,
          5,
          2,
          0,
          110,
          1,
          10,
          9,
          8,
          11,
          16,
          10,
          7,
          8,
          6,
          10,
          9,
          4,
          1,
          0,
          33,
          1,
          4,
          3,
          1,
          4,
          7,
          5,
          2,
          1,
          1,
          2,
          1,
          0,
          1,
          0,
          11,
          0,
          1,
          1,
          2,
          0,
          2,
          1,
          0,
          0,
          0,
          1,
          3,
          0,
          0,
          0,
          48,
          1,
          2,
          3,
          2,
          6,
          6,
          5,
          3,
          6,
          5,
          3,
          2,
          3,
          1,
          0,
          5,
          0,
          0,
          0,
          0,
          0,
          0,
          2,
          1,
          0,
          1,
          0,
          0,
          1,
          0,
          0,
          0,
          0,
          0,
          0,
          0,
          0,
          0,
          0,
          0,
          0,
          0,
          0,
          0,
          0,
          0,
          0,
          0,
          0,
          0,
          0,
          0,
          0,
          0,
          0,
          0,
          0,
          0,
          0,
          0,
          0,
          0,
          0
         ],
         "yaxis": "y"
        }
       ],
       "layout": {
        "barmode": "relative",
        "legend": {
         "title": {
          "text": "Sexo"
         },
         "tracegroupgap": 0
        },
        "template": {
         "data": {
          "bar": [
           {
            "error_x": {
             "color": "rgb(36,36,36)"
            },
            "error_y": {
             "color": "rgb(36,36,36)"
            },
            "marker": {
             "line": {
              "color": "rgb(234,234,242)",
              "width": 0.5
             },
             "pattern": {
              "fillmode": "overlay",
              "size": 10,
              "solidity": 0.2
             }
            },
            "type": "bar"
           }
          ],
          "barpolar": [
           {
            "marker": {
             "line": {
              "color": "rgb(234,234,242)",
              "width": 0.5
             },
             "pattern": {
              "fillmode": "overlay",
              "size": 10,
              "solidity": 0.2
             }
            },
            "type": "barpolar"
           }
          ],
          "carpet": [
           {
            "aaxis": {
             "endlinecolor": "rgb(36,36,36)",
             "gridcolor": "white",
             "linecolor": "white",
             "minorgridcolor": "white",
             "startlinecolor": "rgb(36,36,36)"
            },
            "baxis": {
             "endlinecolor": "rgb(36,36,36)",
             "gridcolor": "white",
             "linecolor": "white",
             "minorgridcolor": "white",
             "startlinecolor": "rgb(36,36,36)"
            },
            "type": "carpet"
           }
          ],
          "choropleth": [
           {
            "colorbar": {
             "outlinewidth": 0,
             "tickcolor": "rgb(36,36,36)",
             "ticklen": 8,
             "ticks": "outside",
             "tickwidth": 2
            },
            "type": "choropleth"
           }
          ],
          "contour": [
           {
            "colorbar": {
             "outlinewidth": 0,
             "tickcolor": "rgb(36,36,36)",
             "ticklen": 8,
             "ticks": "outside",
             "tickwidth": 2
            },
            "colorscale": [
             [
              0,
              "rgb(2,4,25)"
             ],
             [
              0.06274509803921569,
              "rgb(24,15,41)"
             ],
             [
              0.12549019607843137,
              "rgb(47,23,57)"
             ],
             [
              0.18823529411764706,
              "rgb(71,28,72)"
             ],
             [
              0.25098039215686274,
              "rgb(97,30,82)"
             ],
             [
              0.3137254901960784,
              "rgb(123,30,89)"
             ],
             [
              0.3764705882352941,
              "rgb(150,27,91)"
             ],
             [
              0.4392156862745098,
              "rgb(177,22,88)"
             ],
             [
              0.5019607843137255,
              "rgb(203,26,79)"
             ],
             [
              0.5647058823529412,
              "rgb(223,47,67)"
             ],
             [
              0.6274509803921569,
              "rgb(236,76,61)"
             ],
             [
              0.6901960784313725,
              "rgb(242,107,73)"
             ],
             [
              0.7529411764705882,
              "rgb(244,135,95)"
             ],
             [
              0.8156862745098039,
              "rgb(245,162,122)"
             ],
             [
              0.8784313725490196,
              "rgb(246,188,153)"
             ],
             [
              0.9411764705882353,
              "rgb(247,212,187)"
             ],
             [
              1,
              "rgb(250,234,220)"
             ]
            ],
            "type": "contour"
           }
          ],
          "contourcarpet": [
           {
            "colorbar": {
             "outlinewidth": 0,
             "tickcolor": "rgb(36,36,36)",
             "ticklen": 8,
             "ticks": "outside",
             "tickwidth": 2
            },
            "type": "contourcarpet"
           }
          ],
          "heatmap": [
           {
            "colorbar": {
             "outlinewidth": 0,
             "tickcolor": "rgb(36,36,36)",
             "ticklen": 8,
             "ticks": "outside",
             "tickwidth": 2
            },
            "colorscale": [
             [
              0,
              "rgb(2,4,25)"
             ],
             [
              0.06274509803921569,
              "rgb(24,15,41)"
             ],
             [
              0.12549019607843137,
              "rgb(47,23,57)"
             ],
             [
              0.18823529411764706,
              "rgb(71,28,72)"
             ],
             [
              0.25098039215686274,
              "rgb(97,30,82)"
             ],
             [
              0.3137254901960784,
              "rgb(123,30,89)"
             ],
             [
              0.3764705882352941,
              "rgb(150,27,91)"
             ],
             [
              0.4392156862745098,
              "rgb(177,22,88)"
             ],
             [
              0.5019607843137255,
              "rgb(203,26,79)"
             ],
             [
              0.5647058823529412,
              "rgb(223,47,67)"
             ],
             [
              0.6274509803921569,
              "rgb(236,76,61)"
             ],
             [
              0.6901960784313725,
              "rgb(242,107,73)"
             ],
             [
              0.7529411764705882,
              "rgb(244,135,95)"
             ],
             [
              0.8156862745098039,
              "rgb(245,162,122)"
             ],
             [
              0.8784313725490196,
              "rgb(246,188,153)"
             ],
             [
              0.9411764705882353,
              "rgb(247,212,187)"
             ],
             [
              1,
              "rgb(250,234,220)"
             ]
            ],
            "type": "heatmap"
           }
          ],
          "heatmapgl": [
           {
            "colorbar": {
             "outlinewidth": 0,
             "tickcolor": "rgb(36,36,36)",
             "ticklen": 8,
             "ticks": "outside",
             "tickwidth": 2
            },
            "colorscale": [
             [
              0,
              "rgb(2,4,25)"
             ],
             [
              0.06274509803921569,
              "rgb(24,15,41)"
             ],
             [
              0.12549019607843137,
              "rgb(47,23,57)"
             ],
             [
              0.18823529411764706,
              "rgb(71,28,72)"
             ],
             [
              0.25098039215686274,
              "rgb(97,30,82)"
             ],
             [
              0.3137254901960784,
              "rgb(123,30,89)"
             ],
             [
              0.3764705882352941,
              "rgb(150,27,91)"
             ],
             [
              0.4392156862745098,
              "rgb(177,22,88)"
             ],
             [
              0.5019607843137255,
              "rgb(203,26,79)"
             ],
             [
              0.5647058823529412,
              "rgb(223,47,67)"
             ],
             [
              0.6274509803921569,
              "rgb(236,76,61)"
             ],
             [
              0.6901960784313725,
              "rgb(242,107,73)"
             ],
             [
              0.7529411764705882,
              "rgb(244,135,95)"
             ],
             [
              0.8156862745098039,
              "rgb(245,162,122)"
             ],
             [
              0.8784313725490196,
              "rgb(246,188,153)"
             ],
             [
              0.9411764705882353,
              "rgb(247,212,187)"
             ],
             [
              1,
              "rgb(250,234,220)"
             ]
            ],
            "type": "heatmapgl"
           }
          ],
          "histogram": [
           {
            "marker": {
             "pattern": {
              "fillmode": "overlay",
              "size": 10,
              "solidity": 0.2
             }
            },
            "type": "histogram"
           }
          ],
          "histogram2d": [
           {
            "colorbar": {
             "outlinewidth": 0,
             "tickcolor": "rgb(36,36,36)",
             "ticklen": 8,
             "ticks": "outside",
             "tickwidth": 2
            },
            "colorscale": [
             [
              0,
              "rgb(2,4,25)"
             ],
             [
              0.06274509803921569,
              "rgb(24,15,41)"
             ],
             [
              0.12549019607843137,
              "rgb(47,23,57)"
             ],
             [
              0.18823529411764706,
              "rgb(71,28,72)"
             ],
             [
              0.25098039215686274,
              "rgb(97,30,82)"
             ],
             [
              0.3137254901960784,
              "rgb(123,30,89)"
             ],
             [
              0.3764705882352941,
              "rgb(150,27,91)"
             ],
             [
              0.4392156862745098,
              "rgb(177,22,88)"
             ],
             [
              0.5019607843137255,
              "rgb(203,26,79)"
             ],
             [
              0.5647058823529412,
              "rgb(223,47,67)"
             ],
             [
              0.6274509803921569,
              "rgb(236,76,61)"
             ],
             [
              0.6901960784313725,
              "rgb(242,107,73)"
             ],
             [
              0.7529411764705882,
              "rgb(244,135,95)"
             ],
             [
              0.8156862745098039,
              "rgb(245,162,122)"
             ],
             [
              0.8784313725490196,
              "rgb(246,188,153)"
             ],
             [
              0.9411764705882353,
              "rgb(247,212,187)"
             ],
             [
              1,
              "rgb(250,234,220)"
             ]
            ],
            "type": "histogram2d"
           }
          ],
          "histogram2dcontour": [
           {
            "colorbar": {
             "outlinewidth": 0,
             "tickcolor": "rgb(36,36,36)",
             "ticklen": 8,
             "ticks": "outside",
             "tickwidth": 2
            },
            "colorscale": [
             [
              0,
              "rgb(2,4,25)"
             ],
             [
              0.06274509803921569,
              "rgb(24,15,41)"
             ],
             [
              0.12549019607843137,
              "rgb(47,23,57)"
             ],
             [
              0.18823529411764706,
              "rgb(71,28,72)"
             ],
             [
              0.25098039215686274,
              "rgb(97,30,82)"
             ],
             [
              0.3137254901960784,
              "rgb(123,30,89)"
             ],
             [
              0.3764705882352941,
              "rgb(150,27,91)"
             ],
             [
              0.4392156862745098,
              "rgb(177,22,88)"
             ],
             [
              0.5019607843137255,
              "rgb(203,26,79)"
             ],
             [
              0.5647058823529412,
              "rgb(223,47,67)"
             ],
             [
              0.6274509803921569,
              "rgb(236,76,61)"
             ],
             [
              0.6901960784313725,
              "rgb(242,107,73)"
             ],
             [
              0.7529411764705882,
              "rgb(244,135,95)"
             ],
             [
              0.8156862745098039,
              "rgb(245,162,122)"
             ],
             [
              0.8784313725490196,
              "rgb(246,188,153)"
             ],
             [
              0.9411764705882353,
              "rgb(247,212,187)"
             ],
             [
              1,
              "rgb(250,234,220)"
             ]
            ],
            "type": "histogram2dcontour"
           }
          ],
          "mesh3d": [
           {
            "colorbar": {
             "outlinewidth": 0,
             "tickcolor": "rgb(36,36,36)",
             "ticklen": 8,
             "ticks": "outside",
             "tickwidth": 2
            },
            "type": "mesh3d"
           }
          ],
          "parcoords": [
           {
            "line": {
             "colorbar": {
              "outlinewidth": 0,
              "tickcolor": "rgb(36,36,36)",
              "ticklen": 8,
              "ticks": "outside",
              "tickwidth": 2
             }
            },
            "type": "parcoords"
           }
          ],
          "pie": [
           {
            "automargin": true,
            "type": "pie"
           }
          ],
          "scatter": [
           {
            "fillpattern": {
             "fillmode": "overlay",
             "size": 10,
             "solidity": 0.2
            },
            "type": "scatter"
           }
          ],
          "scatter3d": [
           {
            "line": {
             "colorbar": {
              "outlinewidth": 0,
              "tickcolor": "rgb(36,36,36)",
              "ticklen": 8,
              "ticks": "outside",
              "tickwidth": 2
             }
            },
            "marker": {
             "colorbar": {
              "outlinewidth": 0,
              "tickcolor": "rgb(36,36,36)",
              "ticklen": 8,
              "ticks": "outside",
              "tickwidth": 2
             }
            },
            "type": "scatter3d"
           }
          ],
          "scattercarpet": [
           {
            "marker": {
             "colorbar": {
              "outlinewidth": 0,
              "tickcolor": "rgb(36,36,36)",
              "ticklen": 8,
              "ticks": "outside",
              "tickwidth": 2
             }
            },
            "type": "scattercarpet"
           }
          ],
          "scattergeo": [
           {
            "marker": {
             "colorbar": {
              "outlinewidth": 0,
              "tickcolor": "rgb(36,36,36)",
              "ticklen": 8,
              "ticks": "outside",
              "tickwidth": 2
             }
            },
            "type": "scattergeo"
           }
          ],
          "scattergl": [
           {
            "marker": {
             "colorbar": {
              "outlinewidth": 0,
              "tickcolor": "rgb(36,36,36)",
              "ticklen": 8,
              "ticks": "outside",
              "tickwidth": 2
             }
            },
            "type": "scattergl"
           }
          ],
          "scattermapbox": [
           {
            "marker": {
             "colorbar": {
              "outlinewidth": 0,
              "tickcolor": "rgb(36,36,36)",
              "ticklen": 8,
              "ticks": "outside",
              "tickwidth": 2
             }
            },
            "type": "scattermapbox"
           }
          ],
          "scatterpolar": [
           {
            "marker": {
             "colorbar": {
              "outlinewidth": 0,
              "tickcolor": "rgb(36,36,36)",
              "ticklen": 8,
              "ticks": "outside",
              "tickwidth": 2
             }
            },
            "type": "scatterpolar"
           }
          ],
          "scatterpolargl": [
           {
            "marker": {
             "colorbar": {
              "outlinewidth": 0,
              "tickcolor": "rgb(36,36,36)",
              "ticklen": 8,
              "ticks": "outside",
              "tickwidth": 2
             }
            },
            "type": "scatterpolargl"
           }
          ],
          "scatterternary": [
           {
            "marker": {
             "colorbar": {
              "outlinewidth": 0,
              "tickcolor": "rgb(36,36,36)",
              "ticklen": 8,
              "ticks": "outside",
              "tickwidth": 2
             }
            },
            "type": "scatterternary"
           }
          ],
          "surface": [
           {
            "colorbar": {
             "outlinewidth": 0,
             "tickcolor": "rgb(36,36,36)",
             "ticklen": 8,
             "ticks": "outside",
             "tickwidth": 2
            },
            "colorscale": [
             [
              0,
              "rgb(2,4,25)"
             ],
             [
              0.06274509803921569,
              "rgb(24,15,41)"
             ],
             [
              0.12549019607843137,
              "rgb(47,23,57)"
             ],
             [
              0.18823529411764706,
              "rgb(71,28,72)"
             ],
             [
              0.25098039215686274,
              "rgb(97,30,82)"
             ],
             [
              0.3137254901960784,
              "rgb(123,30,89)"
             ],
             [
              0.3764705882352941,
              "rgb(150,27,91)"
             ],
             [
              0.4392156862745098,
              "rgb(177,22,88)"
             ],
             [
              0.5019607843137255,
              "rgb(203,26,79)"
             ],
             [
              0.5647058823529412,
              "rgb(223,47,67)"
             ],
             [
              0.6274509803921569,
              "rgb(236,76,61)"
             ],
             [
              0.6901960784313725,
              "rgb(242,107,73)"
             ],
             [
              0.7529411764705882,
              "rgb(244,135,95)"
             ],
             [
              0.8156862745098039,
              "rgb(245,162,122)"
             ],
             [
              0.8784313725490196,
              "rgb(246,188,153)"
             ],
             [
              0.9411764705882353,
              "rgb(247,212,187)"
             ],
             [
              1,
              "rgb(250,234,220)"
             ]
            ],
            "type": "surface"
           }
          ],
          "table": [
           {
            "cells": {
             "fill": {
              "color": "rgb(231,231,240)"
             },
             "line": {
              "color": "white"
             }
            },
            "header": {
             "fill": {
              "color": "rgb(183,183,191)"
             },
             "line": {
              "color": "white"
             }
            },
            "type": "table"
           }
          ]
         },
         "layout": {
          "annotationdefaults": {
           "arrowcolor": "rgb(67,103,167)"
          },
          "autotypenumbers": "strict",
          "coloraxis": {
           "colorbar": {
            "outlinewidth": 0,
            "tickcolor": "rgb(36,36,36)",
            "ticklen": 8,
            "ticks": "outside",
            "tickwidth": 2
           }
          },
          "colorscale": {
           "sequential": [
            [
             0,
             "rgb(2,4,25)"
            ],
            [
             0.06274509803921569,
             "rgb(24,15,41)"
            ],
            [
             0.12549019607843137,
             "rgb(47,23,57)"
            ],
            [
             0.18823529411764706,
             "rgb(71,28,72)"
            ],
            [
             0.25098039215686274,
             "rgb(97,30,82)"
            ],
            [
             0.3137254901960784,
             "rgb(123,30,89)"
            ],
            [
             0.3764705882352941,
             "rgb(150,27,91)"
            ],
            [
             0.4392156862745098,
             "rgb(177,22,88)"
            ],
            [
             0.5019607843137255,
             "rgb(203,26,79)"
            ],
            [
             0.5647058823529412,
             "rgb(223,47,67)"
            ],
            [
             0.6274509803921569,
             "rgb(236,76,61)"
            ],
            [
             0.6901960784313725,
             "rgb(242,107,73)"
            ],
            [
             0.7529411764705882,
             "rgb(244,135,95)"
            ],
            [
             0.8156862745098039,
             "rgb(245,162,122)"
            ],
            [
             0.8784313725490196,
             "rgb(246,188,153)"
            ],
            [
             0.9411764705882353,
             "rgb(247,212,187)"
            ],
            [
             1,
             "rgb(250,234,220)"
            ]
           ],
           "sequentialminus": [
            [
             0,
             "rgb(2,4,25)"
            ],
            [
             0.06274509803921569,
             "rgb(24,15,41)"
            ],
            [
             0.12549019607843137,
             "rgb(47,23,57)"
            ],
            [
             0.18823529411764706,
             "rgb(71,28,72)"
            ],
            [
             0.25098039215686274,
             "rgb(97,30,82)"
            ],
            [
             0.3137254901960784,
             "rgb(123,30,89)"
            ],
            [
             0.3764705882352941,
             "rgb(150,27,91)"
            ],
            [
             0.4392156862745098,
             "rgb(177,22,88)"
            ],
            [
             0.5019607843137255,
             "rgb(203,26,79)"
            ],
            [
             0.5647058823529412,
             "rgb(223,47,67)"
            ],
            [
             0.6274509803921569,
             "rgb(236,76,61)"
            ],
            [
             0.6901960784313725,
             "rgb(242,107,73)"
            ],
            [
             0.7529411764705882,
             "rgb(244,135,95)"
            ],
            [
             0.8156862745098039,
             "rgb(245,162,122)"
            ],
            [
             0.8784313725490196,
             "rgb(246,188,153)"
            ],
            [
             0.9411764705882353,
             "rgb(247,212,187)"
            ],
            [
             1,
             "rgb(250,234,220)"
            ]
           ]
          },
          "colorway": [
           "rgb(76,114,176)",
           "rgb(221,132,82)",
           "rgb(85,168,104)",
           "rgb(196,78,82)",
           "rgb(129,114,179)",
           "rgb(147,120,96)",
           "rgb(218,139,195)",
           "rgb(140,140,140)",
           "rgb(204,185,116)",
           "rgb(100,181,205)"
          ],
          "font": {
           "color": "rgb(36,36,36)"
          },
          "geo": {
           "bgcolor": "white",
           "lakecolor": "white",
           "landcolor": "rgb(234,234,242)",
           "showlakes": true,
           "showland": true,
           "subunitcolor": "white"
          },
          "hoverlabel": {
           "align": "left"
          },
          "hovermode": "closest",
          "paper_bgcolor": "white",
          "plot_bgcolor": "rgb(234,234,242)",
          "polar": {
           "angularaxis": {
            "gridcolor": "white",
            "linecolor": "white",
            "showgrid": true,
            "ticks": ""
           },
           "bgcolor": "rgb(234,234,242)",
           "radialaxis": {
            "gridcolor": "white",
            "linecolor": "white",
            "showgrid": true,
            "ticks": ""
           }
          },
          "scene": {
           "xaxis": {
            "backgroundcolor": "rgb(234,234,242)",
            "gridcolor": "white",
            "gridwidth": 2,
            "linecolor": "white",
            "showbackground": true,
            "showgrid": true,
            "ticks": "",
            "zerolinecolor": "white"
           },
           "yaxis": {
            "backgroundcolor": "rgb(234,234,242)",
            "gridcolor": "white",
            "gridwidth": 2,
            "linecolor": "white",
            "showbackground": true,
            "showgrid": true,
            "ticks": "",
            "zerolinecolor": "white"
           },
           "zaxis": {
            "backgroundcolor": "rgb(234,234,242)",
            "gridcolor": "white",
            "gridwidth": 2,
            "linecolor": "white",
            "showbackground": true,
            "showgrid": true,
            "ticks": "",
            "zerolinecolor": "white"
           }
          },
          "shapedefaults": {
           "fillcolor": "rgb(67,103,167)",
           "line": {
            "width": 0
           },
           "opacity": 0.5
          },
          "ternary": {
           "aaxis": {
            "gridcolor": "white",
            "linecolor": "white",
            "showgrid": true,
            "ticks": ""
           },
           "baxis": {
            "gridcolor": "white",
            "linecolor": "white",
            "showgrid": true,
            "ticks": ""
           },
           "bgcolor": "rgb(234,234,242)",
           "caxis": {
            "gridcolor": "white",
            "linecolor": "white",
            "showgrid": true,
            "ticks": ""
           }
          },
          "xaxis": {
           "automargin": true,
           "gridcolor": "white",
           "linecolor": "white",
           "showgrid": true,
           "ticks": "",
           "title": {
            "standoff": 15
           },
           "zerolinecolor": "white"
          },
          "yaxis": {
           "automargin": true,
           "gridcolor": "white",
           "linecolor": "white",
           "showgrid": true,
           "ticks": "",
           "title": {
            "standoff": 15
           },
           "zerolinecolor": "white"
          }
         }
        },
        "title": {
         "text": "Suicidios 2018 por comunidad autónoma"
        },
        "xaxis": {
         "anchor": "y",
         "domain": [
          0,
          1
         ],
         "title": {
          "text": "Comunidades autónomas"
         }
        },
        "yaxis": {
         "anchor": "x",
         "domain": [
          0,
          1
         ],
         "title": {
          "text": "Número de suicidios"
         }
        }
       }
      }
     },
     "metadata": {},
     "output_type": "display_data"
    }
   ],
   "source": [
    "fig2 = px.bar(com2018, x= \"Comunidades autónomas\", y=\"Total\", color=\"Sexo\",\n",
    "             barmode = \"relative\", hover_name= \"Edad\", title= \"Suicidios 2018 por comunidad autónoma\", template=\"seaborn\", labels={\"Total\": \"Número de suicidios\"})\n",
    "fig2.show()"
   ]
  },
  {
   "attachments": {},
   "cell_type": "markdown",
   "metadata": {},
   "source": [
    "SUICIDIOS 2019 POR SEXO Y EDAD"
   ]
  },
  {
   "cell_type": "code",
   "execution_count": 97,
   "metadata": {},
   "outputs": [
    {
     "data": {
      "application/vnd.plotly.v1+json": {
       "config": {
        "plotlyServerURL": "https://plot.ly"
       },
       "data": [
        {
         "alignmentgroup": "True",
         "hovertemplate": "Sexo=Ambos sexos<br>Edad=%{x}<br>Número de suicidios=%{y}<extra></extra>",
         "legendgroup": "Ambos sexos",
         "marker": {
          "color": "rgb(76,114,176)",
          "pattern": {
           "shape": ""
          }
         },
         "name": "Ambos sexos",
         "offsetgroup": "Ambos sexos",
         "orientation": "v",
         "showlegend": true,
         "textposition": "auto",
         "type": "bar",
         "x": [
          "Menores de 15 años",
          "De 15 a 29 años",
          "De 30 a 39 años",
          "De 40 a 44 años",
          "De 45 a 49 años",
          "De 50 a 54 años",
          "De 55 a 59 años",
          "De 60 a 64 años",
          "De 65 a 69 años",
          "De 70 a 74 años",
          "De 75 a 79 años",
          "De 80 a 84 años",
          "De 85 a 89 años",
          "De 90 a 94 años",
          "De 95 años y más"
         ],
         "xaxis": "x",
         "y": [
          7,
          309,
          413,
          342,
          389,
          411,
          350,
          293,
          231,
          240,
          228,
          214,
          148,
          81,
          15
         ],
         "yaxis": "y"
        },
        {
         "alignmentgroup": "True",
         "hovertemplate": "Sexo=Hombres<br>Edad=%{x}<br>Número de suicidios=%{y}<extra></extra>",
         "legendgroup": "Hombres",
         "marker": {
          "color": "rgb(221,132,82)",
          "pattern": {
           "shape": ""
          }
         },
         "name": "Hombres",
         "offsetgroup": "Hombres",
         "orientation": "v",
         "showlegend": true,
         "textposition": "auto",
         "type": "bar",
         "x": [
          "Menores de 15 años",
          "De 15 a 29 años",
          "De 30 a 39 años",
          "De 40 a 44 años",
          "De 45 a 49 años",
          "De 50 a 54 años",
          "De 55 a 59 años",
          "De 60 a 64 años",
          "De 65 a 69 años",
          "De 70 a 74 años",
          "De 75 a 79 años",
          "De 80 a 84 años",
          "De 85 a 89 años",
          "De 90 a 94 años",
          "De 95 años y más"
         ],
         "xaxis": "x",
         "y": [
          4,
          235,
          314,
          263,
          310,
          301,
          260,
          207,
          172,
          177,
          171,
          163,
          118,
          63,
          13
         ],
         "yaxis": "y"
        },
        {
         "alignmentgroup": "True",
         "hovertemplate": "Sexo=Mujeres<br>Edad=%{x}<br>Número de suicidios=%{y}<extra></extra>",
         "legendgroup": "Mujeres",
         "marker": {
          "color": "rgb(85,168,104)",
          "pattern": {
           "shape": ""
          }
         },
         "name": "Mujeres",
         "offsetgroup": "Mujeres",
         "orientation": "v",
         "showlegend": true,
         "textposition": "auto",
         "type": "bar",
         "x": [
          "Menores de 15 años",
          "De 15 a 29 años",
          "De 30 a 39 años",
          "De 40 a 44 años",
          "De 45 a 49 años",
          "De 50 a 54 años",
          "De 55 a 59 años",
          "De 60 a 64 años",
          "De 65 a 69 años",
          "De 70 a 74 años",
          "De 75 a 79 años",
          "De 80 a 84 años",
          "De 85 a 89 años",
          "De 90 a 94 años"
         ],
         "xaxis": "x",
         "y": [
          3,
          74,
          99,
          79,
          79,
          110,
          90,
          86,
          59,
          63,
          57,
          51,
          30,
          18
         ],
         "yaxis": "y"
        }
       ],
       "layout": {
        "barmode": "group",
        "legend": {
         "title": {
          "text": "Sexo"
         },
         "tracegroupgap": 0
        },
        "template": {
         "data": {
          "bar": [
           {
            "error_x": {
             "color": "rgb(36,36,36)"
            },
            "error_y": {
             "color": "rgb(36,36,36)"
            },
            "marker": {
             "line": {
              "color": "rgb(234,234,242)",
              "width": 0.5
             },
             "pattern": {
              "fillmode": "overlay",
              "size": 10,
              "solidity": 0.2
             }
            },
            "type": "bar"
           }
          ],
          "barpolar": [
           {
            "marker": {
             "line": {
              "color": "rgb(234,234,242)",
              "width": 0.5
             },
             "pattern": {
              "fillmode": "overlay",
              "size": 10,
              "solidity": 0.2
             }
            },
            "type": "barpolar"
           }
          ],
          "carpet": [
           {
            "aaxis": {
             "endlinecolor": "rgb(36,36,36)",
             "gridcolor": "white",
             "linecolor": "white",
             "minorgridcolor": "white",
             "startlinecolor": "rgb(36,36,36)"
            },
            "baxis": {
             "endlinecolor": "rgb(36,36,36)",
             "gridcolor": "white",
             "linecolor": "white",
             "minorgridcolor": "white",
             "startlinecolor": "rgb(36,36,36)"
            },
            "type": "carpet"
           }
          ],
          "choropleth": [
           {
            "colorbar": {
             "outlinewidth": 0,
             "tickcolor": "rgb(36,36,36)",
             "ticklen": 8,
             "ticks": "outside",
             "tickwidth": 2
            },
            "type": "choropleth"
           }
          ],
          "contour": [
           {
            "colorbar": {
             "outlinewidth": 0,
             "tickcolor": "rgb(36,36,36)",
             "ticklen": 8,
             "ticks": "outside",
             "tickwidth": 2
            },
            "colorscale": [
             [
              0,
              "rgb(2,4,25)"
             ],
             [
              0.06274509803921569,
              "rgb(24,15,41)"
             ],
             [
              0.12549019607843137,
              "rgb(47,23,57)"
             ],
             [
              0.18823529411764706,
              "rgb(71,28,72)"
             ],
             [
              0.25098039215686274,
              "rgb(97,30,82)"
             ],
             [
              0.3137254901960784,
              "rgb(123,30,89)"
             ],
             [
              0.3764705882352941,
              "rgb(150,27,91)"
             ],
             [
              0.4392156862745098,
              "rgb(177,22,88)"
             ],
             [
              0.5019607843137255,
              "rgb(203,26,79)"
             ],
             [
              0.5647058823529412,
              "rgb(223,47,67)"
             ],
             [
              0.6274509803921569,
              "rgb(236,76,61)"
             ],
             [
              0.6901960784313725,
              "rgb(242,107,73)"
             ],
             [
              0.7529411764705882,
              "rgb(244,135,95)"
             ],
             [
              0.8156862745098039,
              "rgb(245,162,122)"
             ],
             [
              0.8784313725490196,
              "rgb(246,188,153)"
             ],
             [
              0.9411764705882353,
              "rgb(247,212,187)"
             ],
             [
              1,
              "rgb(250,234,220)"
             ]
            ],
            "type": "contour"
           }
          ],
          "contourcarpet": [
           {
            "colorbar": {
             "outlinewidth": 0,
             "tickcolor": "rgb(36,36,36)",
             "ticklen": 8,
             "ticks": "outside",
             "tickwidth": 2
            },
            "type": "contourcarpet"
           }
          ],
          "heatmap": [
           {
            "colorbar": {
             "outlinewidth": 0,
             "tickcolor": "rgb(36,36,36)",
             "ticklen": 8,
             "ticks": "outside",
             "tickwidth": 2
            },
            "colorscale": [
             [
              0,
              "rgb(2,4,25)"
             ],
             [
              0.06274509803921569,
              "rgb(24,15,41)"
             ],
             [
              0.12549019607843137,
              "rgb(47,23,57)"
             ],
             [
              0.18823529411764706,
              "rgb(71,28,72)"
             ],
             [
              0.25098039215686274,
              "rgb(97,30,82)"
             ],
             [
              0.3137254901960784,
              "rgb(123,30,89)"
             ],
             [
              0.3764705882352941,
              "rgb(150,27,91)"
             ],
             [
              0.4392156862745098,
              "rgb(177,22,88)"
             ],
             [
              0.5019607843137255,
              "rgb(203,26,79)"
             ],
             [
              0.5647058823529412,
              "rgb(223,47,67)"
             ],
             [
              0.6274509803921569,
              "rgb(236,76,61)"
             ],
             [
              0.6901960784313725,
              "rgb(242,107,73)"
             ],
             [
              0.7529411764705882,
              "rgb(244,135,95)"
             ],
             [
              0.8156862745098039,
              "rgb(245,162,122)"
             ],
             [
              0.8784313725490196,
              "rgb(246,188,153)"
             ],
             [
              0.9411764705882353,
              "rgb(247,212,187)"
             ],
             [
              1,
              "rgb(250,234,220)"
             ]
            ],
            "type": "heatmap"
           }
          ],
          "heatmapgl": [
           {
            "colorbar": {
             "outlinewidth": 0,
             "tickcolor": "rgb(36,36,36)",
             "ticklen": 8,
             "ticks": "outside",
             "tickwidth": 2
            },
            "colorscale": [
             [
              0,
              "rgb(2,4,25)"
             ],
             [
              0.06274509803921569,
              "rgb(24,15,41)"
             ],
             [
              0.12549019607843137,
              "rgb(47,23,57)"
             ],
             [
              0.18823529411764706,
              "rgb(71,28,72)"
             ],
             [
              0.25098039215686274,
              "rgb(97,30,82)"
             ],
             [
              0.3137254901960784,
              "rgb(123,30,89)"
             ],
             [
              0.3764705882352941,
              "rgb(150,27,91)"
             ],
             [
              0.4392156862745098,
              "rgb(177,22,88)"
             ],
             [
              0.5019607843137255,
              "rgb(203,26,79)"
             ],
             [
              0.5647058823529412,
              "rgb(223,47,67)"
             ],
             [
              0.6274509803921569,
              "rgb(236,76,61)"
             ],
             [
              0.6901960784313725,
              "rgb(242,107,73)"
             ],
             [
              0.7529411764705882,
              "rgb(244,135,95)"
             ],
             [
              0.8156862745098039,
              "rgb(245,162,122)"
             ],
             [
              0.8784313725490196,
              "rgb(246,188,153)"
             ],
             [
              0.9411764705882353,
              "rgb(247,212,187)"
             ],
             [
              1,
              "rgb(250,234,220)"
             ]
            ],
            "type": "heatmapgl"
           }
          ],
          "histogram": [
           {
            "marker": {
             "pattern": {
              "fillmode": "overlay",
              "size": 10,
              "solidity": 0.2
             }
            },
            "type": "histogram"
           }
          ],
          "histogram2d": [
           {
            "colorbar": {
             "outlinewidth": 0,
             "tickcolor": "rgb(36,36,36)",
             "ticklen": 8,
             "ticks": "outside",
             "tickwidth": 2
            },
            "colorscale": [
             [
              0,
              "rgb(2,4,25)"
             ],
             [
              0.06274509803921569,
              "rgb(24,15,41)"
             ],
             [
              0.12549019607843137,
              "rgb(47,23,57)"
             ],
             [
              0.18823529411764706,
              "rgb(71,28,72)"
             ],
             [
              0.25098039215686274,
              "rgb(97,30,82)"
             ],
             [
              0.3137254901960784,
              "rgb(123,30,89)"
             ],
             [
              0.3764705882352941,
              "rgb(150,27,91)"
             ],
             [
              0.4392156862745098,
              "rgb(177,22,88)"
             ],
             [
              0.5019607843137255,
              "rgb(203,26,79)"
             ],
             [
              0.5647058823529412,
              "rgb(223,47,67)"
             ],
             [
              0.6274509803921569,
              "rgb(236,76,61)"
             ],
             [
              0.6901960784313725,
              "rgb(242,107,73)"
             ],
             [
              0.7529411764705882,
              "rgb(244,135,95)"
             ],
             [
              0.8156862745098039,
              "rgb(245,162,122)"
             ],
             [
              0.8784313725490196,
              "rgb(246,188,153)"
             ],
             [
              0.9411764705882353,
              "rgb(247,212,187)"
             ],
             [
              1,
              "rgb(250,234,220)"
             ]
            ],
            "type": "histogram2d"
           }
          ],
          "histogram2dcontour": [
           {
            "colorbar": {
             "outlinewidth": 0,
             "tickcolor": "rgb(36,36,36)",
             "ticklen": 8,
             "ticks": "outside",
             "tickwidth": 2
            },
            "colorscale": [
             [
              0,
              "rgb(2,4,25)"
             ],
             [
              0.06274509803921569,
              "rgb(24,15,41)"
             ],
             [
              0.12549019607843137,
              "rgb(47,23,57)"
             ],
             [
              0.18823529411764706,
              "rgb(71,28,72)"
             ],
             [
              0.25098039215686274,
              "rgb(97,30,82)"
             ],
             [
              0.3137254901960784,
              "rgb(123,30,89)"
             ],
             [
              0.3764705882352941,
              "rgb(150,27,91)"
             ],
             [
              0.4392156862745098,
              "rgb(177,22,88)"
             ],
             [
              0.5019607843137255,
              "rgb(203,26,79)"
             ],
             [
              0.5647058823529412,
              "rgb(223,47,67)"
             ],
             [
              0.6274509803921569,
              "rgb(236,76,61)"
             ],
             [
              0.6901960784313725,
              "rgb(242,107,73)"
             ],
             [
              0.7529411764705882,
              "rgb(244,135,95)"
             ],
             [
              0.8156862745098039,
              "rgb(245,162,122)"
             ],
             [
              0.8784313725490196,
              "rgb(246,188,153)"
             ],
             [
              0.9411764705882353,
              "rgb(247,212,187)"
             ],
             [
              1,
              "rgb(250,234,220)"
             ]
            ],
            "type": "histogram2dcontour"
           }
          ],
          "mesh3d": [
           {
            "colorbar": {
             "outlinewidth": 0,
             "tickcolor": "rgb(36,36,36)",
             "ticklen": 8,
             "ticks": "outside",
             "tickwidth": 2
            },
            "type": "mesh3d"
           }
          ],
          "parcoords": [
           {
            "line": {
             "colorbar": {
              "outlinewidth": 0,
              "tickcolor": "rgb(36,36,36)",
              "ticklen": 8,
              "ticks": "outside",
              "tickwidth": 2
             }
            },
            "type": "parcoords"
           }
          ],
          "pie": [
           {
            "automargin": true,
            "type": "pie"
           }
          ],
          "scatter": [
           {
            "fillpattern": {
             "fillmode": "overlay",
             "size": 10,
             "solidity": 0.2
            },
            "type": "scatter"
           }
          ],
          "scatter3d": [
           {
            "line": {
             "colorbar": {
              "outlinewidth": 0,
              "tickcolor": "rgb(36,36,36)",
              "ticklen": 8,
              "ticks": "outside",
              "tickwidth": 2
             }
            },
            "marker": {
             "colorbar": {
              "outlinewidth": 0,
              "tickcolor": "rgb(36,36,36)",
              "ticklen": 8,
              "ticks": "outside",
              "tickwidth": 2
             }
            },
            "type": "scatter3d"
           }
          ],
          "scattercarpet": [
           {
            "marker": {
             "colorbar": {
              "outlinewidth": 0,
              "tickcolor": "rgb(36,36,36)",
              "ticklen": 8,
              "ticks": "outside",
              "tickwidth": 2
             }
            },
            "type": "scattercarpet"
           }
          ],
          "scattergeo": [
           {
            "marker": {
             "colorbar": {
              "outlinewidth": 0,
              "tickcolor": "rgb(36,36,36)",
              "ticklen": 8,
              "ticks": "outside",
              "tickwidth": 2
             }
            },
            "type": "scattergeo"
           }
          ],
          "scattergl": [
           {
            "marker": {
             "colorbar": {
              "outlinewidth": 0,
              "tickcolor": "rgb(36,36,36)",
              "ticklen": 8,
              "ticks": "outside",
              "tickwidth": 2
             }
            },
            "type": "scattergl"
           }
          ],
          "scattermapbox": [
           {
            "marker": {
             "colorbar": {
              "outlinewidth": 0,
              "tickcolor": "rgb(36,36,36)",
              "ticklen": 8,
              "ticks": "outside",
              "tickwidth": 2
             }
            },
            "type": "scattermapbox"
           }
          ],
          "scatterpolar": [
           {
            "marker": {
             "colorbar": {
              "outlinewidth": 0,
              "tickcolor": "rgb(36,36,36)",
              "ticklen": 8,
              "ticks": "outside",
              "tickwidth": 2
             }
            },
            "type": "scatterpolar"
           }
          ],
          "scatterpolargl": [
           {
            "marker": {
             "colorbar": {
              "outlinewidth": 0,
              "tickcolor": "rgb(36,36,36)",
              "ticklen": 8,
              "ticks": "outside",
              "tickwidth": 2
             }
            },
            "type": "scatterpolargl"
           }
          ],
          "scatterternary": [
           {
            "marker": {
             "colorbar": {
              "outlinewidth": 0,
              "tickcolor": "rgb(36,36,36)",
              "ticklen": 8,
              "ticks": "outside",
              "tickwidth": 2
             }
            },
            "type": "scatterternary"
           }
          ],
          "surface": [
           {
            "colorbar": {
             "outlinewidth": 0,
             "tickcolor": "rgb(36,36,36)",
             "ticklen": 8,
             "ticks": "outside",
             "tickwidth": 2
            },
            "colorscale": [
             [
              0,
              "rgb(2,4,25)"
             ],
             [
              0.06274509803921569,
              "rgb(24,15,41)"
             ],
             [
              0.12549019607843137,
              "rgb(47,23,57)"
             ],
             [
              0.18823529411764706,
              "rgb(71,28,72)"
             ],
             [
              0.25098039215686274,
              "rgb(97,30,82)"
             ],
             [
              0.3137254901960784,
              "rgb(123,30,89)"
             ],
             [
              0.3764705882352941,
              "rgb(150,27,91)"
             ],
             [
              0.4392156862745098,
              "rgb(177,22,88)"
             ],
             [
              0.5019607843137255,
              "rgb(203,26,79)"
             ],
             [
              0.5647058823529412,
              "rgb(223,47,67)"
             ],
             [
              0.6274509803921569,
              "rgb(236,76,61)"
             ],
             [
              0.6901960784313725,
              "rgb(242,107,73)"
             ],
             [
              0.7529411764705882,
              "rgb(244,135,95)"
             ],
             [
              0.8156862745098039,
              "rgb(245,162,122)"
             ],
             [
              0.8784313725490196,
              "rgb(246,188,153)"
             ],
             [
              0.9411764705882353,
              "rgb(247,212,187)"
             ],
             [
              1,
              "rgb(250,234,220)"
             ]
            ],
            "type": "surface"
           }
          ],
          "table": [
           {
            "cells": {
             "fill": {
              "color": "rgb(231,231,240)"
             },
             "line": {
              "color": "white"
             }
            },
            "header": {
             "fill": {
              "color": "rgb(183,183,191)"
             },
             "line": {
              "color": "white"
             }
            },
            "type": "table"
           }
          ]
         },
         "layout": {
          "annotationdefaults": {
           "arrowcolor": "rgb(67,103,167)"
          },
          "autotypenumbers": "strict",
          "coloraxis": {
           "colorbar": {
            "outlinewidth": 0,
            "tickcolor": "rgb(36,36,36)",
            "ticklen": 8,
            "ticks": "outside",
            "tickwidth": 2
           }
          },
          "colorscale": {
           "sequential": [
            [
             0,
             "rgb(2,4,25)"
            ],
            [
             0.06274509803921569,
             "rgb(24,15,41)"
            ],
            [
             0.12549019607843137,
             "rgb(47,23,57)"
            ],
            [
             0.18823529411764706,
             "rgb(71,28,72)"
            ],
            [
             0.25098039215686274,
             "rgb(97,30,82)"
            ],
            [
             0.3137254901960784,
             "rgb(123,30,89)"
            ],
            [
             0.3764705882352941,
             "rgb(150,27,91)"
            ],
            [
             0.4392156862745098,
             "rgb(177,22,88)"
            ],
            [
             0.5019607843137255,
             "rgb(203,26,79)"
            ],
            [
             0.5647058823529412,
             "rgb(223,47,67)"
            ],
            [
             0.6274509803921569,
             "rgb(236,76,61)"
            ],
            [
             0.6901960784313725,
             "rgb(242,107,73)"
            ],
            [
             0.7529411764705882,
             "rgb(244,135,95)"
            ],
            [
             0.8156862745098039,
             "rgb(245,162,122)"
            ],
            [
             0.8784313725490196,
             "rgb(246,188,153)"
            ],
            [
             0.9411764705882353,
             "rgb(247,212,187)"
            ],
            [
             1,
             "rgb(250,234,220)"
            ]
           ],
           "sequentialminus": [
            [
             0,
             "rgb(2,4,25)"
            ],
            [
             0.06274509803921569,
             "rgb(24,15,41)"
            ],
            [
             0.12549019607843137,
             "rgb(47,23,57)"
            ],
            [
             0.18823529411764706,
             "rgb(71,28,72)"
            ],
            [
             0.25098039215686274,
             "rgb(97,30,82)"
            ],
            [
             0.3137254901960784,
             "rgb(123,30,89)"
            ],
            [
             0.3764705882352941,
             "rgb(150,27,91)"
            ],
            [
             0.4392156862745098,
             "rgb(177,22,88)"
            ],
            [
             0.5019607843137255,
             "rgb(203,26,79)"
            ],
            [
             0.5647058823529412,
             "rgb(223,47,67)"
            ],
            [
             0.6274509803921569,
             "rgb(236,76,61)"
            ],
            [
             0.6901960784313725,
             "rgb(242,107,73)"
            ],
            [
             0.7529411764705882,
             "rgb(244,135,95)"
            ],
            [
             0.8156862745098039,
             "rgb(245,162,122)"
            ],
            [
             0.8784313725490196,
             "rgb(246,188,153)"
            ],
            [
             0.9411764705882353,
             "rgb(247,212,187)"
            ],
            [
             1,
             "rgb(250,234,220)"
            ]
           ]
          },
          "colorway": [
           "rgb(76,114,176)",
           "rgb(221,132,82)",
           "rgb(85,168,104)",
           "rgb(196,78,82)",
           "rgb(129,114,179)",
           "rgb(147,120,96)",
           "rgb(218,139,195)",
           "rgb(140,140,140)",
           "rgb(204,185,116)",
           "rgb(100,181,205)"
          ],
          "font": {
           "color": "rgb(36,36,36)"
          },
          "geo": {
           "bgcolor": "white",
           "lakecolor": "white",
           "landcolor": "rgb(234,234,242)",
           "showlakes": true,
           "showland": true,
           "subunitcolor": "white"
          },
          "hoverlabel": {
           "align": "left"
          },
          "hovermode": "closest",
          "paper_bgcolor": "white",
          "plot_bgcolor": "rgb(234,234,242)",
          "polar": {
           "angularaxis": {
            "gridcolor": "white",
            "linecolor": "white",
            "showgrid": true,
            "ticks": ""
           },
           "bgcolor": "rgb(234,234,242)",
           "radialaxis": {
            "gridcolor": "white",
            "linecolor": "white",
            "showgrid": true,
            "ticks": ""
           }
          },
          "scene": {
           "xaxis": {
            "backgroundcolor": "rgb(234,234,242)",
            "gridcolor": "white",
            "gridwidth": 2,
            "linecolor": "white",
            "showbackground": true,
            "showgrid": true,
            "ticks": "",
            "zerolinecolor": "white"
           },
           "yaxis": {
            "backgroundcolor": "rgb(234,234,242)",
            "gridcolor": "white",
            "gridwidth": 2,
            "linecolor": "white",
            "showbackground": true,
            "showgrid": true,
            "ticks": "",
            "zerolinecolor": "white"
           },
           "zaxis": {
            "backgroundcolor": "rgb(234,234,242)",
            "gridcolor": "white",
            "gridwidth": 2,
            "linecolor": "white",
            "showbackground": true,
            "showgrid": true,
            "ticks": "",
            "zerolinecolor": "white"
           }
          },
          "shapedefaults": {
           "fillcolor": "rgb(67,103,167)",
           "line": {
            "width": 0
           },
           "opacity": 0.5
          },
          "ternary": {
           "aaxis": {
            "gridcolor": "white",
            "linecolor": "white",
            "showgrid": true,
            "ticks": ""
           },
           "baxis": {
            "gridcolor": "white",
            "linecolor": "white",
            "showgrid": true,
            "ticks": ""
           },
           "bgcolor": "rgb(234,234,242)",
           "caxis": {
            "gridcolor": "white",
            "linecolor": "white",
            "showgrid": true,
            "ticks": ""
           }
          },
          "xaxis": {
           "automargin": true,
           "gridcolor": "white",
           "linecolor": "white",
           "showgrid": true,
           "ticks": "",
           "title": {
            "standoff": 15
           },
           "zerolinecolor": "white"
          },
          "yaxis": {
           "automargin": true,
           "gridcolor": "white",
           "linecolor": "white",
           "showgrid": true,
           "ticks": "",
           "title": {
            "standoff": 15
           },
           "zerolinecolor": "white"
          }
         }
        },
        "title": {
         "text": "Suicidios 2019 por sexo y edad"
        },
        "xaxis": {
         "anchor": "y",
         "domain": [
          0,
          1
         ],
         "title": {
          "text": "Edad"
         }
        },
        "yaxis": {
         "anchor": "x",
         "domain": [
          0,
          1
         ],
         "title": {
          "text": "Número de suicidios"
         }
        }
       }
      }
     },
     "metadata": {},
     "output_type": "display_data"
    }
   ],
   "source": [
    "#Preparar dataframe. Se omiten las 3 primeras filas del df para no romper los datos y que se vea mejor la información.\n",
    "df19 = df2019.iloc[3:-1]\n",
    "fig3 = px.bar (df19, x=\"Edad\", y = \"Total\", color= \"Sexo\",title=\"Suicidios 2019 por sexo y edad\", labels={\"Total\": \"Número de suicidios\"}, template=\"seaborn\", barmode=\"group\")\n",
    "fig3.show()"
   ]
  },
  {
   "attachments": {},
   "cell_type": "markdown",
   "metadata": {},
   "source": [
    "SUICIDIOS 2019 POR COMUNIDAD AUTÓNOMA"
   ]
  },
  {
   "cell_type": "code",
   "execution_count": 98,
   "metadata": {},
   "outputs": [
    {
     "data": {
      "application/vnd.plotly.v1+json": {
       "config": {
        "plotlyServerURL": "https://plot.ly"
       },
       "data": [
        {
         "alignmentgroup": "True",
         "hovertemplate": "<b>%{hovertext}</b><br><br>Sexo=Ambos sexos<br>Comunidades autónomas=%{x}<br>Número de suicidios=%{y}<extra></extra>",
         "hovertext": [
          "Todas las edades",
          "Menores de 15 años",
          "De 15 a 29 años",
          "De 30 a 39 años",
          "De 40 a 44 años",
          "De 45 a 49 años",
          "De 50 a 54 años",
          "De 55 a 59 años",
          "De 60 a 64 años",
          "De 65 a 69 años",
          "De 70 a 74 años",
          "De 75 a 79 años",
          "De 80 a 84 años",
          "De 85 a 89 años",
          "De 90 a 94 años",
          "De 95 años y más",
          "Todas las edades",
          "Menores de 15 años",
          "De 15 a 29 años",
          "De 30 a 39 años",
          "De 40 a 44 años",
          "De 45 a 49 años",
          "De 50 a 54 años",
          "De 55 a 59 años",
          "De 60 a 64 años",
          "De 65 a 69 años",
          "De 70 a 74 años",
          "De 75 a 79 años",
          "De 80 a 84 años",
          "De 85 a 89 años",
          "De 90 a 94 años",
          "De 95 años y más",
          "Todas las edades",
          "Menores de 15 años",
          "De 15 a 29 años",
          "De 30 a 39 años",
          "De 40 a 44 años",
          "De 45 a 49 años",
          "De 50 a 54 años",
          "De 55 a 59 años",
          "De 60 a 64 años",
          "De 65 a 69 años",
          "De 70 a 74 años",
          "De 75 a 79 años",
          "De 80 a 84 años",
          "De 85 a 89 años",
          "De 90 a 94 años",
          "De 95 años y más",
          "Todas las edades",
          "Menores de 15 años",
          "De 15 a 29 años",
          "De 30 a 39 años",
          "De 40 a 44 años",
          "De 45 a 49 años",
          "De 50 a 54 años",
          "De 55 a 59 años",
          "De 60 a 64 años",
          "De 65 a 69 años",
          "De 70 a 74 años",
          "De 75 a 79 años",
          "De 80 a 84 años",
          "De 85 a 89 años",
          "De 90 a 94 años",
          "De 95 años y más",
          "Todas las edades",
          "Menores de 15 años",
          "De 15 a 29 años",
          "De 30 a 39 años",
          "De 40 a 44 años",
          "De 45 a 49 años",
          "De 50 a 54 años",
          "De 55 a 59 años",
          "De 60 a 64 años",
          "De 65 a 69 años",
          "De 70 a 74 años",
          "De 75 a 79 años",
          "De 80 a 84 años",
          "De 85 a 89 años",
          "De 90 a 94 años",
          "De 95 años y más",
          "Todas las edades",
          "Menores de 15 años",
          "De 15 a 29 años",
          "De 30 a 39 años",
          "De 40 a 44 años",
          "De 45 a 49 años",
          "De 50 a 54 años",
          "De 55 a 59 años",
          "De 60 a 64 años",
          "De 65 a 69 años",
          "De 70 a 74 años",
          "De 75 a 79 años",
          "De 80 a 84 años",
          "De 85 a 89 años",
          "De 90 a 94 años",
          "De 95 años y más",
          "Todas las edades",
          "Menores de 15 años",
          "De 15 a 29 años",
          "De 30 a 39 años",
          "De 40 a 44 años",
          "De 45 a 49 años",
          "De 50 a 54 años",
          "De 55 a 59 años",
          "De 60 a 64 años",
          "De 65 a 69 años",
          "De 70 a 74 años",
          "De 75 a 79 años",
          "De 80 a 84 años",
          "De 85 a 89 años",
          "De 90 a 94 años",
          "De 95 años y más",
          "Todas las edades",
          "Menores de 15 años",
          "De 15 a 29 años",
          "De 30 a 39 años",
          "De 40 a 44 años",
          "De 45 a 49 años",
          "De 50 a 54 años",
          "De 55 a 59 años",
          "De 60 a 64 años",
          "De 65 a 69 años",
          "De 70 a 74 años",
          "De 75 a 79 años",
          "De 80 a 84 años",
          "De 85 a 89 años",
          "De 90 a 94 años",
          "De 95 años y más",
          "Todas las edades",
          "Menores de 15 años",
          "De 15 a 29 años",
          "De 30 a 39 años",
          "De 40 a 44 años",
          "De 45 a 49 años",
          "De 50 a 54 años",
          "De 55 a 59 años",
          "De 60 a 64 años",
          "De 65 a 69 años",
          "De 70 a 74 años",
          "De 75 a 79 años",
          "De 80 a 84 años",
          "De 85 a 89 años",
          "De 90 a 94 años",
          "De 95 años y más",
          "Todas las edades",
          "Menores de 15 años",
          "De 15 a 29 años",
          "De 30 a 39 años",
          "De 40 a 44 años",
          "De 45 a 49 años",
          "De 50 a 54 años",
          "De 55 a 59 años",
          "De 60 a 64 años",
          "De 65 a 69 años",
          "De 70 a 74 años",
          "De 75 a 79 años",
          "De 80 a 84 años",
          "De 85 a 89 años",
          "De 90 a 94 años",
          "De 95 años y más",
          "Todas las edades",
          "Menores de 15 años",
          "De 15 a 29 años",
          "De 30 a 39 años",
          "De 40 a 44 años",
          "De 45 a 49 años",
          "De 50 a 54 años",
          "De 55 a 59 años",
          "De 60 a 64 años",
          "De 65 a 69 años",
          "De 70 a 74 años",
          "De 75 a 79 años",
          "De 80 a 84 años",
          "De 85 a 89 años",
          "De 90 a 94 años",
          "De 95 años y más",
          "Todas las edades",
          "Menores de 15 años",
          "De 15 a 29 años",
          "De 30 a 39 años",
          "De 40 a 44 años",
          "De 45 a 49 años",
          "De 50 a 54 años",
          "De 55 a 59 años",
          "De 60 a 64 años",
          "De 65 a 69 años",
          "De 70 a 74 años",
          "De 75 a 79 años",
          "De 80 a 84 años",
          "De 85 a 89 años",
          "De 90 a 94 años",
          "De 95 años y más",
          "Todas las edades",
          "Menores de 15 años",
          "De 15 a 29 años",
          "De 30 a 39 años",
          "De 40 a 44 años",
          "De 45 a 49 años",
          "De 50 a 54 años",
          "De 55 a 59 años",
          "De 60 a 64 años",
          "De 65 a 69 años",
          "De 70 a 74 años",
          "De 75 a 79 años",
          "De 80 a 84 años",
          "De 85 a 89 años",
          "De 90 a 94 años",
          "De 95 años y más",
          "Todas las edades",
          "Menores de 15 años",
          "De 15 a 29 años",
          "De 30 a 39 años",
          "De 40 a 44 años",
          "De 45 a 49 años",
          "De 50 a 54 años",
          "De 55 a 59 años",
          "De 60 a 64 años",
          "De 65 a 69 años",
          "De 70 a 74 años",
          "De 75 a 79 años",
          "De 80 a 84 años",
          "De 85 a 89 años",
          "De 90 a 94 años",
          "De 95 años y más",
          "Todas las edades",
          "Menores de 15 años",
          "De 15 a 29 años",
          "De 30 a 39 años",
          "De 40 a 44 años",
          "De 45 a 49 años",
          "De 50 a 54 años",
          "De 55 a 59 años",
          "De 60 a 64 años",
          "De 65 a 69 años",
          "De 70 a 74 años",
          "De 75 a 79 años",
          "De 80 a 84 años",
          "De 85 a 89 años",
          "De 90 a 94 años",
          "De 95 años y más",
          "Todas las edades",
          "Menores de 15 años",
          "De 15 a 29 años",
          "De 30 a 39 años",
          "De 40 a 44 años",
          "De 45 a 49 años",
          "De 50 a 54 años",
          "De 55 a 59 años",
          "De 60 a 64 años",
          "De 65 a 69 años",
          "De 70 a 74 años",
          "De 75 a 79 años",
          "De 80 a 84 años",
          "De 85 a 89 años",
          "De 90 a 94 años",
          "De 95 años y más",
          "Todas las edades",
          "Menores de 15 años",
          "De 15 a 29 años",
          "De 30 a 39 años",
          "De 40 a 44 años",
          "De 45 a 49 años",
          "De 50 a 54 años",
          "De 55 a 59 años",
          "De 60 a 64 años",
          "De 65 a 69 años",
          "De 70 a 74 años",
          "De 75 a 79 años",
          "De 80 a 84 años",
          "De 85 a 89 años",
          "De 90 a 94 años",
          "De 95 años y más",
          "Todas las edades",
          "Menores de 15 años",
          "De 15 a 29 años",
          "De 30 a 39 años",
          "De 40 a 44 años",
          "De 45 a 49 años",
          "De 50 a 54 años",
          "De 55 a 59 años",
          "De 60 a 64 años",
          "De 65 a 69 años",
          "De 70 a 74 años",
          "De 75 a 79 años",
          "De 80 a 84 años",
          "De 85 a 89 años",
          "De 90 a 94 años",
          "De 95 años y más",
          "Todas las edades",
          "Menores de 15 años",
          "De 15 a 29 años",
          "De 30 a 39 años",
          "De 40 a 44 años",
          "De 45 a 49 años",
          "De 50 a 54 años",
          "De 55 a 59 años",
          "De 60 a 64 años",
          "De 65 a 69 años",
          "De 70 a 74 años",
          "De 75 a 79 años",
          "De 80 a 84 años",
          "De 85 a 89 años",
          "De 90 a 94 años",
          "De 95 años y más"
         ],
         "legendgroup": "Ambos sexos",
         "marker": {
          "color": "rgb(76,114,176)",
          "pattern": {
           "shape": ""
          }
         },
         "name": "Ambos sexos",
         "offsetgroup": "Ambos sexos",
         "orientation": "v",
         "showlegend": true,
         "textposition": "auto",
         "type": "bar",
         "x": [
          "Andalucía",
          "Andalucía",
          "Andalucía",
          "Andalucía",
          "Andalucía",
          "Andalucía",
          "Andalucía",
          "Andalucía",
          "Andalucía",
          "Andalucía",
          "Andalucía",
          "Andalucía",
          "Andalucía",
          "Andalucía",
          "Andalucía",
          "Andalucía",
          "Aragón",
          "Aragón",
          "Aragón",
          "Aragón",
          "Aragón",
          "Aragón",
          "Aragón",
          "Aragón",
          "Aragón",
          "Aragón",
          "Aragón",
          "Aragón",
          "Aragón",
          "Aragón",
          "Aragón",
          "Aragón",
          "Asturias, Principado de",
          "Asturias, Principado de",
          "Asturias, Principado de",
          "Asturias, Principado de",
          "Asturias, Principado de",
          "Asturias, Principado de",
          "Asturias, Principado de",
          "Asturias, Principado de",
          "Asturias, Principado de",
          "Asturias, Principado de",
          "Asturias, Principado de",
          "Asturias, Principado de",
          "Asturias, Principado de",
          "Asturias, Principado de",
          "Asturias, Principado de",
          "Asturias, Principado de",
          "Balears, Illes",
          "Balears, Illes",
          "Balears, Illes",
          "Balears, Illes",
          "Balears, Illes",
          "Balears, Illes",
          "Balears, Illes",
          "Balears, Illes",
          "Balears, Illes",
          "Balears, Illes",
          "Balears, Illes",
          "Balears, Illes",
          "Balears, Illes",
          "Balears, Illes",
          "Balears, Illes",
          "Balears, Illes",
          "Canarias",
          "Canarias",
          "Canarias",
          "Canarias",
          "Canarias",
          "Canarias",
          "Canarias",
          "Canarias",
          "Canarias",
          "Canarias",
          "Canarias",
          "Canarias",
          "Canarias",
          "Canarias",
          "Canarias",
          "Canarias",
          "Cantabria",
          "Cantabria",
          "Cantabria",
          "Cantabria",
          "Cantabria",
          "Cantabria",
          "Cantabria",
          "Cantabria",
          "Cantabria",
          "Cantabria",
          "Cantabria",
          "Cantabria",
          "Cantabria",
          "Cantabria",
          "Cantabria",
          "Cantabria",
          "Castilla y León",
          "Castilla y León",
          "Castilla y León",
          "Castilla y León",
          "Castilla y León",
          "Castilla y León",
          "Castilla y León",
          "Castilla y León",
          "Castilla y León",
          "Castilla y León",
          "Castilla y León",
          "Castilla y León",
          "Castilla y León",
          "Castilla y León",
          "Castilla y León",
          "Castilla y León",
          "Castilla-La Mancha",
          "Castilla-La Mancha",
          "Castilla-La Mancha",
          "Castilla-La Mancha",
          "Castilla-La Mancha",
          "Castilla-La Mancha",
          "Castilla-La Mancha",
          "Castilla-La Mancha",
          "Castilla-La Mancha",
          "Castilla-La Mancha",
          "Castilla-La Mancha",
          "Castilla-La Mancha",
          "Castilla-La Mancha",
          "Castilla-La Mancha",
          "Castilla-La Mancha",
          "Castilla-La Mancha",
          "Cataluña",
          "Cataluña",
          "Cataluña",
          "Cataluña",
          "Cataluña",
          "Cataluña",
          "Cataluña",
          "Cataluña",
          "Cataluña",
          "Cataluña",
          "Cataluña",
          "Cataluña",
          "Cataluña",
          "Cataluña",
          "Cataluña",
          "Cataluña",
          "Comunitat Valenciana",
          "Comunitat Valenciana",
          "Comunitat Valenciana",
          "Comunitat Valenciana",
          "Comunitat Valenciana",
          "Comunitat Valenciana",
          "Comunitat Valenciana",
          "Comunitat Valenciana",
          "Comunitat Valenciana",
          "Comunitat Valenciana",
          "Comunitat Valenciana",
          "Comunitat Valenciana",
          "Comunitat Valenciana",
          "Comunitat Valenciana",
          "Comunitat Valenciana",
          "Comunitat Valenciana",
          "Extremadura",
          "Extremadura",
          "Extremadura",
          "Extremadura",
          "Extremadura",
          "Extremadura",
          "Extremadura",
          "Extremadura",
          "Extremadura",
          "Extremadura",
          "Extremadura",
          "Extremadura",
          "Extremadura",
          "Extremadura",
          "Extremadura",
          "Extremadura",
          "Galicia",
          "Galicia",
          "Galicia",
          "Galicia",
          "Galicia",
          "Galicia",
          "Galicia",
          "Galicia",
          "Galicia",
          "Galicia",
          "Galicia",
          "Galicia",
          "Galicia",
          "Galicia",
          "Galicia",
          "Galicia",
          "Madrid, Comunidad de",
          "Madrid, Comunidad de",
          "Madrid, Comunidad de",
          "Madrid, Comunidad de",
          "Madrid, Comunidad de",
          "Madrid, Comunidad de",
          "Madrid, Comunidad de",
          "Madrid, Comunidad de",
          "Madrid, Comunidad de",
          "Madrid, Comunidad de",
          "Madrid, Comunidad de",
          "Madrid, Comunidad de",
          "Madrid, Comunidad de",
          "Madrid, Comunidad de",
          "Madrid, Comunidad de",
          "Madrid, Comunidad de",
          "Murcia, Región de",
          "Murcia, Región de",
          "Murcia, Región de",
          "Murcia, Región de",
          "Murcia, Región de",
          "Murcia, Región de",
          "Murcia, Región de",
          "Murcia, Región de",
          "Murcia, Región de",
          "Murcia, Región de",
          "Murcia, Región de",
          "Murcia, Región de",
          "Murcia, Región de",
          "Murcia, Región de",
          "Murcia, Región de",
          "Murcia, Región de",
          "Navarra, Comunidad Foral de",
          "Navarra, Comunidad Foral de",
          "Navarra, Comunidad Foral de",
          "Navarra, Comunidad Foral de",
          "Navarra, Comunidad Foral de",
          "Navarra, Comunidad Foral de",
          "Navarra, Comunidad Foral de",
          "Navarra, Comunidad Foral de",
          "Navarra, Comunidad Foral de",
          "Navarra, Comunidad Foral de",
          "Navarra, Comunidad Foral de",
          "Navarra, Comunidad Foral de",
          "Navarra, Comunidad Foral de",
          "Navarra, Comunidad Foral de",
          "Navarra, Comunidad Foral de",
          "Navarra, Comunidad Foral de",
          "País Vasco",
          "País Vasco",
          "País Vasco",
          "País Vasco",
          "País Vasco",
          "País Vasco",
          "País Vasco",
          "País Vasco",
          "País Vasco",
          "País Vasco",
          "País Vasco",
          "País Vasco",
          "País Vasco",
          "País Vasco",
          "País Vasco",
          "País Vasco",
          "Rioja, La",
          "Rioja, La",
          "Rioja, La",
          "Rioja, La",
          "Rioja, La",
          "Rioja, La",
          "Rioja, La",
          "Rioja, La",
          "Rioja, La",
          "Rioja, La",
          "Rioja, La",
          "Rioja, La",
          "Rioja, La",
          "Rioja, La",
          "Rioja, La",
          "Rioja, La",
          "Ceuta",
          "Ceuta",
          "Ceuta",
          "Ceuta",
          "Ceuta",
          "Ceuta",
          "Ceuta",
          "Ceuta",
          "Ceuta",
          "Ceuta",
          "Ceuta",
          "Ceuta",
          "Ceuta",
          "Ceuta",
          "Ceuta",
          "Ceuta",
          "Melilla",
          "Melilla",
          "Melilla",
          "Melilla",
          "Melilla",
          "Melilla",
          "Melilla",
          "Melilla",
          "Melilla",
          "Melilla",
          "Melilla",
          "Melilla",
          "Melilla",
          "Melilla",
          "Melilla",
          "Melilla"
         ],
         "xaxis": "x",
         "y": [
          640,
          0,
          46,
          78,
          69,
          74,
          75,
          51,
          58,
          41,
          45,
          43,
          33,
          15,
          11,
          1,
          109,
          0,
          11,
          11,
          14,
          11,
          6,
          11,
          6,
          11,
          5,
          7,
          8,
          6,
          2,
          0,
          128,
          0,
          7,
          12,
          7,
          12,
          14,
          14,
          8,
          5,
          7,
          11,
          10,
          9,
          10,
          2,
          97,
          1,
          8,
          13,
          11,
          13,
          13,
          9,
          5,
          5,
          4,
          8,
          6,
          0,
          1,
          0,
          197,
          0,
          20,
          14,
          28,
          18,
          21,
          26,
          24,
          9,
          9,
          11,
          7,
          7,
          2,
          1,
          36,
          1,
          4,
          4,
          0,
          1,
          9,
          5,
          3,
          3,
          4,
          0,
          2,
          0,
          0,
          0,
          218,
          0,
          16,
          18,
          22,
          17,
          22,
          24,
          16,
          13,
          18,
          8,
          21,
          12,
          9,
          2,
          152,
          0,
          9,
          17,
          11,
          17,
          15,
          15,
          14,
          10,
          13,
          11,
          7,
          9,
          4,
          0,
          535,
          2,
          52,
          68,
          49,
          58,
          71,
          35,
          42,
          34,
          27,
          27,
          28,
          20,
          17,
          5,
          450,
          1,
          26,
          40,
          35,
          48,
          64,
          45,
          32,
          29,
          35,
          25,
          34,
          27,
          9,
          0,
          79,
          0,
          7,
          12,
          6,
          5,
          12,
          9,
          6,
          3,
          6,
          6,
          2,
          3,
          1,
          1,
          292,
          0,
          17,
          30,
          20,
          29,
          25,
          39,
          18,
          25,
          20,
          21,
          22,
          15,
          8,
          3,
          350,
          0,
          39,
          48,
          33,
          37,
          36,
          33,
          27,
          19,
          20,
          26,
          12,
          16,
          4,
          0,
          125,
          1,
          12,
          19,
          17,
          20,
          11,
          9,
          7,
          7,
          2,
          9,
          6,
          4,
          1,
          0,
          46,
          0,
          8,
          3,
          8,
          8,
          3,
          0,
          1,
          3,
          2,
          5,
          3,
          2,
          0,
          0,
          137,
          1,
          11,
          15,
          8,
          14,
          11,
          18,
          13,
          8,
          17,
          9,
          8,
          3,
          1,
          0,
          29,
          0,
          2,
          4,
          1,
          4,
          0,
          4,
          2,
          2,
          5,
          0,
          4,
          0,
          1,
          0,
          4,
          0,
          1,
          1,
          0,
          0,
          0,
          1,
          1,
          0,
          0,
          0,
          0,
          0,
          0,
          0,
          1,
          0,
          0,
          0,
          0,
          0,
          0,
          0,
          1,
          0,
          0,
          0,
          0,
          0,
          0,
          0
         ],
         "yaxis": "y"
        },
        {
         "alignmentgroup": "True",
         "hovertemplate": "<b>%{hovertext}</b><br><br>Sexo=Hombres<br>Comunidades autónomas=%{x}<br>Número de suicidios=%{y}<extra></extra>",
         "hovertext": [
          "Todas las edades",
          "Menores de 15 años",
          "De 15 a 29 años",
          "De 30 a 39 años",
          "De 40 a 44 años",
          "De 45 a 49 años",
          "De 50 a 54 años",
          "De 55 a 59 años",
          "De 60 a 64 años",
          "De 65 a 69 años",
          "De 70 a 74 años",
          "De 75 a 79 años",
          "De 80 a 84 años",
          "De 85 a 89 años",
          "De 90 a 94 años",
          "De 95 años y más",
          "Todas las edades",
          "Menores de 15 años",
          "De 15 a 29 años",
          "De 30 a 39 años",
          "De 40 a 44 años",
          "De 45 a 49 años",
          "De 50 a 54 años",
          "De 55 a 59 años",
          "De 60 a 64 años",
          "De 65 a 69 años",
          "De 70 a 74 años",
          "De 75 a 79 años",
          "De 80 a 84 años",
          "De 85 a 89 años",
          "De 90 a 94 años",
          "De 95 años y más",
          "Todas las edades",
          "Menores de 15 años",
          "De 15 a 29 años",
          "De 30 a 39 años",
          "De 40 a 44 años",
          "De 45 a 49 años",
          "De 50 a 54 años",
          "De 55 a 59 años",
          "De 60 a 64 años",
          "De 65 a 69 años",
          "De 70 a 74 años",
          "De 75 a 79 años",
          "De 80 a 84 años",
          "De 85 a 89 años",
          "De 90 a 94 años",
          "De 95 años y más",
          "Todas las edades",
          "Menores de 15 años",
          "De 15 a 29 años",
          "De 30 a 39 años",
          "De 40 a 44 años",
          "De 45 a 49 años",
          "De 50 a 54 años",
          "De 55 a 59 años",
          "De 60 a 64 años",
          "De 65 a 69 años",
          "De 70 a 74 años",
          "De 75 a 79 años",
          "De 80 a 84 años",
          "De 85 a 89 años",
          "De 90 a 94 años",
          "De 95 años y más",
          "Todas las edades",
          "Menores de 15 años",
          "De 15 a 29 años",
          "De 30 a 39 años",
          "De 40 a 44 años",
          "De 45 a 49 años",
          "De 50 a 54 años",
          "De 55 a 59 años",
          "De 60 a 64 años",
          "De 65 a 69 años",
          "De 70 a 74 años",
          "De 75 a 79 años",
          "De 80 a 84 años",
          "De 85 a 89 años",
          "De 90 a 94 años",
          "De 95 años y más",
          "Todas las edades",
          "Menores de 15 años",
          "De 15 a 29 años",
          "De 30 a 39 años",
          "De 40 a 44 años",
          "De 45 a 49 años",
          "De 50 a 54 años",
          "De 55 a 59 años",
          "De 60 a 64 años",
          "De 65 a 69 años",
          "De 70 a 74 años",
          "De 75 a 79 años",
          "De 80 a 84 años",
          "De 85 a 89 años",
          "De 90 a 94 años",
          "De 95 años y más",
          "Todas las edades",
          "Menores de 15 años",
          "De 15 a 29 años",
          "De 30 a 39 años",
          "De 40 a 44 años",
          "De 45 a 49 años",
          "De 50 a 54 años",
          "De 55 a 59 años",
          "De 60 a 64 años",
          "De 65 a 69 años",
          "De 70 a 74 años",
          "De 75 a 79 años",
          "De 80 a 84 años",
          "De 85 a 89 años",
          "De 90 a 94 años",
          "De 95 años y más",
          "Todas las edades",
          "Menores de 15 años",
          "De 15 a 29 años",
          "De 30 a 39 años",
          "De 40 a 44 años",
          "De 45 a 49 años",
          "De 50 a 54 años",
          "De 55 a 59 años",
          "De 60 a 64 años",
          "De 65 a 69 años",
          "De 70 a 74 años",
          "De 75 a 79 años",
          "De 80 a 84 años",
          "De 85 a 89 años",
          "De 90 a 94 años",
          "De 95 años y más",
          "Todas las edades",
          "Menores de 15 años",
          "De 15 a 29 años",
          "De 30 a 39 años",
          "De 40 a 44 años",
          "De 45 a 49 años",
          "De 50 a 54 años",
          "De 55 a 59 años",
          "De 60 a 64 años",
          "De 65 a 69 años",
          "De 70 a 74 años",
          "De 75 a 79 años",
          "De 80 a 84 años",
          "De 85 a 89 años",
          "De 90 a 94 años",
          "De 95 años y más",
          "Todas las edades",
          "Menores de 15 años",
          "De 15 a 29 años",
          "De 30 a 39 años",
          "De 40 a 44 años",
          "De 45 a 49 años",
          "De 50 a 54 años",
          "De 55 a 59 años",
          "De 60 a 64 años",
          "De 65 a 69 años",
          "De 70 a 74 años",
          "De 75 a 79 años",
          "De 80 a 84 años",
          "De 85 a 89 años",
          "De 90 a 94 años",
          "De 95 años y más",
          "Todas las edades",
          "Menores de 15 años",
          "De 15 a 29 años",
          "De 30 a 39 años",
          "De 40 a 44 años",
          "De 45 a 49 años",
          "De 50 a 54 años",
          "De 55 a 59 años",
          "De 60 a 64 años",
          "De 65 a 69 años",
          "De 70 a 74 años",
          "De 75 a 79 años",
          "De 80 a 84 años",
          "De 85 a 89 años",
          "De 90 a 94 años",
          "De 95 años y más",
          "Todas las edades",
          "Menores de 15 años",
          "De 15 a 29 años",
          "De 30 a 39 años",
          "De 40 a 44 años",
          "De 45 a 49 años",
          "De 50 a 54 años",
          "De 55 a 59 años",
          "De 60 a 64 años",
          "De 65 a 69 años",
          "De 70 a 74 años",
          "De 75 a 79 años",
          "De 80 a 84 años",
          "De 85 a 89 años",
          "De 90 a 94 años",
          "De 95 años y más",
          "Todas las edades",
          "Menores de 15 años",
          "De 15 a 29 años",
          "De 30 a 39 años",
          "De 40 a 44 años",
          "De 45 a 49 años",
          "De 50 a 54 años",
          "De 55 a 59 años",
          "De 60 a 64 años",
          "De 65 a 69 años",
          "De 70 a 74 años",
          "De 75 a 79 años",
          "De 80 a 84 años",
          "De 85 a 89 años",
          "De 90 a 94 años",
          "De 95 años y más",
          "Todas las edades",
          "Menores de 15 años",
          "De 15 a 29 años",
          "De 30 a 39 años",
          "De 40 a 44 años",
          "De 45 a 49 años",
          "De 50 a 54 años",
          "De 55 a 59 años",
          "De 60 a 64 años",
          "De 65 a 69 años",
          "De 70 a 74 años",
          "De 75 a 79 años",
          "De 80 a 84 años",
          "De 85 a 89 años",
          "De 90 a 94 años",
          "De 95 años y más",
          "Todas las edades",
          "Menores de 15 años",
          "De 15 a 29 años",
          "De 30 a 39 años",
          "De 40 a 44 años",
          "De 45 a 49 años",
          "De 50 a 54 años",
          "De 55 a 59 años",
          "De 60 a 64 años",
          "De 65 a 69 años",
          "De 70 a 74 años",
          "De 75 a 79 años",
          "De 80 a 84 años",
          "De 85 a 89 años",
          "De 90 a 94 años",
          "De 95 años y más",
          "Todas las edades",
          "Menores de 15 años",
          "De 15 a 29 años",
          "De 30 a 39 años",
          "De 40 a 44 años",
          "De 45 a 49 años",
          "De 50 a 54 años",
          "De 55 a 59 años",
          "De 60 a 64 años",
          "De 65 a 69 años",
          "De 70 a 74 años",
          "De 75 a 79 años",
          "De 80 a 84 años",
          "De 85 a 89 años",
          "De 90 a 94 años",
          "De 95 años y más",
          "Todas las edades",
          "Menores de 15 años",
          "De 15 a 29 años",
          "De 30 a 39 años",
          "De 40 a 44 años",
          "De 45 a 49 años",
          "De 50 a 54 años",
          "De 55 a 59 años",
          "De 60 a 64 años",
          "De 65 a 69 años",
          "De 70 a 74 años",
          "De 75 a 79 años",
          "De 80 a 84 años",
          "De 85 a 89 años",
          "De 90 a 94 años",
          "De 95 años y más",
          "Todas las edades",
          "Menores de 15 años",
          "De 15 a 29 años",
          "De 30 a 39 años",
          "De 40 a 44 años",
          "De 45 a 49 años",
          "De 50 a 54 años",
          "De 55 a 59 años",
          "De 60 a 64 años",
          "De 65 a 69 años",
          "De 70 a 74 años",
          "De 75 a 79 años",
          "De 80 a 84 años",
          "De 85 a 89 años",
          "De 90 a 94 años",
          "De 95 años y más",
          "Todas las edades",
          "Menores de 15 años",
          "De 15 a 29 años",
          "De 30 a 39 años",
          "De 40 a 44 años",
          "De 45 a 49 años",
          "De 50 a 54 años",
          "De 55 a 59 años",
          "De 60 a 64 años",
          "De 65 a 69 años",
          "De 70 a 74 años",
          "De 75 a 79 años",
          "De 80 a 84 años",
          "De 85 a 89 años",
          "De 90 a 94 años",
          "De 95 años y más"
         ],
         "legendgroup": "Hombres",
         "marker": {
          "color": "rgb(221,132,82)",
          "pattern": {
           "shape": ""
          }
         },
         "name": "Hombres",
         "offsetgroup": "Hombres",
         "orientation": "v",
         "showlegend": true,
         "textposition": "auto",
         "type": "bar",
         "x": [
          "Andalucía",
          "Andalucía",
          "Andalucía",
          "Andalucía",
          "Andalucía",
          "Andalucía",
          "Andalucía",
          "Andalucía",
          "Andalucía",
          "Andalucía",
          "Andalucía",
          "Andalucía",
          "Andalucía",
          "Andalucía",
          "Andalucía",
          "Andalucía",
          "Aragón",
          "Aragón",
          "Aragón",
          "Aragón",
          "Aragón",
          "Aragón",
          "Aragón",
          "Aragón",
          "Aragón",
          "Aragón",
          "Aragón",
          "Aragón",
          "Aragón",
          "Aragón",
          "Aragón",
          "Aragón",
          "Asturias, Principado de",
          "Asturias, Principado de",
          "Asturias, Principado de",
          "Asturias, Principado de",
          "Asturias, Principado de",
          "Asturias, Principado de",
          "Asturias, Principado de",
          "Asturias, Principado de",
          "Asturias, Principado de",
          "Asturias, Principado de",
          "Asturias, Principado de",
          "Asturias, Principado de",
          "Asturias, Principado de",
          "Asturias, Principado de",
          "Asturias, Principado de",
          "Asturias, Principado de",
          "Balears, Illes",
          "Balears, Illes",
          "Balears, Illes",
          "Balears, Illes",
          "Balears, Illes",
          "Balears, Illes",
          "Balears, Illes",
          "Balears, Illes",
          "Balears, Illes",
          "Balears, Illes",
          "Balears, Illes",
          "Balears, Illes",
          "Balears, Illes",
          "Balears, Illes",
          "Balears, Illes",
          "Balears, Illes",
          "Canarias",
          "Canarias",
          "Canarias",
          "Canarias",
          "Canarias",
          "Canarias",
          "Canarias",
          "Canarias",
          "Canarias",
          "Canarias",
          "Canarias",
          "Canarias",
          "Canarias",
          "Canarias",
          "Canarias",
          "Canarias",
          "Cantabria",
          "Cantabria",
          "Cantabria",
          "Cantabria",
          "Cantabria",
          "Cantabria",
          "Cantabria",
          "Cantabria",
          "Cantabria",
          "Cantabria",
          "Cantabria",
          "Cantabria",
          "Cantabria",
          "Cantabria",
          "Cantabria",
          "Cantabria",
          "Castilla y León",
          "Castilla y León",
          "Castilla y León",
          "Castilla y León",
          "Castilla y León",
          "Castilla y León",
          "Castilla y León",
          "Castilla y León",
          "Castilla y León",
          "Castilla y León",
          "Castilla y León",
          "Castilla y León",
          "Castilla y León",
          "Castilla y León",
          "Castilla y León",
          "Castilla y León",
          "Castilla-La Mancha",
          "Castilla-La Mancha",
          "Castilla-La Mancha",
          "Castilla-La Mancha",
          "Castilla-La Mancha",
          "Castilla-La Mancha",
          "Castilla-La Mancha",
          "Castilla-La Mancha",
          "Castilla-La Mancha",
          "Castilla-La Mancha",
          "Castilla-La Mancha",
          "Castilla-La Mancha",
          "Castilla-La Mancha",
          "Castilla-La Mancha",
          "Castilla-La Mancha",
          "Castilla-La Mancha",
          "Cataluña",
          "Cataluña",
          "Cataluña",
          "Cataluña",
          "Cataluña",
          "Cataluña",
          "Cataluña",
          "Cataluña",
          "Cataluña",
          "Cataluña",
          "Cataluña",
          "Cataluña",
          "Cataluña",
          "Cataluña",
          "Cataluña",
          "Cataluña",
          "Comunitat Valenciana",
          "Comunitat Valenciana",
          "Comunitat Valenciana",
          "Comunitat Valenciana",
          "Comunitat Valenciana",
          "Comunitat Valenciana",
          "Comunitat Valenciana",
          "Comunitat Valenciana",
          "Comunitat Valenciana",
          "Comunitat Valenciana",
          "Comunitat Valenciana",
          "Comunitat Valenciana",
          "Comunitat Valenciana",
          "Comunitat Valenciana",
          "Comunitat Valenciana",
          "Comunitat Valenciana",
          "Extremadura",
          "Extremadura",
          "Extremadura",
          "Extremadura",
          "Extremadura",
          "Extremadura",
          "Extremadura",
          "Extremadura",
          "Extremadura",
          "Extremadura",
          "Extremadura",
          "Extremadura",
          "Extremadura",
          "Extremadura",
          "Extremadura",
          "Extremadura",
          "Galicia",
          "Galicia",
          "Galicia",
          "Galicia",
          "Galicia",
          "Galicia",
          "Galicia",
          "Galicia",
          "Galicia",
          "Galicia",
          "Galicia",
          "Galicia",
          "Galicia",
          "Galicia",
          "Galicia",
          "Galicia",
          "Madrid, Comunidad de",
          "Madrid, Comunidad de",
          "Madrid, Comunidad de",
          "Madrid, Comunidad de",
          "Madrid, Comunidad de",
          "Madrid, Comunidad de",
          "Madrid, Comunidad de",
          "Madrid, Comunidad de",
          "Madrid, Comunidad de",
          "Madrid, Comunidad de",
          "Madrid, Comunidad de",
          "Madrid, Comunidad de",
          "Madrid, Comunidad de",
          "Madrid, Comunidad de",
          "Madrid, Comunidad de",
          "Madrid, Comunidad de",
          "Murcia, Región de",
          "Murcia, Región de",
          "Murcia, Región de",
          "Murcia, Región de",
          "Murcia, Región de",
          "Murcia, Región de",
          "Murcia, Región de",
          "Murcia, Región de",
          "Murcia, Región de",
          "Murcia, Región de",
          "Murcia, Región de",
          "Murcia, Región de",
          "Murcia, Región de",
          "Murcia, Región de",
          "Murcia, Región de",
          "Murcia, Región de",
          "Navarra, Comunidad Foral de",
          "Navarra, Comunidad Foral de",
          "Navarra, Comunidad Foral de",
          "Navarra, Comunidad Foral de",
          "Navarra, Comunidad Foral de",
          "Navarra, Comunidad Foral de",
          "Navarra, Comunidad Foral de",
          "Navarra, Comunidad Foral de",
          "Navarra, Comunidad Foral de",
          "Navarra, Comunidad Foral de",
          "Navarra, Comunidad Foral de",
          "Navarra, Comunidad Foral de",
          "Navarra, Comunidad Foral de",
          "Navarra, Comunidad Foral de",
          "Navarra, Comunidad Foral de",
          "Navarra, Comunidad Foral de",
          "País Vasco",
          "País Vasco",
          "País Vasco",
          "País Vasco",
          "País Vasco",
          "País Vasco",
          "País Vasco",
          "País Vasco",
          "País Vasco",
          "País Vasco",
          "País Vasco",
          "País Vasco",
          "País Vasco",
          "País Vasco",
          "País Vasco",
          "País Vasco",
          "Rioja, La",
          "Rioja, La",
          "Rioja, La",
          "Rioja, La",
          "Rioja, La",
          "Rioja, La",
          "Rioja, La",
          "Rioja, La",
          "Rioja, La",
          "Rioja, La",
          "Rioja, La",
          "Rioja, La",
          "Rioja, La",
          "Rioja, La",
          "Rioja, La",
          "Rioja, La",
          "Ceuta",
          "Ceuta",
          "Ceuta",
          "Ceuta",
          "Ceuta",
          "Ceuta",
          "Ceuta",
          "Ceuta",
          "Ceuta",
          "Ceuta",
          "Ceuta",
          "Ceuta",
          "Ceuta",
          "Ceuta",
          "Ceuta",
          "Ceuta",
          "Melilla",
          "Melilla",
          "Melilla",
          "Melilla",
          "Melilla",
          "Melilla",
          "Melilla",
          "Melilla",
          "Melilla",
          "Melilla",
          "Melilla",
          "Melilla",
          "Melilla",
          "Melilla",
          "Melilla",
          "Melilla"
         ],
         "xaxis": "x",
         "y": [
          478,
          0,
          37,
          59,
          54,
          60,
          56,
          33,
          42,
          29,
          32,
          29,
          24,
          13,
          9,
          1,
          81,
          0,
          8,
          7,
          10,
          10,
          6,
          8,
          4,
          9,
          1,
          5,
          8,
          3,
          2,
          0,
          97,
          0,
          6,
          8,
          4,
          11,
          11,
          10,
          4,
          5,
          6,
          7,
          9,
          6,
          8,
          2,
          71,
          1,
          7,
          11,
          9,
          11,
          8,
          7,
          2,
          2,
          1,
          6,
          5,
          0,
          1,
          0,
          165,
          0,
          18,
          11,
          22,
          17,
          16,
          22,
          18,
          9,
          8,
          10,
          7,
          6,
          1,
          0,
          25,
          0,
          2,
          4,
          0,
          0,
          5,
          3,
          3,
          3,
          3,
          0,
          2,
          0,
          0,
          0,
          165,
          0,
          10,
          14,
          14,
          13,
          15,
          21,
          8,
          12,
          15,
          5,
          18,
          10,
          8,
          2,
          115,
          0,
          8,
          10,
          7,
          13,
          14,
          11,
          11,
          7,
          10,
          8,
          5,
          7,
          4,
          0,
          380,
          0,
          38,
          47,
          41,
          44,
          49,
          24,
          30,
          20,
          21,
          19,
          16,
          15,
          12,
          4,
          348,
          1,
          20,
          31,
          26,
          40,
          51,
          33,
          25,
          23,
          26,
          17,
          27,
          22,
          6,
          0,
          68,
          0,
          6,
          11,
          5,
          3,
          10,
          9,
          5,
          2,
          6,
          4,
          2,
          3,
          1,
          1,
          220,
          0,
          9,
          25,
          14,
          20,
          18,
          31,
          14,
          20,
          14,
          20,
          15,
          12,
          5,
          3,
          245,
          0,
          29,
          37,
          27,
          28,
          20,
          21,
          16,
          11,
          14,
          19,
          7,
          13,
          3,
          0,
          101,
          1,
          11,
          16,
          13,
          16,
          9,
          8,
          4,
          5,
          0,
          9,
          5,
          3,
          1,
          0,
          34,
          0,
          5,
          2,
          6,
          6,
          2,
          0,
          1,
          3,
          1,
          3,
          3,
          2,
          0,
          0,
          111,
          1,
          8,
          12,
          7,
          13,
          8,
          13,
          9,
          7,
          15,
          9,
          5,
          3,
          1,
          0,
          20,
          0,
          1,
          3,
          1,
          2,
          0,
          3,
          0,
          1,
          4,
          0,
          4,
          0,
          1,
          0,
          4,
          0,
          1,
          1,
          0,
          0,
          0,
          1,
          1,
          0,
          0,
          0,
          0,
          0,
          0,
          0,
          1,
          0,
          0,
          0,
          0,
          0,
          0,
          0,
          1,
          0,
          0,
          0,
          0,
          0,
          0,
          0
         ],
         "yaxis": "y"
        },
        {
         "alignmentgroup": "True",
         "hovertemplate": "<b>%{hovertext}</b><br><br>Sexo=Mujeres<br>Comunidades autónomas=%{x}<br>Número de suicidios=%{y}<extra></extra>",
         "hovertext": [
          "Todas las edades",
          "Menores de 15 años",
          "De 15 a 29 años",
          "De 30 a 39 años",
          "De 40 a 44 años",
          "De 45 a 49 años",
          "De 50 a 54 años",
          "De 55 a 59 años",
          "De 60 a 64 años",
          "De 65 a 69 años",
          "De 70 a 74 años",
          "De 75 a 79 años",
          "De 80 a 84 años",
          "De 85 a 89 años",
          "De 90 a 94 años",
          "De 95 años y más",
          "Todas las edades",
          "Menores de 15 años",
          "De 15 a 29 años",
          "De 30 a 39 años",
          "De 40 a 44 años",
          "De 45 a 49 años",
          "De 50 a 54 años",
          "De 55 a 59 años",
          "De 60 a 64 años",
          "De 65 a 69 años",
          "De 70 a 74 años",
          "De 75 a 79 años",
          "De 80 a 84 años",
          "De 85 a 89 años",
          "De 90 a 94 años",
          "De 95 años y más",
          "Todas las edades",
          "Menores de 15 años",
          "De 15 a 29 años",
          "De 30 a 39 años",
          "De 40 a 44 años",
          "De 45 a 49 años",
          "De 50 a 54 años",
          "De 55 a 59 años",
          "De 60 a 64 años",
          "De 65 a 69 años",
          "De 70 a 74 años",
          "De 75 a 79 años",
          "De 80 a 84 años",
          "De 85 a 89 años",
          "De 90 a 94 años",
          "De 95 años y más",
          "Todas las edades",
          "Menores de 15 años",
          "De 15 a 29 años",
          "De 30 a 39 años",
          "De 40 a 44 años",
          "De 45 a 49 años",
          "De 50 a 54 años",
          "De 55 a 59 años",
          "De 60 a 64 años",
          "De 65 a 69 años",
          "De 70 a 74 años",
          "De 75 a 79 años",
          "De 80 a 84 años",
          "De 85 a 89 años",
          "De 90 a 94 años",
          "De 95 años y más",
          "Todas las edades",
          "Menores de 15 años",
          "De 15 a 29 años",
          "De 30 a 39 años",
          "De 40 a 44 años",
          "De 45 a 49 años",
          "De 50 a 54 años",
          "De 55 a 59 años",
          "De 60 a 64 años",
          "De 65 a 69 años",
          "De 70 a 74 años",
          "De 75 a 79 años",
          "De 80 a 84 años",
          "De 85 a 89 años",
          "De 90 a 94 años",
          "De 95 años y más",
          "Todas las edades",
          "Menores de 15 años",
          "De 15 a 29 años",
          "De 30 a 39 años",
          "De 40 a 44 años",
          "De 45 a 49 años",
          "De 50 a 54 años",
          "De 55 a 59 años",
          "De 60 a 64 años",
          "De 65 a 69 años",
          "De 70 a 74 años",
          "De 75 a 79 años",
          "De 80 a 84 años",
          "De 85 a 89 años",
          "De 90 a 94 años",
          "De 95 años y más",
          "Todas las edades",
          "Menores de 15 años",
          "De 15 a 29 años",
          "De 30 a 39 años",
          "De 40 a 44 años",
          "De 45 a 49 años",
          "De 50 a 54 años",
          "De 55 a 59 años",
          "De 60 a 64 años",
          "De 65 a 69 años",
          "De 70 a 74 años",
          "De 75 a 79 años",
          "De 80 a 84 años",
          "De 85 a 89 años",
          "De 90 a 94 años",
          "De 95 años y más",
          "Todas las edades",
          "Menores de 15 años",
          "De 15 a 29 años",
          "De 30 a 39 años",
          "De 40 a 44 años",
          "De 45 a 49 años",
          "De 50 a 54 años",
          "De 55 a 59 años",
          "De 60 a 64 años",
          "De 65 a 69 años",
          "De 70 a 74 años",
          "De 75 a 79 años",
          "De 80 a 84 años",
          "De 85 a 89 años",
          "De 90 a 94 años",
          "De 95 años y más",
          "Todas las edades",
          "Menores de 15 años",
          "De 15 a 29 años",
          "De 30 a 39 años",
          "De 40 a 44 años",
          "De 45 a 49 años",
          "De 50 a 54 años",
          "De 55 a 59 años",
          "De 60 a 64 años",
          "De 65 a 69 años",
          "De 70 a 74 años",
          "De 75 a 79 años",
          "De 80 a 84 años",
          "De 85 a 89 años",
          "De 90 a 94 años",
          "De 95 años y más",
          "Todas las edades",
          "Menores de 15 años",
          "De 15 a 29 años",
          "De 30 a 39 años",
          "De 40 a 44 años",
          "De 45 a 49 años",
          "De 50 a 54 años",
          "De 55 a 59 años",
          "De 60 a 64 años",
          "De 65 a 69 años",
          "De 70 a 74 años",
          "De 75 a 79 años",
          "De 80 a 84 años",
          "De 85 a 89 años",
          "De 90 a 94 años",
          "De 95 años y más",
          "Todas las edades",
          "Menores de 15 años",
          "De 15 a 29 años",
          "De 30 a 39 años",
          "De 40 a 44 años",
          "De 45 a 49 años",
          "De 50 a 54 años",
          "De 55 a 59 años",
          "De 60 a 64 años",
          "De 65 a 69 años",
          "De 70 a 74 años",
          "De 75 a 79 años",
          "De 80 a 84 años",
          "De 85 a 89 años",
          "De 90 a 94 años",
          "De 95 años y más",
          "Todas las edades",
          "Menores de 15 años",
          "De 15 a 29 años",
          "De 30 a 39 años",
          "De 40 a 44 años",
          "De 45 a 49 años",
          "De 50 a 54 años",
          "De 55 a 59 años",
          "De 60 a 64 años",
          "De 65 a 69 años",
          "De 70 a 74 años",
          "De 75 a 79 años",
          "De 80 a 84 años",
          "De 85 a 89 años",
          "De 90 a 94 años",
          "De 95 años y más",
          "Todas las edades",
          "Menores de 15 años",
          "De 15 a 29 años",
          "De 30 a 39 años",
          "De 40 a 44 años",
          "De 45 a 49 años",
          "De 50 a 54 años",
          "De 55 a 59 años",
          "De 60 a 64 años",
          "De 65 a 69 años",
          "De 70 a 74 años",
          "De 75 a 79 años",
          "De 80 a 84 años",
          "De 85 a 89 años",
          "De 90 a 94 años",
          "De 95 años y más",
          "Todas las edades",
          "Menores de 15 años",
          "De 15 a 29 años",
          "De 30 a 39 años",
          "De 40 a 44 años",
          "De 45 a 49 años",
          "De 50 a 54 años",
          "De 55 a 59 años",
          "De 60 a 64 años",
          "De 65 a 69 años",
          "De 70 a 74 años",
          "De 75 a 79 años",
          "De 80 a 84 años",
          "De 85 a 89 años",
          "De 90 a 94 años",
          "De 95 años y más",
          "Todas las edades",
          "Menores de 15 años",
          "De 15 a 29 años",
          "De 30 a 39 años",
          "De 40 a 44 años",
          "De 45 a 49 años",
          "De 50 a 54 años",
          "De 55 a 59 años",
          "De 60 a 64 años",
          "De 65 a 69 años",
          "De 70 a 74 años",
          "De 75 a 79 años",
          "De 80 a 84 años",
          "De 85 a 89 años",
          "De 90 a 94 años",
          "De 95 años y más",
          "Todas las edades",
          "Menores de 15 años",
          "De 15 a 29 años",
          "De 30 a 39 años",
          "De 40 a 44 años",
          "De 45 a 49 años",
          "De 50 a 54 años",
          "De 55 a 59 años",
          "De 60 a 64 años",
          "De 65 a 69 años",
          "De 70 a 74 años",
          "De 75 a 79 años",
          "De 80 a 84 años",
          "De 85 a 89 años",
          "De 90 a 94 años",
          "De 95 años y más",
          "Todas las edades",
          "Menores de 15 años",
          "De 15 a 29 años",
          "De 30 a 39 años",
          "De 40 a 44 años",
          "De 45 a 49 años",
          "De 50 a 54 años",
          "De 55 a 59 años",
          "De 60 a 64 años",
          "De 65 a 69 años",
          "De 70 a 74 años",
          "De 75 a 79 años",
          "De 80 a 84 años",
          "De 85 a 89 años",
          "De 90 a 94 años",
          "De 95 años y más",
          "Todas las edades",
          "Menores de 15 años",
          "De 15 a 29 años",
          "De 30 a 39 años",
          "De 40 a 44 años",
          "De 45 a 49 años",
          "De 50 a 54 años",
          "De 55 a 59 años",
          "De 60 a 64 años",
          "De 65 a 69 años",
          "De 70 a 74 años",
          "De 75 a 79 años",
          "De 80 a 84 años",
          "De 85 a 89 años",
          "De 90 a 94 años",
          "De 95 años y más",
          "Todas las edades",
          "Menores de 15 años",
          "De 15 a 29 años",
          "De 30 a 39 años",
          "De 40 a 44 años",
          "De 45 a 49 años",
          "De 50 a 54 años",
          "De 55 a 59 años",
          "De 60 a 64 años",
          "De 65 a 69 años",
          "De 70 a 74 años",
          "De 75 a 79 años",
          "De 80 a 84 años",
          "De 85 a 89 años",
          "De 90 a 94 años",
          "De 95 años y más"
         ],
         "legendgroup": "Mujeres",
         "marker": {
          "color": "rgb(85,168,104)",
          "pattern": {
           "shape": ""
          }
         },
         "name": "Mujeres",
         "offsetgroup": "Mujeres",
         "orientation": "v",
         "showlegend": true,
         "textposition": "auto",
         "type": "bar",
         "x": [
          "Andalucía",
          "Andalucía",
          "Andalucía",
          "Andalucía",
          "Andalucía",
          "Andalucía",
          "Andalucía",
          "Andalucía",
          "Andalucía",
          "Andalucía",
          "Andalucía",
          "Andalucía",
          "Andalucía",
          "Andalucía",
          "Andalucía",
          "Andalucía",
          "Aragón",
          "Aragón",
          "Aragón",
          "Aragón",
          "Aragón",
          "Aragón",
          "Aragón",
          "Aragón",
          "Aragón",
          "Aragón",
          "Aragón",
          "Aragón",
          "Aragón",
          "Aragón",
          "Aragón",
          "Aragón",
          "Asturias, Principado de",
          "Asturias, Principado de",
          "Asturias, Principado de",
          "Asturias, Principado de",
          "Asturias, Principado de",
          "Asturias, Principado de",
          "Asturias, Principado de",
          "Asturias, Principado de",
          "Asturias, Principado de",
          "Asturias, Principado de",
          "Asturias, Principado de",
          "Asturias, Principado de",
          "Asturias, Principado de",
          "Asturias, Principado de",
          "Asturias, Principado de",
          "Asturias, Principado de",
          "Balears, Illes",
          "Balears, Illes",
          "Balears, Illes",
          "Balears, Illes",
          "Balears, Illes",
          "Balears, Illes",
          "Balears, Illes",
          "Balears, Illes",
          "Balears, Illes",
          "Balears, Illes",
          "Balears, Illes",
          "Balears, Illes",
          "Balears, Illes",
          "Balears, Illes",
          "Balears, Illes",
          "Balears, Illes",
          "Canarias",
          "Canarias",
          "Canarias",
          "Canarias",
          "Canarias",
          "Canarias",
          "Canarias",
          "Canarias",
          "Canarias",
          "Canarias",
          "Canarias",
          "Canarias",
          "Canarias",
          "Canarias",
          "Canarias",
          "Canarias",
          "Cantabria",
          "Cantabria",
          "Cantabria",
          "Cantabria",
          "Cantabria",
          "Cantabria",
          "Cantabria",
          "Cantabria",
          "Cantabria",
          "Cantabria",
          "Cantabria",
          "Cantabria",
          "Cantabria",
          "Cantabria",
          "Cantabria",
          "Cantabria",
          "Castilla y León",
          "Castilla y León",
          "Castilla y León",
          "Castilla y León",
          "Castilla y León",
          "Castilla y León",
          "Castilla y León",
          "Castilla y León",
          "Castilla y León",
          "Castilla y León",
          "Castilla y León",
          "Castilla y León",
          "Castilla y León",
          "Castilla y León",
          "Castilla y León",
          "Castilla y León",
          "Castilla-La Mancha",
          "Castilla-La Mancha",
          "Castilla-La Mancha",
          "Castilla-La Mancha",
          "Castilla-La Mancha",
          "Castilla-La Mancha",
          "Castilla-La Mancha",
          "Castilla-La Mancha",
          "Castilla-La Mancha",
          "Castilla-La Mancha",
          "Castilla-La Mancha",
          "Castilla-La Mancha",
          "Castilla-La Mancha",
          "Castilla-La Mancha",
          "Castilla-La Mancha",
          "Castilla-La Mancha",
          "Cataluña",
          "Cataluña",
          "Cataluña",
          "Cataluña",
          "Cataluña",
          "Cataluña",
          "Cataluña",
          "Cataluña",
          "Cataluña",
          "Cataluña",
          "Cataluña",
          "Cataluña",
          "Cataluña",
          "Cataluña",
          "Cataluña",
          "Cataluña",
          "Comunitat Valenciana",
          "Comunitat Valenciana",
          "Comunitat Valenciana",
          "Comunitat Valenciana",
          "Comunitat Valenciana",
          "Comunitat Valenciana",
          "Comunitat Valenciana",
          "Comunitat Valenciana",
          "Comunitat Valenciana",
          "Comunitat Valenciana",
          "Comunitat Valenciana",
          "Comunitat Valenciana",
          "Comunitat Valenciana",
          "Comunitat Valenciana",
          "Comunitat Valenciana",
          "Comunitat Valenciana",
          "Extremadura",
          "Extremadura",
          "Extremadura",
          "Extremadura",
          "Extremadura",
          "Extremadura",
          "Extremadura",
          "Extremadura",
          "Extremadura",
          "Extremadura",
          "Extremadura",
          "Extremadura",
          "Extremadura",
          "Extremadura",
          "Extremadura",
          "Extremadura",
          "Galicia",
          "Galicia",
          "Galicia",
          "Galicia",
          "Galicia",
          "Galicia",
          "Galicia",
          "Galicia",
          "Galicia",
          "Galicia",
          "Galicia",
          "Galicia",
          "Galicia",
          "Galicia",
          "Galicia",
          "Galicia",
          "Madrid, Comunidad de",
          "Madrid, Comunidad de",
          "Madrid, Comunidad de",
          "Madrid, Comunidad de",
          "Madrid, Comunidad de",
          "Madrid, Comunidad de",
          "Madrid, Comunidad de",
          "Madrid, Comunidad de",
          "Madrid, Comunidad de",
          "Madrid, Comunidad de",
          "Madrid, Comunidad de",
          "Madrid, Comunidad de",
          "Madrid, Comunidad de",
          "Madrid, Comunidad de",
          "Madrid, Comunidad de",
          "Madrid, Comunidad de",
          "Murcia, Región de",
          "Murcia, Región de",
          "Murcia, Región de",
          "Murcia, Región de",
          "Murcia, Región de",
          "Murcia, Región de",
          "Murcia, Región de",
          "Murcia, Región de",
          "Murcia, Región de",
          "Murcia, Región de",
          "Murcia, Región de",
          "Murcia, Región de",
          "Murcia, Región de",
          "Murcia, Región de",
          "Murcia, Región de",
          "Murcia, Región de",
          "Navarra, Comunidad Foral de",
          "Navarra, Comunidad Foral de",
          "Navarra, Comunidad Foral de",
          "Navarra, Comunidad Foral de",
          "Navarra, Comunidad Foral de",
          "Navarra, Comunidad Foral de",
          "Navarra, Comunidad Foral de",
          "Navarra, Comunidad Foral de",
          "Navarra, Comunidad Foral de",
          "Navarra, Comunidad Foral de",
          "Navarra, Comunidad Foral de",
          "Navarra, Comunidad Foral de",
          "Navarra, Comunidad Foral de",
          "Navarra, Comunidad Foral de",
          "Navarra, Comunidad Foral de",
          "Navarra, Comunidad Foral de",
          "País Vasco",
          "País Vasco",
          "País Vasco",
          "País Vasco",
          "País Vasco",
          "País Vasco",
          "País Vasco",
          "País Vasco",
          "País Vasco",
          "País Vasco",
          "País Vasco",
          "País Vasco",
          "País Vasco",
          "País Vasco",
          "País Vasco",
          "País Vasco",
          "Rioja, La",
          "Rioja, La",
          "Rioja, La",
          "Rioja, La",
          "Rioja, La",
          "Rioja, La",
          "Rioja, La",
          "Rioja, La",
          "Rioja, La",
          "Rioja, La",
          "Rioja, La",
          "Rioja, La",
          "Rioja, La",
          "Rioja, La",
          "Rioja, La",
          "Rioja, La",
          "Ceuta",
          "Ceuta",
          "Ceuta",
          "Ceuta",
          "Ceuta",
          "Ceuta",
          "Ceuta",
          "Ceuta",
          "Ceuta",
          "Ceuta",
          "Ceuta",
          "Ceuta",
          "Ceuta",
          "Ceuta",
          "Ceuta",
          "Ceuta",
          "Melilla",
          "Melilla",
          "Melilla",
          "Melilla",
          "Melilla",
          "Melilla",
          "Melilla",
          "Melilla",
          "Melilla",
          "Melilla",
          "Melilla",
          "Melilla",
          "Melilla",
          "Melilla",
          "Melilla",
          "Melilla"
         ],
         "xaxis": "x",
         "y": [
          162,
          0,
          9,
          19,
          15,
          14,
          19,
          18,
          16,
          12,
          13,
          14,
          9,
          2,
          2,
          0,
          28,
          0,
          3,
          4,
          4,
          1,
          0,
          3,
          2,
          2,
          4,
          2,
          0,
          3,
          0,
          0,
          31,
          0,
          1,
          4,
          3,
          1,
          3,
          4,
          4,
          0,
          1,
          4,
          1,
          3,
          2,
          0,
          26,
          0,
          1,
          2,
          2,
          2,
          5,
          2,
          3,
          3,
          3,
          2,
          1,
          0,
          0,
          0,
          32,
          0,
          2,
          3,
          6,
          1,
          5,
          4,
          6,
          0,
          1,
          1,
          0,
          1,
          1,
          1,
          11,
          1,
          2,
          0,
          0,
          1,
          4,
          2,
          0,
          0,
          1,
          0,
          0,
          0,
          0,
          0,
          53,
          0,
          6,
          4,
          8,
          4,
          7,
          3,
          8,
          1,
          3,
          3,
          3,
          2,
          1,
          0,
          37,
          0,
          1,
          7,
          4,
          4,
          1,
          4,
          3,
          3,
          3,
          3,
          2,
          2,
          0,
          0,
          155,
          2,
          14,
          21,
          8,
          14,
          22,
          11,
          12,
          14,
          6,
          8,
          12,
          5,
          5,
          1,
          102,
          0,
          6,
          9,
          9,
          8,
          13,
          12,
          7,
          6,
          9,
          8,
          7,
          5,
          3,
          0,
          11,
          0,
          1,
          1,
          1,
          2,
          2,
          0,
          1,
          1,
          0,
          2,
          0,
          0,
          0,
          0,
          72,
          0,
          8,
          5,
          6,
          9,
          7,
          8,
          4,
          5,
          6,
          1,
          7,
          3,
          3,
          0,
          105,
          0,
          10,
          11,
          6,
          9,
          16,
          12,
          11,
          8,
          6,
          7,
          5,
          3,
          1,
          0,
          24,
          0,
          1,
          3,
          4,
          4,
          2,
          1,
          3,
          2,
          2,
          0,
          1,
          1,
          0,
          0,
          12,
          0,
          3,
          1,
          2,
          2,
          1,
          0,
          0,
          0,
          1,
          2,
          0,
          0,
          0,
          0,
          26,
          0,
          3,
          3,
          1,
          1,
          3,
          5,
          4,
          1,
          2,
          0,
          3,
          0,
          0,
          0,
          9,
          0,
          1,
          1,
          0,
          2,
          0,
          1,
          2,
          1,
          1,
          0,
          0,
          0,
          0,
          0,
          0,
          0,
          0,
          0,
          0,
          0,
          0,
          0,
          0,
          0,
          0,
          0,
          0,
          0,
          0,
          0,
          0,
          0,
          0,
          0,
          0,
          0,
          0,
          0,
          0,
          0,
          0,
          0,
          0,
          0,
          0,
          0
         ],
         "yaxis": "y"
        }
       ],
       "layout": {
        "barmode": "relative",
        "legend": {
         "title": {
          "text": "Sexo"
         },
         "tracegroupgap": 0
        },
        "template": {
         "data": {
          "bar": [
           {
            "error_x": {
             "color": "rgb(36,36,36)"
            },
            "error_y": {
             "color": "rgb(36,36,36)"
            },
            "marker": {
             "line": {
              "color": "rgb(234,234,242)",
              "width": 0.5
             },
             "pattern": {
              "fillmode": "overlay",
              "size": 10,
              "solidity": 0.2
             }
            },
            "type": "bar"
           }
          ],
          "barpolar": [
           {
            "marker": {
             "line": {
              "color": "rgb(234,234,242)",
              "width": 0.5
             },
             "pattern": {
              "fillmode": "overlay",
              "size": 10,
              "solidity": 0.2
             }
            },
            "type": "barpolar"
           }
          ],
          "carpet": [
           {
            "aaxis": {
             "endlinecolor": "rgb(36,36,36)",
             "gridcolor": "white",
             "linecolor": "white",
             "minorgridcolor": "white",
             "startlinecolor": "rgb(36,36,36)"
            },
            "baxis": {
             "endlinecolor": "rgb(36,36,36)",
             "gridcolor": "white",
             "linecolor": "white",
             "minorgridcolor": "white",
             "startlinecolor": "rgb(36,36,36)"
            },
            "type": "carpet"
           }
          ],
          "choropleth": [
           {
            "colorbar": {
             "outlinewidth": 0,
             "tickcolor": "rgb(36,36,36)",
             "ticklen": 8,
             "ticks": "outside",
             "tickwidth": 2
            },
            "type": "choropleth"
           }
          ],
          "contour": [
           {
            "colorbar": {
             "outlinewidth": 0,
             "tickcolor": "rgb(36,36,36)",
             "ticklen": 8,
             "ticks": "outside",
             "tickwidth": 2
            },
            "colorscale": [
             [
              0,
              "rgb(2,4,25)"
             ],
             [
              0.06274509803921569,
              "rgb(24,15,41)"
             ],
             [
              0.12549019607843137,
              "rgb(47,23,57)"
             ],
             [
              0.18823529411764706,
              "rgb(71,28,72)"
             ],
             [
              0.25098039215686274,
              "rgb(97,30,82)"
             ],
             [
              0.3137254901960784,
              "rgb(123,30,89)"
             ],
             [
              0.3764705882352941,
              "rgb(150,27,91)"
             ],
             [
              0.4392156862745098,
              "rgb(177,22,88)"
             ],
             [
              0.5019607843137255,
              "rgb(203,26,79)"
             ],
             [
              0.5647058823529412,
              "rgb(223,47,67)"
             ],
             [
              0.6274509803921569,
              "rgb(236,76,61)"
             ],
             [
              0.6901960784313725,
              "rgb(242,107,73)"
             ],
             [
              0.7529411764705882,
              "rgb(244,135,95)"
             ],
             [
              0.8156862745098039,
              "rgb(245,162,122)"
             ],
             [
              0.8784313725490196,
              "rgb(246,188,153)"
             ],
             [
              0.9411764705882353,
              "rgb(247,212,187)"
             ],
             [
              1,
              "rgb(250,234,220)"
             ]
            ],
            "type": "contour"
           }
          ],
          "contourcarpet": [
           {
            "colorbar": {
             "outlinewidth": 0,
             "tickcolor": "rgb(36,36,36)",
             "ticklen": 8,
             "ticks": "outside",
             "tickwidth": 2
            },
            "type": "contourcarpet"
           }
          ],
          "heatmap": [
           {
            "colorbar": {
             "outlinewidth": 0,
             "tickcolor": "rgb(36,36,36)",
             "ticklen": 8,
             "ticks": "outside",
             "tickwidth": 2
            },
            "colorscale": [
             [
              0,
              "rgb(2,4,25)"
             ],
             [
              0.06274509803921569,
              "rgb(24,15,41)"
             ],
             [
              0.12549019607843137,
              "rgb(47,23,57)"
             ],
             [
              0.18823529411764706,
              "rgb(71,28,72)"
             ],
             [
              0.25098039215686274,
              "rgb(97,30,82)"
             ],
             [
              0.3137254901960784,
              "rgb(123,30,89)"
             ],
             [
              0.3764705882352941,
              "rgb(150,27,91)"
             ],
             [
              0.4392156862745098,
              "rgb(177,22,88)"
             ],
             [
              0.5019607843137255,
              "rgb(203,26,79)"
             ],
             [
              0.5647058823529412,
              "rgb(223,47,67)"
             ],
             [
              0.6274509803921569,
              "rgb(236,76,61)"
             ],
             [
              0.6901960784313725,
              "rgb(242,107,73)"
             ],
             [
              0.7529411764705882,
              "rgb(244,135,95)"
             ],
             [
              0.8156862745098039,
              "rgb(245,162,122)"
             ],
             [
              0.8784313725490196,
              "rgb(246,188,153)"
             ],
             [
              0.9411764705882353,
              "rgb(247,212,187)"
             ],
             [
              1,
              "rgb(250,234,220)"
             ]
            ],
            "type": "heatmap"
           }
          ],
          "heatmapgl": [
           {
            "colorbar": {
             "outlinewidth": 0,
             "tickcolor": "rgb(36,36,36)",
             "ticklen": 8,
             "ticks": "outside",
             "tickwidth": 2
            },
            "colorscale": [
             [
              0,
              "rgb(2,4,25)"
             ],
             [
              0.06274509803921569,
              "rgb(24,15,41)"
             ],
             [
              0.12549019607843137,
              "rgb(47,23,57)"
             ],
             [
              0.18823529411764706,
              "rgb(71,28,72)"
             ],
             [
              0.25098039215686274,
              "rgb(97,30,82)"
             ],
             [
              0.3137254901960784,
              "rgb(123,30,89)"
             ],
             [
              0.3764705882352941,
              "rgb(150,27,91)"
             ],
             [
              0.4392156862745098,
              "rgb(177,22,88)"
             ],
             [
              0.5019607843137255,
              "rgb(203,26,79)"
             ],
             [
              0.5647058823529412,
              "rgb(223,47,67)"
             ],
             [
              0.6274509803921569,
              "rgb(236,76,61)"
             ],
             [
              0.6901960784313725,
              "rgb(242,107,73)"
             ],
             [
              0.7529411764705882,
              "rgb(244,135,95)"
             ],
             [
              0.8156862745098039,
              "rgb(245,162,122)"
             ],
             [
              0.8784313725490196,
              "rgb(246,188,153)"
             ],
             [
              0.9411764705882353,
              "rgb(247,212,187)"
             ],
             [
              1,
              "rgb(250,234,220)"
             ]
            ],
            "type": "heatmapgl"
           }
          ],
          "histogram": [
           {
            "marker": {
             "pattern": {
              "fillmode": "overlay",
              "size": 10,
              "solidity": 0.2
             }
            },
            "type": "histogram"
           }
          ],
          "histogram2d": [
           {
            "colorbar": {
             "outlinewidth": 0,
             "tickcolor": "rgb(36,36,36)",
             "ticklen": 8,
             "ticks": "outside",
             "tickwidth": 2
            },
            "colorscale": [
             [
              0,
              "rgb(2,4,25)"
             ],
             [
              0.06274509803921569,
              "rgb(24,15,41)"
             ],
             [
              0.12549019607843137,
              "rgb(47,23,57)"
             ],
             [
              0.18823529411764706,
              "rgb(71,28,72)"
             ],
             [
              0.25098039215686274,
              "rgb(97,30,82)"
             ],
             [
              0.3137254901960784,
              "rgb(123,30,89)"
             ],
             [
              0.3764705882352941,
              "rgb(150,27,91)"
             ],
             [
              0.4392156862745098,
              "rgb(177,22,88)"
             ],
             [
              0.5019607843137255,
              "rgb(203,26,79)"
             ],
             [
              0.5647058823529412,
              "rgb(223,47,67)"
             ],
             [
              0.6274509803921569,
              "rgb(236,76,61)"
             ],
             [
              0.6901960784313725,
              "rgb(242,107,73)"
             ],
             [
              0.7529411764705882,
              "rgb(244,135,95)"
             ],
             [
              0.8156862745098039,
              "rgb(245,162,122)"
             ],
             [
              0.8784313725490196,
              "rgb(246,188,153)"
             ],
             [
              0.9411764705882353,
              "rgb(247,212,187)"
             ],
             [
              1,
              "rgb(250,234,220)"
             ]
            ],
            "type": "histogram2d"
           }
          ],
          "histogram2dcontour": [
           {
            "colorbar": {
             "outlinewidth": 0,
             "tickcolor": "rgb(36,36,36)",
             "ticklen": 8,
             "ticks": "outside",
             "tickwidth": 2
            },
            "colorscale": [
             [
              0,
              "rgb(2,4,25)"
             ],
             [
              0.06274509803921569,
              "rgb(24,15,41)"
             ],
             [
              0.12549019607843137,
              "rgb(47,23,57)"
             ],
             [
              0.18823529411764706,
              "rgb(71,28,72)"
             ],
             [
              0.25098039215686274,
              "rgb(97,30,82)"
             ],
             [
              0.3137254901960784,
              "rgb(123,30,89)"
             ],
             [
              0.3764705882352941,
              "rgb(150,27,91)"
             ],
             [
              0.4392156862745098,
              "rgb(177,22,88)"
             ],
             [
              0.5019607843137255,
              "rgb(203,26,79)"
             ],
             [
              0.5647058823529412,
              "rgb(223,47,67)"
             ],
             [
              0.6274509803921569,
              "rgb(236,76,61)"
             ],
             [
              0.6901960784313725,
              "rgb(242,107,73)"
             ],
             [
              0.7529411764705882,
              "rgb(244,135,95)"
             ],
             [
              0.8156862745098039,
              "rgb(245,162,122)"
             ],
             [
              0.8784313725490196,
              "rgb(246,188,153)"
             ],
             [
              0.9411764705882353,
              "rgb(247,212,187)"
             ],
             [
              1,
              "rgb(250,234,220)"
             ]
            ],
            "type": "histogram2dcontour"
           }
          ],
          "mesh3d": [
           {
            "colorbar": {
             "outlinewidth": 0,
             "tickcolor": "rgb(36,36,36)",
             "ticklen": 8,
             "ticks": "outside",
             "tickwidth": 2
            },
            "type": "mesh3d"
           }
          ],
          "parcoords": [
           {
            "line": {
             "colorbar": {
              "outlinewidth": 0,
              "tickcolor": "rgb(36,36,36)",
              "ticklen": 8,
              "ticks": "outside",
              "tickwidth": 2
             }
            },
            "type": "parcoords"
           }
          ],
          "pie": [
           {
            "automargin": true,
            "type": "pie"
           }
          ],
          "scatter": [
           {
            "fillpattern": {
             "fillmode": "overlay",
             "size": 10,
             "solidity": 0.2
            },
            "type": "scatter"
           }
          ],
          "scatter3d": [
           {
            "line": {
             "colorbar": {
              "outlinewidth": 0,
              "tickcolor": "rgb(36,36,36)",
              "ticklen": 8,
              "ticks": "outside",
              "tickwidth": 2
             }
            },
            "marker": {
             "colorbar": {
              "outlinewidth": 0,
              "tickcolor": "rgb(36,36,36)",
              "ticklen": 8,
              "ticks": "outside",
              "tickwidth": 2
             }
            },
            "type": "scatter3d"
           }
          ],
          "scattercarpet": [
           {
            "marker": {
             "colorbar": {
              "outlinewidth": 0,
              "tickcolor": "rgb(36,36,36)",
              "ticklen": 8,
              "ticks": "outside",
              "tickwidth": 2
             }
            },
            "type": "scattercarpet"
           }
          ],
          "scattergeo": [
           {
            "marker": {
             "colorbar": {
              "outlinewidth": 0,
              "tickcolor": "rgb(36,36,36)",
              "ticklen": 8,
              "ticks": "outside",
              "tickwidth": 2
             }
            },
            "type": "scattergeo"
           }
          ],
          "scattergl": [
           {
            "marker": {
             "colorbar": {
              "outlinewidth": 0,
              "tickcolor": "rgb(36,36,36)",
              "ticklen": 8,
              "ticks": "outside",
              "tickwidth": 2
             }
            },
            "type": "scattergl"
           }
          ],
          "scattermapbox": [
           {
            "marker": {
             "colorbar": {
              "outlinewidth": 0,
              "tickcolor": "rgb(36,36,36)",
              "ticklen": 8,
              "ticks": "outside",
              "tickwidth": 2
             }
            },
            "type": "scattermapbox"
           }
          ],
          "scatterpolar": [
           {
            "marker": {
             "colorbar": {
              "outlinewidth": 0,
              "tickcolor": "rgb(36,36,36)",
              "ticklen": 8,
              "ticks": "outside",
              "tickwidth": 2
             }
            },
            "type": "scatterpolar"
           }
          ],
          "scatterpolargl": [
           {
            "marker": {
             "colorbar": {
              "outlinewidth": 0,
              "tickcolor": "rgb(36,36,36)",
              "ticklen": 8,
              "ticks": "outside",
              "tickwidth": 2
             }
            },
            "type": "scatterpolargl"
           }
          ],
          "scatterternary": [
           {
            "marker": {
             "colorbar": {
              "outlinewidth": 0,
              "tickcolor": "rgb(36,36,36)",
              "ticklen": 8,
              "ticks": "outside",
              "tickwidth": 2
             }
            },
            "type": "scatterternary"
           }
          ],
          "surface": [
           {
            "colorbar": {
             "outlinewidth": 0,
             "tickcolor": "rgb(36,36,36)",
             "ticklen": 8,
             "ticks": "outside",
             "tickwidth": 2
            },
            "colorscale": [
             [
              0,
              "rgb(2,4,25)"
             ],
             [
              0.06274509803921569,
              "rgb(24,15,41)"
             ],
             [
              0.12549019607843137,
              "rgb(47,23,57)"
             ],
             [
              0.18823529411764706,
              "rgb(71,28,72)"
             ],
             [
              0.25098039215686274,
              "rgb(97,30,82)"
             ],
             [
              0.3137254901960784,
              "rgb(123,30,89)"
             ],
             [
              0.3764705882352941,
              "rgb(150,27,91)"
             ],
             [
              0.4392156862745098,
              "rgb(177,22,88)"
             ],
             [
              0.5019607843137255,
              "rgb(203,26,79)"
             ],
             [
              0.5647058823529412,
              "rgb(223,47,67)"
             ],
             [
              0.6274509803921569,
              "rgb(236,76,61)"
             ],
             [
              0.6901960784313725,
              "rgb(242,107,73)"
             ],
             [
              0.7529411764705882,
              "rgb(244,135,95)"
             ],
             [
              0.8156862745098039,
              "rgb(245,162,122)"
             ],
             [
              0.8784313725490196,
              "rgb(246,188,153)"
             ],
             [
              0.9411764705882353,
              "rgb(247,212,187)"
             ],
             [
              1,
              "rgb(250,234,220)"
             ]
            ],
            "type": "surface"
           }
          ],
          "table": [
           {
            "cells": {
             "fill": {
              "color": "rgb(231,231,240)"
             },
             "line": {
              "color": "white"
             }
            },
            "header": {
             "fill": {
              "color": "rgb(183,183,191)"
             },
             "line": {
              "color": "white"
             }
            },
            "type": "table"
           }
          ]
         },
         "layout": {
          "annotationdefaults": {
           "arrowcolor": "rgb(67,103,167)"
          },
          "autotypenumbers": "strict",
          "coloraxis": {
           "colorbar": {
            "outlinewidth": 0,
            "tickcolor": "rgb(36,36,36)",
            "ticklen": 8,
            "ticks": "outside",
            "tickwidth": 2
           }
          },
          "colorscale": {
           "sequential": [
            [
             0,
             "rgb(2,4,25)"
            ],
            [
             0.06274509803921569,
             "rgb(24,15,41)"
            ],
            [
             0.12549019607843137,
             "rgb(47,23,57)"
            ],
            [
             0.18823529411764706,
             "rgb(71,28,72)"
            ],
            [
             0.25098039215686274,
             "rgb(97,30,82)"
            ],
            [
             0.3137254901960784,
             "rgb(123,30,89)"
            ],
            [
             0.3764705882352941,
             "rgb(150,27,91)"
            ],
            [
             0.4392156862745098,
             "rgb(177,22,88)"
            ],
            [
             0.5019607843137255,
             "rgb(203,26,79)"
            ],
            [
             0.5647058823529412,
             "rgb(223,47,67)"
            ],
            [
             0.6274509803921569,
             "rgb(236,76,61)"
            ],
            [
             0.6901960784313725,
             "rgb(242,107,73)"
            ],
            [
             0.7529411764705882,
             "rgb(244,135,95)"
            ],
            [
             0.8156862745098039,
             "rgb(245,162,122)"
            ],
            [
             0.8784313725490196,
             "rgb(246,188,153)"
            ],
            [
             0.9411764705882353,
             "rgb(247,212,187)"
            ],
            [
             1,
             "rgb(250,234,220)"
            ]
           ],
           "sequentialminus": [
            [
             0,
             "rgb(2,4,25)"
            ],
            [
             0.06274509803921569,
             "rgb(24,15,41)"
            ],
            [
             0.12549019607843137,
             "rgb(47,23,57)"
            ],
            [
             0.18823529411764706,
             "rgb(71,28,72)"
            ],
            [
             0.25098039215686274,
             "rgb(97,30,82)"
            ],
            [
             0.3137254901960784,
             "rgb(123,30,89)"
            ],
            [
             0.3764705882352941,
             "rgb(150,27,91)"
            ],
            [
             0.4392156862745098,
             "rgb(177,22,88)"
            ],
            [
             0.5019607843137255,
             "rgb(203,26,79)"
            ],
            [
             0.5647058823529412,
             "rgb(223,47,67)"
            ],
            [
             0.6274509803921569,
             "rgb(236,76,61)"
            ],
            [
             0.6901960784313725,
             "rgb(242,107,73)"
            ],
            [
             0.7529411764705882,
             "rgb(244,135,95)"
            ],
            [
             0.8156862745098039,
             "rgb(245,162,122)"
            ],
            [
             0.8784313725490196,
             "rgb(246,188,153)"
            ],
            [
             0.9411764705882353,
             "rgb(247,212,187)"
            ],
            [
             1,
             "rgb(250,234,220)"
            ]
           ]
          },
          "colorway": [
           "rgb(76,114,176)",
           "rgb(221,132,82)",
           "rgb(85,168,104)",
           "rgb(196,78,82)",
           "rgb(129,114,179)",
           "rgb(147,120,96)",
           "rgb(218,139,195)",
           "rgb(140,140,140)",
           "rgb(204,185,116)",
           "rgb(100,181,205)"
          ],
          "font": {
           "color": "rgb(36,36,36)"
          },
          "geo": {
           "bgcolor": "white",
           "lakecolor": "white",
           "landcolor": "rgb(234,234,242)",
           "showlakes": true,
           "showland": true,
           "subunitcolor": "white"
          },
          "hoverlabel": {
           "align": "left"
          },
          "hovermode": "closest",
          "paper_bgcolor": "white",
          "plot_bgcolor": "rgb(234,234,242)",
          "polar": {
           "angularaxis": {
            "gridcolor": "white",
            "linecolor": "white",
            "showgrid": true,
            "ticks": ""
           },
           "bgcolor": "rgb(234,234,242)",
           "radialaxis": {
            "gridcolor": "white",
            "linecolor": "white",
            "showgrid": true,
            "ticks": ""
           }
          },
          "scene": {
           "xaxis": {
            "backgroundcolor": "rgb(234,234,242)",
            "gridcolor": "white",
            "gridwidth": 2,
            "linecolor": "white",
            "showbackground": true,
            "showgrid": true,
            "ticks": "",
            "zerolinecolor": "white"
           },
           "yaxis": {
            "backgroundcolor": "rgb(234,234,242)",
            "gridcolor": "white",
            "gridwidth": 2,
            "linecolor": "white",
            "showbackground": true,
            "showgrid": true,
            "ticks": "",
            "zerolinecolor": "white"
           },
           "zaxis": {
            "backgroundcolor": "rgb(234,234,242)",
            "gridcolor": "white",
            "gridwidth": 2,
            "linecolor": "white",
            "showbackground": true,
            "showgrid": true,
            "ticks": "",
            "zerolinecolor": "white"
           }
          },
          "shapedefaults": {
           "fillcolor": "rgb(67,103,167)",
           "line": {
            "width": 0
           },
           "opacity": 0.5
          },
          "ternary": {
           "aaxis": {
            "gridcolor": "white",
            "linecolor": "white",
            "showgrid": true,
            "ticks": ""
           },
           "baxis": {
            "gridcolor": "white",
            "linecolor": "white",
            "showgrid": true,
            "ticks": ""
           },
           "bgcolor": "rgb(234,234,242)",
           "caxis": {
            "gridcolor": "white",
            "linecolor": "white",
            "showgrid": true,
            "ticks": ""
           }
          },
          "xaxis": {
           "automargin": true,
           "gridcolor": "white",
           "linecolor": "white",
           "showgrid": true,
           "ticks": "",
           "title": {
            "standoff": 15
           },
           "zerolinecolor": "white"
          },
          "yaxis": {
           "automargin": true,
           "gridcolor": "white",
           "linecolor": "white",
           "showgrid": true,
           "ticks": "",
           "title": {
            "standoff": 15
           },
           "zerolinecolor": "white"
          }
         }
        },
        "title": {
         "text": "Suicidios 2019 por comunidad autónoma"
        },
        "xaxis": {
         "anchor": "y",
         "domain": [
          0,
          1
         ],
         "title": {
          "text": "Comunidades autónomas"
         }
        },
        "yaxis": {
         "anchor": "x",
         "domain": [
          0,
          1
         ],
         "title": {
          "text": "Número de suicidios"
         }
        }
       }
      }
     },
     "metadata": {},
     "output_type": "display_data"
    }
   ],
   "source": [
    "fig4 = px.bar(com2019, x= \"Comunidades autónomas\", y=\"Total\", color=\"Sexo\",\n",
    "             barmode = \"relative\", hover_name= \"Edad\", title= \"Suicidios 2019 por comunidad autónoma\", template=\"seaborn\", labels={\"Total\": \"Número de suicidios\"})\n",
    "fig4.show()"
   ]
  },
  {
   "attachments": {},
   "cell_type": "markdown",
   "metadata": {},
   "source": [
    "## **PANDEMIA 2020 - 2021**"
   ]
  },
  {
   "attachments": {},
   "cell_type": "markdown",
   "metadata": {},
   "source": [
    "SUICIDIOS 2020 POR SEXO Y EDAD"
   ]
  },
  {
   "cell_type": "code",
   "execution_count": 99,
   "metadata": {},
   "outputs": [
    {
     "data": {
      "application/vnd.plotly.v1+json": {
       "config": {
        "plotlyServerURL": "https://plot.ly"
       },
       "data": [
        {
         "alignmentgroup": "True",
         "hovertemplate": "Sexo=Ambos sexos<br>Edad=%{x}<br>Número de suicidios=%{y}<extra></extra>",
         "legendgroup": "Ambos sexos",
         "marker": {
          "color": "rgb(76,114,176)",
          "pattern": {
           "shape": ""
          }
         },
         "name": "Ambos sexos",
         "offsetgroup": "Ambos sexos",
         "orientation": "v",
         "showlegend": true,
         "textposition": "auto",
         "type": "bar",
         "x": [
          "Menores de 15 años",
          "De 15 a 29 años",
          "De 30 a 39 años",
          "De 40 a 44 años",
          "De 45 a 49 años",
          "De 50 a 54 años",
          "De 55 a 59 años",
          "De 60 a 64 años",
          "De 65 a 69 años",
          "De 70 a 74 años",
          "De 75 a 79 años",
          "De 80 a 84 años",
          "De 85 a 89 años",
          "De 90 a 94 años",
          "De 95 años y más"
         ],
         "xaxis": "x",
         "y": [
          14,
          300,
          411,
          358,
          396,
          440,
          414,
          327,
          245,
          264,
          224,
          240,
          185,
          98,
          25
         ],
         "yaxis": "y"
        },
        {
         "alignmentgroup": "True",
         "hovertemplate": "Sexo=Hombres<br>Edad=%{x}<br>Número de suicidios=%{y}<extra></extra>",
         "legendgroup": "Hombres",
         "marker": {
          "color": "rgb(221,132,82)",
          "pattern": {
           "shape": ""
          }
         },
         "name": "Hombres",
         "offsetgroup": "Hombres",
         "orientation": "v",
         "showlegend": true,
         "textposition": "auto",
         "type": "bar",
         "x": [
          "Menores de 15 años",
          "De 15 a 29 años",
          "De 30 a 39 años",
          "De 40 a 44 años",
          "De 45 a 49 años",
          "De 50 a 54 años",
          "De 55 a 59 años",
          "De 60 a 64 años",
          "De 65 a 69 años",
          "De 70 a 74 años",
          "De 75 a 79 años",
          "De 80 a 84 años",
          "De 85 a 89 años",
          "De 90 a 94 años",
          "De 95 años y más"
         ],
         "xaxis": "x",
         "y": [
          7,
          227,
          313,
          275,
          301,
          323,
          277,
          239,
          186,
          192,
          162,
          184,
          146,
          77,
          21
         ],
         "yaxis": "y"
        },
        {
         "alignmentgroup": "True",
         "hovertemplate": "Sexo=Mujeres<br>Edad=%{x}<br>Número de suicidios=%{y}<extra></extra>",
         "legendgroup": "Mujeres",
         "marker": {
          "color": "rgb(85,168,104)",
          "pattern": {
           "shape": ""
          }
         },
         "name": "Mujeres",
         "offsetgroup": "Mujeres",
         "orientation": "v",
         "showlegend": true,
         "textposition": "auto",
         "type": "bar",
         "x": [
          "Menores de 15 años",
          "De 15 a 29 años",
          "De 30 a 39 años",
          "De 40 a 44 años",
          "De 45 a 49 años",
          "De 50 a 54 años",
          "De 55 a 59 años",
          "De 60 a 64 años",
          "De 65 a 69 años",
          "De 70 a 74 años",
          "De 75 a 79 años",
          "De 80 a 84 años",
          "De 85 a 89 años",
          "De 90 a 94 años"
         ],
         "xaxis": "x",
         "y": [
          7,
          73,
          98,
          83,
          95,
          117,
          137,
          88,
          59,
          72,
          62,
          56,
          39,
          21
         ],
         "yaxis": "y"
        }
       ],
       "layout": {
        "barmode": "group",
        "legend": {
         "title": {
          "text": "Sexo"
         },
         "tracegroupgap": 0
        },
        "template": {
         "data": {
          "bar": [
           {
            "error_x": {
             "color": "rgb(36,36,36)"
            },
            "error_y": {
             "color": "rgb(36,36,36)"
            },
            "marker": {
             "line": {
              "color": "rgb(234,234,242)",
              "width": 0.5
             },
             "pattern": {
              "fillmode": "overlay",
              "size": 10,
              "solidity": 0.2
             }
            },
            "type": "bar"
           }
          ],
          "barpolar": [
           {
            "marker": {
             "line": {
              "color": "rgb(234,234,242)",
              "width": 0.5
             },
             "pattern": {
              "fillmode": "overlay",
              "size": 10,
              "solidity": 0.2
             }
            },
            "type": "barpolar"
           }
          ],
          "carpet": [
           {
            "aaxis": {
             "endlinecolor": "rgb(36,36,36)",
             "gridcolor": "white",
             "linecolor": "white",
             "minorgridcolor": "white",
             "startlinecolor": "rgb(36,36,36)"
            },
            "baxis": {
             "endlinecolor": "rgb(36,36,36)",
             "gridcolor": "white",
             "linecolor": "white",
             "minorgridcolor": "white",
             "startlinecolor": "rgb(36,36,36)"
            },
            "type": "carpet"
           }
          ],
          "choropleth": [
           {
            "colorbar": {
             "outlinewidth": 0,
             "tickcolor": "rgb(36,36,36)",
             "ticklen": 8,
             "ticks": "outside",
             "tickwidth": 2
            },
            "type": "choropleth"
           }
          ],
          "contour": [
           {
            "colorbar": {
             "outlinewidth": 0,
             "tickcolor": "rgb(36,36,36)",
             "ticklen": 8,
             "ticks": "outside",
             "tickwidth": 2
            },
            "colorscale": [
             [
              0,
              "rgb(2,4,25)"
             ],
             [
              0.06274509803921569,
              "rgb(24,15,41)"
             ],
             [
              0.12549019607843137,
              "rgb(47,23,57)"
             ],
             [
              0.18823529411764706,
              "rgb(71,28,72)"
             ],
             [
              0.25098039215686274,
              "rgb(97,30,82)"
             ],
             [
              0.3137254901960784,
              "rgb(123,30,89)"
             ],
             [
              0.3764705882352941,
              "rgb(150,27,91)"
             ],
             [
              0.4392156862745098,
              "rgb(177,22,88)"
             ],
             [
              0.5019607843137255,
              "rgb(203,26,79)"
             ],
             [
              0.5647058823529412,
              "rgb(223,47,67)"
             ],
             [
              0.6274509803921569,
              "rgb(236,76,61)"
             ],
             [
              0.6901960784313725,
              "rgb(242,107,73)"
             ],
             [
              0.7529411764705882,
              "rgb(244,135,95)"
             ],
             [
              0.8156862745098039,
              "rgb(245,162,122)"
             ],
             [
              0.8784313725490196,
              "rgb(246,188,153)"
             ],
             [
              0.9411764705882353,
              "rgb(247,212,187)"
             ],
             [
              1,
              "rgb(250,234,220)"
             ]
            ],
            "type": "contour"
           }
          ],
          "contourcarpet": [
           {
            "colorbar": {
             "outlinewidth": 0,
             "tickcolor": "rgb(36,36,36)",
             "ticklen": 8,
             "ticks": "outside",
             "tickwidth": 2
            },
            "type": "contourcarpet"
           }
          ],
          "heatmap": [
           {
            "colorbar": {
             "outlinewidth": 0,
             "tickcolor": "rgb(36,36,36)",
             "ticklen": 8,
             "ticks": "outside",
             "tickwidth": 2
            },
            "colorscale": [
             [
              0,
              "rgb(2,4,25)"
             ],
             [
              0.06274509803921569,
              "rgb(24,15,41)"
             ],
             [
              0.12549019607843137,
              "rgb(47,23,57)"
             ],
             [
              0.18823529411764706,
              "rgb(71,28,72)"
             ],
             [
              0.25098039215686274,
              "rgb(97,30,82)"
             ],
             [
              0.3137254901960784,
              "rgb(123,30,89)"
             ],
             [
              0.3764705882352941,
              "rgb(150,27,91)"
             ],
             [
              0.4392156862745098,
              "rgb(177,22,88)"
             ],
             [
              0.5019607843137255,
              "rgb(203,26,79)"
             ],
             [
              0.5647058823529412,
              "rgb(223,47,67)"
             ],
             [
              0.6274509803921569,
              "rgb(236,76,61)"
             ],
             [
              0.6901960784313725,
              "rgb(242,107,73)"
             ],
             [
              0.7529411764705882,
              "rgb(244,135,95)"
             ],
             [
              0.8156862745098039,
              "rgb(245,162,122)"
             ],
             [
              0.8784313725490196,
              "rgb(246,188,153)"
             ],
             [
              0.9411764705882353,
              "rgb(247,212,187)"
             ],
             [
              1,
              "rgb(250,234,220)"
             ]
            ],
            "type": "heatmap"
           }
          ],
          "heatmapgl": [
           {
            "colorbar": {
             "outlinewidth": 0,
             "tickcolor": "rgb(36,36,36)",
             "ticklen": 8,
             "ticks": "outside",
             "tickwidth": 2
            },
            "colorscale": [
             [
              0,
              "rgb(2,4,25)"
             ],
             [
              0.06274509803921569,
              "rgb(24,15,41)"
             ],
             [
              0.12549019607843137,
              "rgb(47,23,57)"
             ],
             [
              0.18823529411764706,
              "rgb(71,28,72)"
             ],
             [
              0.25098039215686274,
              "rgb(97,30,82)"
             ],
             [
              0.3137254901960784,
              "rgb(123,30,89)"
             ],
             [
              0.3764705882352941,
              "rgb(150,27,91)"
             ],
             [
              0.4392156862745098,
              "rgb(177,22,88)"
             ],
             [
              0.5019607843137255,
              "rgb(203,26,79)"
             ],
             [
              0.5647058823529412,
              "rgb(223,47,67)"
             ],
             [
              0.6274509803921569,
              "rgb(236,76,61)"
             ],
             [
              0.6901960784313725,
              "rgb(242,107,73)"
             ],
             [
              0.7529411764705882,
              "rgb(244,135,95)"
             ],
             [
              0.8156862745098039,
              "rgb(245,162,122)"
             ],
             [
              0.8784313725490196,
              "rgb(246,188,153)"
             ],
             [
              0.9411764705882353,
              "rgb(247,212,187)"
             ],
             [
              1,
              "rgb(250,234,220)"
             ]
            ],
            "type": "heatmapgl"
           }
          ],
          "histogram": [
           {
            "marker": {
             "pattern": {
              "fillmode": "overlay",
              "size": 10,
              "solidity": 0.2
             }
            },
            "type": "histogram"
           }
          ],
          "histogram2d": [
           {
            "colorbar": {
             "outlinewidth": 0,
             "tickcolor": "rgb(36,36,36)",
             "ticklen": 8,
             "ticks": "outside",
             "tickwidth": 2
            },
            "colorscale": [
             [
              0,
              "rgb(2,4,25)"
             ],
             [
              0.06274509803921569,
              "rgb(24,15,41)"
             ],
             [
              0.12549019607843137,
              "rgb(47,23,57)"
             ],
             [
              0.18823529411764706,
              "rgb(71,28,72)"
             ],
             [
              0.25098039215686274,
              "rgb(97,30,82)"
             ],
             [
              0.3137254901960784,
              "rgb(123,30,89)"
             ],
             [
              0.3764705882352941,
              "rgb(150,27,91)"
             ],
             [
              0.4392156862745098,
              "rgb(177,22,88)"
             ],
             [
              0.5019607843137255,
              "rgb(203,26,79)"
             ],
             [
              0.5647058823529412,
              "rgb(223,47,67)"
             ],
             [
              0.6274509803921569,
              "rgb(236,76,61)"
             ],
             [
              0.6901960784313725,
              "rgb(242,107,73)"
             ],
             [
              0.7529411764705882,
              "rgb(244,135,95)"
             ],
             [
              0.8156862745098039,
              "rgb(245,162,122)"
             ],
             [
              0.8784313725490196,
              "rgb(246,188,153)"
             ],
             [
              0.9411764705882353,
              "rgb(247,212,187)"
             ],
             [
              1,
              "rgb(250,234,220)"
             ]
            ],
            "type": "histogram2d"
           }
          ],
          "histogram2dcontour": [
           {
            "colorbar": {
             "outlinewidth": 0,
             "tickcolor": "rgb(36,36,36)",
             "ticklen": 8,
             "ticks": "outside",
             "tickwidth": 2
            },
            "colorscale": [
             [
              0,
              "rgb(2,4,25)"
             ],
             [
              0.06274509803921569,
              "rgb(24,15,41)"
             ],
             [
              0.12549019607843137,
              "rgb(47,23,57)"
             ],
             [
              0.18823529411764706,
              "rgb(71,28,72)"
             ],
             [
              0.25098039215686274,
              "rgb(97,30,82)"
             ],
             [
              0.3137254901960784,
              "rgb(123,30,89)"
             ],
             [
              0.3764705882352941,
              "rgb(150,27,91)"
             ],
             [
              0.4392156862745098,
              "rgb(177,22,88)"
             ],
             [
              0.5019607843137255,
              "rgb(203,26,79)"
             ],
             [
              0.5647058823529412,
              "rgb(223,47,67)"
             ],
             [
              0.6274509803921569,
              "rgb(236,76,61)"
             ],
             [
              0.6901960784313725,
              "rgb(242,107,73)"
             ],
             [
              0.7529411764705882,
              "rgb(244,135,95)"
             ],
             [
              0.8156862745098039,
              "rgb(245,162,122)"
             ],
             [
              0.8784313725490196,
              "rgb(246,188,153)"
             ],
             [
              0.9411764705882353,
              "rgb(247,212,187)"
             ],
             [
              1,
              "rgb(250,234,220)"
             ]
            ],
            "type": "histogram2dcontour"
           }
          ],
          "mesh3d": [
           {
            "colorbar": {
             "outlinewidth": 0,
             "tickcolor": "rgb(36,36,36)",
             "ticklen": 8,
             "ticks": "outside",
             "tickwidth": 2
            },
            "type": "mesh3d"
           }
          ],
          "parcoords": [
           {
            "line": {
             "colorbar": {
              "outlinewidth": 0,
              "tickcolor": "rgb(36,36,36)",
              "ticklen": 8,
              "ticks": "outside",
              "tickwidth": 2
             }
            },
            "type": "parcoords"
           }
          ],
          "pie": [
           {
            "automargin": true,
            "type": "pie"
           }
          ],
          "scatter": [
           {
            "fillpattern": {
             "fillmode": "overlay",
             "size": 10,
             "solidity": 0.2
            },
            "type": "scatter"
           }
          ],
          "scatter3d": [
           {
            "line": {
             "colorbar": {
              "outlinewidth": 0,
              "tickcolor": "rgb(36,36,36)",
              "ticklen": 8,
              "ticks": "outside",
              "tickwidth": 2
             }
            },
            "marker": {
             "colorbar": {
              "outlinewidth": 0,
              "tickcolor": "rgb(36,36,36)",
              "ticklen": 8,
              "ticks": "outside",
              "tickwidth": 2
             }
            },
            "type": "scatter3d"
           }
          ],
          "scattercarpet": [
           {
            "marker": {
             "colorbar": {
              "outlinewidth": 0,
              "tickcolor": "rgb(36,36,36)",
              "ticklen": 8,
              "ticks": "outside",
              "tickwidth": 2
             }
            },
            "type": "scattercarpet"
           }
          ],
          "scattergeo": [
           {
            "marker": {
             "colorbar": {
              "outlinewidth": 0,
              "tickcolor": "rgb(36,36,36)",
              "ticklen": 8,
              "ticks": "outside",
              "tickwidth": 2
             }
            },
            "type": "scattergeo"
           }
          ],
          "scattergl": [
           {
            "marker": {
             "colorbar": {
              "outlinewidth": 0,
              "tickcolor": "rgb(36,36,36)",
              "ticklen": 8,
              "ticks": "outside",
              "tickwidth": 2
             }
            },
            "type": "scattergl"
           }
          ],
          "scattermapbox": [
           {
            "marker": {
             "colorbar": {
              "outlinewidth": 0,
              "tickcolor": "rgb(36,36,36)",
              "ticklen": 8,
              "ticks": "outside",
              "tickwidth": 2
             }
            },
            "type": "scattermapbox"
           }
          ],
          "scatterpolar": [
           {
            "marker": {
             "colorbar": {
              "outlinewidth": 0,
              "tickcolor": "rgb(36,36,36)",
              "ticklen": 8,
              "ticks": "outside",
              "tickwidth": 2
             }
            },
            "type": "scatterpolar"
           }
          ],
          "scatterpolargl": [
           {
            "marker": {
             "colorbar": {
              "outlinewidth": 0,
              "tickcolor": "rgb(36,36,36)",
              "ticklen": 8,
              "ticks": "outside",
              "tickwidth": 2
             }
            },
            "type": "scatterpolargl"
           }
          ],
          "scatterternary": [
           {
            "marker": {
             "colorbar": {
              "outlinewidth": 0,
              "tickcolor": "rgb(36,36,36)",
              "ticklen": 8,
              "ticks": "outside",
              "tickwidth": 2
             }
            },
            "type": "scatterternary"
           }
          ],
          "surface": [
           {
            "colorbar": {
             "outlinewidth": 0,
             "tickcolor": "rgb(36,36,36)",
             "ticklen": 8,
             "ticks": "outside",
             "tickwidth": 2
            },
            "colorscale": [
             [
              0,
              "rgb(2,4,25)"
             ],
             [
              0.06274509803921569,
              "rgb(24,15,41)"
             ],
             [
              0.12549019607843137,
              "rgb(47,23,57)"
             ],
             [
              0.18823529411764706,
              "rgb(71,28,72)"
             ],
             [
              0.25098039215686274,
              "rgb(97,30,82)"
             ],
             [
              0.3137254901960784,
              "rgb(123,30,89)"
             ],
             [
              0.3764705882352941,
              "rgb(150,27,91)"
             ],
             [
              0.4392156862745098,
              "rgb(177,22,88)"
             ],
             [
              0.5019607843137255,
              "rgb(203,26,79)"
             ],
             [
              0.5647058823529412,
              "rgb(223,47,67)"
             ],
             [
              0.6274509803921569,
              "rgb(236,76,61)"
             ],
             [
              0.6901960784313725,
              "rgb(242,107,73)"
             ],
             [
              0.7529411764705882,
              "rgb(244,135,95)"
             ],
             [
              0.8156862745098039,
              "rgb(245,162,122)"
             ],
             [
              0.8784313725490196,
              "rgb(246,188,153)"
             ],
             [
              0.9411764705882353,
              "rgb(247,212,187)"
             ],
             [
              1,
              "rgb(250,234,220)"
             ]
            ],
            "type": "surface"
           }
          ],
          "table": [
           {
            "cells": {
             "fill": {
              "color": "rgb(231,231,240)"
             },
             "line": {
              "color": "white"
             }
            },
            "header": {
             "fill": {
              "color": "rgb(183,183,191)"
             },
             "line": {
              "color": "white"
             }
            },
            "type": "table"
           }
          ]
         },
         "layout": {
          "annotationdefaults": {
           "arrowcolor": "rgb(67,103,167)"
          },
          "autotypenumbers": "strict",
          "coloraxis": {
           "colorbar": {
            "outlinewidth": 0,
            "tickcolor": "rgb(36,36,36)",
            "ticklen": 8,
            "ticks": "outside",
            "tickwidth": 2
           }
          },
          "colorscale": {
           "sequential": [
            [
             0,
             "rgb(2,4,25)"
            ],
            [
             0.06274509803921569,
             "rgb(24,15,41)"
            ],
            [
             0.12549019607843137,
             "rgb(47,23,57)"
            ],
            [
             0.18823529411764706,
             "rgb(71,28,72)"
            ],
            [
             0.25098039215686274,
             "rgb(97,30,82)"
            ],
            [
             0.3137254901960784,
             "rgb(123,30,89)"
            ],
            [
             0.3764705882352941,
             "rgb(150,27,91)"
            ],
            [
             0.4392156862745098,
             "rgb(177,22,88)"
            ],
            [
             0.5019607843137255,
             "rgb(203,26,79)"
            ],
            [
             0.5647058823529412,
             "rgb(223,47,67)"
            ],
            [
             0.6274509803921569,
             "rgb(236,76,61)"
            ],
            [
             0.6901960784313725,
             "rgb(242,107,73)"
            ],
            [
             0.7529411764705882,
             "rgb(244,135,95)"
            ],
            [
             0.8156862745098039,
             "rgb(245,162,122)"
            ],
            [
             0.8784313725490196,
             "rgb(246,188,153)"
            ],
            [
             0.9411764705882353,
             "rgb(247,212,187)"
            ],
            [
             1,
             "rgb(250,234,220)"
            ]
           ],
           "sequentialminus": [
            [
             0,
             "rgb(2,4,25)"
            ],
            [
             0.06274509803921569,
             "rgb(24,15,41)"
            ],
            [
             0.12549019607843137,
             "rgb(47,23,57)"
            ],
            [
             0.18823529411764706,
             "rgb(71,28,72)"
            ],
            [
             0.25098039215686274,
             "rgb(97,30,82)"
            ],
            [
             0.3137254901960784,
             "rgb(123,30,89)"
            ],
            [
             0.3764705882352941,
             "rgb(150,27,91)"
            ],
            [
             0.4392156862745098,
             "rgb(177,22,88)"
            ],
            [
             0.5019607843137255,
             "rgb(203,26,79)"
            ],
            [
             0.5647058823529412,
             "rgb(223,47,67)"
            ],
            [
             0.6274509803921569,
             "rgb(236,76,61)"
            ],
            [
             0.6901960784313725,
             "rgb(242,107,73)"
            ],
            [
             0.7529411764705882,
             "rgb(244,135,95)"
            ],
            [
             0.8156862745098039,
             "rgb(245,162,122)"
            ],
            [
             0.8784313725490196,
             "rgb(246,188,153)"
            ],
            [
             0.9411764705882353,
             "rgb(247,212,187)"
            ],
            [
             1,
             "rgb(250,234,220)"
            ]
           ]
          },
          "colorway": [
           "rgb(76,114,176)",
           "rgb(221,132,82)",
           "rgb(85,168,104)",
           "rgb(196,78,82)",
           "rgb(129,114,179)",
           "rgb(147,120,96)",
           "rgb(218,139,195)",
           "rgb(140,140,140)",
           "rgb(204,185,116)",
           "rgb(100,181,205)"
          ],
          "font": {
           "color": "rgb(36,36,36)"
          },
          "geo": {
           "bgcolor": "white",
           "lakecolor": "white",
           "landcolor": "rgb(234,234,242)",
           "showlakes": true,
           "showland": true,
           "subunitcolor": "white"
          },
          "hoverlabel": {
           "align": "left"
          },
          "hovermode": "closest",
          "paper_bgcolor": "white",
          "plot_bgcolor": "rgb(234,234,242)",
          "polar": {
           "angularaxis": {
            "gridcolor": "white",
            "linecolor": "white",
            "showgrid": true,
            "ticks": ""
           },
           "bgcolor": "rgb(234,234,242)",
           "radialaxis": {
            "gridcolor": "white",
            "linecolor": "white",
            "showgrid": true,
            "ticks": ""
           }
          },
          "scene": {
           "xaxis": {
            "backgroundcolor": "rgb(234,234,242)",
            "gridcolor": "white",
            "gridwidth": 2,
            "linecolor": "white",
            "showbackground": true,
            "showgrid": true,
            "ticks": "",
            "zerolinecolor": "white"
           },
           "yaxis": {
            "backgroundcolor": "rgb(234,234,242)",
            "gridcolor": "white",
            "gridwidth": 2,
            "linecolor": "white",
            "showbackground": true,
            "showgrid": true,
            "ticks": "",
            "zerolinecolor": "white"
           },
           "zaxis": {
            "backgroundcolor": "rgb(234,234,242)",
            "gridcolor": "white",
            "gridwidth": 2,
            "linecolor": "white",
            "showbackground": true,
            "showgrid": true,
            "ticks": "",
            "zerolinecolor": "white"
           }
          },
          "shapedefaults": {
           "fillcolor": "rgb(67,103,167)",
           "line": {
            "width": 0
           },
           "opacity": 0.5
          },
          "ternary": {
           "aaxis": {
            "gridcolor": "white",
            "linecolor": "white",
            "showgrid": true,
            "ticks": ""
           },
           "baxis": {
            "gridcolor": "white",
            "linecolor": "white",
            "showgrid": true,
            "ticks": ""
           },
           "bgcolor": "rgb(234,234,242)",
           "caxis": {
            "gridcolor": "white",
            "linecolor": "white",
            "showgrid": true,
            "ticks": ""
           }
          },
          "xaxis": {
           "automargin": true,
           "gridcolor": "white",
           "linecolor": "white",
           "showgrid": true,
           "ticks": "",
           "title": {
            "standoff": 15
           },
           "zerolinecolor": "white"
          },
          "yaxis": {
           "automargin": true,
           "gridcolor": "white",
           "linecolor": "white",
           "showgrid": true,
           "ticks": "",
           "title": {
            "standoff": 15
           },
           "zerolinecolor": "white"
          }
         }
        },
        "title": {
         "text": "Suicidios 2020 por sexo y edad"
        },
        "xaxis": {
         "anchor": "y",
         "domain": [
          0,
          1
         ],
         "title": {
          "text": "Edad"
         }
        },
        "yaxis": {
         "anchor": "x",
         "domain": [
          0,
          1
         ],
         "title": {
          "text": "Número de suicidios"
         }
        }
       }
      }
     },
     "metadata": {},
     "output_type": "display_data"
    }
   ],
   "source": [
    "#Preparar dataframe. Se omiten las 3 primeras filas del df para no romper los datos y que se vea mejor la información.\n",
    "df20 = df2020.iloc[3:-1]\n",
    "fig5 = px.bar (df20, x=\"Edad\", y = \"Total\", color= \"Sexo\",title=\"Suicidios 2020 por sexo y edad\", labels={\"Total\": \"Número de suicidios\"}, template=\"seaborn\", barmode=\"group\")\n",
    "fig5.show()"
   ]
  },
  {
   "attachments": {},
   "cell_type": "markdown",
   "metadata": {},
   "source": [
    "SUICIDIOS 2020 POR COMUNIDAD AUTÓNOMA"
   ]
  },
  {
   "cell_type": "code",
   "execution_count": 100,
   "metadata": {},
   "outputs": [
    {
     "data": {
      "application/vnd.plotly.v1+json": {
       "config": {
        "plotlyServerURL": "https://plot.ly"
       },
       "data": [
        {
         "alignmentgroup": "True",
         "hovertemplate": "<b>%{hovertext}</b><br><br>Sexo=Ambos sexos<br>Comunidades autónomas=%{x}<br>Número de suicidios=%{y}<extra></extra>",
         "hovertext": [
          "Todas las edades",
          "Menores de 15 años",
          "De 15 a 29 años",
          "De 30 a 39 años",
          "De 40 a 44 años",
          "De 45 a 49 años",
          "De 50 a 54 años",
          "De 55 a 59 años",
          "De 60 a 64 años",
          "De 65 a 69 años",
          "De 70 a 74 años",
          "De 75 a 79 años",
          "De 80 a 84 años",
          "De 85 a 89 años",
          "De 90 a 94 años",
          "De 95 años y más",
          "Todas las edades",
          "Menores de 15 años",
          "De 15 a 29 años",
          "De 30 a 39 años",
          "De 40 a 44 años",
          "De 45 a 49 años",
          "De 50 a 54 años",
          "De 55 a 59 años",
          "De 60 a 64 años",
          "De 65 a 69 años",
          "De 70 a 74 años",
          "De 75 a 79 años",
          "De 80 a 84 años",
          "De 85 a 89 años",
          "De 90 a 94 años",
          "De 95 años y más",
          "Todas las edades",
          "Menores de 15 años",
          "De 15 a 29 años",
          "De 30 a 39 años",
          "De 40 a 44 años",
          "De 45 a 49 años",
          "De 50 a 54 años",
          "De 55 a 59 años",
          "De 60 a 64 años",
          "De 65 a 69 años",
          "De 70 a 74 años",
          "De 75 a 79 años",
          "De 80 a 84 años",
          "De 85 a 89 años",
          "De 90 a 94 años",
          "De 95 años y más",
          "Todas las edades",
          "Menores de 15 años",
          "De 15 a 29 años",
          "De 30 a 39 años",
          "De 40 a 44 años",
          "De 45 a 49 años",
          "De 50 a 54 años",
          "De 55 a 59 años",
          "De 60 a 64 años",
          "De 65 a 69 años",
          "De 70 a 74 años",
          "De 75 a 79 años",
          "De 80 a 84 años",
          "De 85 a 89 años",
          "De 90 a 94 años",
          "De 95 años y más",
          "Todas las edades",
          "Menores de 15 años",
          "De 15 a 29 años",
          "De 30 a 39 años",
          "De 40 a 44 años",
          "De 45 a 49 años",
          "De 50 a 54 años",
          "De 55 a 59 años",
          "De 60 a 64 años",
          "De 65 a 69 años",
          "De 70 a 74 años",
          "De 75 a 79 años",
          "De 80 a 84 años",
          "De 85 a 89 años",
          "De 90 a 94 años",
          "De 95 años y más",
          "Todas las edades",
          "Menores de 15 años",
          "De 15 a 29 años",
          "De 30 a 39 años",
          "De 40 a 44 años",
          "De 45 a 49 años",
          "De 50 a 54 años",
          "De 55 a 59 años",
          "De 60 a 64 años",
          "De 65 a 69 años",
          "De 70 a 74 años",
          "De 75 a 79 años",
          "De 80 a 84 años",
          "De 85 a 89 años",
          "De 90 a 94 años",
          "De 95 años y más",
          "Todas las edades",
          "Menores de 15 años",
          "De 15 a 29 años",
          "De 30 a 39 años",
          "De 40 a 44 años",
          "De 45 a 49 años",
          "De 50 a 54 años",
          "De 55 a 59 años",
          "De 60 a 64 años",
          "De 65 a 69 años",
          "De 70 a 74 años",
          "De 75 a 79 años",
          "De 80 a 84 años",
          "De 85 a 89 años",
          "De 90 a 94 años",
          "De 95 años y más",
          "Todas las edades",
          "Menores de 15 años",
          "De 15 a 29 años",
          "De 30 a 39 años",
          "De 40 a 44 años",
          "De 45 a 49 años",
          "De 50 a 54 años",
          "De 55 a 59 años",
          "De 60 a 64 años",
          "De 65 a 69 años",
          "De 70 a 74 años",
          "De 75 a 79 años",
          "De 80 a 84 años",
          "De 85 a 89 años",
          "De 90 a 94 años",
          "De 95 años y más",
          "Todas las edades",
          "Menores de 15 años",
          "De 15 a 29 años",
          "De 30 a 39 años",
          "De 40 a 44 años",
          "De 45 a 49 años",
          "De 50 a 54 años",
          "De 55 a 59 años",
          "De 60 a 64 años",
          "De 65 a 69 años",
          "De 70 a 74 años",
          "De 75 a 79 años",
          "De 80 a 84 años",
          "De 85 a 89 años",
          "De 90 a 94 años",
          "De 95 años y más",
          "Todas las edades",
          "Menores de 15 años",
          "De 15 a 29 años",
          "De 30 a 39 años",
          "De 40 a 44 años",
          "De 45 a 49 años",
          "De 50 a 54 años",
          "De 55 a 59 años",
          "De 60 a 64 años",
          "De 65 a 69 años",
          "De 70 a 74 años",
          "De 75 a 79 años",
          "De 80 a 84 años",
          "De 85 a 89 años",
          "De 90 a 94 años",
          "De 95 años y más",
          "Todas las edades",
          "Menores de 15 años",
          "De 15 a 29 años",
          "De 30 a 39 años",
          "De 40 a 44 años",
          "De 45 a 49 años",
          "De 50 a 54 años",
          "De 55 a 59 años",
          "De 60 a 64 años",
          "De 65 a 69 años",
          "De 70 a 74 años",
          "De 75 a 79 años",
          "De 80 a 84 años",
          "De 85 a 89 años",
          "De 90 a 94 años",
          "De 95 años y más",
          "Todas las edades",
          "Menores de 15 años",
          "De 15 a 29 años",
          "De 30 a 39 años",
          "De 40 a 44 años",
          "De 45 a 49 años",
          "De 50 a 54 años",
          "De 55 a 59 años",
          "De 60 a 64 años",
          "De 65 a 69 años",
          "De 70 a 74 años",
          "De 75 a 79 años",
          "De 80 a 84 años",
          "De 85 a 89 años",
          "De 90 a 94 años",
          "De 95 años y más",
          "Todas las edades",
          "Menores de 15 años",
          "De 15 a 29 años",
          "De 30 a 39 años",
          "De 40 a 44 años",
          "De 45 a 49 años",
          "De 50 a 54 años",
          "De 55 a 59 años",
          "De 60 a 64 años",
          "De 65 a 69 años",
          "De 70 a 74 años",
          "De 75 a 79 años",
          "De 80 a 84 años",
          "De 85 a 89 años",
          "De 90 a 94 años",
          "De 95 años y más",
          "Todas las edades",
          "Menores de 15 años",
          "De 15 a 29 años",
          "De 30 a 39 años",
          "De 40 a 44 años",
          "De 45 a 49 años",
          "De 50 a 54 años",
          "De 55 a 59 años",
          "De 60 a 64 años",
          "De 65 a 69 años",
          "De 70 a 74 años",
          "De 75 a 79 años",
          "De 80 a 84 años",
          "De 85 a 89 años",
          "De 90 a 94 años",
          "De 95 años y más",
          "Todas las edades",
          "Menores de 15 años",
          "De 15 a 29 años",
          "De 30 a 39 años",
          "De 40 a 44 años",
          "De 45 a 49 años",
          "De 50 a 54 años",
          "De 55 a 59 años",
          "De 60 a 64 años",
          "De 65 a 69 años",
          "De 70 a 74 años",
          "De 75 a 79 años",
          "De 80 a 84 años",
          "De 85 a 89 años",
          "De 90 a 94 años",
          "De 95 años y más",
          "Todas las edades",
          "Menores de 15 años",
          "De 15 a 29 años",
          "De 30 a 39 años",
          "De 40 a 44 años",
          "De 45 a 49 años",
          "De 50 a 54 años",
          "De 55 a 59 años",
          "De 60 a 64 años",
          "De 65 a 69 años",
          "De 70 a 74 años",
          "De 75 a 79 años",
          "De 80 a 84 años",
          "De 85 a 89 años",
          "De 90 a 94 años",
          "De 95 años y más",
          "Todas las edades",
          "Menores de 15 años",
          "De 15 a 29 años",
          "De 30 a 39 años",
          "De 40 a 44 años",
          "De 45 a 49 años",
          "De 50 a 54 años",
          "De 55 a 59 años",
          "De 60 a 64 años",
          "De 65 a 69 años",
          "De 70 a 74 años",
          "De 75 a 79 años",
          "De 80 a 84 años",
          "De 85 a 89 años",
          "De 90 a 94 años",
          "De 95 años y más",
          "Todas las edades",
          "Menores de 15 años",
          "De 15 a 29 años",
          "De 30 a 39 años",
          "De 40 a 44 años",
          "De 45 a 49 años",
          "De 50 a 54 años",
          "De 55 a 59 años",
          "De 60 a 64 años",
          "De 65 a 69 años",
          "De 70 a 74 años",
          "De 75 a 79 años",
          "De 80 a 84 años",
          "De 85 a 89 años",
          "De 90 a 94 años",
          "De 95 años y más",
          "Todas las edades",
          "Menores de 15 años",
          "De 15 a 29 años",
          "De 30 a 39 años",
          "De 40 a 44 años",
          "De 45 a 49 años",
          "De 50 a 54 años",
          "De 55 a 59 años",
          "De 60 a 64 años",
          "De 65 a 69 años",
          "De 70 a 74 años",
          "De 75 a 79 años",
          "De 80 a 84 años",
          "De 85 a 89 años",
          "De 90 a 94 años",
          "De 95 años y más"
         ],
         "legendgroup": "Ambos sexos",
         "marker": {
          "color": "rgb(76,114,176)",
          "pattern": {
           "shape": ""
          }
         },
         "name": "Ambos sexos",
         "offsetgroup": "Ambos sexos",
         "orientation": "v",
         "showlegend": true,
         "textposition": "auto",
         "type": "bar",
         "x": [
          "Andalucía",
          "Andalucía",
          "Andalucía",
          "Andalucía",
          "Andalucía",
          "Andalucía",
          "Andalucía",
          "Andalucía",
          "Andalucía",
          "Andalucía",
          "Andalucía",
          "Andalucía",
          "Andalucía",
          "Andalucía",
          "Andalucía",
          "Andalucía",
          "Aragón",
          "Aragón",
          "Aragón",
          "Aragón",
          "Aragón",
          "Aragón",
          "Aragón",
          "Aragón",
          "Aragón",
          "Aragón",
          "Aragón",
          "Aragón",
          "Aragón",
          "Aragón",
          "Aragón",
          "Aragón",
          "Asturias, Principado de",
          "Asturias, Principado de",
          "Asturias, Principado de",
          "Asturias, Principado de",
          "Asturias, Principado de",
          "Asturias, Principado de",
          "Asturias, Principado de",
          "Asturias, Principado de",
          "Asturias, Principado de",
          "Asturias, Principado de",
          "Asturias, Principado de",
          "Asturias, Principado de",
          "Asturias, Principado de",
          "Asturias, Principado de",
          "Asturias, Principado de",
          "Asturias, Principado de",
          "Balears, Illes",
          "Balears, Illes",
          "Balears, Illes",
          "Balears, Illes",
          "Balears, Illes",
          "Balears, Illes",
          "Balears, Illes",
          "Balears, Illes",
          "Balears, Illes",
          "Balears, Illes",
          "Balears, Illes",
          "Balears, Illes",
          "Balears, Illes",
          "Balears, Illes",
          "Balears, Illes",
          "Balears, Illes",
          "Canarias",
          "Canarias",
          "Canarias",
          "Canarias",
          "Canarias",
          "Canarias",
          "Canarias",
          "Canarias",
          "Canarias",
          "Canarias",
          "Canarias",
          "Canarias",
          "Canarias",
          "Canarias",
          "Canarias",
          "Canarias",
          "Cantabria",
          "Cantabria",
          "Cantabria",
          "Cantabria",
          "Cantabria",
          "Cantabria",
          "Cantabria",
          "Cantabria",
          "Cantabria",
          "Cantabria",
          "Cantabria",
          "Cantabria",
          "Cantabria",
          "Cantabria",
          "Cantabria",
          "Cantabria",
          "Castilla y León",
          "Castilla y León",
          "Castilla y León",
          "Castilla y León",
          "Castilla y León",
          "Castilla y León",
          "Castilla y León",
          "Castilla y León",
          "Castilla y León",
          "Castilla y León",
          "Castilla y León",
          "Castilla y León",
          "Castilla y León",
          "Castilla y León",
          "Castilla y León",
          "Castilla y León",
          "Castilla-La Mancha",
          "Castilla-La Mancha",
          "Castilla-La Mancha",
          "Castilla-La Mancha",
          "Castilla-La Mancha",
          "Castilla-La Mancha",
          "Castilla-La Mancha",
          "Castilla-La Mancha",
          "Castilla-La Mancha",
          "Castilla-La Mancha",
          "Castilla-La Mancha",
          "Castilla-La Mancha",
          "Castilla-La Mancha",
          "Castilla-La Mancha",
          "Castilla-La Mancha",
          "Castilla-La Mancha",
          "Cataluña",
          "Cataluña",
          "Cataluña",
          "Cataluña",
          "Cataluña",
          "Cataluña",
          "Cataluña",
          "Cataluña",
          "Cataluña",
          "Cataluña",
          "Cataluña",
          "Cataluña",
          "Cataluña",
          "Cataluña",
          "Cataluña",
          "Cataluña",
          "Comunitat Valenciana",
          "Comunitat Valenciana",
          "Comunitat Valenciana",
          "Comunitat Valenciana",
          "Comunitat Valenciana",
          "Comunitat Valenciana",
          "Comunitat Valenciana",
          "Comunitat Valenciana",
          "Comunitat Valenciana",
          "Comunitat Valenciana",
          "Comunitat Valenciana",
          "Comunitat Valenciana",
          "Comunitat Valenciana",
          "Comunitat Valenciana",
          "Comunitat Valenciana",
          "Comunitat Valenciana",
          "Extremadura",
          "Extremadura",
          "Extremadura",
          "Extremadura",
          "Extremadura",
          "Extremadura",
          "Extremadura",
          "Extremadura",
          "Extremadura",
          "Extremadura",
          "Extremadura",
          "Extremadura",
          "Extremadura",
          "Extremadura",
          "Extremadura",
          "Extremadura",
          "Galicia",
          "Galicia",
          "Galicia",
          "Galicia",
          "Galicia",
          "Galicia",
          "Galicia",
          "Galicia",
          "Galicia",
          "Galicia",
          "Galicia",
          "Galicia",
          "Galicia",
          "Galicia",
          "Galicia",
          "Galicia",
          "Madrid, Comunidad de",
          "Madrid, Comunidad de",
          "Madrid, Comunidad de",
          "Madrid, Comunidad de",
          "Madrid, Comunidad de",
          "Madrid, Comunidad de",
          "Madrid, Comunidad de",
          "Madrid, Comunidad de",
          "Madrid, Comunidad de",
          "Madrid, Comunidad de",
          "Madrid, Comunidad de",
          "Madrid, Comunidad de",
          "Madrid, Comunidad de",
          "Madrid, Comunidad de",
          "Madrid, Comunidad de",
          "Madrid, Comunidad de",
          "Murcia, Región de",
          "Murcia, Región de",
          "Murcia, Región de",
          "Murcia, Región de",
          "Murcia, Región de",
          "Murcia, Región de",
          "Murcia, Región de",
          "Murcia, Región de",
          "Murcia, Región de",
          "Murcia, Región de",
          "Murcia, Región de",
          "Murcia, Región de",
          "Murcia, Región de",
          "Murcia, Región de",
          "Murcia, Región de",
          "Murcia, Región de",
          "Navarra, Comunidad Foral de",
          "Navarra, Comunidad Foral de",
          "Navarra, Comunidad Foral de",
          "Navarra, Comunidad Foral de",
          "Navarra, Comunidad Foral de",
          "Navarra, Comunidad Foral de",
          "Navarra, Comunidad Foral de",
          "Navarra, Comunidad Foral de",
          "Navarra, Comunidad Foral de",
          "Navarra, Comunidad Foral de",
          "Navarra, Comunidad Foral de",
          "Navarra, Comunidad Foral de",
          "Navarra, Comunidad Foral de",
          "Navarra, Comunidad Foral de",
          "Navarra, Comunidad Foral de",
          "Navarra, Comunidad Foral de",
          "País Vasco",
          "País Vasco",
          "País Vasco",
          "País Vasco",
          "País Vasco",
          "País Vasco",
          "País Vasco",
          "País Vasco",
          "País Vasco",
          "País Vasco",
          "País Vasco",
          "País Vasco",
          "País Vasco",
          "País Vasco",
          "País Vasco",
          "País Vasco",
          "Rioja, La",
          "Rioja, La",
          "Rioja, La",
          "Rioja, La",
          "Rioja, La",
          "Rioja, La",
          "Rioja, La",
          "Rioja, La",
          "Rioja, La",
          "Rioja, La",
          "Rioja, La",
          "Rioja, La",
          "Rioja, La",
          "Rioja, La",
          "Rioja, La",
          "Rioja, La",
          "Ceuta",
          "Ceuta",
          "Ceuta",
          "Ceuta",
          "Ceuta",
          "Ceuta",
          "Ceuta",
          "Ceuta",
          "Ceuta",
          "Ceuta",
          "Ceuta",
          "Ceuta",
          "Ceuta",
          "Ceuta",
          "Ceuta",
          "Ceuta",
          "Melilla",
          "Melilla",
          "Melilla",
          "Melilla",
          "Melilla",
          "Melilla",
          "Melilla",
          "Melilla",
          "Melilla",
          "Melilla",
          "Melilla",
          "Melilla",
          "Melilla",
          "Melilla",
          "Melilla",
          "Melilla"
         ],
         "xaxis": "x",
         "y": [
          793,
          2,
          67,
          72,
          76,
          80,
          90,
          87,
          58,
          52,
          61,
          50,
          41,
          40,
          14,
          3,
          102,
          1,
          11,
          14,
          11,
          6,
          9,
          10,
          7,
          3,
          4,
          7,
          4,
          10,
          3,
          2,
          122,
          0,
          9,
          8,
          5,
          13,
          8,
          12,
          18,
          8,
          9,
          5,
          13,
          11,
          3,
          0,
          87,
          0,
          5,
          14,
          7,
          9,
          16,
          5,
          10,
          4,
          4,
          4,
          1,
          7,
          1,
          0,
          208,
          1,
          13,
          29,
          22,
          20,
          24,
          33,
          13,
          11,
          17,
          9,
          9,
          6,
          0,
          1,
          46,
          0,
          1,
          3,
          4,
          3,
          7,
          5,
          4,
          2,
          7,
          2,
          5,
          1,
          2,
          0,
          228,
          0,
          11,
          13,
          16,
          28,
          18,
          22,
          17,
          25,
          22,
          14,
          17,
          15,
          9,
          1,
          180,
          0,
          20,
          13,
          15,
          17,
          21,
          20,
          10,
          10,
          10,
          11,
          15,
          7,
          8,
          3,
          556,
          2,
          40,
          67,
          45,
          57,
          69,
          56,
          40,
          32,
          37,
          33,
          42,
          17,
          18,
          1,
          440,
          1,
          32,
          57,
          45,
          37,
          53,
          41,
          43,
          25,
          19,
          29,
          25,
          21,
          7,
          5,
          92,
          0,
          9,
          8,
          5,
          11,
          9,
          7,
          5,
          4,
          12,
          7,
          5,
          8,
          2,
          0,
          305,
          1,
          14,
          21,
          26,
          33,
          40,
          30,
          32,
          21,
          19,
          14,
          34,
          12,
          6,
          2,
          373,
          2,
          37,
          48,
          35,
          37,
          42,
          43,
          36,
          12,
          26,
          16,
          13,
          10,
          12,
          4,
          122,
          1,
          10,
          17,
          11,
          13,
          8,
          12,
          12,
          11,
          6,
          4,
          4,
          6,
          4,
          3,
          44,
          1,
          5,
          5,
          7,
          4,
          3,
          7,
          6,
          3,
          1,
          1,
          0,
          0,
          1,
          0,
          179,
          1,
          8,
          12,
          16,
          24,
          18,
          17,
          13,
          16,
          10,
          17,
          9,
          12,
          6,
          0,
          29,
          0,
          1,
          4,
          5,
          0,
          2,
          5,
          1,
          3,
          0,
          1,
          3,
          2,
          2,
          0,
          4,
          0,
          0,
          0,
          1,
          0,
          0,
          1,
          1,
          1,
          0,
          0,
          0,
          0,
          0,
          0,
          4,
          0,
          2,
          0,
          0,
          0,
          0,
          1,
          0,
          1,
          0,
          0,
          0,
          0,
          0,
          0
         ],
         "yaxis": "y"
        },
        {
         "alignmentgroup": "True",
         "hovertemplate": "<b>%{hovertext}</b><br><br>Sexo=Hombres<br>Comunidades autónomas=%{x}<br>Número de suicidios=%{y}<extra></extra>",
         "hovertext": [
          "Todas las edades",
          "Menores de 15 años",
          "De 15 a 29 años",
          "De 30 a 39 años",
          "De 40 a 44 años",
          "De 45 a 49 años",
          "De 50 a 54 años",
          "De 55 a 59 años",
          "De 60 a 64 años",
          "De 65 a 69 años",
          "De 70 a 74 años",
          "De 75 a 79 años",
          "De 80 a 84 años",
          "De 85 a 89 años",
          "De 90 a 94 años",
          "De 95 años y más",
          "Todas las edades",
          "Menores de 15 años",
          "De 15 a 29 años",
          "De 30 a 39 años",
          "De 40 a 44 años",
          "De 45 a 49 años",
          "De 50 a 54 años",
          "De 55 a 59 años",
          "De 60 a 64 años",
          "De 65 a 69 años",
          "De 70 a 74 años",
          "De 75 a 79 años",
          "De 80 a 84 años",
          "De 85 a 89 años",
          "De 90 a 94 años",
          "De 95 años y más",
          "Todas las edades",
          "Menores de 15 años",
          "De 15 a 29 años",
          "De 30 a 39 años",
          "De 40 a 44 años",
          "De 45 a 49 años",
          "De 50 a 54 años",
          "De 55 a 59 años",
          "De 60 a 64 años",
          "De 65 a 69 años",
          "De 70 a 74 años",
          "De 75 a 79 años",
          "De 80 a 84 años",
          "De 85 a 89 años",
          "De 90 a 94 años",
          "De 95 años y más",
          "Todas las edades",
          "Menores de 15 años",
          "De 15 a 29 años",
          "De 30 a 39 años",
          "De 40 a 44 años",
          "De 45 a 49 años",
          "De 50 a 54 años",
          "De 55 a 59 años",
          "De 60 a 64 años",
          "De 65 a 69 años",
          "De 70 a 74 años",
          "De 75 a 79 años",
          "De 80 a 84 años",
          "De 85 a 89 años",
          "De 90 a 94 años",
          "De 95 años y más",
          "Todas las edades",
          "Menores de 15 años",
          "De 15 a 29 años",
          "De 30 a 39 años",
          "De 40 a 44 años",
          "De 45 a 49 años",
          "De 50 a 54 años",
          "De 55 a 59 años",
          "De 60 a 64 años",
          "De 65 a 69 años",
          "De 70 a 74 años",
          "De 75 a 79 años",
          "De 80 a 84 años",
          "De 85 a 89 años",
          "De 90 a 94 años",
          "De 95 años y más",
          "Todas las edades",
          "Menores de 15 años",
          "De 15 a 29 años",
          "De 30 a 39 años",
          "De 40 a 44 años",
          "De 45 a 49 años",
          "De 50 a 54 años",
          "De 55 a 59 años",
          "De 60 a 64 años",
          "De 65 a 69 años",
          "De 70 a 74 años",
          "De 75 a 79 años",
          "De 80 a 84 años",
          "De 85 a 89 años",
          "De 90 a 94 años",
          "De 95 años y más",
          "Todas las edades",
          "Menores de 15 años",
          "De 15 a 29 años",
          "De 30 a 39 años",
          "De 40 a 44 años",
          "De 45 a 49 años",
          "De 50 a 54 años",
          "De 55 a 59 años",
          "De 60 a 64 años",
          "De 65 a 69 años",
          "De 70 a 74 años",
          "De 75 a 79 años",
          "De 80 a 84 años",
          "De 85 a 89 años",
          "De 90 a 94 años",
          "De 95 años y más",
          "Todas las edades",
          "Menores de 15 años",
          "De 15 a 29 años",
          "De 30 a 39 años",
          "De 40 a 44 años",
          "De 45 a 49 años",
          "De 50 a 54 años",
          "De 55 a 59 años",
          "De 60 a 64 años",
          "De 65 a 69 años",
          "De 70 a 74 años",
          "De 75 a 79 años",
          "De 80 a 84 años",
          "De 85 a 89 años",
          "De 90 a 94 años",
          "De 95 años y más",
          "Todas las edades",
          "Menores de 15 años",
          "De 15 a 29 años",
          "De 30 a 39 años",
          "De 40 a 44 años",
          "De 45 a 49 años",
          "De 50 a 54 años",
          "De 55 a 59 años",
          "De 60 a 64 años",
          "De 65 a 69 años",
          "De 70 a 74 años",
          "De 75 a 79 años",
          "De 80 a 84 años",
          "De 85 a 89 años",
          "De 90 a 94 años",
          "De 95 años y más",
          "Todas las edades",
          "Menores de 15 años",
          "De 15 a 29 años",
          "De 30 a 39 años",
          "De 40 a 44 años",
          "De 45 a 49 años",
          "De 50 a 54 años",
          "De 55 a 59 años",
          "De 60 a 64 años",
          "De 65 a 69 años",
          "De 70 a 74 años",
          "De 75 a 79 años",
          "De 80 a 84 años",
          "De 85 a 89 años",
          "De 90 a 94 años",
          "De 95 años y más",
          "Todas las edades",
          "Menores de 15 años",
          "De 15 a 29 años",
          "De 30 a 39 años",
          "De 40 a 44 años",
          "De 45 a 49 años",
          "De 50 a 54 años",
          "De 55 a 59 años",
          "De 60 a 64 años",
          "De 65 a 69 años",
          "De 70 a 74 años",
          "De 75 a 79 años",
          "De 80 a 84 años",
          "De 85 a 89 años",
          "De 90 a 94 años",
          "De 95 años y más",
          "Todas las edades",
          "Menores de 15 años",
          "De 15 a 29 años",
          "De 30 a 39 años",
          "De 40 a 44 años",
          "De 45 a 49 años",
          "De 50 a 54 años",
          "De 55 a 59 años",
          "De 60 a 64 años",
          "De 65 a 69 años",
          "De 70 a 74 años",
          "De 75 a 79 años",
          "De 80 a 84 años",
          "De 85 a 89 años",
          "De 90 a 94 años",
          "De 95 años y más",
          "Todas las edades",
          "Menores de 15 años",
          "De 15 a 29 años",
          "De 30 a 39 años",
          "De 40 a 44 años",
          "De 45 a 49 años",
          "De 50 a 54 años",
          "De 55 a 59 años",
          "De 60 a 64 años",
          "De 65 a 69 años",
          "De 70 a 74 años",
          "De 75 a 79 años",
          "De 80 a 84 años",
          "De 85 a 89 años",
          "De 90 a 94 años",
          "De 95 años y más",
          "Todas las edades",
          "Menores de 15 años",
          "De 15 a 29 años",
          "De 30 a 39 años",
          "De 40 a 44 años",
          "De 45 a 49 años",
          "De 50 a 54 años",
          "De 55 a 59 años",
          "De 60 a 64 años",
          "De 65 a 69 años",
          "De 70 a 74 años",
          "De 75 a 79 años",
          "De 80 a 84 años",
          "De 85 a 89 años",
          "De 90 a 94 años",
          "De 95 años y más",
          "Todas las edades",
          "Menores de 15 años",
          "De 15 a 29 años",
          "De 30 a 39 años",
          "De 40 a 44 años",
          "De 45 a 49 años",
          "De 50 a 54 años",
          "De 55 a 59 años",
          "De 60 a 64 años",
          "De 65 a 69 años",
          "De 70 a 74 años",
          "De 75 a 79 años",
          "De 80 a 84 años",
          "De 85 a 89 años",
          "De 90 a 94 años",
          "De 95 años y más",
          "Todas las edades",
          "Menores de 15 años",
          "De 15 a 29 años",
          "De 30 a 39 años",
          "De 40 a 44 años",
          "De 45 a 49 años",
          "De 50 a 54 años",
          "De 55 a 59 años",
          "De 60 a 64 años",
          "De 65 a 69 años",
          "De 70 a 74 años",
          "De 75 a 79 años",
          "De 80 a 84 años",
          "De 85 a 89 años",
          "De 90 a 94 años",
          "De 95 años y más",
          "Todas las edades",
          "Menores de 15 años",
          "De 15 a 29 años",
          "De 30 a 39 años",
          "De 40 a 44 años",
          "De 45 a 49 años",
          "De 50 a 54 años",
          "De 55 a 59 años",
          "De 60 a 64 años",
          "De 65 a 69 años",
          "De 70 a 74 años",
          "De 75 a 79 años",
          "De 80 a 84 años",
          "De 85 a 89 años",
          "De 90 a 94 años",
          "De 95 años y más",
          "Todas las edades",
          "Menores de 15 años",
          "De 15 a 29 años",
          "De 30 a 39 años",
          "De 40 a 44 años",
          "De 45 a 49 años",
          "De 50 a 54 años",
          "De 55 a 59 años",
          "De 60 a 64 años",
          "De 65 a 69 años",
          "De 70 a 74 años",
          "De 75 a 79 años",
          "De 80 a 84 años",
          "De 85 a 89 años",
          "De 90 a 94 años",
          "De 95 años y más",
          "Todas las edades",
          "Menores de 15 años",
          "De 15 a 29 años",
          "De 30 a 39 años",
          "De 40 a 44 años",
          "De 45 a 49 años",
          "De 50 a 54 años",
          "De 55 a 59 años",
          "De 60 a 64 años",
          "De 65 a 69 años",
          "De 70 a 74 años",
          "De 75 a 79 años",
          "De 80 a 84 años",
          "De 85 a 89 años",
          "De 90 a 94 años",
          "De 95 años y más"
         ],
         "legendgroup": "Hombres",
         "marker": {
          "color": "rgb(221,132,82)",
          "pattern": {
           "shape": ""
          }
         },
         "name": "Hombres",
         "offsetgroup": "Hombres",
         "orientation": "v",
         "showlegend": true,
         "textposition": "auto",
         "type": "bar",
         "x": [
          "Andalucía",
          "Andalucía",
          "Andalucía",
          "Andalucía",
          "Andalucía",
          "Andalucía",
          "Andalucía",
          "Andalucía",
          "Andalucía",
          "Andalucía",
          "Andalucía",
          "Andalucía",
          "Andalucía",
          "Andalucía",
          "Andalucía",
          "Andalucía",
          "Aragón",
          "Aragón",
          "Aragón",
          "Aragón",
          "Aragón",
          "Aragón",
          "Aragón",
          "Aragón",
          "Aragón",
          "Aragón",
          "Aragón",
          "Aragón",
          "Aragón",
          "Aragón",
          "Aragón",
          "Aragón",
          "Asturias, Principado de",
          "Asturias, Principado de",
          "Asturias, Principado de",
          "Asturias, Principado de",
          "Asturias, Principado de",
          "Asturias, Principado de",
          "Asturias, Principado de",
          "Asturias, Principado de",
          "Asturias, Principado de",
          "Asturias, Principado de",
          "Asturias, Principado de",
          "Asturias, Principado de",
          "Asturias, Principado de",
          "Asturias, Principado de",
          "Asturias, Principado de",
          "Asturias, Principado de",
          "Balears, Illes",
          "Balears, Illes",
          "Balears, Illes",
          "Balears, Illes",
          "Balears, Illes",
          "Balears, Illes",
          "Balears, Illes",
          "Balears, Illes",
          "Balears, Illes",
          "Balears, Illes",
          "Balears, Illes",
          "Balears, Illes",
          "Balears, Illes",
          "Balears, Illes",
          "Balears, Illes",
          "Balears, Illes",
          "Canarias",
          "Canarias",
          "Canarias",
          "Canarias",
          "Canarias",
          "Canarias",
          "Canarias",
          "Canarias",
          "Canarias",
          "Canarias",
          "Canarias",
          "Canarias",
          "Canarias",
          "Canarias",
          "Canarias",
          "Canarias",
          "Cantabria",
          "Cantabria",
          "Cantabria",
          "Cantabria",
          "Cantabria",
          "Cantabria",
          "Cantabria",
          "Cantabria",
          "Cantabria",
          "Cantabria",
          "Cantabria",
          "Cantabria",
          "Cantabria",
          "Cantabria",
          "Cantabria",
          "Cantabria",
          "Castilla y León",
          "Castilla y León",
          "Castilla y León",
          "Castilla y León",
          "Castilla y León",
          "Castilla y León",
          "Castilla y León",
          "Castilla y León",
          "Castilla y León",
          "Castilla y León",
          "Castilla y León",
          "Castilla y León",
          "Castilla y León",
          "Castilla y León",
          "Castilla y León",
          "Castilla y León",
          "Castilla-La Mancha",
          "Castilla-La Mancha",
          "Castilla-La Mancha",
          "Castilla-La Mancha",
          "Castilla-La Mancha",
          "Castilla-La Mancha",
          "Castilla-La Mancha",
          "Castilla-La Mancha",
          "Castilla-La Mancha",
          "Castilla-La Mancha",
          "Castilla-La Mancha",
          "Castilla-La Mancha",
          "Castilla-La Mancha",
          "Castilla-La Mancha",
          "Castilla-La Mancha",
          "Castilla-La Mancha",
          "Cataluña",
          "Cataluña",
          "Cataluña",
          "Cataluña",
          "Cataluña",
          "Cataluña",
          "Cataluña",
          "Cataluña",
          "Cataluña",
          "Cataluña",
          "Cataluña",
          "Cataluña",
          "Cataluña",
          "Cataluña",
          "Cataluña",
          "Cataluña",
          "Comunitat Valenciana",
          "Comunitat Valenciana",
          "Comunitat Valenciana",
          "Comunitat Valenciana",
          "Comunitat Valenciana",
          "Comunitat Valenciana",
          "Comunitat Valenciana",
          "Comunitat Valenciana",
          "Comunitat Valenciana",
          "Comunitat Valenciana",
          "Comunitat Valenciana",
          "Comunitat Valenciana",
          "Comunitat Valenciana",
          "Comunitat Valenciana",
          "Comunitat Valenciana",
          "Comunitat Valenciana",
          "Extremadura",
          "Extremadura",
          "Extremadura",
          "Extremadura",
          "Extremadura",
          "Extremadura",
          "Extremadura",
          "Extremadura",
          "Extremadura",
          "Extremadura",
          "Extremadura",
          "Extremadura",
          "Extremadura",
          "Extremadura",
          "Extremadura",
          "Extremadura",
          "Galicia",
          "Galicia",
          "Galicia",
          "Galicia",
          "Galicia",
          "Galicia",
          "Galicia",
          "Galicia",
          "Galicia",
          "Galicia",
          "Galicia",
          "Galicia",
          "Galicia",
          "Galicia",
          "Galicia",
          "Galicia",
          "Madrid, Comunidad de",
          "Madrid, Comunidad de",
          "Madrid, Comunidad de",
          "Madrid, Comunidad de",
          "Madrid, Comunidad de",
          "Madrid, Comunidad de",
          "Madrid, Comunidad de",
          "Madrid, Comunidad de",
          "Madrid, Comunidad de",
          "Madrid, Comunidad de",
          "Madrid, Comunidad de",
          "Madrid, Comunidad de",
          "Madrid, Comunidad de",
          "Madrid, Comunidad de",
          "Madrid, Comunidad de",
          "Madrid, Comunidad de",
          "Murcia, Región de",
          "Murcia, Región de",
          "Murcia, Región de",
          "Murcia, Región de",
          "Murcia, Región de",
          "Murcia, Región de",
          "Murcia, Región de",
          "Murcia, Región de",
          "Murcia, Región de",
          "Murcia, Región de",
          "Murcia, Región de",
          "Murcia, Región de",
          "Murcia, Región de",
          "Murcia, Región de",
          "Murcia, Región de",
          "Murcia, Región de",
          "Navarra, Comunidad Foral de",
          "Navarra, Comunidad Foral de",
          "Navarra, Comunidad Foral de",
          "Navarra, Comunidad Foral de",
          "Navarra, Comunidad Foral de",
          "Navarra, Comunidad Foral de",
          "Navarra, Comunidad Foral de",
          "Navarra, Comunidad Foral de",
          "Navarra, Comunidad Foral de",
          "Navarra, Comunidad Foral de",
          "Navarra, Comunidad Foral de",
          "Navarra, Comunidad Foral de",
          "Navarra, Comunidad Foral de",
          "Navarra, Comunidad Foral de",
          "Navarra, Comunidad Foral de",
          "Navarra, Comunidad Foral de",
          "País Vasco",
          "País Vasco",
          "País Vasco",
          "País Vasco",
          "País Vasco",
          "País Vasco",
          "País Vasco",
          "País Vasco",
          "País Vasco",
          "País Vasco",
          "País Vasco",
          "País Vasco",
          "País Vasco",
          "País Vasco",
          "País Vasco",
          "País Vasco",
          "Rioja, La",
          "Rioja, La",
          "Rioja, La",
          "Rioja, La",
          "Rioja, La",
          "Rioja, La",
          "Rioja, La",
          "Rioja, La",
          "Rioja, La",
          "Rioja, La",
          "Rioja, La",
          "Rioja, La",
          "Rioja, La",
          "Rioja, La",
          "Rioja, La",
          "Rioja, La",
          "Ceuta",
          "Ceuta",
          "Ceuta",
          "Ceuta",
          "Ceuta",
          "Ceuta",
          "Ceuta",
          "Ceuta",
          "Ceuta",
          "Ceuta",
          "Ceuta",
          "Ceuta",
          "Ceuta",
          "Ceuta",
          "Ceuta",
          "Ceuta",
          "Melilla",
          "Melilla",
          "Melilla",
          "Melilla",
          "Melilla",
          "Melilla",
          "Melilla",
          "Melilla",
          "Melilla",
          "Melilla",
          "Melilla",
          "Melilla",
          "Melilla",
          "Melilla",
          "Melilla",
          "Melilla"
         ],
         "xaxis": "x",
         "y": [
          576,
          0,
          48,
          59,
          57,
          59,
          65,
          50,
          44,
          38,
          47,
          35,
          31,
          30,
          11,
          2,
          69,
          1,
          8,
          10,
          6,
          3,
          5,
          6,
          6,
          1,
          3,
          5,
          2,
          9,
          3,
          1,
          89,
          0,
          4,
          5,
          2,
          9,
          6,
          9,
          13,
          6,
          8,
          4,
          12,
          8,
          3,
          0,
          71,
          0,
          4,
          12,
          6,
          8,
          13,
          3,
          8,
          4,
          3,
          3,
          1,
          5,
          1,
          0,
          159,
          0,
          11,
          24,
          18,
          17,
          18,
          26,
          9,
          6,
          10,
          7,
          7,
          5,
          0,
          1,
          34,
          0,
          0,
          2,
          4,
          1,
          6,
          5,
          2,
          1,
          5,
          2,
          3,
          1,
          2,
          0,
          177,
          0,
          9,
          9,
          11,
          21,
          12,
          18,
          12,
          25,
          13,
          10,
          15,
          13,
          8,
          1,
          147,
          0,
          15,
          10,
          11,
          13,
          18,
          17,
          6,
          10,
          8,
          9,
          12,
          7,
          8,
          3,
          414,
          0,
          26,
          49,
          34,
          46,
          52,
          38,
          29,
          22,
          28,
          28,
          34,
          14,
          13,
          1,
          317,
          0,
          26,
          44,
          36,
          29,
          35,
          22,
          32,
          16,
          15,
          18,
          18,
          17,
          6,
          3,
          79,
          0,
          9,
          5,
          5,
          10,
          9,
          6,
          5,
          4,
          9,
          5,
          3,
          7,
          2,
          0,
          219,
          1,
          11,
          17,
          18,
          24,
          31,
          19,
          22,
          16,
          13,
          9,
          24,
          8,
          4,
          2,
          258,
          1,
          32,
          32,
          27,
          27,
          28,
          27,
          22,
          7,
          19,
          10,
          9,
          5,
          8,
          4,
          101,
          1,
          10,
          11,
          11,
          8,
          8,
          8,
          11,
          11,
          5,
          4,
          3,
          5,
          2,
          3,
          32,
          1,
          2,
          5,
          4,
          3,
          3,
          6,
          4,
          1,
          1,
          1,
          0,
          0,
          1,
          0,
          135,
          1,
          6,
          12,
          13,
          19,
          9,
          12,
          12,
          12,
          5,
          12,
          8,
          10,
          4,
          0,
          21,
          0,
          1,
          2,
          5,
          0,
          2,
          3,
          0,
          3,
          0,
          0,
          2,
          2,
          1,
          0,
          4,
          0,
          0,
          0,
          1,
          0,
          0,
          1,
          1,
          1,
          0,
          0,
          0,
          0,
          0,
          0,
          3,
          0,
          1,
          0,
          0,
          0,
          0,
          1,
          0,
          1,
          0,
          0,
          0,
          0,
          0,
          0
         ],
         "yaxis": "y"
        },
        {
         "alignmentgroup": "True",
         "hovertemplate": "<b>%{hovertext}</b><br><br>Sexo=Mujeres<br>Comunidades autónomas=%{x}<br>Número de suicidios=%{y}<extra></extra>",
         "hovertext": [
          "Todas las edades",
          "Menores de 15 años",
          "De 15 a 29 años",
          "De 30 a 39 años",
          "De 40 a 44 años",
          "De 45 a 49 años",
          "De 50 a 54 años",
          "De 55 a 59 años",
          "De 60 a 64 años",
          "De 65 a 69 años",
          "De 70 a 74 años",
          "De 75 a 79 años",
          "De 80 a 84 años",
          "De 85 a 89 años",
          "De 90 a 94 años",
          "De 95 años y más",
          "Todas las edades",
          "Menores de 15 años",
          "De 15 a 29 años",
          "De 30 a 39 años",
          "De 40 a 44 años",
          "De 45 a 49 años",
          "De 50 a 54 años",
          "De 55 a 59 años",
          "De 60 a 64 años",
          "De 65 a 69 años",
          "De 70 a 74 años",
          "De 75 a 79 años",
          "De 80 a 84 años",
          "De 85 a 89 años",
          "De 90 a 94 años",
          "De 95 años y más",
          "Todas las edades",
          "Menores de 15 años",
          "De 15 a 29 años",
          "De 30 a 39 años",
          "De 40 a 44 años",
          "De 45 a 49 años",
          "De 50 a 54 años",
          "De 55 a 59 años",
          "De 60 a 64 años",
          "De 65 a 69 años",
          "De 70 a 74 años",
          "De 75 a 79 años",
          "De 80 a 84 años",
          "De 85 a 89 años",
          "De 90 a 94 años",
          "De 95 años y más",
          "Todas las edades",
          "Menores de 15 años",
          "De 15 a 29 años",
          "De 30 a 39 años",
          "De 40 a 44 años",
          "De 45 a 49 años",
          "De 50 a 54 años",
          "De 55 a 59 años",
          "De 60 a 64 años",
          "De 65 a 69 años",
          "De 70 a 74 años",
          "De 75 a 79 años",
          "De 80 a 84 años",
          "De 85 a 89 años",
          "De 90 a 94 años",
          "De 95 años y más",
          "Todas las edades",
          "Menores de 15 años",
          "De 15 a 29 años",
          "De 30 a 39 años",
          "De 40 a 44 años",
          "De 45 a 49 años",
          "De 50 a 54 años",
          "De 55 a 59 años",
          "De 60 a 64 años",
          "De 65 a 69 años",
          "De 70 a 74 años",
          "De 75 a 79 años",
          "De 80 a 84 años",
          "De 85 a 89 años",
          "De 90 a 94 años",
          "De 95 años y más",
          "Todas las edades",
          "Menores de 15 años",
          "De 15 a 29 años",
          "De 30 a 39 años",
          "De 40 a 44 años",
          "De 45 a 49 años",
          "De 50 a 54 años",
          "De 55 a 59 años",
          "De 60 a 64 años",
          "De 65 a 69 años",
          "De 70 a 74 años",
          "De 75 a 79 años",
          "De 80 a 84 años",
          "De 85 a 89 años",
          "De 90 a 94 años",
          "De 95 años y más",
          "Todas las edades",
          "Menores de 15 años",
          "De 15 a 29 años",
          "De 30 a 39 años",
          "De 40 a 44 años",
          "De 45 a 49 años",
          "De 50 a 54 años",
          "De 55 a 59 años",
          "De 60 a 64 años",
          "De 65 a 69 años",
          "De 70 a 74 años",
          "De 75 a 79 años",
          "De 80 a 84 años",
          "De 85 a 89 años",
          "De 90 a 94 años",
          "De 95 años y más",
          "Todas las edades",
          "Menores de 15 años",
          "De 15 a 29 años",
          "De 30 a 39 años",
          "De 40 a 44 años",
          "De 45 a 49 años",
          "De 50 a 54 años",
          "De 55 a 59 años",
          "De 60 a 64 años",
          "De 65 a 69 años",
          "De 70 a 74 años",
          "De 75 a 79 años",
          "De 80 a 84 años",
          "De 85 a 89 años",
          "De 90 a 94 años",
          "De 95 años y más",
          "Todas las edades",
          "Menores de 15 años",
          "De 15 a 29 años",
          "De 30 a 39 años",
          "De 40 a 44 años",
          "De 45 a 49 años",
          "De 50 a 54 años",
          "De 55 a 59 años",
          "De 60 a 64 años",
          "De 65 a 69 años",
          "De 70 a 74 años",
          "De 75 a 79 años",
          "De 80 a 84 años",
          "De 85 a 89 años",
          "De 90 a 94 años",
          "De 95 años y más",
          "Todas las edades",
          "Menores de 15 años",
          "De 15 a 29 años",
          "De 30 a 39 años",
          "De 40 a 44 años",
          "De 45 a 49 años",
          "De 50 a 54 años",
          "De 55 a 59 años",
          "De 60 a 64 años",
          "De 65 a 69 años",
          "De 70 a 74 años",
          "De 75 a 79 años",
          "De 80 a 84 años",
          "De 85 a 89 años",
          "De 90 a 94 años",
          "De 95 años y más",
          "Todas las edades",
          "Menores de 15 años",
          "De 15 a 29 años",
          "De 30 a 39 años",
          "De 40 a 44 años",
          "De 45 a 49 años",
          "De 50 a 54 años",
          "De 55 a 59 años",
          "De 60 a 64 años",
          "De 65 a 69 años",
          "De 70 a 74 años",
          "De 75 a 79 años",
          "De 80 a 84 años",
          "De 85 a 89 años",
          "De 90 a 94 años",
          "De 95 años y más",
          "Todas las edades",
          "Menores de 15 años",
          "De 15 a 29 años",
          "De 30 a 39 años",
          "De 40 a 44 años",
          "De 45 a 49 años",
          "De 50 a 54 años",
          "De 55 a 59 años",
          "De 60 a 64 años",
          "De 65 a 69 años",
          "De 70 a 74 años",
          "De 75 a 79 años",
          "De 80 a 84 años",
          "De 85 a 89 años",
          "De 90 a 94 años",
          "De 95 años y más",
          "Todas las edades",
          "Menores de 15 años",
          "De 15 a 29 años",
          "De 30 a 39 años",
          "De 40 a 44 años",
          "De 45 a 49 años",
          "De 50 a 54 años",
          "De 55 a 59 años",
          "De 60 a 64 años",
          "De 65 a 69 años",
          "De 70 a 74 años",
          "De 75 a 79 años",
          "De 80 a 84 años",
          "De 85 a 89 años",
          "De 90 a 94 años",
          "De 95 años y más",
          "Todas las edades",
          "Menores de 15 años",
          "De 15 a 29 años",
          "De 30 a 39 años",
          "De 40 a 44 años",
          "De 45 a 49 años",
          "De 50 a 54 años",
          "De 55 a 59 años",
          "De 60 a 64 años",
          "De 65 a 69 años",
          "De 70 a 74 años",
          "De 75 a 79 años",
          "De 80 a 84 años",
          "De 85 a 89 años",
          "De 90 a 94 años",
          "De 95 años y más",
          "Todas las edades",
          "Menores de 15 años",
          "De 15 a 29 años",
          "De 30 a 39 años",
          "De 40 a 44 años",
          "De 45 a 49 años",
          "De 50 a 54 años",
          "De 55 a 59 años",
          "De 60 a 64 años",
          "De 65 a 69 años",
          "De 70 a 74 años",
          "De 75 a 79 años",
          "De 80 a 84 años",
          "De 85 a 89 años",
          "De 90 a 94 años",
          "De 95 años y más",
          "Todas las edades",
          "Menores de 15 años",
          "De 15 a 29 años",
          "De 30 a 39 años",
          "De 40 a 44 años",
          "De 45 a 49 años",
          "De 50 a 54 años",
          "De 55 a 59 años",
          "De 60 a 64 años",
          "De 65 a 69 años",
          "De 70 a 74 años",
          "De 75 a 79 años",
          "De 80 a 84 años",
          "De 85 a 89 años",
          "De 90 a 94 años",
          "De 95 años y más",
          "Todas las edades",
          "Menores de 15 años",
          "De 15 a 29 años",
          "De 30 a 39 años",
          "De 40 a 44 años",
          "De 45 a 49 años",
          "De 50 a 54 años",
          "De 55 a 59 años",
          "De 60 a 64 años",
          "De 65 a 69 años",
          "De 70 a 74 años",
          "De 75 a 79 años",
          "De 80 a 84 años",
          "De 85 a 89 años",
          "De 90 a 94 años",
          "De 95 años y más",
          "Todas las edades",
          "Menores de 15 años",
          "De 15 a 29 años",
          "De 30 a 39 años",
          "De 40 a 44 años",
          "De 45 a 49 años",
          "De 50 a 54 años",
          "De 55 a 59 años",
          "De 60 a 64 años",
          "De 65 a 69 años",
          "De 70 a 74 años",
          "De 75 a 79 años",
          "De 80 a 84 años",
          "De 85 a 89 años",
          "De 90 a 94 años",
          "De 95 años y más",
          "Todas las edades",
          "Menores de 15 años",
          "De 15 a 29 años",
          "De 30 a 39 años",
          "De 40 a 44 años",
          "De 45 a 49 años",
          "De 50 a 54 años",
          "De 55 a 59 años",
          "De 60 a 64 años",
          "De 65 a 69 años",
          "De 70 a 74 años",
          "De 75 a 79 años",
          "De 80 a 84 años",
          "De 85 a 89 años",
          "De 90 a 94 años",
          "De 95 años y más"
         ],
         "legendgroup": "Mujeres",
         "marker": {
          "color": "rgb(85,168,104)",
          "pattern": {
           "shape": ""
          }
         },
         "name": "Mujeres",
         "offsetgroup": "Mujeres",
         "orientation": "v",
         "showlegend": true,
         "textposition": "auto",
         "type": "bar",
         "x": [
          "Andalucía",
          "Andalucía",
          "Andalucía",
          "Andalucía",
          "Andalucía",
          "Andalucía",
          "Andalucía",
          "Andalucía",
          "Andalucía",
          "Andalucía",
          "Andalucía",
          "Andalucía",
          "Andalucía",
          "Andalucía",
          "Andalucía",
          "Andalucía",
          "Aragón",
          "Aragón",
          "Aragón",
          "Aragón",
          "Aragón",
          "Aragón",
          "Aragón",
          "Aragón",
          "Aragón",
          "Aragón",
          "Aragón",
          "Aragón",
          "Aragón",
          "Aragón",
          "Aragón",
          "Aragón",
          "Asturias, Principado de",
          "Asturias, Principado de",
          "Asturias, Principado de",
          "Asturias, Principado de",
          "Asturias, Principado de",
          "Asturias, Principado de",
          "Asturias, Principado de",
          "Asturias, Principado de",
          "Asturias, Principado de",
          "Asturias, Principado de",
          "Asturias, Principado de",
          "Asturias, Principado de",
          "Asturias, Principado de",
          "Asturias, Principado de",
          "Asturias, Principado de",
          "Asturias, Principado de",
          "Balears, Illes",
          "Balears, Illes",
          "Balears, Illes",
          "Balears, Illes",
          "Balears, Illes",
          "Balears, Illes",
          "Balears, Illes",
          "Balears, Illes",
          "Balears, Illes",
          "Balears, Illes",
          "Balears, Illes",
          "Balears, Illes",
          "Balears, Illes",
          "Balears, Illes",
          "Balears, Illes",
          "Balears, Illes",
          "Canarias",
          "Canarias",
          "Canarias",
          "Canarias",
          "Canarias",
          "Canarias",
          "Canarias",
          "Canarias",
          "Canarias",
          "Canarias",
          "Canarias",
          "Canarias",
          "Canarias",
          "Canarias",
          "Canarias",
          "Canarias",
          "Cantabria",
          "Cantabria",
          "Cantabria",
          "Cantabria",
          "Cantabria",
          "Cantabria",
          "Cantabria",
          "Cantabria",
          "Cantabria",
          "Cantabria",
          "Cantabria",
          "Cantabria",
          "Cantabria",
          "Cantabria",
          "Cantabria",
          "Cantabria",
          "Castilla y León",
          "Castilla y León",
          "Castilla y León",
          "Castilla y León",
          "Castilla y León",
          "Castilla y León",
          "Castilla y León",
          "Castilla y León",
          "Castilla y León",
          "Castilla y León",
          "Castilla y León",
          "Castilla y León",
          "Castilla y León",
          "Castilla y León",
          "Castilla y León",
          "Castilla y León",
          "Castilla-La Mancha",
          "Castilla-La Mancha",
          "Castilla-La Mancha",
          "Castilla-La Mancha",
          "Castilla-La Mancha",
          "Castilla-La Mancha",
          "Castilla-La Mancha",
          "Castilla-La Mancha",
          "Castilla-La Mancha",
          "Castilla-La Mancha",
          "Castilla-La Mancha",
          "Castilla-La Mancha",
          "Castilla-La Mancha",
          "Castilla-La Mancha",
          "Castilla-La Mancha",
          "Castilla-La Mancha",
          "Cataluña",
          "Cataluña",
          "Cataluña",
          "Cataluña",
          "Cataluña",
          "Cataluña",
          "Cataluña",
          "Cataluña",
          "Cataluña",
          "Cataluña",
          "Cataluña",
          "Cataluña",
          "Cataluña",
          "Cataluña",
          "Cataluña",
          "Cataluña",
          "Comunitat Valenciana",
          "Comunitat Valenciana",
          "Comunitat Valenciana",
          "Comunitat Valenciana",
          "Comunitat Valenciana",
          "Comunitat Valenciana",
          "Comunitat Valenciana",
          "Comunitat Valenciana",
          "Comunitat Valenciana",
          "Comunitat Valenciana",
          "Comunitat Valenciana",
          "Comunitat Valenciana",
          "Comunitat Valenciana",
          "Comunitat Valenciana",
          "Comunitat Valenciana",
          "Comunitat Valenciana",
          "Extremadura",
          "Extremadura",
          "Extremadura",
          "Extremadura",
          "Extremadura",
          "Extremadura",
          "Extremadura",
          "Extremadura",
          "Extremadura",
          "Extremadura",
          "Extremadura",
          "Extremadura",
          "Extremadura",
          "Extremadura",
          "Extremadura",
          "Extremadura",
          "Galicia",
          "Galicia",
          "Galicia",
          "Galicia",
          "Galicia",
          "Galicia",
          "Galicia",
          "Galicia",
          "Galicia",
          "Galicia",
          "Galicia",
          "Galicia",
          "Galicia",
          "Galicia",
          "Galicia",
          "Galicia",
          "Madrid, Comunidad de",
          "Madrid, Comunidad de",
          "Madrid, Comunidad de",
          "Madrid, Comunidad de",
          "Madrid, Comunidad de",
          "Madrid, Comunidad de",
          "Madrid, Comunidad de",
          "Madrid, Comunidad de",
          "Madrid, Comunidad de",
          "Madrid, Comunidad de",
          "Madrid, Comunidad de",
          "Madrid, Comunidad de",
          "Madrid, Comunidad de",
          "Madrid, Comunidad de",
          "Madrid, Comunidad de",
          "Madrid, Comunidad de",
          "Murcia, Región de",
          "Murcia, Región de",
          "Murcia, Región de",
          "Murcia, Región de",
          "Murcia, Región de",
          "Murcia, Región de",
          "Murcia, Región de",
          "Murcia, Región de",
          "Murcia, Región de",
          "Murcia, Región de",
          "Murcia, Región de",
          "Murcia, Región de",
          "Murcia, Región de",
          "Murcia, Región de",
          "Murcia, Región de",
          "Murcia, Región de",
          "Navarra, Comunidad Foral de",
          "Navarra, Comunidad Foral de",
          "Navarra, Comunidad Foral de",
          "Navarra, Comunidad Foral de",
          "Navarra, Comunidad Foral de",
          "Navarra, Comunidad Foral de",
          "Navarra, Comunidad Foral de",
          "Navarra, Comunidad Foral de",
          "Navarra, Comunidad Foral de",
          "Navarra, Comunidad Foral de",
          "Navarra, Comunidad Foral de",
          "Navarra, Comunidad Foral de",
          "Navarra, Comunidad Foral de",
          "Navarra, Comunidad Foral de",
          "Navarra, Comunidad Foral de",
          "Navarra, Comunidad Foral de",
          "País Vasco",
          "País Vasco",
          "País Vasco",
          "País Vasco",
          "País Vasco",
          "País Vasco",
          "País Vasco",
          "País Vasco",
          "País Vasco",
          "País Vasco",
          "País Vasco",
          "País Vasco",
          "País Vasco",
          "País Vasco",
          "País Vasco",
          "País Vasco",
          "Rioja, La",
          "Rioja, La",
          "Rioja, La",
          "Rioja, La",
          "Rioja, La",
          "Rioja, La",
          "Rioja, La",
          "Rioja, La",
          "Rioja, La",
          "Rioja, La",
          "Rioja, La",
          "Rioja, La",
          "Rioja, La",
          "Rioja, La",
          "Rioja, La",
          "Rioja, La",
          "Ceuta",
          "Ceuta",
          "Ceuta",
          "Ceuta",
          "Ceuta",
          "Ceuta",
          "Ceuta",
          "Ceuta",
          "Ceuta",
          "Ceuta",
          "Ceuta",
          "Ceuta",
          "Ceuta",
          "Ceuta",
          "Ceuta",
          "Ceuta",
          "Melilla",
          "Melilla",
          "Melilla",
          "Melilla",
          "Melilla",
          "Melilla",
          "Melilla",
          "Melilla",
          "Melilla",
          "Melilla",
          "Melilla",
          "Melilla",
          "Melilla",
          "Melilla",
          "Melilla",
          "Melilla"
         ],
         "xaxis": "x",
         "y": [
          217,
          2,
          19,
          13,
          19,
          21,
          25,
          37,
          14,
          14,
          14,
          15,
          10,
          10,
          3,
          1,
          33,
          0,
          3,
          4,
          5,
          3,
          4,
          4,
          1,
          2,
          1,
          2,
          2,
          1,
          0,
          1,
          33,
          0,
          5,
          3,
          3,
          4,
          2,
          3,
          5,
          2,
          1,
          1,
          1,
          3,
          0,
          0,
          16,
          0,
          1,
          2,
          1,
          1,
          3,
          2,
          2,
          0,
          1,
          1,
          0,
          2,
          0,
          0,
          49,
          1,
          2,
          5,
          4,
          3,
          6,
          7,
          4,
          5,
          7,
          2,
          2,
          1,
          0,
          0,
          12,
          0,
          1,
          1,
          0,
          2,
          1,
          0,
          2,
          1,
          2,
          0,
          2,
          0,
          0,
          0,
          51,
          0,
          2,
          4,
          5,
          7,
          6,
          4,
          5,
          0,
          9,
          4,
          2,
          2,
          1,
          0,
          33,
          0,
          5,
          3,
          4,
          4,
          3,
          3,
          4,
          0,
          2,
          2,
          3,
          0,
          0,
          0,
          142,
          2,
          14,
          18,
          11,
          11,
          17,
          18,
          11,
          10,
          9,
          5,
          8,
          3,
          5,
          0,
          123,
          1,
          6,
          13,
          9,
          8,
          18,
          19,
          11,
          9,
          4,
          11,
          7,
          4,
          1,
          2,
          13,
          0,
          0,
          3,
          0,
          1,
          0,
          1,
          0,
          0,
          3,
          2,
          2,
          1,
          0,
          0,
          86,
          0,
          3,
          4,
          8,
          9,
          9,
          11,
          10,
          5,
          6,
          5,
          10,
          4,
          2,
          0,
          115,
          1,
          5,
          16,
          8,
          10,
          14,
          16,
          14,
          5,
          7,
          6,
          4,
          5,
          4,
          0,
          21,
          0,
          0,
          6,
          0,
          5,
          0,
          4,
          1,
          0,
          1,
          0,
          1,
          1,
          2,
          0,
          12,
          0,
          3,
          0,
          3,
          1,
          0,
          1,
          2,
          2,
          0,
          0,
          0,
          0,
          0,
          0,
          44,
          0,
          2,
          0,
          3,
          5,
          9,
          5,
          1,
          4,
          5,
          5,
          1,
          2,
          2,
          0,
          8,
          0,
          0,
          2,
          0,
          0,
          0,
          2,
          1,
          0,
          0,
          1,
          1,
          0,
          1,
          0,
          0,
          0,
          0,
          0,
          0,
          0,
          0,
          0,
          0,
          0,
          0,
          0,
          0,
          0,
          0,
          0,
          1,
          0,
          1,
          0,
          0,
          0,
          0,
          0,
          0,
          0,
          0,
          0,
          0,
          0,
          0,
          0
         ],
         "yaxis": "y"
        }
       ],
       "layout": {
        "barmode": "relative",
        "legend": {
         "title": {
          "text": "Sexo"
         },
         "tracegroupgap": 0
        },
        "template": {
         "data": {
          "bar": [
           {
            "error_x": {
             "color": "rgb(36,36,36)"
            },
            "error_y": {
             "color": "rgb(36,36,36)"
            },
            "marker": {
             "line": {
              "color": "rgb(234,234,242)",
              "width": 0.5
             },
             "pattern": {
              "fillmode": "overlay",
              "size": 10,
              "solidity": 0.2
             }
            },
            "type": "bar"
           }
          ],
          "barpolar": [
           {
            "marker": {
             "line": {
              "color": "rgb(234,234,242)",
              "width": 0.5
             },
             "pattern": {
              "fillmode": "overlay",
              "size": 10,
              "solidity": 0.2
             }
            },
            "type": "barpolar"
           }
          ],
          "carpet": [
           {
            "aaxis": {
             "endlinecolor": "rgb(36,36,36)",
             "gridcolor": "white",
             "linecolor": "white",
             "minorgridcolor": "white",
             "startlinecolor": "rgb(36,36,36)"
            },
            "baxis": {
             "endlinecolor": "rgb(36,36,36)",
             "gridcolor": "white",
             "linecolor": "white",
             "minorgridcolor": "white",
             "startlinecolor": "rgb(36,36,36)"
            },
            "type": "carpet"
           }
          ],
          "choropleth": [
           {
            "colorbar": {
             "outlinewidth": 0,
             "tickcolor": "rgb(36,36,36)",
             "ticklen": 8,
             "ticks": "outside",
             "tickwidth": 2
            },
            "type": "choropleth"
           }
          ],
          "contour": [
           {
            "colorbar": {
             "outlinewidth": 0,
             "tickcolor": "rgb(36,36,36)",
             "ticklen": 8,
             "ticks": "outside",
             "tickwidth": 2
            },
            "colorscale": [
             [
              0,
              "rgb(2,4,25)"
             ],
             [
              0.06274509803921569,
              "rgb(24,15,41)"
             ],
             [
              0.12549019607843137,
              "rgb(47,23,57)"
             ],
             [
              0.18823529411764706,
              "rgb(71,28,72)"
             ],
             [
              0.25098039215686274,
              "rgb(97,30,82)"
             ],
             [
              0.3137254901960784,
              "rgb(123,30,89)"
             ],
             [
              0.3764705882352941,
              "rgb(150,27,91)"
             ],
             [
              0.4392156862745098,
              "rgb(177,22,88)"
             ],
             [
              0.5019607843137255,
              "rgb(203,26,79)"
             ],
             [
              0.5647058823529412,
              "rgb(223,47,67)"
             ],
             [
              0.6274509803921569,
              "rgb(236,76,61)"
             ],
             [
              0.6901960784313725,
              "rgb(242,107,73)"
             ],
             [
              0.7529411764705882,
              "rgb(244,135,95)"
             ],
             [
              0.8156862745098039,
              "rgb(245,162,122)"
             ],
             [
              0.8784313725490196,
              "rgb(246,188,153)"
             ],
             [
              0.9411764705882353,
              "rgb(247,212,187)"
             ],
             [
              1,
              "rgb(250,234,220)"
             ]
            ],
            "type": "contour"
           }
          ],
          "contourcarpet": [
           {
            "colorbar": {
             "outlinewidth": 0,
             "tickcolor": "rgb(36,36,36)",
             "ticklen": 8,
             "ticks": "outside",
             "tickwidth": 2
            },
            "type": "contourcarpet"
           }
          ],
          "heatmap": [
           {
            "colorbar": {
             "outlinewidth": 0,
             "tickcolor": "rgb(36,36,36)",
             "ticklen": 8,
             "ticks": "outside",
             "tickwidth": 2
            },
            "colorscale": [
             [
              0,
              "rgb(2,4,25)"
             ],
             [
              0.06274509803921569,
              "rgb(24,15,41)"
             ],
             [
              0.12549019607843137,
              "rgb(47,23,57)"
             ],
             [
              0.18823529411764706,
              "rgb(71,28,72)"
             ],
             [
              0.25098039215686274,
              "rgb(97,30,82)"
             ],
             [
              0.3137254901960784,
              "rgb(123,30,89)"
             ],
             [
              0.3764705882352941,
              "rgb(150,27,91)"
             ],
             [
              0.4392156862745098,
              "rgb(177,22,88)"
             ],
             [
              0.5019607843137255,
              "rgb(203,26,79)"
             ],
             [
              0.5647058823529412,
              "rgb(223,47,67)"
             ],
             [
              0.6274509803921569,
              "rgb(236,76,61)"
             ],
             [
              0.6901960784313725,
              "rgb(242,107,73)"
             ],
             [
              0.7529411764705882,
              "rgb(244,135,95)"
             ],
             [
              0.8156862745098039,
              "rgb(245,162,122)"
             ],
             [
              0.8784313725490196,
              "rgb(246,188,153)"
             ],
             [
              0.9411764705882353,
              "rgb(247,212,187)"
             ],
             [
              1,
              "rgb(250,234,220)"
             ]
            ],
            "type": "heatmap"
           }
          ],
          "heatmapgl": [
           {
            "colorbar": {
             "outlinewidth": 0,
             "tickcolor": "rgb(36,36,36)",
             "ticklen": 8,
             "ticks": "outside",
             "tickwidth": 2
            },
            "colorscale": [
             [
              0,
              "rgb(2,4,25)"
             ],
             [
              0.06274509803921569,
              "rgb(24,15,41)"
             ],
             [
              0.12549019607843137,
              "rgb(47,23,57)"
             ],
             [
              0.18823529411764706,
              "rgb(71,28,72)"
             ],
             [
              0.25098039215686274,
              "rgb(97,30,82)"
             ],
             [
              0.3137254901960784,
              "rgb(123,30,89)"
             ],
             [
              0.3764705882352941,
              "rgb(150,27,91)"
             ],
             [
              0.4392156862745098,
              "rgb(177,22,88)"
             ],
             [
              0.5019607843137255,
              "rgb(203,26,79)"
             ],
             [
              0.5647058823529412,
              "rgb(223,47,67)"
             ],
             [
              0.6274509803921569,
              "rgb(236,76,61)"
             ],
             [
              0.6901960784313725,
              "rgb(242,107,73)"
             ],
             [
              0.7529411764705882,
              "rgb(244,135,95)"
             ],
             [
              0.8156862745098039,
              "rgb(245,162,122)"
             ],
             [
              0.8784313725490196,
              "rgb(246,188,153)"
             ],
             [
              0.9411764705882353,
              "rgb(247,212,187)"
             ],
             [
              1,
              "rgb(250,234,220)"
             ]
            ],
            "type": "heatmapgl"
           }
          ],
          "histogram": [
           {
            "marker": {
             "pattern": {
              "fillmode": "overlay",
              "size": 10,
              "solidity": 0.2
             }
            },
            "type": "histogram"
           }
          ],
          "histogram2d": [
           {
            "colorbar": {
             "outlinewidth": 0,
             "tickcolor": "rgb(36,36,36)",
             "ticklen": 8,
             "ticks": "outside",
             "tickwidth": 2
            },
            "colorscale": [
             [
              0,
              "rgb(2,4,25)"
             ],
             [
              0.06274509803921569,
              "rgb(24,15,41)"
             ],
             [
              0.12549019607843137,
              "rgb(47,23,57)"
             ],
             [
              0.18823529411764706,
              "rgb(71,28,72)"
             ],
             [
              0.25098039215686274,
              "rgb(97,30,82)"
             ],
             [
              0.3137254901960784,
              "rgb(123,30,89)"
             ],
             [
              0.3764705882352941,
              "rgb(150,27,91)"
             ],
             [
              0.4392156862745098,
              "rgb(177,22,88)"
             ],
             [
              0.5019607843137255,
              "rgb(203,26,79)"
             ],
             [
              0.5647058823529412,
              "rgb(223,47,67)"
             ],
             [
              0.6274509803921569,
              "rgb(236,76,61)"
             ],
             [
              0.6901960784313725,
              "rgb(242,107,73)"
             ],
             [
              0.7529411764705882,
              "rgb(244,135,95)"
             ],
             [
              0.8156862745098039,
              "rgb(245,162,122)"
             ],
             [
              0.8784313725490196,
              "rgb(246,188,153)"
             ],
             [
              0.9411764705882353,
              "rgb(247,212,187)"
             ],
             [
              1,
              "rgb(250,234,220)"
             ]
            ],
            "type": "histogram2d"
           }
          ],
          "histogram2dcontour": [
           {
            "colorbar": {
             "outlinewidth": 0,
             "tickcolor": "rgb(36,36,36)",
             "ticklen": 8,
             "ticks": "outside",
             "tickwidth": 2
            },
            "colorscale": [
             [
              0,
              "rgb(2,4,25)"
             ],
             [
              0.06274509803921569,
              "rgb(24,15,41)"
             ],
             [
              0.12549019607843137,
              "rgb(47,23,57)"
             ],
             [
              0.18823529411764706,
              "rgb(71,28,72)"
             ],
             [
              0.25098039215686274,
              "rgb(97,30,82)"
             ],
             [
              0.3137254901960784,
              "rgb(123,30,89)"
             ],
             [
              0.3764705882352941,
              "rgb(150,27,91)"
             ],
             [
              0.4392156862745098,
              "rgb(177,22,88)"
             ],
             [
              0.5019607843137255,
              "rgb(203,26,79)"
             ],
             [
              0.5647058823529412,
              "rgb(223,47,67)"
             ],
             [
              0.6274509803921569,
              "rgb(236,76,61)"
             ],
             [
              0.6901960784313725,
              "rgb(242,107,73)"
             ],
             [
              0.7529411764705882,
              "rgb(244,135,95)"
             ],
             [
              0.8156862745098039,
              "rgb(245,162,122)"
             ],
             [
              0.8784313725490196,
              "rgb(246,188,153)"
             ],
             [
              0.9411764705882353,
              "rgb(247,212,187)"
             ],
             [
              1,
              "rgb(250,234,220)"
             ]
            ],
            "type": "histogram2dcontour"
           }
          ],
          "mesh3d": [
           {
            "colorbar": {
             "outlinewidth": 0,
             "tickcolor": "rgb(36,36,36)",
             "ticklen": 8,
             "ticks": "outside",
             "tickwidth": 2
            },
            "type": "mesh3d"
           }
          ],
          "parcoords": [
           {
            "line": {
             "colorbar": {
              "outlinewidth": 0,
              "tickcolor": "rgb(36,36,36)",
              "ticklen": 8,
              "ticks": "outside",
              "tickwidth": 2
             }
            },
            "type": "parcoords"
           }
          ],
          "pie": [
           {
            "automargin": true,
            "type": "pie"
           }
          ],
          "scatter": [
           {
            "fillpattern": {
             "fillmode": "overlay",
             "size": 10,
             "solidity": 0.2
            },
            "type": "scatter"
           }
          ],
          "scatter3d": [
           {
            "line": {
             "colorbar": {
              "outlinewidth": 0,
              "tickcolor": "rgb(36,36,36)",
              "ticklen": 8,
              "ticks": "outside",
              "tickwidth": 2
             }
            },
            "marker": {
             "colorbar": {
              "outlinewidth": 0,
              "tickcolor": "rgb(36,36,36)",
              "ticklen": 8,
              "ticks": "outside",
              "tickwidth": 2
             }
            },
            "type": "scatter3d"
           }
          ],
          "scattercarpet": [
           {
            "marker": {
             "colorbar": {
              "outlinewidth": 0,
              "tickcolor": "rgb(36,36,36)",
              "ticklen": 8,
              "ticks": "outside",
              "tickwidth": 2
             }
            },
            "type": "scattercarpet"
           }
          ],
          "scattergeo": [
           {
            "marker": {
             "colorbar": {
              "outlinewidth": 0,
              "tickcolor": "rgb(36,36,36)",
              "ticklen": 8,
              "ticks": "outside",
              "tickwidth": 2
             }
            },
            "type": "scattergeo"
           }
          ],
          "scattergl": [
           {
            "marker": {
             "colorbar": {
              "outlinewidth": 0,
              "tickcolor": "rgb(36,36,36)",
              "ticklen": 8,
              "ticks": "outside",
              "tickwidth": 2
             }
            },
            "type": "scattergl"
           }
          ],
          "scattermapbox": [
           {
            "marker": {
             "colorbar": {
              "outlinewidth": 0,
              "tickcolor": "rgb(36,36,36)",
              "ticklen": 8,
              "ticks": "outside",
              "tickwidth": 2
             }
            },
            "type": "scattermapbox"
           }
          ],
          "scatterpolar": [
           {
            "marker": {
             "colorbar": {
              "outlinewidth": 0,
              "tickcolor": "rgb(36,36,36)",
              "ticklen": 8,
              "ticks": "outside",
              "tickwidth": 2
             }
            },
            "type": "scatterpolar"
           }
          ],
          "scatterpolargl": [
           {
            "marker": {
             "colorbar": {
              "outlinewidth": 0,
              "tickcolor": "rgb(36,36,36)",
              "ticklen": 8,
              "ticks": "outside",
              "tickwidth": 2
             }
            },
            "type": "scatterpolargl"
           }
          ],
          "scatterternary": [
           {
            "marker": {
             "colorbar": {
              "outlinewidth": 0,
              "tickcolor": "rgb(36,36,36)",
              "ticklen": 8,
              "ticks": "outside",
              "tickwidth": 2
             }
            },
            "type": "scatterternary"
           }
          ],
          "surface": [
           {
            "colorbar": {
             "outlinewidth": 0,
             "tickcolor": "rgb(36,36,36)",
             "ticklen": 8,
             "ticks": "outside",
             "tickwidth": 2
            },
            "colorscale": [
             [
              0,
              "rgb(2,4,25)"
             ],
             [
              0.06274509803921569,
              "rgb(24,15,41)"
             ],
             [
              0.12549019607843137,
              "rgb(47,23,57)"
             ],
             [
              0.18823529411764706,
              "rgb(71,28,72)"
             ],
             [
              0.25098039215686274,
              "rgb(97,30,82)"
             ],
             [
              0.3137254901960784,
              "rgb(123,30,89)"
             ],
             [
              0.3764705882352941,
              "rgb(150,27,91)"
             ],
             [
              0.4392156862745098,
              "rgb(177,22,88)"
             ],
             [
              0.5019607843137255,
              "rgb(203,26,79)"
             ],
             [
              0.5647058823529412,
              "rgb(223,47,67)"
             ],
             [
              0.6274509803921569,
              "rgb(236,76,61)"
             ],
             [
              0.6901960784313725,
              "rgb(242,107,73)"
             ],
             [
              0.7529411764705882,
              "rgb(244,135,95)"
             ],
             [
              0.8156862745098039,
              "rgb(245,162,122)"
             ],
             [
              0.8784313725490196,
              "rgb(246,188,153)"
             ],
             [
              0.9411764705882353,
              "rgb(247,212,187)"
             ],
             [
              1,
              "rgb(250,234,220)"
             ]
            ],
            "type": "surface"
           }
          ],
          "table": [
           {
            "cells": {
             "fill": {
              "color": "rgb(231,231,240)"
             },
             "line": {
              "color": "white"
             }
            },
            "header": {
             "fill": {
              "color": "rgb(183,183,191)"
             },
             "line": {
              "color": "white"
             }
            },
            "type": "table"
           }
          ]
         },
         "layout": {
          "annotationdefaults": {
           "arrowcolor": "rgb(67,103,167)"
          },
          "autotypenumbers": "strict",
          "coloraxis": {
           "colorbar": {
            "outlinewidth": 0,
            "tickcolor": "rgb(36,36,36)",
            "ticklen": 8,
            "ticks": "outside",
            "tickwidth": 2
           }
          },
          "colorscale": {
           "sequential": [
            [
             0,
             "rgb(2,4,25)"
            ],
            [
             0.06274509803921569,
             "rgb(24,15,41)"
            ],
            [
             0.12549019607843137,
             "rgb(47,23,57)"
            ],
            [
             0.18823529411764706,
             "rgb(71,28,72)"
            ],
            [
             0.25098039215686274,
             "rgb(97,30,82)"
            ],
            [
             0.3137254901960784,
             "rgb(123,30,89)"
            ],
            [
             0.3764705882352941,
             "rgb(150,27,91)"
            ],
            [
             0.4392156862745098,
             "rgb(177,22,88)"
            ],
            [
             0.5019607843137255,
             "rgb(203,26,79)"
            ],
            [
             0.5647058823529412,
             "rgb(223,47,67)"
            ],
            [
             0.6274509803921569,
             "rgb(236,76,61)"
            ],
            [
             0.6901960784313725,
             "rgb(242,107,73)"
            ],
            [
             0.7529411764705882,
             "rgb(244,135,95)"
            ],
            [
             0.8156862745098039,
             "rgb(245,162,122)"
            ],
            [
             0.8784313725490196,
             "rgb(246,188,153)"
            ],
            [
             0.9411764705882353,
             "rgb(247,212,187)"
            ],
            [
             1,
             "rgb(250,234,220)"
            ]
           ],
           "sequentialminus": [
            [
             0,
             "rgb(2,4,25)"
            ],
            [
             0.06274509803921569,
             "rgb(24,15,41)"
            ],
            [
             0.12549019607843137,
             "rgb(47,23,57)"
            ],
            [
             0.18823529411764706,
             "rgb(71,28,72)"
            ],
            [
             0.25098039215686274,
             "rgb(97,30,82)"
            ],
            [
             0.3137254901960784,
             "rgb(123,30,89)"
            ],
            [
             0.3764705882352941,
             "rgb(150,27,91)"
            ],
            [
             0.4392156862745098,
             "rgb(177,22,88)"
            ],
            [
             0.5019607843137255,
             "rgb(203,26,79)"
            ],
            [
             0.5647058823529412,
             "rgb(223,47,67)"
            ],
            [
             0.6274509803921569,
             "rgb(236,76,61)"
            ],
            [
             0.6901960784313725,
             "rgb(242,107,73)"
            ],
            [
             0.7529411764705882,
             "rgb(244,135,95)"
            ],
            [
             0.8156862745098039,
             "rgb(245,162,122)"
            ],
            [
             0.8784313725490196,
             "rgb(246,188,153)"
            ],
            [
             0.9411764705882353,
             "rgb(247,212,187)"
            ],
            [
             1,
             "rgb(250,234,220)"
            ]
           ]
          },
          "colorway": [
           "rgb(76,114,176)",
           "rgb(221,132,82)",
           "rgb(85,168,104)",
           "rgb(196,78,82)",
           "rgb(129,114,179)",
           "rgb(147,120,96)",
           "rgb(218,139,195)",
           "rgb(140,140,140)",
           "rgb(204,185,116)",
           "rgb(100,181,205)"
          ],
          "font": {
           "color": "rgb(36,36,36)"
          },
          "geo": {
           "bgcolor": "white",
           "lakecolor": "white",
           "landcolor": "rgb(234,234,242)",
           "showlakes": true,
           "showland": true,
           "subunitcolor": "white"
          },
          "hoverlabel": {
           "align": "left"
          },
          "hovermode": "closest",
          "paper_bgcolor": "white",
          "plot_bgcolor": "rgb(234,234,242)",
          "polar": {
           "angularaxis": {
            "gridcolor": "white",
            "linecolor": "white",
            "showgrid": true,
            "ticks": ""
           },
           "bgcolor": "rgb(234,234,242)",
           "radialaxis": {
            "gridcolor": "white",
            "linecolor": "white",
            "showgrid": true,
            "ticks": ""
           }
          },
          "scene": {
           "xaxis": {
            "backgroundcolor": "rgb(234,234,242)",
            "gridcolor": "white",
            "gridwidth": 2,
            "linecolor": "white",
            "showbackground": true,
            "showgrid": true,
            "ticks": "",
            "zerolinecolor": "white"
           },
           "yaxis": {
            "backgroundcolor": "rgb(234,234,242)",
            "gridcolor": "white",
            "gridwidth": 2,
            "linecolor": "white",
            "showbackground": true,
            "showgrid": true,
            "ticks": "",
            "zerolinecolor": "white"
           },
           "zaxis": {
            "backgroundcolor": "rgb(234,234,242)",
            "gridcolor": "white",
            "gridwidth": 2,
            "linecolor": "white",
            "showbackground": true,
            "showgrid": true,
            "ticks": "",
            "zerolinecolor": "white"
           }
          },
          "shapedefaults": {
           "fillcolor": "rgb(67,103,167)",
           "line": {
            "width": 0
           },
           "opacity": 0.5
          },
          "ternary": {
           "aaxis": {
            "gridcolor": "white",
            "linecolor": "white",
            "showgrid": true,
            "ticks": ""
           },
           "baxis": {
            "gridcolor": "white",
            "linecolor": "white",
            "showgrid": true,
            "ticks": ""
           },
           "bgcolor": "rgb(234,234,242)",
           "caxis": {
            "gridcolor": "white",
            "linecolor": "white",
            "showgrid": true,
            "ticks": ""
           }
          },
          "xaxis": {
           "automargin": true,
           "gridcolor": "white",
           "linecolor": "white",
           "showgrid": true,
           "ticks": "",
           "title": {
            "standoff": 15
           },
           "zerolinecolor": "white"
          },
          "yaxis": {
           "automargin": true,
           "gridcolor": "white",
           "linecolor": "white",
           "showgrid": true,
           "ticks": "",
           "title": {
            "standoff": 15
           },
           "zerolinecolor": "white"
          }
         }
        },
        "title": {
         "text": "Suicidios 2020 por comunidad autónoma"
        },
        "xaxis": {
         "anchor": "y",
         "domain": [
          0,
          1
         ],
         "title": {
          "text": "Comunidades autónomas"
         }
        },
        "yaxis": {
         "anchor": "x",
         "domain": [
          0,
          1
         ],
         "title": {
          "text": "Número de suicidios"
         }
        }
       }
      }
     },
     "metadata": {},
     "output_type": "display_data"
    }
   ],
   "source": [
    "fig6 = px.bar(com2020, x= \"Comunidades autónomas\", y=\"Total\", color=\"Sexo\",\n",
    "             barmode = \"relative\", hover_name= \"Edad\", title= \"Suicidios 2020 por comunidad autónoma\", template=\"seaborn\", labels={\"Total\": \"Número de suicidios\"})\n",
    "fig6.show()"
   ]
  },
  {
   "attachments": {},
   "cell_type": "markdown",
   "metadata": {},
   "source": [
    "SUICIDIOS 2021 POR SEXO Y EDAD"
   ]
  },
  {
   "cell_type": "code",
   "execution_count": 101,
   "metadata": {},
   "outputs": [
    {
     "data": {
      "application/vnd.plotly.v1+json": {
       "config": {
        "plotlyServerURL": "https://plot.ly"
       },
       "data": [
        {
         "alignmentgroup": "True",
         "hovertemplate": "Sexo=Ambos sexos<br>Edad=%{x}<br>Número de suicidios=%{y}<extra></extra>",
         "legendgroup": "Ambos sexos",
         "marker": {
          "color": "rgb(76,114,176)",
          "pattern": {
           "shape": ""
          }
         },
         "name": "Ambos sexos",
         "offsetgroup": "Ambos sexos",
         "orientation": "v",
         "showlegend": true,
         "textposition": "auto",
         "type": "bar",
         "x": [
          "Menores de 15 años",
          "De 15 a 29 años",
          "De 30 a 39 años",
          "De 40 a 44 años",
          "De 45 a 49 años",
          "De 50 a 54 años",
          "De 55 a 59 años",
          "De 60 a 64 años",
          "De 65 a 69 años",
          "De 70 a 74 años",
          "De 75 a 79 años",
          "De 80 a 84 años",
          "De 85 a 89 años",
          "De 90 a 94 años",
          "De 95 años y más"
         ],
         "xaxis": "x",
         "y": [
          22,
          316,
          414,
          355,
          438,
          460,
          407,
          356,
          236,
          218,
          262,
          227,
          182,
          89,
          21
         ],
         "yaxis": "y"
        },
        {
         "alignmentgroup": "True",
         "hovertemplate": "Sexo=Hombres<br>Edad=%{x}<br>Número de suicidios=%{y}<extra></extra>",
         "legendgroup": "Hombres",
         "marker": {
          "color": "rgb(221,132,82)",
          "pattern": {
           "shape": ""
          }
         },
         "name": "Hombres",
         "offsetgroup": "Hombres",
         "orientation": "v",
         "showlegend": true,
         "textposition": "auto",
         "type": "bar",
         "x": [
          "Menores de 15 años",
          "De 15 a 29 años",
          "De 30 a 39 años",
          "De 40 a 44 años",
          "De 45 a 49 años",
          "De 50 a 54 años",
          "De 55 a 59 años",
          "De 60 a 64 años",
          "De 65 a 69 años",
          "De 70 a 74 años",
          "De 75 a 79 años",
          "De 80 a 84 años",
          "De 85 a 89 años",
          "De 90 a 94 años",
          "De 95 años y más"
         ],
         "xaxis": "x",
         "y": [
          14,
          237,
          315,
          281,
          318,
          323,
          305,
          268,
          161,
          162,
          197,
          168,
          141,
          74,
          18
         ],
         "yaxis": "y"
        },
        {
         "alignmentgroup": "True",
         "hovertemplate": "Sexo=Mujeres<br>Edad=%{x}<br>Número de suicidios=%{y}<extra></extra>",
         "legendgroup": "Mujeres",
         "marker": {
          "color": "rgb(85,168,104)",
          "pattern": {
           "shape": ""
          }
         },
         "name": "Mujeres",
         "offsetgroup": "Mujeres",
         "orientation": "v",
         "showlegend": true,
         "textposition": "auto",
         "type": "bar",
         "x": [
          "Menores de 15 años",
          "De 15 a 29 años",
          "De 30 a 39 años",
          "De 40 a 44 años",
          "De 45 a 49 años",
          "De 50 a 54 años",
          "De 55 a 59 años",
          "De 60 a 64 años",
          "De 65 a 69 años",
          "De 70 a 74 años",
          "De 75 a 79 años",
          "De 80 a 84 años",
          "De 85 a 89 años",
          "De 90 a 94 años"
         ],
         "xaxis": "x",
         "y": [
          8,
          79,
          99,
          74,
          120,
          137,
          102,
          88,
          75,
          56,
          65,
          59,
          41,
          15
         ],
         "yaxis": "y"
        }
       ],
       "layout": {
        "barmode": "group",
        "legend": {
         "title": {
          "text": "Sexo"
         },
         "tracegroupgap": 0
        },
        "template": {
         "data": {
          "bar": [
           {
            "error_x": {
             "color": "rgb(36,36,36)"
            },
            "error_y": {
             "color": "rgb(36,36,36)"
            },
            "marker": {
             "line": {
              "color": "rgb(234,234,242)",
              "width": 0.5
             },
             "pattern": {
              "fillmode": "overlay",
              "size": 10,
              "solidity": 0.2
             }
            },
            "type": "bar"
           }
          ],
          "barpolar": [
           {
            "marker": {
             "line": {
              "color": "rgb(234,234,242)",
              "width": 0.5
             },
             "pattern": {
              "fillmode": "overlay",
              "size": 10,
              "solidity": 0.2
             }
            },
            "type": "barpolar"
           }
          ],
          "carpet": [
           {
            "aaxis": {
             "endlinecolor": "rgb(36,36,36)",
             "gridcolor": "white",
             "linecolor": "white",
             "minorgridcolor": "white",
             "startlinecolor": "rgb(36,36,36)"
            },
            "baxis": {
             "endlinecolor": "rgb(36,36,36)",
             "gridcolor": "white",
             "linecolor": "white",
             "minorgridcolor": "white",
             "startlinecolor": "rgb(36,36,36)"
            },
            "type": "carpet"
           }
          ],
          "choropleth": [
           {
            "colorbar": {
             "outlinewidth": 0,
             "tickcolor": "rgb(36,36,36)",
             "ticklen": 8,
             "ticks": "outside",
             "tickwidth": 2
            },
            "type": "choropleth"
           }
          ],
          "contour": [
           {
            "colorbar": {
             "outlinewidth": 0,
             "tickcolor": "rgb(36,36,36)",
             "ticklen": 8,
             "ticks": "outside",
             "tickwidth": 2
            },
            "colorscale": [
             [
              0,
              "rgb(2,4,25)"
             ],
             [
              0.06274509803921569,
              "rgb(24,15,41)"
             ],
             [
              0.12549019607843137,
              "rgb(47,23,57)"
             ],
             [
              0.18823529411764706,
              "rgb(71,28,72)"
             ],
             [
              0.25098039215686274,
              "rgb(97,30,82)"
             ],
             [
              0.3137254901960784,
              "rgb(123,30,89)"
             ],
             [
              0.3764705882352941,
              "rgb(150,27,91)"
             ],
             [
              0.4392156862745098,
              "rgb(177,22,88)"
             ],
             [
              0.5019607843137255,
              "rgb(203,26,79)"
             ],
             [
              0.5647058823529412,
              "rgb(223,47,67)"
             ],
             [
              0.6274509803921569,
              "rgb(236,76,61)"
             ],
             [
              0.6901960784313725,
              "rgb(242,107,73)"
             ],
             [
              0.7529411764705882,
              "rgb(244,135,95)"
             ],
             [
              0.8156862745098039,
              "rgb(245,162,122)"
             ],
             [
              0.8784313725490196,
              "rgb(246,188,153)"
             ],
             [
              0.9411764705882353,
              "rgb(247,212,187)"
             ],
             [
              1,
              "rgb(250,234,220)"
             ]
            ],
            "type": "contour"
           }
          ],
          "contourcarpet": [
           {
            "colorbar": {
             "outlinewidth": 0,
             "tickcolor": "rgb(36,36,36)",
             "ticklen": 8,
             "ticks": "outside",
             "tickwidth": 2
            },
            "type": "contourcarpet"
           }
          ],
          "heatmap": [
           {
            "colorbar": {
             "outlinewidth": 0,
             "tickcolor": "rgb(36,36,36)",
             "ticklen": 8,
             "ticks": "outside",
             "tickwidth": 2
            },
            "colorscale": [
             [
              0,
              "rgb(2,4,25)"
             ],
             [
              0.06274509803921569,
              "rgb(24,15,41)"
             ],
             [
              0.12549019607843137,
              "rgb(47,23,57)"
             ],
             [
              0.18823529411764706,
              "rgb(71,28,72)"
             ],
             [
              0.25098039215686274,
              "rgb(97,30,82)"
             ],
             [
              0.3137254901960784,
              "rgb(123,30,89)"
             ],
             [
              0.3764705882352941,
              "rgb(150,27,91)"
             ],
             [
              0.4392156862745098,
              "rgb(177,22,88)"
             ],
             [
              0.5019607843137255,
              "rgb(203,26,79)"
             ],
             [
              0.5647058823529412,
              "rgb(223,47,67)"
             ],
             [
              0.6274509803921569,
              "rgb(236,76,61)"
             ],
             [
              0.6901960784313725,
              "rgb(242,107,73)"
             ],
             [
              0.7529411764705882,
              "rgb(244,135,95)"
             ],
             [
              0.8156862745098039,
              "rgb(245,162,122)"
             ],
             [
              0.8784313725490196,
              "rgb(246,188,153)"
             ],
             [
              0.9411764705882353,
              "rgb(247,212,187)"
             ],
             [
              1,
              "rgb(250,234,220)"
             ]
            ],
            "type": "heatmap"
           }
          ],
          "heatmapgl": [
           {
            "colorbar": {
             "outlinewidth": 0,
             "tickcolor": "rgb(36,36,36)",
             "ticklen": 8,
             "ticks": "outside",
             "tickwidth": 2
            },
            "colorscale": [
             [
              0,
              "rgb(2,4,25)"
             ],
             [
              0.06274509803921569,
              "rgb(24,15,41)"
             ],
             [
              0.12549019607843137,
              "rgb(47,23,57)"
             ],
             [
              0.18823529411764706,
              "rgb(71,28,72)"
             ],
             [
              0.25098039215686274,
              "rgb(97,30,82)"
             ],
             [
              0.3137254901960784,
              "rgb(123,30,89)"
             ],
             [
              0.3764705882352941,
              "rgb(150,27,91)"
             ],
             [
              0.4392156862745098,
              "rgb(177,22,88)"
             ],
             [
              0.5019607843137255,
              "rgb(203,26,79)"
             ],
             [
              0.5647058823529412,
              "rgb(223,47,67)"
             ],
             [
              0.6274509803921569,
              "rgb(236,76,61)"
             ],
             [
              0.6901960784313725,
              "rgb(242,107,73)"
             ],
             [
              0.7529411764705882,
              "rgb(244,135,95)"
             ],
             [
              0.8156862745098039,
              "rgb(245,162,122)"
             ],
             [
              0.8784313725490196,
              "rgb(246,188,153)"
             ],
             [
              0.9411764705882353,
              "rgb(247,212,187)"
             ],
             [
              1,
              "rgb(250,234,220)"
             ]
            ],
            "type": "heatmapgl"
           }
          ],
          "histogram": [
           {
            "marker": {
             "pattern": {
              "fillmode": "overlay",
              "size": 10,
              "solidity": 0.2
             }
            },
            "type": "histogram"
           }
          ],
          "histogram2d": [
           {
            "colorbar": {
             "outlinewidth": 0,
             "tickcolor": "rgb(36,36,36)",
             "ticklen": 8,
             "ticks": "outside",
             "tickwidth": 2
            },
            "colorscale": [
             [
              0,
              "rgb(2,4,25)"
             ],
             [
              0.06274509803921569,
              "rgb(24,15,41)"
             ],
             [
              0.12549019607843137,
              "rgb(47,23,57)"
             ],
             [
              0.18823529411764706,
              "rgb(71,28,72)"
             ],
             [
              0.25098039215686274,
              "rgb(97,30,82)"
             ],
             [
              0.3137254901960784,
              "rgb(123,30,89)"
             ],
             [
              0.3764705882352941,
              "rgb(150,27,91)"
             ],
             [
              0.4392156862745098,
              "rgb(177,22,88)"
             ],
             [
              0.5019607843137255,
              "rgb(203,26,79)"
             ],
             [
              0.5647058823529412,
              "rgb(223,47,67)"
             ],
             [
              0.6274509803921569,
              "rgb(236,76,61)"
             ],
             [
              0.6901960784313725,
              "rgb(242,107,73)"
             ],
             [
              0.7529411764705882,
              "rgb(244,135,95)"
             ],
             [
              0.8156862745098039,
              "rgb(245,162,122)"
             ],
             [
              0.8784313725490196,
              "rgb(246,188,153)"
             ],
             [
              0.9411764705882353,
              "rgb(247,212,187)"
             ],
             [
              1,
              "rgb(250,234,220)"
             ]
            ],
            "type": "histogram2d"
           }
          ],
          "histogram2dcontour": [
           {
            "colorbar": {
             "outlinewidth": 0,
             "tickcolor": "rgb(36,36,36)",
             "ticklen": 8,
             "ticks": "outside",
             "tickwidth": 2
            },
            "colorscale": [
             [
              0,
              "rgb(2,4,25)"
             ],
             [
              0.06274509803921569,
              "rgb(24,15,41)"
             ],
             [
              0.12549019607843137,
              "rgb(47,23,57)"
             ],
             [
              0.18823529411764706,
              "rgb(71,28,72)"
             ],
             [
              0.25098039215686274,
              "rgb(97,30,82)"
             ],
             [
              0.3137254901960784,
              "rgb(123,30,89)"
             ],
             [
              0.3764705882352941,
              "rgb(150,27,91)"
             ],
             [
              0.4392156862745098,
              "rgb(177,22,88)"
             ],
             [
              0.5019607843137255,
              "rgb(203,26,79)"
             ],
             [
              0.5647058823529412,
              "rgb(223,47,67)"
             ],
             [
              0.6274509803921569,
              "rgb(236,76,61)"
             ],
             [
              0.6901960784313725,
              "rgb(242,107,73)"
             ],
             [
              0.7529411764705882,
              "rgb(244,135,95)"
             ],
             [
              0.8156862745098039,
              "rgb(245,162,122)"
             ],
             [
              0.8784313725490196,
              "rgb(246,188,153)"
             ],
             [
              0.9411764705882353,
              "rgb(247,212,187)"
             ],
             [
              1,
              "rgb(250,234,220)"
             ]
            ],
            "type": "histogram2dcontour"
           }
          ],
          "mesh3d": [
           {
            "colorbar": {
             "outlinewidth": 0,
             "tickcolor": "rgb(36,36,36)",
             "ticklen": 8,
             "ticks": "outside",
             "tickwidth": 2
            },
            "type": "mesh3d"
           }
          ],
          "parcoords": [
           {
            "line": {
             "colorbar": {
              "outlinewidth": 0,
              "tickcolor": "rgb(36,36,36)",
              "ticklen": 8,
              "ticks": "outside",
              "tickwidth": 2
             }
            },
            "type": "parcoords"
           }
          ],
          "pie": [
           {
            "automargin": true,
            "type": "pie"
           }
          ],
          "scatter": [
           {
            "fillpattern": {
             "fillmode": "overlay",
             "size": 10,
             "solidity": 0.2
            },
            "type": "scatter"
           }
          ],
          "scatter3d": [
           {
            "line": {
             "colorbar": {
              "outlinewidth": 0,
              "tickcolor": "rgb(36,36,36)",
              "ticklen": 8,
              "ticks": "outside",
              "tickwidth": 2
             }
            },
            "marker": {
             "colorbar": {
              "outlinewidth": 0,
              "tickcolor": "rgb(36,36,36)",
              "ticklen": 8,
              "ticks": "outside",
              "tickwidth": 2
             }
            },
            "type": "scatter3d"
           }
          ],
          "scattercarpet": [
           {
            "marker": {
             "colorbar": {
              "outlinewidth": 0,
              "tickcolor": "rgb(36,36,36)",
              "ticklen": 8,
              "ticks": "outside",
              "tickwidth": 2
             }
            },
            "type": "scattercarpet"
           }
          ],
          "scattergeo": [
           {
            "marker": {
             "colorbar": {
              "outlinewidth": 0,
              "tickcolor": "rgb(36,36,36)",
              "ticklen": 8,
              "ticks": "outside",
              "tickwidth": 2
             }
            },
            "type": "scattergeo"
           }
          ],
          "scattergl": [
           {
            "marker": {
             "colorbar": {
              "outlinewidth": 0,
              "tickcolor": "rgb(36,36,36)",
              "ticklen": 8,
              "ticks": "outside",
              "tickwidth": 2
             }
            },
            "type": "scattergl"
           }
          ],
          "scattermapbox": [
           {
            "marker": {
             "colorbar": {
              "outlinewidth": 0,
              "tickcolor": "rgb(36,36,36)",
              "ticklen": 8,
              "ticks": "outside",
              "tickwidth": 2
             }
            },
            "type": "scattermapbox"
           }
          ],
          "scatterpolar": [
           {
            "marker": {
             "colorbar": {
              "outlinewidth": 0,
              "tickcolor": "rgb(36,36,36)",
              "ticklen": 8,
              "ticks": "outside",
              "tickwidth": 2
             }
            },
            "type": "scatterpolar"
           }
          ],
          "scatterpolargl": [
           {
            "marker": {
             "colorbar": {
              "outlinewidth": 0,
              "tickcolor": "rgb(36,36,36)",
              "ticklen": 8,
              "ticks": "outside",
              "tickwidth": 2
             }
            },
            "type": "scatterpolargl"
           }
          ],
          "scatterternary": [
           {
            "marker": {
             "colorbar": {
              "outlinewidth": 0,
              "tickcolor": "rgb(36,36,36)",
              "ticklen": 8,
              "ticks": "outside",
              "tickwidth": 2
             }
            },
            "type": "scatterternary"
           }
          ],
          "surface": [
           {
            "colorbar": {
             "outlinewidth": 0,
             "tickcolor": "rgb(36,36,36)",
             "ticklen": 8,
             "ticks": "outside",
             "tickwidth": 2
            },
            "colorscale": [
             [
              0,
              "rgb(2,4,25)"
             ],
             [
              0.06274509803921569,
              "rgb(24,15,41)"
             ],
             [
              0.12549019607843137,
              "rgb(47,23,57)"
             ],
             [
              0.18823529411764706,
              "rgb(71,28,72)"
             ],
             [
              0.25098039215686274,
              "rgb(97,30,82)"
             ],
             [
              0.3137254901960784,
              "rgb(123,30,89)"
             ],
             [
              0.3764705882352941,
              "rgb(150,27,91)"
             ],
             [
              0.4392156862745098,
              "rgb(177,22,88)"
             ],
             [
              0.5019607843137255,
              "rgb(203,26,79)"
             ],
             [
              0.5647058823529412,
              "rgb(223,47,67)"
             ],
             [
              0.6274509803921569,
              "rgb(236,76,61)"
             ],
             [
              0.6901960784313725,
              "rgb(242,107,73)"
             ],
             [
              0.7529411764705882,
              "rgb(244,135,95)"
             ],
             [
              0.8156862745098039,
              "rgb(245,162,122)"
             ],
             [
              0.8784313725490196,
              "rgb(246,188,153)"
             ],
             [
              0.9411764705882353,
              "rgb(247,212,187)"
             ],
             [
              1,
              "rgb(250,234,220)"
             ]
            ],
            "type": "surface"
           }
          ],
          "table": [
           {
            "cells": {
             "fill": {
              "color": "rgb(231,231,240)"
             },
             "line": {
              "color": "white"
             }
            },
            "header": {
             "fill": {
              "color": "rgb(183,183,191)"
             },
             "line": {
              "color": "white"
             }
            },
            "type": "table"
           }
          ]
         },
         "layout": {
          "annotationdefaults": {
           "arrowcolor": "rgb(67,103,167)"
          },
          "autotypenumbers": "strict",
          "coloraxis": {
           "colorbar": {
            "outlinewidth": 0,
            "tickcolor": "rgb(36,36,36)",
            "ticklen": 8,
            "ticks": "outside",
            "tickwidth": 2
           }
          },
          "colorscale": {
           "sequential": [
            [
             0,
             "rgb(2,4,25)"
            ],
            [
             0.06274509803921569,
             "rgb(24,15,41)"
            ],
            [
             0.12549019607843137,
             "rgb(47,23,57)"
            ],
            [
             0.18823529411764706,
             "rgb(71,28,72)"
            ],
            [
             0.25098039215686274,
             "rgb(97,30,82)"
            ],
            [
             0.3137254901960784,
             "rgb(123,30,89)"
            ],
            [
             0.3764705882352941,
             "rgb(150,27,91)"
            ],
            [
             0.4392156862745098,
             "rgb(177,22,88)"
            ],
            [
             0.5019607843137255,
             "rgb(203,26,79)"
            ],
            [
             0.5647058823529412,
             "rgb(223,47,67)"
            ],
            [
             0.6274509803921569,
             "rgb(236,76,61)"
            ],
            [
             0.6901960784313725,
             "rgb(242,107,73)"
            ],
            [
             0.7529411764705882,
             "rgb(244,135,95)"
            ],
            [
             0.8156862745098039,
             "rgb(245,162,122)"
            ],
            [
             0.8784313725490196,
             "rgb(246,188,153)"
            ],
            [
             0.9411764705882353,
             "rgb(247,212,187)"
            ],
            [
             1,
             "rgb(250,234,220)"
            ]
           ],
           "sequentialminus": [
            [
             0,
             "rgb(2,4,25)"
            ],
            [
             0.06274509803921569,
             "rgb(24,15,41)"
            ],
            [
             0.12549019607843137,
             "rgb(47,23,57)"
            ],
            [
             0.18823529411764706,
             "rgb(71,28,72)"
            ],
            [
             0.25098039215686274,
             "rgb(97,30,82)"
            ],
            [
             0.3137254901960784,
             "rgb(123,30,89)"
            ],
            [
             0.3764705882352941,
             "rgb(150,27,91)"
            ],
            [
             0.4392156862745098,
             "rgb(177,22,88)"
            ],
            [
             0.5019607843137255,
             "rgb(203,26,79)"
            ],
            [
             0.5647058823529412,
             "rgb(223,47,67)"
            ],
            [
             0.6274509803921569,
             "rgb(236,76,61)"
            ],
            [
             0.6901960784313725,
             "rgb(242,107,73)"
            ],
            [
             0.7529411764705882,
             "rgb(244,135,95)"
            ],
            [
             0.8156862745098039,
             "rgb(245,162,122)"
            ],
            [
             0.8784313725490196,
             "rgb(246,188,153)"
            ],
            [
             0.9411764705882353,
             "rgb(247,212,187)"
            ],
            [
             1,
             "rgb(250,234,220)"
            ]
           ]
          },
          "colorway": [
           "rgb(76,114,176)",
           "rgb(221,132,82)",
           "rgb(85,168,104)",
           "rgb(196,78,82)",
           "rgb(129,114,179)",
           "rgb(147,120,96)",
           "rgb(218,139,195)",
           "rgb(140,140,140)",
           "rgb(204,185,116)",
           "rgb(100,181,205)"
          ],
          "font": {
           "color": "rgb(36,36,36)"
          },
          "geo": {
           "bgcolor": "white",
           "lakecolor": "white",
           "landcolor": "rgb(234,234,242)",
           "showlakes": true,
           "showland": true,
           "subunitcolor": "white"
          },
          "hoverlabel": {
           "align": "left"
          },
          "hovermode": "closest",
          "paper_bgcolor": "white",
          "plot_bgcolor": "rgb(234,234,242)",
          "polar": {
           "angularaxis": {
            "gridcolor": "white",
            "linecolor": "white",
            "showgrid": true,
            "ticks": ""
           },
           "bgcolor": "rgb(234,234,242)",
           "radialaxis": {
            "gridcolor": "white",
            "linecolor": "white",
            "showgrid": true,
            "ticks": ""
           }
          },
          "scene": {
           "xaxis": {
            "backgroundcolor": "rgb(234,234,242)",
            "gridcolor": "white",
            "gridwidth": 2,
            "linecolor": "white",
            "showbackground": true,
            "showgrid": true,
            "ticks": "",
            "zerolinecolor": "white"
           },
           "yaxis": {
            "backgroundcolor": "rgb(234,234,242)",
            "gridcolor": "white",
            "gridwidth": 2,
            "linecolor": "white",
            "showbackground": true,
            "showgrid": true,
            "ticks": "",
            "zerolinecolor": "white"
           },
           "zaxis": {
            "backgroundcolor": "rgb(234,234,242)",
            "gridcolor": "white",
            "gridwidth": 2,
            "linecolor": "white",
            "showbackground": true,
            "showgrid": true,
            "ticks": "",
            "zerolinecolor": "white"
           }
          },
          "shapedefaults": {
           "fillcolor": "rgb(67,103,167)",
           "line": {
            "width": 0
           },
           "opacity": 0.5
          },
          "ternary": {
           "aaxis": {
            "gridcolor": "white",
            "linecolor": "white",
            "showgrid": true,
            "ticks": ""
           },
           "baxis": {
            "gridcolor": "white",
            "linecolor": "white",
            "showgrid": true,
            "ticks": ""
           },
           "bgcolor": "rgb(234,234,242)",
           "caxis": {
            "gridcolor": "white",
            "linecolor": "white",
            "showgrid": true,
            "ticks": ""
           }
          },
          "xaxis": {
           "automargin": true,
           "gridcolor": "white",
           "linecolor": "white",
           "showgrid": true,
           "ticks": "",
           "title": {
            "standoff": 15
           },
           "zerolinecolor": "white"
          },
          "yaxis": {
           "automargin": true,
           "gridcolor": "white",
           "linecolor": "white",
           "showgrid": true,
           "ticks": "",
           "title": {
            "standoff": 15
           },
           "zerolinecolor": "white"
          }
         }
        },
        "title": {
         "text": "Suicidios 2021 por sexo y edad"
        },
        "xaxis": {
         "anchor": "y",
         "domain": [
          0,
          1
         ],
         "title": {
          "text": "Edad"
         }
        },
        "yaxis": {
         "anchor": "x",
         "domain": [
          0,
          1
         ],
         "title": {
          "text": "Número de suicidios"
         }
        }
       }
      }
     },
     "metadata": {},
     "output_type": "display_data"
    }
   ],
   "source": [
    "#Preparar dataframe. Se omiten las 3 primeras filas del df para no romper los datos y que se vea mejor la información.\n",
    "df21 = df2021.iloc[3:-1]\n",
    "fig7 = px.bar (df21, x=\"Edad\", y = \"Total\", color= \"Sexo\",title=\"Suicidios 2021 por sexo y edad\", labels={\"Total\": \"Número de suicidios\"}, template=\"seaborn\", barmode=\"group\")\n",
    "fig7.show()"
   ]
  },
  {
   "attachments": {},
   "cell_type": "markdown",
   "metadata": {},
   "source": [
    "SUICIDIOS 2021 POR COMUNIDAD AUTÓNOMA"
   ]
  },
  {
   "cell_type": "code",
   "execution_count": 102,
   "metadata": {},
   "outputs": [
    {
     "data": {
      "application/vnd.plotly.v1+json": {
       "config": {
        "plotlyServerURL": "https://plot.ly"
       },
       "data": [
        {
         "alignmentgroup": "True",
         "hovertemplate": "<b>%{hovertext}</b><br><br>Sexo=Ambos sexos<br>Comunidades autónomas=%{x}<br>Número de suicidios=%{y}<extra></extra>",
         "hovertext": [
          "Todas las edades",
          "Menores de 15 años",
          "De 15 a 29 años",
          "De 30 a 39 años",
          "De 40 a 44 años",
          "De 45 a 49 años",
          "De 50 a 54 años",
          "De 55 a 59 años",
          "De 60 a 64 años",
          "De 65 a 69 años",
          "De 70 a 74 años",
          "De 75 a 79 años",
          "De 80 a 84 años",
          "De 85 a 89 años",
          "De 90 a 94 años",
          "De 95 años y más",
          "Todas las edades",
          "Menores de 15 años",
          "De 15 a 29 años",
          "De 30 a 39 años",
          "De 40 a 44 años",
          "De 45 a 49 años",
          "De 50 a 54 años",
          "De 55 a 59 años",
          "De 60 a 64 años",
          "De 65 a 69 años",
          "De 70 a 74 años",
          "De 75 a 79 años",
          "De 80 a 84 años",
          "De 85 a 89 años",
          "De 90 a 94 años",
          "De 95 años y más",
          "Todas las edades",
          "Menores de 15 años",
          "De 15 a 29 años",
          "De 30 a 39 años",
          "De 40 a 44 años",
          "De 45 a 49 años",
          "De 50 a 54 años",
          "De 55 a 59 años",
          "De 60 a 64 años",
          "De 65 a 69 años",
          "De 70 a 74 años",
          "De 75 a 79 años",
          "De 80 a 84 años",
          "De 85 a 89 años",
          "De 90 a 94 años",
          "De 95 años y más",
          "Todas las edades",
          "Menores de 15 años",
          "De 15 a 29 años",
          "De 30 a 39 años",
          "De 40 a 44 años",
          "De 45 a 49 años",
          "De 50 a 54 años",
          "De 55 a 59 años",
          "De 60 a 64 años",
          "De 65 a 69 años",
          "De 70 a 74 años",
          "De 75 a 79 años",
          "De 80 a 84 años",
          "De 85 a 89 años",
          "De 90 a 94 años",
          "De 95 años y más",
          "Todas las edades",
          "Menores de 15 años",
          "De 15 a 29 años",
          "De 30 a 39 años",
          "De 40 a 44 años",
          "De 45 a 49 años",
          "De 50 a 54 años",
          "De 55 a 59 años",
          "De 60 a 64 años",
          "De 65 a 69 años",
          "De 70 a 74 años",
          "De 75 a 79 años",
          "De 80 a 84 años",
          "De 85 a 89 años",
          "De 90 a 94 años",
          "De 95 años y más",
          "Todas las edades",
          "Menores de 15 años",
          "De 15 a 29 años",
          "De 30 a 39 años",
          "De 40 a 44 años",
          "De 45 a 49 años",
          "De 50 a 54 años",
          "De 55 a 59 años",
          "De 60 a 64 años",
          "De 65 a 69 años",
          "De 70 a 74 años",
          "De 75 a 79 años",
          "De 80 a 84 años",
          "De 85 a 89 años",
          "De 90 a 94 años",
          "De 95 años y más",
          "Todas las edades",
          "Menores de 15 años",
          "De 15 a 29 años",
          "De 30 a 39 años",
          "De 40 a 44 años",
          "De 45 a 49 años",
          "De 50 a 54 años",
          "De 55 a 59 años",
          "De 60 a 64 años",
          "De 65 a 69 años",
          "De 70 a 74 años",
          "De 75 a 79 años",
          "De 80 a 84 años",
          "De 85 a 89 años",
          "De 90 a 94 años",
          "De 95 años y más",
          "Todas las edades",
          "Menores de 15 años",
          "De 15 a 29 años",
          "De 30 a 39 años",
          "De 40 a 44 años",
          "De 45 a 49 años",
          "De 50 a 54 años",
          "De 55 a 59 años",
          "De 60 a 64 años",
          "De 65 a 69 años",
          "De 70 a 74 años",
          "De 75 a 79 años",
          "De 80 a 84 años",
          "De 85 a 89 años",
          "De 90 a 94 años",
          "De 95 años y más",
          "Todas las edades",
          "Menores de 15 años",
          "De 15 a 29 años",
          "De 30 a 39 años",
          "De 40 a 44 años",
          "De 45 a 49 años",
          "De 50 a 54 años",
          "De 55 a 59 años",
          "De 60 a 64 años",
          "De 65 a 69 años",
          "De 70 a 74 años",
          "De 75 a 79 años",
          "De 80 a 84 años",
          "De 85 a 89 años",
          "De 90 a 94 años",
          "De 95 años y más",
          "Todas las edades",
          "Menores de 15 años",
          "De 15 a 29 años",
          "De 30 a 39 años",
          "De 40 a 44 años",
          "De 45 a 49 años",
          "De 50 a 54 años",
          "De 55 a 59 años",
          "De 60 a 64 años",
          "De 65 a 69 años",
          "De 70 a 74 años",
          "De 75 a 79 años",
          "De 80 a 84 años",
          "De 85 a 89 años",
          "De 90 a 94 años",
          "De 95 años y más",
          "Todas las edades",
          "Menores de 15 años",
          "De 15 a 29 años",
          "De 30 a 39 años",
          "De 40 a 44 años",
          "De 45 a 49 años",
          "De 50 a 54 años",
          "De 55 a 59 años",
          "De 60 a 64 años",
          "De 65 a 69 años",
          "De 70 a 74 años",
          "De 75 a 79 años",
          "De 80 a 84 años",
          "De 85 a 89 años",
          "De 90 a 94 años",
          "De 95 años y más",
          "Todas las edades",
          "Menores de 15 años",
          "De 15 a 29 años",
          "De 30 a 39 años",
          "De 40 a 44 años",
          "De 45 a 49 años",
          "De 50 a 54 años",
          "De 55 a 59 años",
          "De 60 a 64 años",
          "De 65 a 69 años",
          "De 70 a 74 años",
          "De 75 a 79 años",
          "De 80 a 84 años",
          "De 85 a 89 años",
          "De 90 a 94 años",
          "De 95 años y más",
          "Todas las edades",
          "Menores de 15 años",
          "De 15 a 29 años",
          "De 30 a 39 años",
          "De 40 a 44 años",
          "De 45 a 49 años",
          "De 50 a 54 años",
          "De 55 a 59 años",
          "De 60 a 64 años",
          "De 65 a 69 años",
          "De 70 a 74 años",
          "De 75 a 79 años",
          "De 80 a 84 años",
          "De 85 a 89 años",
          "De 90 a 94 años",
          "De 95 años y más",
          "Todas las edades",
          "Menores de 15 años",
          "De 15 a 29 años",
          "De 30 a 39 años",
          "De 40 a 44 años",
          "De 45 a 49 años",
          "De 50 a 54 años",
          "De 55 a 59 años",
          "De 60 a 64 años",
          "De 65 a 69 años",
          "De 70 a 74 años",
          "De 75 a 79 años",
          "De 80 a 84 años",
          "De 85 a 89 años",
          "De 90 a 94 años",
          "De 95 años y más",
          "Todas las edades",
          "Menores de 15 años",
          "De 15 a 29 años",
          "De 30 a 39 años",
          "De 40 a 44 años",
          "De 45 a 49 años",
          "De 50 a 54 años",
          "De 55 a 59 años",
          "De 60 a 64 años",
          "De 65 a 69 años",
          "De 70 a 74 años",
          "De 75 a 79 años",
          "De 80 a 84 años",
          "De 85 a 89 años",
          "De 90 a 94 años",
          "De 95 años y más",
          "Todas las edades",
          "Menores de 15 años",
          "De 15 a 29 años",
          "De 30 a 39 años",
          "De 40 a 44 años",
          "De 45 a 49 años",
          "De 50 a 54 años",
          "De 55 a 59 años",
          "De 60 a 64 años",
          "De 65 a 69 años",
          "De 70 a 74 años",
          "De 75 a 79 años",
          "De 80 a 84 años",
          "De 85 a 89 años",
          "De 90 a 94 años",
          "De 95 años y más",
          "Todas las edades",
          "Menores de 15 años",
          "De 15 a 29 años",
          "De 30 a 39 años",
          "De 40 a 44 años",
          "De 45 a 49 años",
          "De 50 a 54 años",
          "De 55 a 59 años",
          "De 60 a 64 años",
          "De 65 a 69 años",
          "De 70 a 74 años",
          "De 75 a 79 años",
          "De 80 a 84 años",
          "De 85 a 89 años",
          "De 90 a 94 años",
          "De 95 años y más",
          "Todas las edades",
          "Menores de 15 años",
          "De 15 a 29 años",
          "De 30 a 39 años",
          "De 40 a 44 años",
          "De 45 a 49 años",
          "De 50 a 54 años",
          "De 55 a 59 años",
          "De 60 a 64 años",
          "De 65 a 69 años",
          "De 70 a 74 años",
          "De 75 a 79 años",
          "De 80 a 84 años",
          "De 85 a 89 años",
          "De 90 a 94 años",
          "De 95 años y más",
          "Todas las edades",
          "Menores de 15 años",
          "De 15 a 29 años",
          "De 30 a 39 años",
          "De 40 a 44 años",
          "De 45 a 49 años",
          "De 50 a 54 años",
          "De 55 a 59 años",
          "De 60 a 64 años",
          "De 65 a 69 años",
          "De 70 a 74 años",
          "De 75 a 79 años",
          "De 80 a 84 años",
          "De 85 a 89 años",
          "De 90 a 94 años",
          "De 95 años y más"
         ],
         "legendgroup": "Ambos sexos",
         "marker": {
          "color": "rgb(76,114,176)",
          "pattern": {
           "shape": ""
          }
         },
         "name": "Ambos sexos",
         "offsetgroup": "Ambos sexos",
         "orientation": "v",
         "showlegend": true,
         "textposition": "auto",
         "type": "bar",
         "x": [
          "Andalucía",
          "Andalucía",
          "Andalucía",
          "Andalucía",
          "Andalucía",
          "Andalucía",
          "Andalucía",
          "Andalucía",
          "Andalucía",
          "Andalucía",
          "Andalucía",
          "Andalucía",
          "Andalucía",
          "Andalucía",
          "Andalucía",
          "Andalucía",
          "Aragón",
          "Aragón",
          "Aragón",
          "Aragón",
          "Aragón",
          "Aragón",
          "Aragón",
          "Aragón",
          "Aragón",
          "Aragón",
          "Aragón",
          "Aragón",
          "Aragón",
          "Aragón",
          "Aragón",
          "Aragón",
          "Asturias, Principado de",
          "Asturias, Principado de",
          "Asturias, Principado de",
          "Asturias, Principado de",
          "Asturias, Principado de",
          "Asturias, Principado de",
          "Asturias, Principado de",
          "Asturias, Principado de",
          "Asturias, Principado de",
          "Asturias, Principado de",
          "Asturias, Principado de",
          "Asturias, Principado de",
          "Asturias, Principado de",
          "Asturias, Principado de",
          "Asturias, Principado de",
          "Asturias, Principado de",
          "Balears, Illes",
          "Balears, Illes",
          "Balears, Illes",
          "Balears, Illes",
          "Balears, Illes",
          "Balears, Illes",
          "Balears, Illes",
          "Balears, Illes",
          "Balears, Illes",
          "Balears, Illes",
          "Balears, Illes",
          "Balears, Illes",
          "Balears, Illes",
          "Balears, Illes",
          "Balears, Illes",
          "Balears, Illes",
          "Canarias",
          "Canarias",
          "Canarias",
          "Canarias",
          "Canarias",
          "Canarias",
          "Canarias",
          "Canarias",
          "Canarias",
          "Canarias",
          "Canarias",
          "Canarias",
          "Canarias",
          "Canarias",
          "Canarias",
          "Canarias",
          "Cantabria",
          "Cantabria",
          "Cantabria",
          "Cantabria",
          "Cantabria",
          "Cantabria",
          "Cantabria",
          "Cantabria",
          "Cantabria",
          "Cantabria",
          "Cantabria",
          "Cantabria",
          "Cantabria",
          "Cantabria",
          "Cantabria",
          "Cantabria",
          "Castilla y León",
          "Castilla y León",
          "Castilla y León",
          "Castilla y León",
          "Castilla y León",
          "Castilla y León",
          "Castilla y León",
          "Castilla y León",
          "Castilla y León",
          "Castilla y León",
          "Castilla y León",
          "Castilla y León",
          "Castilla y León",
          "Castilla y León",
          "Castilla y León",
          "Castilla y León",
          "Castilla - La Mancha",
          "Castilla - La Mancha",
          "Castilla - La Mancha",
          "Castilla - La Mancha",
          "Castilla - La Mancha",
          "Castilla - La Mancha",
          "Castilla - La Mancha",
          "Castilla - La Mancha",
          "Castilla - La Mancha",
          "Castilla - La Mancha",
          "Castilla - La Mancha",
          "Castilla - La Mancha",
          "Castilla - La Mancha",
          "Castilla - La Mancha",
          "Castilla - La Mancha",
          "Castilla - La Mancha",
          "Cataluña",
          "Cataluña",
          "Cataluña",
          "Cataluña",
          "Cataluña",
          "Cataluña",
          "Cataluña",
          "Cataluña",
          "Cataluña",
          "Cataluña",
          "Cataluña",
          "Cataluña",
          "Cataluña",
          "Cataluña",
          "Cataluña",
          "Cataluña",
          "Comunitat Valenciana",
          "Comunitat Valenciana",
          "Comunitat Valenciana",
          "Comunitat Valenciana",
          "Comunitat Valenciana",
          "Comunitat Valenciana",
          "Comunitat Valenciana",
          "Comunitat Valenciana",
          "Comunitat Valenciana",
          "Comunitat Valenciana",
          "Comunitat Valenciana",
          "Comunitat Valenciana",
          "Comunitat Valenciana",
          "Comunitat Valenciana",
          "Comunitat Valenciana",
          "Comunitat Valenciana",
          "Extremadura",
          "Extremadura",
          "Extremadura",
          "Extremadura",
          "Extremadura",
          "Extremadura",
          "Extremadura",
          "Extremadura",
          "Extremadura",
          "Extremadura",
          "Extremadura",
          "Extremadura",
          "Extremadura",
          "Extremadura",
          "Extremadura",
          "Extremadura",
          "Galicia",
          "Galicia",
          "Galicia",
          "Galicia",
          "Galicia",
          "Galicia",
          "Galicia",
          "Galicia",
          "Galicia",
          "Galicia",
          "Galicia",
          "Galicia",
          "Galicia",
          "Galicia",
          "Galicia",
          "Galicia",
          "Madrid, Comunidad de",
          "Madrid, Comunidad de",
          "Madrid, Comunidad de",
          "Madrid, Comunidad de",
          "Madrid, Comunidad de",
          "Madrid, Comunidad de",
          "Madrid, Comunidad de",
          "Madrid, Comunidad de",
          "Madrid, Comunidad de",
          "Madrid, Comunidad de",
          "Madrid, Comunidad de",
          "Madrid, Comunidad de",
          "Madrid, Comunidad de",
          "Madrid, Comunidad de",
          "Madrid, Comunidad de",
          "Madrid, Comunidad de",
          "Murcia, Región de",
          "Murcia, Región de",
          "Murcia, Región de",
          "Murcia, Región de",
          "Murcia, Región de",
          "Murcia, Región de",
          "Murcia, Región de",
          "Murcia, Región de",
          "Murcia, Región de",
          "Murcia, Región de",
          "Murcia, Región de",
          "Murcia, Región de",
          "Murcia, Región de",
          "Murcia, Región de",
          "Murcia, Región de",
          "Murcia, Región de",
          "Navarra, Comunidad Foral de",
          "Navarra, Comunidad Foral de",
          "Navarra, Comunidad Foral de",
          "Navarra, Comunidad Foral de",
          "Navarra, Comunidad Foral de",
          "Navarra, Comunidad Foral de",
          "Navarra, Comunidad Foral de",
          "Navarra, Comunidad Foral de",
          "Navarra, Comunidad Foral de",
          "Navarra, Comunidad Foral de",
          "Navarra, Comunidad Foral de",
          "Navarra, Comunidad Foral de",
          "Navarra, Comunidad Foral de",
          "Navarra, Comunidad Foral de",
          "Navarra, Comunidad Foral de",
          "Navarra, Comunidad Foral de",
          "País Vasco",
          "País Vasco",
          "País Vasco",
          "País Vasco",
          "País Vasco",
          "País Vasco",
          "País Vasco",
          "País Vasco",
          "País Vasco",
          "País Vasco",
          "País Vasco",
          "País Vasco",
          "País Vasco",
          "País Vasco",
          "País Vasco",
          "País Vasco",
          "Rioja, La",
          "Rioja, La",
          "Rioja, La",
          "Rioja, La",
          "Rioja, La",
          "Rioja, La",
          "Rioja, La",
          "Rioja, La",
          "Rioja, La",
          "Rioja, La",
          "Rioja, La",
          "Rioja, La",
          "Rioja, La",
          "Rioja, La",
          "Rioja, La",
          "Rioja, La",
          "Ceuta",
          "Ceuta",
          "Ceuta",
          "Ceuta",
          "Ceuta",
          "Ceuta",
          "Ceuta",
          "Ceuta",
          "Ceuta",
          "Ceuta",
          "Ceuta",
          "Ceuta",
          "Ceuta",
          "Ceuta",
          "Ceuta",
          "Ceuta",
          "Melilla",
          "Melilla",
          "Melilla",
          "Melilla",
          "Melilla",
          "Melilla",
          "Melilla",
          "Melilla",
          "Melilla",
          "Melilla",
          "Melilla",
          "Melilla",
          "Melilla",
          "Melilla",
          "Melilla",
          "Melilla"
         ],
         "xaxis": "x",
         "y": [
          849,
          2,
          59,
          91,
          79,
          100,
          99,
          80,
          79,
          46,
          47,
          62,
          61,
          28,
          14,
          2,
          114,
          1,
          13,
          12,
          8,
          12,
          12,
          14,
          7,
          6,
          4,
          9,
          6,
          5,
          3,
          2,
          130,
          0,
          8,
          8,
          13,
          8,
          17,
          19,
          11,
          5,
          11,
          8,
          10,
          9,
          2,
          1,
          89,
          0,
          8,
          12,
          10,
          10,
          12,
          9,
          9,
          6,
          4,
          5,
          0,
          4,
          0,
          0,
          230,
          2,
          20,
          23,
          24,
          27,
          28,
          21,
          30,
          17,
          11,
          15,
          5,
          6,
          0,
          1,
          48,
          0,
          3,
          3,
          7,
          4,
          3,
          5,
          3,
          5,
          4,
          4,
          2,
          4,
          1,
          0,
          236,
          1,
          9,
          25,
          18,
          25,
          26,
          21,
          28,
          18,
          19,
          12,
          21,
          8,
          2,
          3,
          169,
          0,
          12,
          15,
          8,
          19,
          24,
          15,
          20,
          9,
          7,
          8,
          18,
          6,
          7,
          1,
          576,
          1,
          45,
          73,
          53,
          75,
          46,
          53,
          41,
          37,
          28,
          36,
          27,
          37,
          21,
          3,
          4,
          3,
          30,
          34,
          40,
          39,
          63,
          51,
          35,
          25,
          20,
          19,
          18,
          17,
          8,
          1,
          81,
          0,
          3,
          8,
          10,
          5,
          14,
          8,
          9,
          5,
          5,
          4,
          2,
          5,
          3,
          0,
          337,
          1,
          23,
          30,
          21,
          31,
          35,
          32,
          35,
          17,
          19,
          36,
          25,
          21,
          9,
          2,
          348,
          5,
          33,
          47,
          28,
          38,
          39,
          34,
          19,
          24,
          17,
          20,
          14,
          14,
          12,
          4,
          123,
          3,
          18,
          9,
          10,
          12,
          19,
          15,
          7,
          4,
          5,
          8,
          7,
          4,
          2,
          0,
          60,
          1,
          9,
          4,
          6,
          10,
          8,
          3,
          2,
          5,
          2,
          3,
          2,
          3,
          2,
          0,
          147,
          1,
          13,
          12,
          15,
          12,
          13,
          21,
          13,
          5,
          11,
          10,
          7,
          11,
          2,
          1,
          24,
          0,
          0,
          3,
          4,
          6,
          0,
          3,
          2,
          1,
          2,
          0,
          2,
          0,
          1,
          0,
          4,
          0,
          0,
          0,
          0,
          2,
          0,
          0,
          1,
          0,
          0,
          1,
          0,
          0,
          0,
          0,
          4,
          0,
          1,
          1,
          0,
          0,
          0,
          2,
          0,
          0,
          0,
          0,
          0,
          0,
          0,
          0
         ],
         "yaxis": "y"
        },
        {
         "alignmentgroup": "True",
         "hovertemplate": "<b>%{hovertext}</b><br><br>Sexo=Hombres<br>Comunidades autónomas=%{x}<br>Número de suicidios=%{y}<extra></extra>",
         "hovertext": [
          "Todas las edades",
          "Menores de 15 años",
          "De 15 a 29 años",
          "De 30 a 39 años",
          "De 40 a 44 años",
          "De 45 a 49 años",
          "De 50 a 54 años",
          "De 55 a 59 años",
          "De 60 a 64 años",
          "De 65 a 69 años",
          "De 70 a 74 años",
          "De 75 a 79 años",
          "De 80 a 84 años",
          "De 85 a 89 años",
          "De 90 a 94 años",
          "De 95 años y más",
          "Todas las edades",
          "Menores de 15 años",
          "De 15 a 29 años",
          "De 30 a 39 años",
          "De 40 a 44 años",
          "De 45 a 49 años",
          "De 50 a 54 años",
          "De 55 a 59 años",
          "De 60 a 64 años",
          "De 65 a 69 años",
          "De 70 a 74 años",
          "De 75 a 79 años",
          "De 80 a 84 años",
          "De 85 a 89 años",
          "De 90 a 94 años",
          "De 95 años y más",
          "Todas las edades",
          "Menores de 15 años",
          "De 15 a 29 años",
          "De 30 a 39 años",
          "De 40 a 44 años",
          "De 45 a 49 años",
          "De 50 a 54 años",
          "De 55 a 59 años",
          "De 60 a 64 años",
          "De 65 a 69 años",
          "De 70 a 74 años",
          "De 75 a 79 años",
          "De 80 a 84 años",
          "De 85 a 89 años",
          "De 90 a 94 años",
          "De 95 años y más",
          "Todas las edades",
          "Menores de 15 años",
          "De 15 a 29 años",
          "De 30 a 39 años",
          "De 40 a 44 años",
          "De 45 a 49 años",
          "De 50 a 54 años",
          "De 55 a 59 años",
          "De 60 a 64 años",
          "De 65 a 69 años",
          "De 70 a 74 años",
          "De 75 a 79 años",
          "De 80 a 84 años",
          "De 85 a 89 años",
          "De 90 a 94 años",
          "De 95 años y más",
          "Todas las edades",
          "Menores de 15 años",
          "De 15 a 29 años",
          "De 30 a 39 años",
          "De 40 a 44 años",
          "De 45 a 49 años",
          "De 50 a 54 años",
          "De 55 a 59 años",
          "De 60 a 64 años",
          "De 65 a 69 años",
          "De 70 a 74 años",
          "De 75 a 79 años",
          "De 80 a 84 años",
          "De 85 a 89 años",
          "De 90 a 94 años",
          "De 95 años y más",
          "Todas las edades",
          "Menores de 15 años",
          "De 15 a 29 años",
          "De 30 a 39 años",
          "De 40 a 44 años",
          "De 45 a 49 años",
          "De 50 a 54 años",
          "De 55 a 59 años",
          "De 60 a 64 años",
          "De 65 a 69 años",
          "De 70 a 74 años",
          "De 75 a 79 años",
          "De 80 a 84 años",
          "De 85 a 89 años",
          "De 90 a 94 años",
          "De 95 años y más",
          "Todas las edades",
          "Menores de 15 años",
          "De 15 a 29 años",
          "De 30 a 39 años",
          "De 40 a 44 años",
          "De 45 a 49 años",
          "De 50 a 54 años",
          "De 55 a 59 años",
          "De 60 a 64 años",
          "De 65 a 69 años",
          "De 70 a 74 años",
          "De 75 a 79 años",
          "De 80 a 84 años",
          "De 85 a 89 años",
          "De 90 a 94 años",
          "De 95 años y más",
          "Todas las edades",
          "Menores de 15 años",
          "De 15 a 29 años",
          "De 30 a 39 años",
          "De 40 a 44 años",
          "De 45 a 49 años",
          "De 50 a 54 años",
          "De 55 a 59 años",
          "De 60 a 64 años",
          "De 65 a 69 años",
          "De 70 a 74 años",
          "De 75 a 79 años",
          "De 80 a 84 años",
          "De 85 a 89 años",
          "De 90 a 94 años",
          "De 95 años y más",
          "Todas las edades",
          "Menores de 15 años",
          "De 15 a 29 años",
          "De 30 a 39 años",
          "De 40 a 44 años",
          "De 45 a 49 años",
          "De 50 a 54 años",
          "De 55 a 59 años",
          "De 60 a 64 años",
          "De 65 a 69 años",
          "De 70 a 74 años",
          "De 75 a 79 años",
          "De 80 a 84 años",
          "De 85 a 89 años",
          "De 90 a 94 años",
          "De 95 años y más",
          "Todas las edades",
          "Menores de 15 años",
          "De 15 a 29 años",
          "De 30 a 39 años",
          "De 40 a 44 años",
          "De 45 a 49 años",
          "De 50 a 54 años",
          "De 55 a 59 años",
          "De 60 a 64 años",
          "De 65 a 69 años",
          "De 70 a 74 años",
          "De 75 a 79 años",
          "De 80 a 84 años",
          "De 85 a 89 años",
          "De 90 a 94 años",
          "De 95 años y más",
          "Todas las edades",
          "Menores de 15 años",
          "De 15 a 29 años",
          "De 30 a 39 años",
          "De 40 a 44 años",
          "De 45 a 49 años",
          "De 50 a 54 años",
          "De 55 a 59 años",
          "De 60 a 64 años",
          "De 65 a 69 años",
          "De 70 a 74 años",
          "De 75 a 79 años",
          "De 80 a 84 años",
          "De 85 a 89 años",
          "De 90 a 94 años",
          "De 95 años y más",
          "Todas las edades",
          "Menores de 15 años",
          "De 15 a 29 años",
          "De 30 a 39 años",
          "De 40 a 44 años",
          "De 45 a 49 años",
          "De 50 a 54 años",
          "De 55 a 59 años",
          "De 60 a 64 años",
          "De 65 a 69 años",
          "De 70 a 74 años",
          "De 75 a 79 años",
          "De 80 a 84 años",
          "De 85 a 89 años",
          "De 90 a 94 años",
          "De 95 años y más",
          "Todas las edades",
          "Menores de 15 años",
          "De 15 a 29 años",
          "De 30 a 39 años",
          "De 40 a 44 años",
          "De 45 a 49 años",
          "De 50 a 54 años",
          "De 55 a 59 años",
          "De 60 a 64 años",
          "De 65 a 69 años",
          "De 70 a 74 años",
          "De 75 a 79 años",
          "De 80 a 84 años",
          "De 85 a 89 años",
          "De 90 a 94 años",
          "De 95 años y más",
          "Todas las edades",
          "Menores de 15 años",
          "De 15 a 29 años",
          "De 30 a 39 años",
          "De 40 a 44 años",
          "De 45 a 49 años",
          "De 50 a 54 años",
          "De 55 a 59 años",
          "De 60 a 64 años",
          "De 65 a 69 años",
          "De 70 a 74 años",
          "De 75 a 79 años",
          "De 80 a 84 años",
          "De 85 a 89 años",
          "De 90 a 94 años",
          "De 95 años y más",
          "Todas las edades",
          "Menores de 15 años",
          "De 15 a 29 años",
          "De 30 a 39 años",
          "De 40 a 44 años",
          "De 45 a 49 años",
          "De 50 a 54 años",
          "De 55 a 59 años",
          "De 60 a 64 años",
          "De 65 a 69 años",
          "De 70 a 74 años",
          "De 75 a 79 años",
          "De 80 a 84 años",
          "De 85 a 89 años",
          "De 90 a 94 años",
          "De 95 años y más",
          "Todas las edades",
          "Menores de 15 años",
          "De 15 a 29 años",
          "De 30 a 39 años",
          "De 40 a 44 años",
          "De 45 a 49 años",
          "De 50 a 54 años",
          "De 55 a 59 años",
          "De 60 a 64 años",
          "De 65 a 69 años",
          "De 70 a 74 años",
          "De 75 a 79 años",
          "De 80 a 84 años",
          "De 85 a 89 años",
          "De 90 a 94 años",
          "De 95 años y más",
          "Todas las edades",
          "Menores de 15 años",
          "De 15 a 29 años",
          "De 30 a 39 años",
          "De 40 a 44 años",
          "De 45 a 49 años",
          "De 50 a 54 años",
          "De 55 a 59 años",
          "De 60 a 64 años",
          "De 65 a 69 años",
          "De 70 a 74 años",
          "De 75 a 79 años",
          "De 80 a 84 años",
          "De 85 a 89 años",
          "De 90 a 94 años",
          "De 95 años y más",
          "Todas las edades",
          "Menores de 15 años",
          "De 15 a 29 años",
          "De 30 a 39 años",
          "De 40 a 44 años",
          "De 45 a 49 años",
          "De 50 a 54 años",
          "De 55 a 59 años",
          "De 60 a 64 años",
          "De 65 a 69 años",
          "De 70 a 74 años",
          "De 75 a 79 años",
          "De 80 a 84 años",
          "De 85 a 89 años",
          "De 90 a 94 años",
          "De 95 años y más",
          "Todas las edades",
          "Menores de 15 años",
          "De 15 a 29 años",
          "De 30 a 39 años",
          "De 40 a 44 años",
          "De 45 a 49 años",
          "De 50 a 54 años",
          "De 55 a 59 años",
          "De 60 a 64 años",
          "De 65 a 69 años",
          "De 70 a 74 años",
          "De 75 a 79 años",
          "De 80 a 84 años",
          "De 85 a 89 años",
          "De 90 a 94 años",
          "De 95 años y más"
         ],
         "legendgroup": "Hombres",
         "marker": {
          "color": "rgb(221,132,82)",
          "pattern": {
           "shape": ""
          }
         },
         "name": "Hombres",
         "offsetgroup": "Hombres",
         "orientation": "v",
         "showlegend": true,
         "textposition": "auto",
         "type": "bar",
         "x": [
          "Andalucía",
          "Andalucía",
          "Andalucía",
          "Andalucía",
          "Andalucía",
          "Andalucía",
          "Andalucía",
          "Andalucía",
          "Andalucía",
          "Andalucía",
          "Andalucía",
          "Andalucía",
          "Andalucía",
          "Andalucía",
          "Andalucía",
          "Andalucía",
          "Aragón",
          "Aragón",
          "Aragón",
          "Aragón",
          "Aragón",
          "Aragón",
          "Aragón",
          "Aragón",
          "Aragón",
          "Aragón",
          "Aragón",
          "Aragón",
          "Aragón",
          "Aragón",
          "Aragón",
          "Aragón",
          "Asturias, Principado de",
          "Asturias, Principado de",
          "Asturias, Principado de",
          "Asturias, Principado de",
          "Asturias, Principado de",
          "Asturias, Principado de",
          "Asturias, Principado de",
          "Asturias, Principado de",
          "Asturias, Principado de",
          "Asturias, Principado de",
          "Asturias, Principado de",
          "Asturias, Principado de",
          "Asturias, Principado de",
          "Asturias, Principado de",
          "Asturias, Principado de",
          "Asturias, Principado de",
          "Balears, Illes",
          "Balears, Illes",
          "Balears, Illes",
          "Balears, Illes",
          "Balears, Illes",
          "Balears, Illes",
          "Balears, Illes",
          "Balears, Illes",
          "Balears, Illes",
          "Balears, Illes",
          "Balears, Illes",
          "Balears, Illes",
          "Balears, Illes",
          "Balears, Illes",
          "Balears, Illes",
          "Balears, Illes",
          "Canarias",
          "Canarias",
          "Canarias",
          "Canarias",
          "Canarias",
          "Canarias",
          "Canarias",
          "Canarias",
          "Canarias",
          "Canarias",
          "Canarias",
          "Canarias",
          "Canarias",
          "Canarias",
          "Canarias",
          "Canarias",
          "Cantabria",
          "Cantabria",
          "Cantabria",
          "Cantabria",
          "Cantabria",
          "Cantabria",
          "Cantabria",
          "Cantabria",
          "Cantabria",
          "Cantabria",
          "Cantabria",
          "Cantabria",
          "Cantabria",
          "Cantabria",
          "Cantabria",
          "Cantabria",
          "Castilla y León",
          "Castilla y León",
          "Castilla y León",
          "Castilla y León",
          "Castilla y León",
          "Castilla y León",
          "Castilla y León",
          "Castilla y León",
          "Castilla y León",
          "Castilla y León",
          "Castilla y León",
          "Castilla y León",
          "Castilla y León",
          "Castilla y León",
          "Castilla y León",
          "Castilla y León",
          "Castilla - La Mancha",
          "Castilla - La Mancha",
          "Castilla - La Mancha",
          "Castilla - La Mancha",
          "Castilla - La Mancha",
          "Castilla - La Mancha",
          "Castilla - La Mancha",
          "Castilla - La Mancha",
          "Castilla - La Mancha",
          "Castilla - La Mancha",
          "Castilla - La Mancha",
          "Castilla - La Mancha",
          "Castilla - La Mancha",
          "Castilla - La Mancha",
          "Castilla - La Mancha",
          "Castilla - La Mancha",
          "Cataluña",
          "Cataluña",
          "Cataluña",
          "Cataluña",
          "Cataluña",
          "Cataluña",
          "Cataluña",
          "Cataluña",
          "Cataluña",
          "Cataluña",
          "Cataluña",
          "Cataluña",
          "Cataluña",
          "Cataluña",
          "Cataluña",
          "Cataluña",
          "Comunitat Valenciana",
          "Comunitat Valenciana",
          "Comunitat Valenciana",
          "Comunitat Valenciana",
          "Comunitat Valenciana",
          "Comunitat Valenciana",
          "Comunitat Valenciana",
          "Comunitat Valenciana",
          "Comunitat Valenciana",
          "Comunitat Valenciana",
          "Comunitat Valenciana",
          "Comunitat Valenciana",
          "Comunitat Valenciana",
          "Comunitat Valenciana",
          "Comunitat Valenciana",
          "Comunitat Valenciana",
          "Extremadura",
          "Extremadura",
          "Extremadura",
          "Extremadura",
          "Extremadura",
          "Extremadura",
          "Extremadura",
          "Extremadura",
          "Extremadura",
          "Extremadura",
          "Extremadura",
          "Extremadura",
          "Extremadura",
          "Extremadura",
          "Extremadura",
          "Extremadura",
          "Galicia",
          "Galicia",
          "Galicia",
          "Galicia",
          "Galicia",
          "Galicia",
          "Galicia",
          "Galicia",
          "Galicia",
          "Galicia",
          "Galicia",
          "Galicia",
          "Galicia",
          "Galicia",
          "Galicia",
          "Galicia",
          "Madrid, Comunidad de",
          "Madrid, Comunidad de",
          "Madrid, Comunidad de",
          "Madrid, Comunidad de",
          "Madrid, Comunidad de",
          "Madrid, Comunidad de",
          "Madrid, Comunidad de",
          "Madrid, Comunidad de",
          "Madrid, Comunidad de",
          "Madrid, Comunidad de",
          "Madrid, Comunidad de",
          "Madrid, Comunidad de",
          "Madrid, Comunidad de",
          "Madrid, Comunidad de",
          "Madrid, Comunidad de",
          "Madrid, Comunidad de",
          "Murcia, Región de",
          "Murcia, Región de",
          "Murcia, Región de",
          "Murcia, Región de",
          "Murcia, Región de",
          "Murcia, Región de",
          "Murcia, Región de",
          "Murcia, Región de",
          "Murcia, Región de",
          "Murcia, Región de",
          "Murcia, Región de",
          "Murcia, Región de",
          "Murcia, Región de",
          "Murcia, Región de",
          "Murcia, Región de",
          "Murcia, Región de",
          "Navarra, Comunidad Foral de",
          "Navarra, Comunidad Foral de",
          "Navarra, Comunidad Foral de",
          "Navarra, Comunidad Foral de",
          "Navarra, Comunidad Foral de",
          "Navarra, Comunidad Foral de",
          "Navarra, Comunidad Foral de",
          "Navarra, Comunidad Foral de",
          "Navarra, Comunidad Foral de",
          "Navarra, Comunidad Foral de",
          "Navarra, Comunidad Foral de",
          "Navarra, Comunidad Foral de",
          "Navarra, Comunidad Foral de",
          "Navarra, Comunidad Foral de",
          "Navarra, Comunidad Foral de",
          "Navarra, Comunidad Foral de",
          "País Vasco",
          "País Vasco",
          "País Vasco",
          "País Vasco",
          "País Vasco",
          "País Vasco",
          "País Vasco",
          "País Vasco",
          "País Vasco",
          "País Vasco",
          "País Vasco",
          "País Vasco",
          "País Vasco",
          "País Vasco",
          "País Vasco",
          "País Vasco",
          "Rioja, La",
          "Rioja, La",
          "Rioja, La",
          "Rioja, La",
          "Rioja, La",
          "Rioja, La",
          "Rioja, La",
          "Rioja, La",
          "Rioja, La",
          "Rioja, La",
          "Rioja, La",
          "Rioja, La",
          "Rioja, La",
          "Rioja, La",
          "Rioja, La",
          "Rioja, La",
          "Ceuta",
          "Ceuta",
          "Ceuta",
          "Ceuta",
          "Ceuta",
          "Ceuta",
          "Ceuta",
          "Ceuta",
          "Ceuta",
          "Ceuta",
          "Ceuta",
          "Ceuta",
          "Ceuta",
          "Ceuta",
          "Ceuta",
          "Ceuta",
          "Melilla",
          "Melilla",
          "Melilla",
          "Melilla",
          "Melilla",
          "Melilla",
          "Melilla",
          "Melilla",
          "Melilla",
          "Melilla",
          "Melilla",
          "Melilla",
          "Melilla",
          "Melilla",
          "Melilla",
          "Melilla"
         ],
         "xaxis": "x",
         "y": [
          661,
          1,
          45,
          71,
          64,
          77,
          71,
          62,
          63,
          33,
          36,
          51,
          48,
          26,
          11,
          2,
          87,
          1,
          11,
          11,
          5,
          9,
          7,
          10,
          6,
          4,
          3,
          8,
          3,
          5,
          2,
          2,
          90,
          0,
          5,
          7,
          10,
          7,
          9,
          13,
          7,
          3,
          9,
          6,
          7,
          4,
          2,
          1,
          67,
          0,
          5,
          8,
          7,
          9,
          8,
          8,
          8,
          4,
          3,
          3,
          0,
          4,
          0,
          0,
          169,
          1,
          15,
          18,
          22,
          17,
          19,
          17,
          22,
          13,
          7,
          10,
          3,
          4,
          0,
          1,
          40,
          0,
          2,
          2,
          6,
          4,
          3,
          4,
          2,
          4,
          4,
          3,
          2,
          3,
          1,
          0,
          168,
          0,
          8,
          15,
          13,
          16,
          17,
          16,
          22,
          12,
          14,
          10,
          14,
          6,
          2,
          3,
          137,
          0,
          8,
          13,
          6,
          17,
          15,
          12,
          19,
          9,
          4,
          8,
          13,
          6,
          6,
          1,
          435,
          1,
          34,
          52,
          42,
          56,
          35,
          39,
          34,
          25,
          22,
          28,
          18,
          29,
          18,
          2,
          299,
          2,
          23,
          28,
          34,
          28,
          48,
          40,
          23,
          15,
          13,
          8,
          14,
          15,
          7,
          1,
          63,
          0,
          1,
          7,
          7,
          4,
          9,
          6,
          7,
          4,
          5,
          4,
          2,
          4,
          3,
          0,
          228,
          0,
          14,
          21,
          15,
          18,
          26,
          26,
          24,
          8,
          14,
          23,
          18,
          13,
          7,
          1,
          253,
          4,
          24,
          36,
          23,
          26,
          29,
          24,
          11,
          16,
          12,
          16,
          9,
          10,
          10,
          3,
          94,
          2,
          14,
          6,
          7,
          8,
          15,
          10,
          6,
          4,
          4,
          7,
          7,
          2,
          2,
          0,
          38,
          0,
          8,
          2,
          4,
          7,
          4,
          1,
          1,
          2,
          1,
          3,
          2,
          2,
          1,
          0,
          106,
          1,
          11,
          11,
          11,
          9,
          7,
          13,
          9,
          3,
          7,
          7,
          6,
          8,
          2,
          1,
          18,
          0,
          0,
          3,
          4,
          3,
          0,
          2,
          1,
          1,
          2,
          0,
          2,
          0,
          0,
          0,
          2,
          0,
          0,
          0,
          0,
          1,
          0,
          0,
          1,
          0,
          0,
          0,
          0,
          0,
          0,
          0,
          3,
          0,
          1,
          1,
          0,
          0,
          0,
          1,
          0,
          0,
          0,
          0,
          0,
          0,
          0,
          0
         ],
         "yaxis": "y"
        },
        {
         "alignmentgroup": "True",
         "hovertemplate": "<b>%{hovertext}</b><br><br>Sexo=Mujeres<br>Comunidades autónomas=%{x}<br>Número de suicidios=%{y}<extra></extra>",
         "hovertext": [
          "Todas las edades",
          "Menores de 15 años",
          "De 15 a 29 años",
          "De 30 a 39 años",
          "De 40 a 44 años",
          "De 45 a 49 años",
          "De 50 a 54 años",
          "De 55 a 59 años",
          "De 60 a 64 años",
          "De 65 a 69 años",
          "De 70 a 74 años",
          "De 75 a 79 años",
          "De 80 a 84 años",
          "De 85 a 89 años",
          "De 90 a 94 años",
          "De 95 años y más",
          "Todas las edades",
          "Menores de 15 años",
          "De 15 a 29 años",
          "De 30 a 39 años",
          "De 40 a 44 años",
          "De 45 a 49 años",
          "De 50 a 54 años",
          "De 55 a 59 años",
          "De 60 a 64 años",
          "De 65 a 69 años",
          "De 70 a 74 años",
          "De 75 a 79 años",
          "De 80 a 84 años",
          "De 85 a 89 años",
          "De 90 a 94 años",
          "De 95 años y más",
          "Todas las edades",
          "Menores de 15 años",
          "De 15 a 29 años",
          "De 30 a 39 años",
          "De 40 a 44 años",
          "De 45 a 49 años",
          "De 50 a 54 años",
          "De 55 a 59 años",
          "De 60 a 64 años",
          "De 65 a 69 años",
          "De 70 a 74 años",
          "De 75 a 79 años",
          "De 80 a 84 años",
          "De 85 a 89 años",
          "De 90 a 94 años",
          "De 95 años y más",
          "Todas las edades",
          "Menores de 15 años",
          "De 15 a 29 años",
          "De 30 a 39 años",
          "De 40 a 44 años",
          "De 45 a 49 años",
          "De 50 a 54 años",
          "De 55 a 59 años",
          "De 60 a 64 años",
          "De 65 a 69 años",
          "De 70 a 74 años",
          "De 75 a 79 años",
          "De 80 a 84 años",
          "De 85 a 89 años",
          "De 90 a 94 años",
          "De 95 años y más",
          "Todas las edades",
          "Menores de 15 años",
          "De 15 a 29 años",
          "De 30 a 39 años",
          "De 40 a 44 años",
          "De 45 a 49 años",
          "De 50 a 54 años",
          "De 55 a 59 años",
          "De 60 a 64 años",
          "De 65 a 69 años",
          "De 70 a 74 años",
          "De 75 a 79 años",
          "De 80 a 84 años",
          "De 85 a 89 años",
          "De 90 a 94 años",
          "De 95 años y más",
          "Todas las edades",
          "Menores de 15 años",
          "De 15 a 29 años",
          "De 30 a 39 años",
          "De 40 a 44 años",
          "De 45 a 49 años",
          "De 50 a 54 años",
          "De 55 a 59 años",
          "De 60 a 64 años",
          "De 65 a 69 años",
          "De 70 a 74 años",
          "De 75 a 79 años",
          "De 80 a 84 años",
          "De 85 a 89 años",
          "De 90 a 94 años",
          "De 95 años y más",
          "Todas las edades",
          "Menores de 15 años",
          "De 15 a 29 años",
          "De 30 a 39 años",
          "De 40 a 44 años",
          "De 45 a 49 años",
          "De 50 a 54 años",
          "De 55 a 59 años",
          "De 60 a 64 años",
          "De 65 a 69 años",
          "De 70 a 74 años",
          "De 75 a 79 años",
          "De 80 a 84 años",
          "De 85 a 89 años",
          "De 90 a 94 años",
          "De 95 años y más",
          "Todas las edades",
          "Menores de 15 años",
          "De 15 a 29 años",
          "De 30 a 39 años",
          "De 40 a 44 años",
          "De 45 a 49 años",
          "De 50 a 54 años",
          "De 55 a 59 años",
          "De 60 a 64 años",
          "De 65 a 69 años",
          "De 70 a 74 años",
          "De 75 a 79 años",
          "De 80 a 84 años",
          "De 85 a 89 años",
          "De 90 a 94 años",
          "De 95 años y más",
          "Todas las edades",
          "Menores de 15 años",
          "De 15 a 29 años",
          "De 30 a 39 años",
          "De 40 a 44 años",
          "De 45 a 49 años",
          "De 50 a 54 años",
          "De 55 a 59 años",
          "De 60 a 64 años",
          "De 65 a 69 años",
          "De 70 a 74 años",
          "De 75 a 79 años",
          "De 80 a 84 años",
          "De 85 a 89 años",
          "De 90 a 94 años",
          "De 95 años y más",
          "Todas las edades",
          "Menores de 15 años",
          "De 15 a 29 años",
          "De 30 a 39 años",
          "De 40 a 44 años",
          "De 45 a 49 años",
          "De 50 a 54 años",
          "De 55 a 59 años",
          "De 60 a 64 años",
          "De 65 a 69 años",
          "De 70 a 74 años",
          "De 75 a 79 años",
          "De 80 a 84 años",
          "De 85 a 89 años",
          "De 90 a 94 años",
          "De 95 años y más",
          "Todas las edades",
          "Menores de 15 años",
          "De 15 a 29 años",
          "De 30 a 39 años",
          "De 40 a 44 años",
          "De 45 a 49 años",
          "De 50 a 54 años",
          "De 55 a 59 años",
          "De 60 a 64 años",
          "De 65 a 69 años",
          "De 70 a 74 años",
          "De 75 a 79 años",
          "De 80 a 84 años",
          "De 85 a 89 años",
          "De 90 a 94 años",
          "De 95 años y más",
          "Todas las edades",
          "Menores de 15 años",
          "De 15 a 29 años",
          "De 30 a 39 años",
          "De 40 a 44 años",
          "De 45 a 49 años",
          "De 50 a 54 años",
          "De 55 a 59 años",
          "De 60 a 64 años",
          "De 65 a 69 años",
          "De 70 a 74 años",
          "De 75 a 79 años",
          "De 80 a 84 años",
          "De 85 a 89 años",
          "De 90 a 94 años",
          "De 95 años y más",
          "Todas las edades",
          "Menores de 15 años",
          "De 15 a 29 años",
          "De 30 a 39 años",
          "De 40 a 44 años",
          "De 45 a 49 años",
          "De 50 a 54 años",
          "De 55 a 59 años",
          "De 60 a 64 años",
          "De 65 a 69 años",
          "De 70 a 74 años",
          "De 75 a 79 años",
          "De 80 a 84 años",
          "De 85 a 89 años",
          "De 90 a 94 años",
          "De 95 años y más",
          "Todas las edades",
          "Menores de 15 años",
          "De 15 a 29 años",
          "De 30 a 39 años",
          "De 40 a 44 años",
          "De 45 a 49 años",
          "De 50 a 54 años",
          "De 55 a 59 años",
          "De 60 a 64 años",
          "De 65 a 69 años",
          "De 70 a 74 años",
          "De 75 a 79 años",
          "De 80 a 84 años",
          "De 85 a 89 años",
          "De 90 a 94 años",
          "De 95 años y más",
          "Todas las edades",
          "Menores de 15 años",
          "De 15 a 29 años",
          "De 30 a 39 años",
          "De 40 a 44 años",
          "De 45 a 49 años",
          "De 50 a 54 años",
          "De 55 a 59 años",
          "De 60 a 64 años",
          "De 65 a 69 años",
          "De 70 a 74 años",
          "De 75 a 79 años",
          "De 80 a 84 años",
          "De 85 a 89 años",
          "De 90 a 94 años",
          "De 95 años y más",
          "Todas las edades",
          "Menores de 15 años",
          "De 15 a 29 años",
          "De 30 a 39 años",
          "De 40 a 44 años",
          "De 45 a 49 años",
          "De 50 a 54 años",
          "De 55 a 59 años",
          "De 60 a 64 años",
          "De 65 a 69 años",
          "De 70 a 74 años",
          "De 75 a 79 años",
          "De 80 a 84 años",
          "De 85 a 89 años",
          "De 90 a 94 años",
          "De 95 años y más",
          "Todas las edades",
          "Menores de 15 años",
          "De 15 a 29 años",
          "De 30 a 39 años",
          "De 40 a 44 años",
          "De 45 a 49 años",
          "De 50 a 54 años",
          "De 55 a 59 años",
          "De 60 a 64 años",
          "De 65 a 69 años",
          "De 70 a 74 años",
          "De 75 a 79 años",
          "De 80 a 84 años",
          "De 85 a 89 años",
          "De 90 a 94 años",
          "De 95 años y más",
          "Todas las edades",
          "Menores de 15 años",
          "De 15 a 29 años",
          "De 30 a 39 años",
          "De 40 a 44 años",
          "De 45 a 49 años",
          "De 50 a 54 años",
          "De 55 a 59 años",
          "De 60 a 64 años",
          "De 65 a 69 años",
          "De 70 a 74 años",
          "De 75 a 79 años",
          "De 80 a 84 años",
          "De 85 a 89 años",
          "De 90 a 94 años",
          "De 95 años y más",
          "Todas las edades",
          "Menores de 15 años",
          "De 15 a 29 años",
          "De 30 a 39 años",
          "De 40 a 44 años",
          "De 45 a 49 años",
          "De 50 a 54 años",
          "De 55 a 59 años",
          "De 60 a 64 años",
          "De 65 a 69 años",
          "De 70 a 74 años",
          "De 75 a 79 años",
          "De 80 a 84 años",
          "De 85 a 89 años",
          "De 90 a 94 años",
          "De 95 años y más"
         ],
         "legendgroup": "Mujeres",
         "marker": {
          "color": "rgb(85,168,104)",
          "pattern": {
           "shape": ""
          }
         },
         "name": "Mujeres",
         "offsetgroup": "Mujeres",
         "orientation": "v",
         "showlegend": true,
         "textposition": "auto",
         "type": "bar",
         "x": [
          "Andalucía",
          "Andalucía",
          "Andalucía",
          "Andalucía",
          "Andalucía",
          "Andalucía",
          "Andalucía",
          "Andalucía",
          "Andalucía",
          "Andalucía",
          "Andalucía",
          "Andalucía",
          "Andalucía",
          "Andalucía",
          "Andalucía",
          "Andalucía",
          "Aragón",
          "Aragón",
          "Aragón",
          "Aragón",
          "Aragón",
          "Aragón",
          "Aragón",
          "Aragón",
          "Aragón",
          "Aragón",
          "Aragón",
          "Aragón",
          "Aragón",
          "Aragón",
          "Aragón",
          "Aragón",
          "Asturias, Principado de",
          "Asturias, Principado de",
          "Asturias, Principado de",
          "Asturias, Principado de",
          "Asturias, Principado de",
          "Asturias, Principado de",
          "Asturias, Principado de",
          "Asturias, Principado de",
          "Asturias, Principado de",
          "Asturias, Principado de",
          "Asturias, Principado de",
          "Asturias, Principado de",
          "Asturias, Principado de",
          "Asturias, Principado de",
          "Asturias, Principado de",
          "Asturias, Principado de",
          "Balears, Illes",
          "Balears, Illes",
          "Balears, Illes",
          "Balears, Illes",
          "Balears, Illes",
          "Balears, Illes",
          "Balears, Illes",
          "Balears, Illes",
          "Balears, Illes",
          "Balears, Illes",
          "Balears, Illes",
          "Balears, Illes",
          "Balears, Illes",
          "Balears, Illes",
          "Balears, Illes",
          "Balears, Illes",
          "Canarias",
          "Canarias",
          "Canarias",
          "Canarias",
          "Canarias",
          "Canarias",
          "Canarias",
          "Canarias",
          "Canarias",
          "Canarias",
          "Canarias",
          "Canarias",
          "Canarias",
          "Canarias",
          "Canarias",
          "Canarias",
          "Cantabria",
          "Cantabria",
          "Cantabria",
          "Cantabria",
          "Cantabria",
          "Cantabria",
          "Cantabria",
          "Cantabria",
          "Cantabria",
          "Cantabria",
          "Cantabria",
          "Cantabria",
          "Cantabria",
          "Cantabria",
          "Cantabria",
          "Cantabria",
          "Castilla y León",
          "Castilla y León",
          "Castilla y León",
          "Castilla y León",
          "Castilla y León",
          "Castilla y León",
          "Castilla y León",
          "Castilla y León",
          "Castilla y León",
          "Castilla y León",
          "Castilla y León",
          "Castilla y León",
          "Castilla y León",
          "Castilla y León",
          "Castilla y León",
          "Castilla y León",
          "Castilla - La Mancha",
          "Castilla - La Mancha",
          "Castilla - La Mancha",
          "Castilla - La Mancha",
          "Castilla - La Mancha",
          "Castilla - La Mancha",
          "Castilla - La Mancha",
          "Castilla - La Mancha",
          "Castilla - La Mancha",
          "Castilla - La Mancha",
          "Castilla - La Mancha",
          "Castilla - La Mancha",
          "Castilla - La Mancha",
          "Castilla - La Mancha",
          "Castilla - La Mancha",
          "Castilla - La Mancha",
          "Cataluña",
          "Cataluña",
          "Cataluña",
          "Cataluña",
          "Cataluña",
          "Cataluña",
          "Cataluña",
          "Cataluña",
          "Cataluña",
          "Cataluña",
          "Cataluña",
          "Cataluña",
          "Cataluña",
          "Cataluña",
          "Cataluña",
          "Cataluña",
          "Comunitat Valenciana",
          "Comunitat Valenciana",
          "Comunitat Valenciana",
          "Comunitat Valenciana",
          "Comunitat Valenciana",
          "Comunitat Valenciana",
          "Comunitat Valenciana",
          "Comunitat Valenciana",
          "Comunitat Valenciana",
          "Comunitat Valenciana",
          "Comunitat Valenciana",
          "Comunitat Valenciana",
          "Comunitat Valenciana",
          "Comunitat Valenciana",
          "Comunitat Valenciana",
          "Comunitat Valenciana",
          "Extremadura",
          "Extremadura",
          "Extremadura",
          "Extremadura",
          "Extremadura",
          "Extremadura",
          "Extremadura",
          "Extremadura",
          "Extremadura",
          "Extremadura",
          "Extremadura",
          "Extremadura",
          "Extremadura",
          "Extremadura",
          "Extremadura",
          "Extremadura",
          "Galicia",
          "Galicia",
          "Galicia",
          "Galicia",
          "Galicia",
          "Galicia",
          "Galicia",
          "Galicia",
          "Galicia",
          "Galicia",
          "Galicia",
          "Galicia",
          "Galicia",
          "Galicia",
          "Galicia",
          "Galicia",
          "Madrid, Comunidad de",
          "Madrid, Comunidad de",
          "Madrid, Comunidad de",
          "Madrid, Comunidad de",
          "Madrid, Comunidad de",
          "Madrid, Comunidad de",
          "Madrid, Comunidad de",
          "Madrid, Comunidad de",
          "Madrid, Comunidad de",
          "Madrid, Comunidad de",
          "Madrid, Comunidad de",
          "Madrid, Comunidad de",
          "Madrid, Comunidad de",
          "Madrid, Comunidad de",
          "Madrid, Comunidad de",
          "Madrid, Comunidad de",
          "Murcia, Región de",
          "Murcia, Región de",
          "Murcia, Región de",
          "Murcia, Región de",
          "Murcia, Región de",
          "Murcia, Región de",
          "Murcia, Región de",
          "Murcia, Región de",
          "Murcia, Región de",
          "Murcia, Región de",
          "Murcia, Región de",
          "Murcia, Región de",
          "Murcia, Región de",
          "Murcia, Región de",
          "Murcia, Región de",
          "Murcia, Región de",
          "Navarra, Comunidad Foral de",
          "Navarra, Comunidad Foral de",
          "Navarra, Comunidad Foral de",
          "Navarra, Comunidad Foral de",
          "Navarra, Comunidad Foral de",
          "Navarra, Comunidad Foral de",
          "Navarra, Comunidad Foral de",
          "Navarra, Comunidad Foral de",
          "Navarra, Comunidad Foral de",
          "Navarra, Comunidad Foral de",
          "Navarra, Comunidad Foral de",
          "Navarra, Comunidad Foral de",
          "Navarra, Comunidad Foral de",
          "Navarra, Comunidad Foral de",
          "Navarra, Comunidad Foral de",
          "Navarra, Comunidad Foral de",
          "País Vasco",
          "País Vasco",
          "País Vasco",
          "País Vasco",
          "País Vasco",
          "País Vasco",
          "País Vasco",
          "País Vasco",
          "País Vasco",
          "País Vasco",
          "País Vasco",
          "País Vasco",
          "País Vasco",
          "País Vasco",
          "País Vasco",
          "País Vasco",
          "Rioja, La",
          "Rioja, La",
          "Rioja, La",
          "Rioja, La",
          "Rioja, La",
          "Rioja, La",
          "Rioja, La",
          "Rioja, La",
          "Rioja, La",
          "Rioja, La",
          "Rioja, La",
          "Rioja, La",
          "Rioja, La",
          "Rioja, La",
          "Rioja, La",
          "Rioja, La",
          "Ceuta",
          "Ceuta",
          "Ceuta",
          "Ceuta",
          "Ceuta",
          "Ceuta",
          "Ceuta",
          "Ceuta",
          "Ceuta",
          "Ceuta",
          "Ceuta",
          "Ceuta",
          "Ceuta",
          "Ceuta",
          "Ceuta",
          "Ceuta",
          "Melilla",
          "Melilla",
          "Melilla",
          "Melilla",
          "Melilla",
          "Melilla",
          "Melilla",
          "Melilla",
          "Melilla",
          "Melilla",
          "Melilla",
          "Melilla",
          "Melilla",
          "Melilla",
          "Melilla",
          "Melilla"
         ],
         "xaxis": "x",
         "y": [
          188,
          1,
          14,
          20,
          15,
          23,
          28,
          18,
          16,
          13,
          11,
          11,
          13,
          2,
          3,
          0,
          27,
          0,
          2,
          1,
          3,
          3,
          5,
          4,
          1,
          2,
          1,
          1,
          3,
          0,
          1,
          0,
          40,
          0,
          3,
          1,
          3,
          1,
          8,
          6,
          4,
          2,
          2,
          2,
          3,
          5,
          0,
          0,
          22,
          0,
          3,
          4,
          3,
          1,
          4,
          1,
          1,
          2,
          1,
          2,
          0,
          0,
          0,
          0,
          61,
          1,
          5,
          5,
          2,
          10,
          9,
          4,
          8,
          4,
          4,
          5,
          2,
          2,
          0,
          0,
          8,
          0,
          1,
          1,
          1,
          0,
          0,
          1,
          1,
          1,
          0,
          1,
          0,
          1,
          0,
          0,
          68,
          1,
          1,
          10,
          5,
          9,
          9,
          5,
          6,
          6,
          5,
          2,
          7,
          2,
          0,
          0,
          32,
          0,
          4,
          2,
          2,
          2,
          9,
          3,
          1,
          0,
          3,
          0,
          5,
          0,
          1,
          0,
          141,
          0,
          11,
          21,
          11,
          19,
          11,
          14,
          7,
          12,
          6,
          8,
          9,
          8,
          3,
          1,
          104,
          1,
          7,
          6,
          6,
          11,
          15,
          11,
          12,
          10,
          7,
          11,
          4,
          2,
          1,
          0,
          18,
          0,
          2,
          1,
          3,
          1,
          5,
          2,
          2,
          1,
          0,
          0,
          0,
          1,
          0,
          0,
          109,
          1,
          9,
          9,
          6,
          13,
          9,
          6,
          11,
          9,
          5,
          13,
          7,
          8,
          2,
          1,
          95,
          1,
          9,
          11,
          5,
          12,
          10,
          10,
          8,
          8,
          5,
          4,
          5,
          4,
          2,
          1,
          29,
          1,
          4,
          3,
          3,
          4,
          4,
          5,
          1,
          0,
          1,
          1,
          0,
          2,
          0,
          0,
          22,
          1,
          1,
          2,
          2,
          3,
          4,
          2,
          1,
          3,
          1,
          0,
          0,
          1,
          1,
          0,
          41,
          0,
          2,
          1,
          4,
          3,
          6,
          8,
          4,
          2,
          4,
          3,
          1,
          3,
          0,
          0,
          6,
          0,
          0,
          0,
          0,
          3,
          0,
          1,
          1,
          0,
          0,
          0,
          0,
          0,
          1,
          0,
          2,
          0,
          0,
          0,
          0,
          1,
          0,
          0,
          0,
          0,
          0,
          1,
          0,
          0,
          0,
          0,
          1,
          0,
          0,
          0,
          0,
          0,
          0,
          1,
          0,
          0,
          0,
          0,
          0,
          0,
          0,
          0
         ],
         "yaxis": "y"
        }
       ],
       "layout": {
        "barmode": "relative",
        "legend": {
         "title": {
          "text": "Sexo"
         },
         "tracegroupgap": 0
        },
        "template": {
         "data": {
          "bar": [
           {
            "error_x": {
             "color": "rgb(36,36,36)"
            },
            "error_y": {
             "color": "rgb(36,36,36)"
            },
            "marker": {
             "line": {
              "color": "rgb(234,234,242)",
              "width": 0.5
             },
             "pattern": {
              "fillmode": "overlay",
              "size": 10,
              "solidity": 0.2
             }
            },
            "type": "bar"
           }
          ],
          "barpolar": [
           {
            "marker": {
             "line": {
              "color": "rgb(234,234,242)",
              "width": 0.5
             },
             "pattern": {
              "fillmode": "overlay",
              "size": 10,
              "solidity": 0.2
             }
            },
            "type": "barpolar"
           }
          ],
          "carpet": [
           {
            "aaxis": {
             "endlinecolor": "rgb(36,36,36)",
             "gridcolor": "white",
             "linecolor": "white",
             "minorgridcolor": "white",
             "startlinecolor": "rgb(36,36,36)"
            },
            "baxis": {
             "endlinecolor": "rgb(36,36,36)",
             "gridcolor": "white",
             "linecolor": "white",
             "minorgridcolor": "white",
             "startlinecolor": "rgb(36,36,36)"
            },
            "type": "carpet"
           }
          ],
          "choropleth": [
           {
            "colorbar": {
             "outlinewidth": 0,
             "tickcolor": "rgb(36,36,36)",
             "ticklen": 8,
             "ticks": "outside",
             "tickwidth": 2
            },
            "type": "choropleth"
           }
          ],
          "contour": [
           {
            "colorbar": {
             "outlinewidth": 0,
             "tickcolor": "rgb(36,36,36)",
             "ticklen": 8,
             "ticks": "outside",
             "tickwidth": 2
            },
            "colorscale": [
             [
              0,
              "rgb(2,4,25)"
             ],
             [
              0.06274509803921569,
              "rgb(24,15,41)"
             ],
             [
              0.12549019607843137,
              "rgb(47,23,57)"
             ],
             [
              0.18823529411764706,
              "rgb(71,28,72)"
             ],
             [
              0.25098039215686274,
              "rgb(97,30,82)"
             ],
             [
              0.3137254901960784,
              "rgb(123,30,89)"
             ],
             [
              0.3764705882352941,
              "rgb(150,27,91)"
             ],
             [
              0.4392156862745098,
              "rgb(177,22,88)"
             ],
             [
              0.5019607843137255,
              "rgb(203,26,79)"
             ],
             [
              0.5647058823529412,
              "rgb(223,47,67)"
             ],
             [
              0.6274509803921569,
              "rgb(236,76,61)"
             ],
             [
              0.6901960784313725,
              "rgb(242,107,73)"
             ],
             [
              0.7529411764705882,
              "rgb(244,135,95)"
             ],
             [
              0.8156862745098039,
              "rgb(245,162,122)"
             ],
             [
              0.8784313725490196,
              "rgb(246,188,153)"
             ],
             [
              0.9411764705882353,
              "rgb(247,212,187)"
             ],
             [
              1,
              "rgb(250,234,220)"
             ]
            ],
            "type": "contour"
           }
          ],
          "contourcarpet": [
           {
            "colorbar": {
             "outlinewidth": 0,
             "tickcolor": "rgb(36,36,36)",
             "ticklen": 8,
             "ticks": "outside",
             "tickwidth": 2
            },
            "type": "contourcarpet"
           }
          ],
          "heatmap": [
           {
            "colorbar": {
             "outlinewidth": 0,
             "tickcolor": "rgb(36,36,36)",
             "ticklen": 8,
             "ticks": "outside",
             "tickwidth": 2
            },
            "colorscale": [
             [
              0,
              "rgb(2,4,25)"
             ],
             [
              0.06274509803921569,
              "rgb(24,15,41)"
             ],
             [
              0.12549019607843137,
              "rgb(47,23,57)"
             ],
             [
              0.18823529411764706,
              "rgb(71,28,72)"
             ],
             [
              0.25098039215686274,
              "rgb(97,30,82)"
             ],
             [
              0.3137254901960784,
              "rgb(123,30,89)"
             ],
             [
              0.3764705882352941,
              "rgb(150,27,91)"
             ],
             [
              0.4392156862745098,
              "rgb(177,22,88)"
             ],
             [
              0.5019607843137255,
              "rgb(203,26,79)"
             ],
             [
              0.5647058823529412,
              "rgb(223,47,67)"
             ],
             [
              0.6274509803921569,
              "rgb(236,76,61)"
             ],
             [
              0.6901960784313725,
              "rgb(242,107,73)"
             ],
             [
              0.7529411764705882,
              "rgb(244,135,95)"
             ],
             [
              0.8156862745098039,
              "rgb(245,162,122)"
             ],
             [
              0.8784313725490196,
              "rgb(246,188,153)"
             ],
             [
              0.9411764705882353,
              "rgb(247,212,187)"
             ],
             [
              1,
              "rgb(250,234,220)"
             ]
            ],
            "type": "heatmap"
           }
          ],
          "heatmapgl": [
           {
            "colorbar": {
             "outlinewidth": 0,
             "tickcolor": "rgb(36,36,36)",
             "ticklen": 8,
             "ticks": "outside",
             "tickwidth": 2
            },
            "colorscale": [
             [
              0,
              "rgb(2,4,25)"
             ],
             [
              0.06274509803921569,
              "rgb(24,15,41)"
             ],
             [
              0.12549019607843137,
              "rgb(47,23,57)"
             ],
             [
              0.18823529411764706,
              "rgb(71,28,72)"
             ],
             [
              0.25098039215686274,
              "rgb(97,30,82)"
             ],
             [
              0.3137254901960784,
              "rgb(123,30,89)"
             ],
             [
              0.3764705882352941,
              "rgb(150,27,91)"
             ],
             [
              0.4392156862745098,
              "rgb(177,22,88)"
             ],
             [
              0.5019607843137255,
              "rgb(203,26,79)"
             ],
             [
              0.5647058823529412,
              "rgb(223,47,67)"
             ],
             [
              0.6274509803921569,
              "rgb(236,76,61)"
             ],
             [
              0.6901960784313725,
              "rgb(242,107,73)"
             ],
             [
              0.7529411764705882,
              "rgb(244,135,95)"
             ],
             [
              0.8156862745098039,
              "rgb(245,162,122)"
             ],
             [
              0.8784313725490196,
              "rgb(246,188,153)"
             ],
             [
              0.9411764705882353,
              "rgb(247,212,187)"
             ],
             [
              1,
              "rgb(250,234,220)"
             ]
            ],
            "type": "heatmapgl"
           }
          ],
          "histogram": [
           {
            "marker": {
             "pattern": {
              "fillmode": "overlay",
              "size": 10,
              "solidity": 0.2
             }
            },
            "type": "histogram"
           }
          ],
          "histogram2d": [
           {
            "colorbar": {
             "outlinewidth": 0,
             "tickcolor": "rgb(36,36,36)",
             "ticklen": 8,
             "ticks": "outside",
             "tickwidth": 2
            },
            "colorscale": [
             [
              0,
              "rgb(2,4,25)"
             ],
             [
              0.06274509803921569,
              "rgb(24,15,41)"
             ],
             [
              0.12549019607843137,
              "rgb(47,23,57)"
             ],
             [
              0.18823529411764706,
              "rgb(71,28,72)"
             ],
             [
              0.25098039215686274,
              "rgb(97,30,82)"
             ],
             [
              0.3137254901960784,
              "rgb(123,30,89)"
             ],
             [
              0.3764705882352941,
              "rgb(150,27,91)"
             ],
             [
              0.4392156862745098,
              "rgb(177,22,88)"
             ],
             [
              0.5019607843137255,
              "rgb(203,26,79)"
             ],
             [
              0.5647058823529412,
              "rgb(223,47,67)"
             ],
             [
              0.6274509803921569,
              "rgb(236,76,61)"
             ],
             [
              0.6901960784313725,
              "rgb(242,107,73)"
             ],
             [
              0.7529411764705882,
              "rgb(244,135,95)"
             ],
             [
              0.8156862745098039,
              "rgb(245,162,122)"
             ],
             [
              0.8784313725490196,
              "rgb(246,188,153)"
             ],
             [
              0.9411764705882353,
              "rgb(247,212,187)"
             ],
             [
              1,
              "rgb(250,234,220)"
             ]
            ],
            "type": "histogram2d"
           }
          ],
          "histogram2dcontour": [
           {
            "colorbar": {
             "outlinewidth": 0,
             "tickcolor": "rgb(36,36,36)",
             "ticklen": 8,
             "ticks": "outside",
             "tickwidth": 2
            },
            "colorscale": [
             [
              0,
              "rgb(2,4,25)"
             ],
             [
              0.06274509803921569,
              "rgb(24,15,41)"
             ],
             [
              0.12549019607843137,
              "rgb(47,23,57)"
             ],
             [
              0.18823529411764706,
              "rgb(71,28,72)"
             ],
             [
              0.25098039215686274,
              "rgb(97,30,82)"
             ],
             [
              0.3137254901960784,
              "rgb(123,30,89)"
             ],
             [
              0.3764705882352941,
              "rgb(150,27,91)"
             ],
             [
              0.4392156862745098,
              "rgb(177,22,88)"
             ],
             [
              0.5019607843137255,
              "rgb(203,26,79)"
             ],
             [
              0.5647058823529412,
              "rgb(223,47,67)"
             ],
             [
              0.6274509803921569,
              "rgb(236,76,61)"
             ],
             [
              0.6901960784313725,
              "rgb(242,107,73)"
             ],
             [
              0.7529411764705882,
              "rgb(244,135,95)"
             ],
             [
              0.8156862745098039,
              "rgb(245,162,122)"
             ],
             [
              0.8784313725490196,
              "rgb(246,188,153)"
             ],
             [
              0.9411764705882353,
              "rgb(247,212,187)"
             ],
             [
              1,
              "rgb(250,234,220)"
             ]
            ],
            "type": "histogram2dcontour"
           }
          ],
          "mesh3d": [
           {
            "colorbar": {
             "outlinewidth": 0,
             "tickcolor": "rgb(36,36,36)",
             "ticklen": 8,
             "ticks": "outside",
             "tickwidth": 2
            },
            "type": "mesh3d"
           }
          ],
          "parcoords": [
           {
            "line": {
             "colorbar": {
              "outlinewidth": 0,
              "tickcolor": "rgb(36,36,36)",
              "ticklen": 8,
              "ticks": "outside",
              "tickwidth": 2
             }
            },
            "type": "parcoords"
           }
          ],
          "pie": [
           {
            "automargin": true,
            "type": "pie"
           }
          ],
          "scatter": [
           {
            "fillpattern": {
             "fillmode": "overlay",
             "size": 10,
             "solidity": 0.2
            },
            "type": "scatter"
           }
          ],
          "scatter3d": [
           {
            "line": {
             "colorbar": {
              "outlinewidth": 0,
              "tickcolor": "rgb(36,36,36)",
              "ticklen": 8,
              "ticks": "outside",
              "tickwidth": 2
             }
            },
            "marker": {
             "colorbar": {
              "outlinewidth": 0,
              "tickcolor": "rgb(36,36,36)",
              "ticklen": 8,
              "ticks": "outside",
              "tickwidth": 2
             }
            },
            "type": "scatter3d"
           }
          ],
          "scattercarpet": [
           {
            "marker": {
             "colorbar": {
              "outlinewidth": 0,
              "tickcolor": "rgb(36,36,36)",
              "ticklen": 8,
              "ticks": "outside",
              "tickwidth": 2
             }
            },
            "type": "scattercarpet"
           }
          ],
          "scattergeo": [
           {
            "marker": {
             "colorbar": {
              "outlinewidth": 0,
              "tickcolor": "rgb(36,36,36)",
              "ticklen": 8,
              "ticks": "outside",
              "tickwidth": 2
             }
            },
            "type": "scattergeo"
           }
          ],
          "scattergl": [
           {
            "marker": {
             "colorbar": {
              "outlinewidth": 0,
              "tickcolor": "rgb(36,36,36)",
              "ticklen": 8,
              "ticks": "outside",
              "tickwidth": 2
             }
            },
            "type": "scattergl"
           }
          ],
          "scattermapbox": [
           {
            "marker": {
             "colorbar": {
              "outlinewidth": 0,
              "tickcolor": "rgb(36,36,36)",
              "ticklen": 8,
              "ticks": "outside",
              "tickwidth": 2
             }
            },
            "type": "scattermapbox"
           }
          ],
          "scatterpolar": [
           {
            "marker": {
             "colorbar": {
              "outlinewidth": 0,
              "tickcolor": "rgb(36,36,36)",
              "ticklen": 8,
              "ticks": "outside",
              "tickwidth": 2
             }
            },
            "type": "scatterpolar"
           }
          ],
          "scatterpolargl": [
           {
            "marker": {
             "colorbar": {
              "outlinewidth": 0,
              "tickcolor": "rgb(36,36,36)",
              "ticklen": 8,
              "ticks": "outside",
              "tickwidth": 2
             }
            },
            "type": "scatterpolargl"
           }
          ],
          "scatterternary": [
           {
            "marker": {
             "colorbar": {
              "outlinewidth": 0,
              "tickcolor": "rgb(36,36,36)",
              "ticklen": 8,
              "ticks": "outside",
              "tickwidth": 2
             }
            },
            "type": "scatterternary"
           }
          ],
          "surface": [
           {
            "colorbar": {
             "outlinewidth": 0,
             "tickcolor": "rgb(36,36,36)",
             "ticklen": 8,
             "ticks": "outside",
             "tickwidth": 2
            },
            "colorscale": [
             [
              0,
              "rgb(2,4,25)"
             ],
             [
              0.06274509803921569,
              "rgb(24,15,41)"
             ],
             [
              0.12549019607843137,
              "rgb(47,23,57)"
             ],
             [
              0.18823529411764706,
              "rgb(71,28,72)"
             ],
             [
              0.25098039215686274,
              "rgb(97,30,82)"
             ],
             [
              0.3137254901960784,
              "rgb(123,30,89)"
             ],
             [
              0.3764705882352941,
              "rgb(150,27,91)"
             ],
             [
              0.4392156862745098,
              "rgb(177,22,88)"
             ],
             [
              0.5019607843137255,
              "rgb(203,26,79)"
             ],
             [
              0.5647058823529412,
              "rgb(223,47,67)"
             ],
             [
              0.6274509803921569,
              "rgb(236,76,61)"
             ],
             [
              0.6901960784313725,
              "rgb(242,107,73)"
             ],
             [
              0.7529411764705882,
              "rgb(244,135,95)"
             ],
             [
              0.8156862745098039,
              "rgb(245,162,122)"
             ],
             [
              0.8784313725490196,
              "rgb(246,188,153)"
             ],
             [
              0.9411764705882353,
              "rgb(247,212,187)"
             ],
             [
              1,
              "rgb(250,234,220)"
             ]
            ],
            "type": "surface"
           }
          ],
          "table": [
           {
            "cells": {
             "fill": {
              "color": "rgb(231,231,240)"
             },
             "line": {
              "color": "white"
             }
            },
            "header": {
             "fill": {
              "color": "rgb(183,183,191)"
             },
             "line": {
              "color": "white"
             }
            },
            "type": "table"
           }
          ]
         },
         "layout": {
          "annotationdefaults": {
           "arrowcolor": "rgb(67,103,167)"
          },
          "autotypenumbers": "strict",
          "coloraxis": {
           "colorbar": {
            "outlinewidth": 0,
            "tickcolor": "rgb(36,36,36)",
            "ticklen": 8,
            "ticks": "outside",
            "tickwidth": 2
           }
          },
          "colorscale": {
           "sequential": [
            [
             0,
             "rgb(2,4,25)"
            ],
            [
             0.06274509803921569,
             "rgb(24,15,41)"
            ],
            [
             0.12549019607843137,
             "rgb(47,23,57)"
            ],
            [
             0.18823529411764706,
             "rgb(71,28,72)"
            ],
            [
             0.25098039215686274,
             "rgb(97,30,82)"
            ],
            [
             0.3137254901960784,
             "rgb(123,30,89)"
            ],
            [
             0.3764705882352941,
             "rgb(150,27,91)"
            ],
            [
             0.4392156862745098,
             "rgb(177,22,88)"
            ],
            [
             0.5019607843137255,
             "rgb(203,26,79)"
            ],
            [
             0.5647058823529412,
             "rgb(223,47,67)"
            ],
            [
             0.6274509803921569,
             "rgb(236,76,61)"
            ],
            [
             0.6901960784313725,
             "rgb(242,107,73)"
            ],
            [
             0.7529411764705882,
             "rgb(244,135,95)"
            ],
            [
             0.8156862745098039,
             "rgb(245,162,122)"
            ],
            [
             0.8784313725490196,
             "rgb(246,188,153)"
            ],
            [
             0.9411764705882353,
             "rgb(247,212,187)"
            ],
            [
             1,
             "rgb(250,234,220)"
            ]
           ],
           "sequentialminus": [
            [
             0,
             "rgb(2,4,25)"
            ],
            [
             0.06274509803921569,
             "rgb(24,15,41)"
            ],
            [
             0.12549019607843137,
             "rgb(47,23,57)"
            ],
            [
             0.18823529411764706,
             "rgb(71,28,72)"
            ],
            [
             0.25098039215686274,
             "rgb(97,30,82)"
            ],
            [
             0.3137254901960784,
             "rgb(123,30,89)"
            ],
            [
             0.3764705882352941,
             "rgb(150,27,91)"
            ],
            [
             0.4392156862745098,
             "rgb(177,22,88)"
            ],
            [
             0.5019607843137255,
             "rgb(203,26,79)"
            ],
            [
             0.5647058823529412,
             "rgb(223,47,67)"
            ],
            [
             0.6274509803921569,
             "rgb(236,76,61)"
            ],
            [
             0.6901960784313725,
             "rgb(242,107,73)"
            ],
            [
             0.7529411764705882,
             "rgb(244,135,95)"
            ],
            [
             0.8156862745098039,
             "rgb(245,162,122)"
            ],
            [
             0.8784313725490196,
             "rgb(246,188,153)"
            ],
            [
             0.9411764705882353,
             "rgb(247,212,187)"
            ],
            [
             1,
             "rgb(250,234,220)"
            ]
           ]
          },
          "colorway": [
           "rgb(76,114,176)",
           "rgb(221,132,82)",
           "rgb(85,168,104)",
           "rgb(196,78,82)",
           "rgb(129,114,179)",
           "rgb(147,120,96)",
           "rgb(218,139,195)",
           "rgb(140,140,140)",
           "rgb(204,185,116)",
           "rgb(100,181,205)"
          ],
          "font": {
           "color": "rgb(36,36,36)"
          },
          "geo": {
           "bgcolor": "white",
           "lakecolor": "white",
           "landcolor": "rgb(234,234,242)",
           "showlakes": true,
           "showland": true,
           "subunitcolor": "white"
          },
          "hoverlabel": {
           "align": "left"
          },
          "hovermode": "closest",
          "paper_bgcolor": "white",
          "plot_bgcolor": "rgb(234,234,242)",
          "polar": {
           "angularaxis": {
            "gridcolor": "white",
            "linecolor": "white",
            "showgrid": true,
            "ticks": ""
           },
           "bgcolor": "rgb(234,234,242)",
           "radialaxis": {
            "gridcolor": "white",
            "linecolor": "white",
            "showgrid": true,
            "ticks": ""
           }
          },
          "scene": {
           "xaxis": {
            "backgroundcolor": "rgb(234,234,242)",
            "gridcolor": "white",
            "gridwidth": 2,
            "linecolor": "white",
            "showbackground": true,
            "showgrid": true,
            "ticks": "",
            "zerolinecolor": "white"
           },
           "yaxis": {
            "backgroundcolor": "rgb(234,234,242)",
            "gridcolor": "white",
            "gridwidth": 2,
            "linecolor": "white",
            "showbackground": true,
            "showgrid": true,
            "ticks": "",
            "zerolinecolor": "white"
           },
           "zaxis": {
            "backgroundcolor": "rgb(234,234,242)",
            "gridcolor": "white",
            "gridwidth": 2,
            "linecolor": "white",
            "showbackground": true,
            "showgrid": true,
            "ticks": "",
            "zerolinecolor": "white"
           }
          },
          "shapedefaults": {
           "fillcolor": "rgb(67,103,167)",
           "line": {
            "width": 0
           },
           "opacity": 0.5
          },
          "ternary": {
           "aaxis": {
            "gridcolor": "white",
            "linecolor": "white",
            "showgrid": true,
            "ticks": ""
           },
           "baxis": {
            "gridcolor": "white",
            "linecolor": "white",
            "showgrid": true,
            "ticks": ""
           },
           "bgcolor": "rgb(234,234,242)",
           "caxis": {
            "gridcolor": "white",
            "linecolor": "white",
            "showgrid": true,
            "ticks": ""
           }
          },
          "xaxis": {
           "automargin": true,
           "gridcolor": "white",
           "linecolor": "white",
           "showgrid": true,
           "ticks": "",
           "title": {
            "standoff": 15
           },
           "zerolinecolor": "white"
          },
          "yaxis": {
           "automargin": true,
           "gridcolor": "white",
           "linecolor": "white",
           "showgrid": true,
           "ticks": "",
           "title": {
            "standoff": 15
           },
           "zerolinecolor": "white"
          }
         }
        },
        "title": {
         "text": "Suicidios 2021 por comunidad autónoma"
        },
        "xaxis": {
         "anchor": "y",
         "domain": [
          0,
          1
         ],
         "title": {
          "text": "Comunidades autónomas"
         }
        },
        "yaxis": {
         "anchor": "x",
         "domain": [
          0,
          1
         ],
         "title": {
          "text": "Número de suicidios"
         }
        }
       }
      }
     },
     "metadata": {},
     "output_type": "display_data"
    }
   ],
   "source": [
    "fig8 = px.bar(com2021, x= \"Comunidades autónomas\", y=\"Total\", color=\"Sexo\",\n",
    "             barmode = \"relative\", hover_name= \"Edad\", title= \"Suicidios 2021 por comunidad autónoma\", template=\"seaborn\", labels={\"Total\": \"Número de suicidios\"})\n",
    "fig8.show()"
   ]
  },
  {
   "attachments": {},
   "cell_type": "markdown",
   "metadata": {},
   "source": [
    "## **POST PANDEMIA 2022 (ENERO-JUNIO)**"
   ]
  },
  {
   "attachments": {},
   "cell_type": "markdown",
   "metadata": {},
   "source": [
    "SUICIDIOS 2022 POR EDAD Y SEXO"
   ]
  },
  {
   "cell_type": "code",
   "execution_count": 176,
   "metadata": {},
   "outputs": [
    {
     "data": {
      "application/vnd.plotly.v1+json": {
       "config": {
        "plotlyServerURL": "https://plot.ly"
       },
       "data": [
        {
         "alignmentgroup": "True",
         "hovertemplate": "Sexo=Ambos sexos<br>Edad=%{x}<br>Número de suicidios=%{y}<extra></extra>",
         "legendgroup": "Ambos sexos",
         "marker": {
          "color": "rgb(76,114,176)",
          "pattern": {
           "shape": ""
          }
         },
         "name": "Ambos sexos",
         "offsetgroup": "Ambos sexos",
         "orientation": "v",
         "showlegend": true,
         "textposition": "auto",
         "type": "bar",
         "x": [
          "Menores de 1 años",
          "De 1 a 4 años",
          "De 5 a 9 años",
          "De 10 a 14 años",
          "De 15 a 19 años",
          "De 20 a 24 años",
          "De 25 a 29 años",
          "De 30 a 34 años",
          "De 35 a 39 años",
          "De 40 a 44 años",
          "De 45 a 49 años",
          "De 50 a 54 años",
          "De 55 a 59 años",
          "De 60 a 64 años",
          "De 65 a 69 años",
          "De 70 a 74 años",
          "De 75 a 79 años",
          "De 80 a 84 años",
          "De 85 a 89 años",
          "De 90 a 94 años",
          "De 95 años y mas"
         ],
         "xaxis": "x",
         "y": [
          0,
          0,
          0,
          7,
          30,
          55,
          65,
          100,
          112,
          165,
          219,
          228,
          231,
          192,
          137,
          118,
          115,
          90,
          88,
          48,
          15
         ],
         "yaxis": "y"
        },
        {
         "alignmentgroup": "True",
         "hovertemplate": "Sexo=Hombres<br>Edad=%{x}<br>Número de suicidios=%{y}<extra></extra>",
         "legendgroup": "Hombres",
         "marker": {
          "color": "rgb(221,132,82)",
          "pattern": {
           "shape": ""
          }
         },
         "name": "Hombres",
         "offsetgroup": "Hombres",
         "orientation": "v",
         "showlegend": true,
         "textposition": "auto",
         "type": "bar",
         "x": [
          "Menores de 1 años",
          "De 1 a 4 años",
          "De 5 a 9 años",
          "De 10 a 14 años",
          "De 15 a 19 años",
          "De 20 a 24 años",
          "De 25 a 29 años",
          "De 30 a 34 años",
          "De 35 a 39 años",
          "De 40 a 44 años",
          "De 45 a 49 años",
          "De 50 a 54 años",
          "De 55 a 59 años",
          "De 60 a 64 años",
          "De 65 a 69 años",
          "De 70 a 74 años",
          "De 75 a 79 años",
          "De 80 a 84 años",
          "De 85 a 89 años",
          "De 90 a 94 años",
          "De 95 años y mas"
         ],
         "xaxis": "x",
         "y": [
          0,
          0,
          0,
          6,
          15,
          35,
          37,
          76,
          86,
          129,
          173,
          165,
          163,
          153,
          98,
          76,
          90,
          59,
          73,
          36,
          11
         ],
         "yaxis": "y"
        },
        {
         "alignmentgroup": "True",
         "hovertemplate": "Sexo=Mujeres<br>Edad=%{x}<br>Número de suicidios=%{y}<extra></extra>",
         "legendgroup": "Mujeres",
         "marker": {
          "color": "rgb(85,168,104)",
          "pattern": {
           "shape": ""
          }
         },
         "name": "Mujeres",
         "offsetgroup": "Mujeres",
         "orientation": "v",
         "showlegend": true,
         "textposition": "auto",
         "type": "bar",
         "x": [
          "Menores de 1 años",
          "De 1 a 4 años",
          "De 5 a 9 años",
          "De 10 a 14 años",
          "De 15 a 19 años",
          "De 20 a 24 años",
          "De 25 a 29 años",
          "De 30 a 34 años",
          "De 35 a 39 años",
          "De 40 a 44 años",
          "De 45 a 49 años",
          "De 50 a 54 años",
          "De 55 a 59 años",
          "De 60 a 64 años",
          "De 65 a 69 años",
          "De 70 a 74 años",
          "De 75 a 79 años",
          "De 80 a 84 años",
          "De 85 a 89 años",
          "De 90 a 94 años",
          "De 95 años y mas"
         ],
         "xaxis": "x",
         "y": [
          0,
          0,
          0,
          1,
          15,
          20,
          28,
          24,
          26,
          36,
          46,
          63,
          68,
          39,
          39,
          42,
          25,
          31,
          15,
          12,
          4
         ],
         "yaxis": "y"
        }
       ],
       "layout": {
        "barmode": "group",
        "legend": {
         "title": {
          "text": "Sexo"
         },
         "tracegroupgap": 0
        },
        "template": {
         "data": {
          "bar": [
           {
            "error_x": {
             "color": "rgb(36,36,36)"
            },
            "error_y": {
             "color": "rgb(36,36,36)"
            },
            "marker": {
             "line": {
              "color": "rgb(234,234,242)",
              "width": 0.5
             },
             "pattern": {
              "fillmode": "overlay",
              "size": 10,
              "solidity": 0.2
             }
            },
            "type": "bar"
           }
          ],
          "barpolar": [
           {
            "marker": {
             "line": {
              "color": "rgb(234,234,242)",
              "width": 0.5
             },
             "pattern": {
              "fillmode": "overlay",
              "size": 10,
              "solidity": 0.2
             }
            },
            "type": "barpolar"
           }
          ],
          "carpet": [
           {
            "aaxis": {
             "endlinecolor": "rgb(36,36,36)",
             "gridcolor": "white",
             "linecolor": "white",
             "minorgridcolor": "white",
             "startlinecolor": "rgb(36,36,36)"
            },
            "baxis": {
             "endlinecolor": "rgb(36,36,36)",
             "gridcolor": "white",
             "linecolor": "white",
             "minorgridcolor": "white",
             "startlinecolor": "rgb(36,36,36)"
            },
            "type": "carpet"
           }
          ],
          "choropleth": [
           {
            "colorbar": {
             "outlinewidth": 0,
             "tickcolor": "rgb(36,36,36)",
             "ticklen": 8,
             "ticks": "outside",
             "tickwidth": 2
            },
            "type": "choropleth"
           }
          ],
          "contour": [
           {
            "colorbar": {
             "outlinewidth": 0,
             "tickcolor": "rgb(36,36,36)",
             "ticklen": 8,
             "ticks": "outside",
             "tickwidth": 2
            },
            "colorscale": [
             [
              0,
              "rgb(2,4,25)"
             ],
             [
              0.06274509803921569,
              "rgb(24,15,41)"
             ],
             [
              0.12549019607843137,
              "rgb(47,23,57)"
             ],
             [
              0.18823529411764706,
              "rgb(71,28,72)"
             ],
             [
              0.25098039215686274,
              "rgb(97,30,82)"
             ],
             [
              0.3137254901960784,
              "rgb(123,30,89)"
             ],
             [
              0.3764705882352941,
              "rgb(150,27,91)"
             ],
             [
              0.4392156862745098,
              "rgb(177,22,88)"
             ],
             [
              0.5019607843137255,
              "rgb(203,26,79)"
             ],
             [
              0.5647058823529412,
              "rgb(223,47,67)"
             ],
             [
              0.6274509803921569,
              "rgb(236,76,61)"
             ],
             [
              0.6901960784313725,
              "rgb(242,107,73)"
             ],
             [
              0.7529411764705882,
              "rgb(244,135,95)"
             ],
             [
              0.8156862745098039,
              "rgb(245,162,122)"
             ],
             [
              0.8784313725490196,
              "rgb(246,188,153)"
             ],
             [
              0.9411764705882353,
              "rgb(247,212,187)"
             ],
             [
              1,
              "rgb(250,234,220)"
             ]
            ],
            "type": "contour"
           }
          ],
          "contourcarpet": [
           {
            "colorbar": {
             "outlinewidth": 0,
             "tickcolor": "rgb(36,36,36)",
             "ticklen": 8,
             "ticks": "outside",
             "tickwidth": 2
            },
            "type": "contourcarpet"
           }
          ],
          "heatmap": [
           {
            "colorbar": {
             "outlinewidth": 0,
             "tickcolor": "rgb(36,36,36)",
             "ticklen": 8,
             "ticks": "outside",
             "tickwidth": 2
            },
            "colorscale": [
             [
              0,
              "rgb(2,4,25)"
             ],
             [
              0.06274509803921569,
              "rgb(24,15,41)"
             ],
             [
              0.12549019607843137,
              "rgb(47,23,57)"
             ],
             [
              0.18823529411764706,
              "rgb(71,28,72)"
             ],
             [
              0.25098039215686274,
              "rgb(97,30,82)"
             ],
             [
              0.3137254901960784,
              "rgb(123,30,89)"
             ],
             [
              0.3764705882352941,
              "rgb(150,27,91)"
             ],
             [
              0.4392156862745098,
              "rgb(177,22,88)"
             ],
             [
              0.5019607843137255,
              "rgb(203,26,79)"
             ],
             [
              0.5647058823529412,
              "rgb(223,47,67)"
             ],
             [
              0.6274509803921569,
              "rgb(236,76,61)"
             ],
             [
              0.6901960784313725,
              "rgb(242,107,73)"
             ],
             [
              0.7529411764705882,
              "rgb(244,135,95)"
             ],
             [
              0.8156862745098039,
              "rgb(245,162,122)"
             ],
             [
              0.8784313725490196,
              "rgb(246,188,153)"
             ],
             [
              0.9411764705882353,
              "rgb(247,212,187)"
             ],
             [
              1,
              "rgb(250,234,220)"
             ]
            ],
            "type": "heatmap"
           }
          ],
          "heatmapgl": [
           {
            "colorbar": {
             "outlinewidth": 0,
             "tickcolor": "rgb(36,36,36)",
             "ticklen": 8,
             "ticks": "outside",
             "tickwidth": 2
            },
            "colorscale": [
             [
              0,
              "rgb(2,4,25)"
             ],
             [
              0.06274509803921569,
              "rgb(24,15,41)"
             ],
             [
              0.12549019607843137,
              "rgb(47,23,57)"
             ],
             [
              0.18823529411764706,
              "rgb(71,28,72)"
             ],
             [
              0.25098039215686274,
              "rgb(97,30,82)"
             ],
             [
              0.3137254901960784,
              "rgb(123,30,89)"
             ],
             [
              0.3764705882352941,
              "rgb(150,27,91)"
             ],
             [
              0.4392156862745098,
              "rgb(177,22,88)"
             ],
             [
              0.5019607843137255,
              "rgb(203,26,79)"
             ],
             [
              0.5647058823529412,
              "rgb(223,47,67)"
             ],
             [
              0.6274509803921569,
              "rgb(236,76,61)"
             ],
             [
              0.6901960784313725,
              "rgb(242,107,73)"
             ],
             [
              0.7529411764705882,
              "rgb(244,135,95)"
             ],
             [
              0.8156862745098039,
              "rgb(245,162,122)"
             ],
             [
              0.8784313725490196,
              "rgb(246,188,153)"
             ],
             [
              0.9411764705882353,
              "rgb(247,212,187)"
             ],
             [
              1,
              "rgb(250,234,220)"
             ]
            ],
            "type": "heatmapgl"
           }
          ],
          "histogram": [
           {
            "marker": {
             "pattern": {
              "fillmode": "overlay",
              "size": 10,
              "solidity": 0.2
             }
            },
            "type": "histogram"
           }
          ],
          "histogram2d": [
           {
            "colorbar": {
             "outlinewidth": 0,
             "tickcolor": "rgb(36,36,36)",
             "ticklen": 8,
             "ticks": "outside",
             "tickwidth": 2
            },
            "colorscale": [
             [
              0,
              "rgb(2,4,25)"
             ],
             [
              0.06274509803921569,
              "rgb(24,15,41)"
             ],
             [
              0.12549019607843137,
              "rgb(47,23,57)"
             ],
             [
              0.18823529411764706,
              "rgb(71,28,72)"
             ],
             [
              0.25098039215686274,
              "rgb(97,30,82)"
             ],
             [
              0.3137254901960784,
              "rgb(123,30,89)"
             ],
             [
              0.3764705882352941,
              "rgb(150,27,91)"
             ],
             [
              0.4392156862745098,
              "rgb(177,22,88)"
             ],
             [
              0.5019607843137255,
              "rgb(203,26,79)"
             ],
             [
              0.5647058823529412,
              "rgb(223,47,67)"
             ],
             [
              0.6274509803921569,
              "rgb(236,76,61)"
             ],
             [
              0.6901960784313725,
              "rgb(242,107,73)"
             ],
             [
              0.7529411764705882,
              "rgb(244,135,95)"
             ],
             [
              0.8156862745098039,
              "rgb(245,162,122)"
             ],
             [
              0.8784313725490196,
              "rgb(246,188,153)"
             ],
             [
              0.9411764705882353,
              "rgb(247,212,187)"
             ],
             [
              1,
              "rgb(250,234,220)"
             ]
            ],
            "type": "histogram2d"
           }
          ],
          "histogram2dcontour": [
           {
            "colorbar": {
             "outlinewidth": 0,
             "tickcolor": "rgb(36,36,36)",
             "ticklen": 8,
             "ticks": "outside",
             "tickwidth": 2
            },
            "colorscale": [
             [
              0,
              "rgb(2,4,25)"
             ],
             [
              0.06274509803921569,
              "rgb(24,15,41)"
             ],
             [
              0.12549019607843137,
              "rgb(47,23,57)"
             ],
             [
              0.18823529411764706,
              "rgb(71,28,72)"
             ],
             [
              0.25098039215686274,
              "rgb(97,30,82)"
             ],
             [
              0.3137254901960784,
              "rgb(123,30,89)"
             ],
             [
              0.3764705882352941,
              "rgb(150,27,91)"
             ],
             [
              0.4392156862745098,
              "rgb(177,22,88)"
             ],
             [
              0.5019607843137255,
              "rgb(203,26,79)"
             ],
             [
              0.5647058823529412,
              "rgb(223,47,67)"
             ],
             [
              0.6274509803921569,
              "rgb(236,76,61)"
             ],
             [
              0.6901960784313725,
              "rgb(242,107,73)"
             ],
             [
              0.7529411764705882,
              "rgb(244,135,95)"
             ],
             [
              0.8156862745098039,
              "rgb(245,162,122)"
             ],
             [
              0.8784313725490196,
              "rgb(246,188,153)"
             ],
             [
              0.9411764705882353,
              "rgb(247,212,187)"
             ],
             [
              1,
              "rgb(250,234,220)"
             ]
            ],
            "type": "histogram2dcontour"
           }
          ],
          "mesh3d": [
           {
            "colorbar": {
             "outlinewidth": 0,
             "tickcolor": "rgb(36,36,36)",
             "ticklen": 8,
             "ticks": "outside",
             "tickwidth": 2
            },
            "type": "mesh3d"
           }
          ],
          "parcoords": [
           {
            "line": {
             "colorbar": {
              "outlinewidth": 0,
              "tickcolor": "rgb(36,36,36)",
              "ticklen": 8,
              "ticks": "outside",
              "tickwidth": 2
             }
            },
            "type": "parcoords"
           }
          ],
          "pie": [
           {
            "automargin": true,
            "type": "pie"
           }
          ],
          "scatter": [
           {
            "fillpattern": {
             "fillmode": "overlay",
             "size": 10,
             "solidity": 0.2
            },
            "type": "scatter"
           }
          ],
          "scatter3d": [
           {
            "line": {
             "colorbar": {
              "outlinewidth": 0,
              "tickcolor": "rgb(36,36,36)",
              "ticklen": 8,
              "ticks": "outside",
              "tickwidth": 2
             }
            },
            "marker": {
             "colorbar": {
              "outlinewidth": 0,
              "tickcolor": "rgb(36,36,36)",
              "ticklen": 8,
              "ticks": "outside",
              "tickwidth": 2
             }
            },
            "type": "scatter3d"
           }
          ],
          "scattercarpet": [
           {
            "marker": {
             "colorbar": {
              "outlinewidth": 0,
              "tickcolor": "rgb(36,36,36)",
              "ticklen": 8,
              "ticks": "outside",
              "tickwidth": 2
             }
            },
            "type": "scattercarpet"
           }
          ],
          "scattergeo": [
           {
            "marker": {
             "colorbar": {
              "outlinewidth": 0,
              "tickcolor": "rgb(36,36,36)",
              "ticklen": 8,
              "ticks": "outside",
              "tickwidth": 2
             }
            },
            "type": "scattergeo"
           }
          ],
          "scattergl": [
           {
            "marker": {
             "colorbar": {
              "outlinewidth": 0,
              "tickcolor": "rgb(36,36,36)",
              "ticklen": 8,
              "ticks": "outside",
              "tickwidth": 2
             }
            },
            "type": "scattergl"
           }
          ],
          "scattermapbox": [
           {
            "marker": {
             "colorbar": {
              "outlinewidth": 0,
              "tickcolor": "rgb(36,36,36)",
              "ticklen": 8,
              "ticks": "outside",
              "tickwidth": 2
             }
            },
            "type": "scattermapbox"
           }
          ],
          "scatterpolar": [
           {
            "marker": {
             "colorbar": {
              "outlinewidth": 0,
              "tickcolor": "rgb(36,36,36)",
              "ticklen": 8,
              "ticks": "outside",
              "tickwidth": 2
             }
            },
            "type": "scatterpolar"
           }
          ],
          "scatterpolargl": [
           {
            "marker": {
             "colorbar": {
              "outlinewidth": 0,
              "tickcolor": "rgb(36,36,36)",
              "ticklen": 8,
              "ticks": "outside",
              "tickwidth": 2
             }
            },
            "type": "scatterpolargl"
           }
          ],
          "scatterternary": [
           {
            "marker": {
             "colorbar": {
              "outlinewidth": 0,
              "tickcolor": "rgb(36,36,36)",
              "ticklen": 8,
              "ticks": "outside",
              "tickwidth": 2
             }
            },
            "type": "scatterternary"
           }
          ],
          "surface": [
           {
            "colorbar": {
             "outlinewidth": 0,
             "tickcolor": "rgb(36,36,36)",
             "ticklen": 8,
             "ticks": "outside",
             "tickwidth": 2
            },
            "colorscale": [
             [
              0,
              "rgb(2,4,25)"
             ],
             [
              0.06274509803921569,
              "rgb(24,15,41)"
             ],
             [
              0.12549019607843137,
              "rgb(47,23,57)"
             ],
             [
              0.18823529411764706,
              "rgb(71,28,72)"
             ],
             [
              0.25098039215686274,
              "rgb(97,30,82)"
             ],
             [
              0.3137254901960784,
              "rgb(123,30,89)"
             ],
             [
              0.3764705882352941,
              "rgb(150,27,91)"
             ],
             [
              0.4392156862745098,
              "rgb(177,22,88)"
             ],
             [
              0.5019607843137255,
              "rgb(203,26,79)"
             ],
             [
              0.5647058823529412,
              "rgb(223,47,67)"
             ],
             [
              0.6274509803921569,
              "rgb(236,76,61)"
             ],
             [
              0.6901960784313725,
              "rgb(242,107,73)"
             ],
             [
              0.7529411764705882,
              "rgb(244,135,95)"
             ],
             [
              0.8156862745098039,
              "rgb(245,162,122)"
             ],
             [
              0.8784313725490196,
              "rgb(246,188,153)"
             ],
             [
              0.9411764705882353,
              "rgb(247,212,187)"
             ],
             [
              1,
              "rgb(250,234,220)"
             ]
            ],
            "type": "surface"
           }
          ],
          "table": [
           {
            "cells": {
             "fill": {
              "color": "rgb(231,231,240)"
             },
             "line": {
              "color": "white"
             }
            },
            "header": {
             "fill": {
              "color": "rgb(183,183,191)"
             },
             "line": {
              "color": "white"
             }
            },
            "type": "table"
           }
          ]
         },
         "layout": {
          "annotationdefaults": {
           "arrowcolor": "rgb(67,103,167)"
          },
          "autotypenumbers": "strict",
          "coloraxis": {
           "colorbar": {
            "outlinewidth": 0,
            "tickcolor": "rgb(36,36,36)",
            "ticklen": 8,
            "ticks": "outside",
            "tickwidth": 2
           }
          },
          "colorscale": {
           "sequential": [
            [
             0,
             "rgb(2,4,25)"
            ],
            [
             0.06274509803921569,
             "rgb(24,15,41)"
            ],
            [
             0.12549019607843137,
             "rgb(47,23,57)"
            ],
            [
             0.18823529411764706,
             "rgb(71,28,72)"
            ],
            [
             0.25098039215686274,
             "rgb(97,30,82)"
            ],
            [
             0.3137254901960784,
             "rgb(123,30,89)"
            ],
            [
             0.3764705882352941,
             "rgb(150,27,91)"
            ],
            [
             0.4392156862745098,
             "rgb(177,22,88)"
            ],
            [
             0.5019607843137255,
             "rgb(203,26,79)"
            ],
            [
             0.5647058823529412,
             "rgb(223,47,67)"
            ],
            [
             0.6274509803921569,
             "rgb(236,76,61)"
            ],
            [
             0.6901960784313725,
             "rgb(242,107,73)"
            ],
            [
             0.7529411764705882,
             "rgb(244,135,95)"
            ],
            [
             0.8156862745098039,
             "rgb(245,162,122)"
            ],
            [
             0.8784313725490196,
             "rgb(246,188,153)"
            ],
            [
             0.9411764705882353,
             "rgb(247,212,187)"
            ],
            [
             1,
             "rgb(250,234,220)"
            ]
           ],
           "sequentialminus": [
            [
             0,
             "rgb(2,4,25)"
            ],
            [
             0.06274509803921569,
             "rgb(24,15,41)"
            ],
            [
             0.12549019607843137,
             "rgb(47,23,57)"
            ],
            [
             0.18823529411764706,
             "rgb(71,28,72)"
            ],
            [
             0.25098039215686274,
             "rgb(97,30,82)"
            ],
            [
             0.3137254901960784,
             "rgb(123,30,89)"
            ],
            [
             0.3764705882352941,
             "rgb(150,27,91)"
            ],
            [
             0.4392156862745098,
             "rgb(177,22,88)"
            ],
            [
             0.5019607843137255,
             "rgb(203,26,79)"
            ],
            [
             0.5647058823529412,
             "rgb(223,47,67)"
            ],
            [
             0.6274509803921569,
             "rgb(236,76,61)"
            ],
            [
             0.6901960784313725,
             "rgb(242,107,73)"
            ],
            [
             0.7529411764705882,
             "rgb(244,135,95)"
            ],
            [
             0.8156862745098039,
             "rgb(245,162,122)"
            ],
            [
             0.8784313725490196,
             "rgb(246,188,153)"
            ],
            [
             0.9411764705882353,
             "rgb(247,212,187)"
            ],
            [
             1,
             "rgb(250,234,220)"
            ]
           ]
          },
          "colorway": [
           "rgb(76,114,176)",
           "rgb(221,132,82)",
           "rgb(85,168,104)",
           "rgb(196,78,82)",
           "rgb(129,114,179)",
           "rgb(147,120,96)",
           "rgb(218,139,195)",
           "rgb(140,140,140)",
           "rgb(204,185,116)",
           "rgb(100,181,205)"
          ],
          "font": {
           "color": "rgb(36,36,36)"
          },
          "geo": {
           "bgcolor": "white",
           "lakecolor": "white",
           "landcolor": "rgb(234,234,242)",
           "showlakes": true,
           "showland": true,
           "subunitcolor": "white"
          },
          "hoverlabel": {
           "align": "left"
          },
          "hovermode": "closest",
          "paper_bgcolor": "white",
          "plot_bgcolor": "rgb(234,234,242)",
          "polar": {
           "angularaxis": {
            "gridcolor": "white",
            "linecolor": "white",
            "showgrid": true,
            "ticks": ""
           },
           "bgcolor": "rgb(234,234,242)",
           "radialaxis": {
            "gridcolor": "white",
            "linecolor": "white",
            "showgrid": true,
            "ticks": ""
           }
          },
          "scene": {
           "xaxis": {
            "backgroundcolor": "rgb(234,234,242)",
            "gridcolor": "white",
            "gridwidth": 2,
            "linecolor": "white",
            "showbackground": true,
            "showgrid": true,
            "ticks": "",
            "zerolinecolor": "white"
           },
           "yaxis": {
            "backgroundcolor": "rgb(234,234,242)",
            "gridcolor": "white",
            "gridwidth": 2,
            "linecolor": "white",
            "showbackground": true,
            "showgrid": true,
            "ticks": "",
            "zerolinecolor": "white"
           },
           "zaxis": {
            "backgroundcolor": "rgb(234,234,242)",
            "gridcolor": "white",
            "gridwidth": 2,
            "linecolor": "white",
            "showbackground": true,
            "showgrid": true,
            "ticks": "",
            "zerolinecolor": "white"
           }
          },
          "shapedefaults": {
           "fillcolor": "rgb(67,103,167)",
           "line": {
            "width": 0
           },
           "opacity": 0.5
          },
          "ternary": {
           "aaxis": {
            "gridcolor": "white",
            "linecolor": "white",
            "showgrid": true,
            "ticks": ""
           },
           "baxis": {
            "gridcolor": "white",
            "linecolor": "white",
            "showgrid": true,
            "ticks": ""
           },
           "bgcolor": "rgb(234,234,242)",
           "caxis": {
            "gridcolor": "white",
            "linecolor": "white",
            "showgrid": true,
            "ticks": ""
           }
          },
          "xaxis": {
           "automargin": true,
           "gridcolor": "white",
           "linecolor": "white",
           "showgrid": true,
           "ticks": "",
           "title": {
            "standoff": 15
           },
           "zerolinecolor": "white"
          },
          "yaxis": {
           "automargin": true,
           "gridcolor": "white",
           "linecolor": "white",
           "showgrid": true,
           "ticks": "",
           "title": {
            "standoff": 15
           },
           "zerolinecolor": "white"
          }
         }
        },
        "title": {
         "text": "Suicidios 2022 por sexo y edad (Enero - Junio)"
        },
        "xaxis": {
         "anchor": "y",
         "domain": [
          0,
          1
         ],
         "title": {
          "text": "Edad"
         }
        },
        "yaxis": {
         "anchor": "x",
         "domain": [
          0,
          1
         ],
         "title": {
          "text": "Número de suicidios"
         }
        }
       }
      }
     },
     "metadata": {},
     "output_type": "display_data"
    }
   ],
   "source": [
    "#Preparar dataframe. Se hace una copia y se eliminan las filas que interfieren en los datos.\n",
    "\n",
    "df22 = df2022.copy(deep=True).drop(labels=[0,22,44], axis=0)\n",
    "fig9 = px.bar (df22, x=\"Edad\", y = \"Total\", color= \"Sexo\",title=\"Suicidios 2022 por sexo y edad (Enero - Junio)\", labels={\"Total\": \"Número de suicidios\"}, template=\"seaborn\", barmode=\"group\")\n",
    "fig9.show()"
   ]
  },
  {
   "attachments": {},
   "cell_type": "markdown",
   "metadata": {},
   "source": [
    "SUICIDIOS 2022 POR COMUNIDAD AUTÓNOMA"
   ]
  },
  {
   "cell_type": "code",
   "execution_count": 104,
   "metadata": {},
   "outputs": [
    {
     "data": {
      "application/vnd.plotly.v1+json": {
       "config": {
        "plotlyServerURL": "https://plot.ly"
       },
       "data": [
        {
         "alignmentgroup": "True",
         "hovertemplate": "<b>%{hovertext}</b><br><br>Sexo=Ambos sexos<br>Comunidades autónomas=%{x}<br>Número de suicidios=%{y}<extra></extra>",
         "hovertext": [
          "Todas las edades",
          "Menores de 1 año",
          "De 1 a 14 años",
          "De 15 a 29 años",
          "De 30 a 39 años",
          "De 40 a 44 años",
          "De 45 a 49 años",
          "De 50 a 54 años",
          "De 55 a 59 años",
          "De 60 a 64 años",
          "De 65 a 69 años",
          "De 70 a 74 años",
          "De 75 a 79 años",
          "De 80 a 84 años",
          "De 85 a 89 años",
          "De 90 a 94 años",
          "De 95 años y mas",
          "Todas las edades",
          "Menores de 1 año",
          "De 1 a 14 años",
          "De 15 a 29 años",
          "De 30 a 39 años",
          "De 40 a 44 años",
          "De 45 a 49 años",
          "De 50 a 54 años",
          "De 55 a 59 años",
          "De 60 a 64 años",
          "De 65 a 69 años",
          "De 70 a 74 años",
          "De 75 a 79 años",
          "De 80 a 84 años",
          "De 85 a 89 años",
          "De 90 a 94 años",
          "De 95 años y mas",
          "Todas las edades",
          "Menores de 1 año",
          "De 1 a 14 años",
          "De 15 a 29 años",
          "De 30 a 39 años",
          "De 40 a 44 años",
          "De 45 a 49 años",
          "De 50 a 54 años",
          "De 55 a 59 años",
          "De 60 a 64 años",
          "De 65 a 69 años",
          "De 70 a 74 años",
          "De 75 a 79 años",
          "De 80 a 84 años",
          "De 85 a 89 años",
          "De 90 a 94 años",
          "De 95 años y mas",
          "Todas las edades",
          "Menores de 1 año",
          "De 1 a 14 años",
          "De 15 a 29 años",
          "De 30 a 39 años",
          "De 40 a 44 años",
          "De 45 a 49 años",
          "De 50 a 54 años",
          "De 55 a 59 años",
          "De 60 a 64 años",
          "De 65 a 69 años",
          "De 70 a 74 años",
          "De 75 a 79 años",
          "De 80 a 84 años",
          "De 85 a 89 años",
          "De 90 a 94 años",
          "De 95 años y mas",
          "Todas las edades",
          "Menores de 1 año",
          "De 1 a 14 años",
          "De 15 a 29 años",
          "De 30 a 39 años",
          "De 40 a 44 años",
          "De 45 a 49 años",
          "De 50 a 54 años",
          "De 55 a 59 años",
          "De 60 a 64 años",
          "De 65 a 69 años",
          "De 70 a 74 años",
          "De 75 a 79 años",
          "De 80 a 84 años",
          "De 85 a 89 años",
          "De 90 a 94 años",
          "De 95 años y mas",
          "Todas las edades",
          "Menores de 1 año",
          "De 1 a 14 años",
          "De 15 a 29 años",
          "De 30 a 39 años",
          "De 40 a 44 años",
          "De 45 a 49 años",
          "De 50 a 54 años",
          "De 55 a 59 años",
          "De 60 a 64 años",
          "De 65 a 69 años",
          "De 70 a 74 años",
          "De 75 a 79 años",
          "De 80 a 84 años",
          "De 85 a 89 años",
          "De 90 a 94 años",
          "De 95 años y mas",
          "Todas las edades",
          "Menores de 1 año",
          "De 1 a 14 años",
          "De 15 a 29 años",
          "De 30 a 39 años",
          "De 40 a 44 años",
          "De 45 a 49 años",
          "De 50 a 54 años",
          "De 55 a 59 años",
          "De 60 a 64 años",
          "De 65 a 69 años",
          "De 70 a 74 años",
          "De 75 a 79 años",
          "De 80 a 84 años",
          "De 85 a 89 años",
          "De 90 a 94 años",
          "De 95 años y mas",
          "Todas las edades",
          "Menores de 1 año",
          "De 1 a 14 años",
          "De 15 a 29 años",
          "De 30 a 39 años",
          "De 40 a 44 años",
          "De 45 a 49 años",
          "De 50 a 54 años",
          "De 55 a 59 años",
          "De 60 a 64 años",
          "De 65 a 69 años",
          "De 70 a 74 años",
          "De 75 a 79 años",
          "De 80 a 84 años",
          "De 85 a 89 años",
          "De 90 a 94 años",
          "De 95 años y mas",
          "Todas las edades",
          "Menores de 1 año",
          "De 1 a 14 años",
          "De 15 a 29 años",
          "De 30 a 39 años",
          "De 40 a 44 años",
          "De 45 a 49 años",
          "De 50 a 54 años",
          "De 55 a 59 años",
          "De 60 a 64 años",
          "De 65 a 69 años",
          "De 70 a 74 años",
          "De 75 a 79 años",
          "De 80 a 84 años",
          "De 85 a 89 años",
          "De 90 a 94 años",
          "De 95 años y mas",
          "Todas las edades",
          "Menores de 1 año",
          "De 1 a 14 años",
          "De 15 a 29 años",
          "De 30 a 39 años",
          "De 40 a 44 años",
          "De 45 a 49 años",
          "De 50 a 54 años",
          "De 55 a 59 años",
          "De 60 a 64 años",
          "De 65 a 69 años",
          "De 70 a 74 años",
          "De 75 a 79 años",
          "De 80 a 84 años",
          "De 85 a 89 años",
          "De 90 a 94 años",
          "De 95 años y mas",
          "Todas las edades",
          "Menores de 1 año",
          "De 1 a 14 años",
          "De 15 a 29 años",
          "De 30 a 39 años",
          "De 40 a 44 años",
          "De 45 a 49 años",
          "De 50 a 54 años",
          "De 55 a 59 años",
          "De 60 a 64 años",
          "De 65 a 69 años",
          "De 70 a 74 años",
          "De 75 a 79 años",
          "De 80 a 84 años",
          "De 85 a 89 años",
          "De 90 a 94 años",
          "De 95 años y mas",
          "Todas las edades",
          "Menores de 1 año",
          "De 1 a 14 años",
          "De 15 a 29 años",
          "De 30 a 39 años",
          "De 40 a 44 años",
          "De 45 a 49 años",
          "De 50 a 54 años",
          "De 55 a 59 años",
          "De 60 a 64 años",
          "De 65 a 69 años",
          "De 70 a 74 años",
          "De 75 a 79 años",
          "De 80 a 84 años",
          "De 85 a 89 años",
          "De 90 a 94 años",
          "De 95 años y mas",
          "Todas las edades",
          "Menores de 1 año",
          "De 1 a 14 años",
          "De 15 a 29 años",
          "De 30 a 39 años",
          "De 40 a 44 años",
          "De 45 a 49 años",
          "De 50 a 54 años",
          "De 55 a 59 años",
          "De 60 a 64 años",
          "De 65 a 69 años",
          "De 70 a 74 años",
          "De 75 a 79 años",
          "De 80 a 84 años",
          "De 85 a 89 años",
          "De 90 a 94 años",
          "De 95 años y mas",
          "Todas las edades",
          "Menores de 1 año",
          "De 1 a 14 años",
          "De 15 a 29 años",
          "De 30 a 39 años",
          "De 40 a 44 años",
          "De 45 a 49 años",
          "De 50 a 54 años",
          "De 55 a 59 años",
          "De 60 a 64 años",
          "De 65 a 69 años",
          "De 70 a 74 años",
          "De 75 a 79 años",
          "De 80 a 84 años",
          "De 85 a 89 años",
          "De 90 a 94 años",
          "De 95 años y mas",
          "Todas las edades",
          "Menores de 1 año",
          "De 1 a 14 años",
          "De 15 a 29 años",
          "De 30 a 39 años",
          "De 40 a 44 años",
          "De 45 a 49 años",
          "De 50 a 54 años",
          "De 55 a 59 años",
          "De 60 a 64 años",
          "De 65 a 69 años",
          "De 70 a 74 años",
          "De 75 a 79 años",
          "De 80 a 84 años",
          "De 85 a 89 años",
          "De 90 a 94 años",
          "De 95 años y mas",
          "Todas las edades",
          "Menores de 1 año",
          "De 1 a 14 años",
          "De 15 a 29 años",
          "De 30 a 39 años",
          "De 40 a 44 años",
          "De 45 a 49 años",
          "De 50 a 54 años",
          "De 55 a 59 años",
          "De 60 a 64 años",
          "De 65 a 69 años",
          "De 70 a 74 años",
          "De 75 a 79 años",
          "De 80 a 84 años",
          "De 85 a 89 años",
          "De 90 a 94 años",
          "De 95 años y mas",
          "Todas las edades",
          "Menores de 1 año",
          "De 1 a 14 años",
          "De 15 a 29 años",
          "De 30 a 39 años",
          "De 40 a 44 años",
          "De 45 a 49 años",
          "De 50 a 54 años",
          "De 55 a 59 años",
          "De 60 a 64 años",
          "De 65 a 69 años",
          "De 70 a 74 años",
          "De 75 a 79 años",
          "De 80 a 84 años",
          "De 85 a 89 años",
          "De 90 a 94 años",
          "De 95 años y mas",
          "Todas las edades",
          "Menores de 1 año",
          "De 1 a 14 años",
          "De 15 a 29 años",
          "De 30 a 39 años",
          "De 40 a 44 años",
          "De 45 a 49 años",
          "De 50 a 54 años",
          "De 55 a 59 años",
          "De 60 a 64 años",
          "De 65 a 69 años",
          "De 70 a 74 años",
          "De 75 a 79 años",
          "De 80 a 84 años",
          "De 85 a 89 años",
          "De 90 a 94 años",
          "De 95 años y mas",
          "Todas las edades",
          "Menores de 1 año",
          "De 1 a 14 años",
          "De 15 a 29 años",
          "De 30 a 39 años",
          "De 40 a 44 años",
          "De 45 a 49 años",
          "De 50 a 54 años",
          "De 55 a 59 años",
          "De 60 a 64 años",
          "De 65 a 69 años",
          "De 70 a 74 años",
          "De 75 a 79 años",
          "De 80 a 84 años",
          "De 85 a 89 años",
          "De 90 a 94 años",
          "De 95 años y mas"
         ],
         "legendgroup": "Ambos sexos",
         "marker": {
          "color": "rgb(76,114,176)",
          "pattern": {
           "shape": ""
          }
         },
         "name": "Ambos sexos",
         "offsetgroup": "Ambos sexos",
         "orientation": "v",
         "showlegend": true,
         "textposition": "auto",
         "type": "bar",
         "x": [
          "Andalucia",
          "Andalucia",
          "Andalucia",
          "Andalucia",
          "Andalucia",
          "Andalucia",
          "Andalucia",
          "Andalucia",
          "Andalucia",
          "Andalucia",
          "Andalucia",
          "Andalucia",
          "Andalucia",
          "Andalucia",
          "Andalucia",
          "Andalucia",
          "Andalucia",
          "Aragon",
          "Aragon",
          "Aragon",
          "Aragon",
          "Aragon",
          "Aragon",
          "Aragon",
          "Aragon",
          "Aragon",
          "Aragon",
          "Aragon",
          "Aragon",
          "Aragon",
          "Aragon",
          "Aragon",
          "Aragon",
          "Aragon",
          "Asturias, Principado de",
          "Asturias, Principado de",
          "Asturias, Principado de",
          "Asturias, Principado de",
          "Asturias, Principado de",
          "Asturias, Principado de",
          "Asturias, Principado de",
          "Asturias, Principado de",
          "Asturias, Principado de",
          "Asturias, Principado de",
          "Asturias, Principado de",
          "Asturias, Principado de",
          "Asturias, Principado de",
          "Asturias, Principado de",
          "Asturias, Principado de",
          "Asturias, Principado de",
          "Asturias, Principado de",
          "Balears, Illes",
          "Balears, Illes",
          "Balears, Illes",
          "Balears, Illes",
          "Balears, Illes",
          "Balears, Illes",
          "Balears, Illes",
          "Balears, Illes",
          "Balears, Illes",
          "Balears, Illes",
          "Balears, Illes",
          "Balears, Illes",
          "Balears, Illes",
          "Balears, Illes",
          "Balears, Illes",
          "Balears, Illes",
          "Balears, Illes",
          "Canarias",
          "Canarias",
          "Canarias",
          "Canarias",
          "Canarias",
          "Canarias",
          "Canarias",
          "Canarias",
          "Canarias",
          "Canarias",
          "Canarias",
          "Canarias",
          "Canarias",
          "Canarias",
          "Canarias",
          "Canarias",
          "Canarias",
          "Cantabria",
          "Cantabria",
          "Cantabria",
          "Cantabria",
          "Cantabria",
          "Cantabria",
          "Cantabria",
          "Cantabria",
          "Cantabria",
          "Cantabria",
          "Cantabria",
          "Cantabria",
          "Cantabria",
          "Cantabria",
          "Cantabria",
          "Cantabria",
          "Cantabria",
          "Castilla y Leon",
          "Castilla y Leon",
          "Castilla y Leon",
          "Castilla y Leon",
          "Castilla y Leon",
          "Castilla y Leon",
          "Castilla y Leon",
          "Castilla y Leon",
          "Castilla y Leon",
          "Castilla y Leon",
          "Castilla y Leon",
          "Castilla y Leon",
          "Castilla y Leon",
          "Castilla y Leon",
          "Castilla y Leon",
          "Castilla y Leon",
          "Castilla y Leon",
          "Castilla - La Mancha",
          "Castilla - La Mancha",
          "Castilla - La Mancha",
          "Castilla - La Mancha",
          "Castilla - La Mancha",
          "Castilla - La Mancha",
          "Castilla - La Mancha",
          "Castilla - La Mancha",
          "Castilla - La Mancha",
          "Castilla - La Mancha",
          "Castilla - La Mancha",
          "Castilla - La Mancha",
          "Castilla - La Mancha",
          "Castilla - La Mancha",
          "Castilla - La Mancha",
          "Castilla - La Mancha",
          "Castilla - La Mancha",
          "Cataluña",
          "Cataluña",
          "Cataluña",
          "Cataluña",
          "Cataluña",
          "Cataluña",
          "Cataluña",
          "Cataluña",
          "Cataluña",
          "Cataluña",
          "Cataluña",
          "Cataluña",
          "Cataluña",
          "Cataluña",
          "Cataluña",
          "Cataluña",
          "Cataluña",
          "Comunitat Valenciana",
          "Comunitat Valenciana",
          "Comunitat Valenciana",
          "Comunitat Valenciana",
          "Comunitat Valenciana",
          "Comunitat Valenciana",
          "Comunitat Valenciana",
          "Comunitat Valenciana",
          "Comunitat Valenciana",
          "Comunitat Valenciana",
          "Comunitat Valenciana",
          "Comunitat Valenciana",
          "Comunitat Valenciana",
          "Comunitat Valenciana",
          "Comunitat Valenciana",
          "Comunitat Valenciana",
          "Comunitat Valenciana",
          "Extremadura",
          "Extremadura",
          "Extremadura",
          "Extremadura",
          "Extremadura",
          "Extremadura",
          "Extremadura",
          "Extremadura",
          "Extremadura",
          "Extremadura",
          "Extremadura",
          "Extremadura",
          "Extremadura",
          "Extremadura",
          "Extremadura",
          "Extremadura",
          "Extremadura",
          "Galicia",
          "Galicia",
          "Galicia",
          "Galicia",
          "Galicia",
          "Galicia",
          "Galicia",
          "Galicia",
          "Galicia",
          "Galicia",
          "Galicia",
          "Galicia",
          "Galicia",
          "Galicia",
          "Galicia",
          "Galicia",
          "Galicia",
          "Madrid, Comunidad de",
          "Madrid, Comunidad de",
          "Madrid, Comunidad de",
          "Madrid, Comunidad de",
          "Madrid, Comunidad de",
          "Madrid, Comunidad de",
          "Madrid, Comunidad de",
          "Madrid, Comunidad de",
          "Madrid, Comunidad de",
          "Madrid, Comunidad de",
          "Madrid, Comunidad de",
          "Madrid, Comunidad de",
          "Madrid, Comunidad de",
          "Madrid, Comunidad de",
          "Madrid, Comunidad de",
          "Madrid, Comunidad de",
          "Madrid, Comunidad de",
          "Murcia, Region de",
          "Murcia, Region de",
          "Murcia, Region de",
          "Murcia, Region de",
          "Murcia, Region de",
          "Murcia, Region de",
          "Murcia, Region de",
          "Murcia, Region de",
          "Murcia, Region de",
          "Murcia, Region de",
          "Murcia, Region de",
          "Murcia, Region de",
          "Murcia, Region de",
          "Murcia, Region de",
          "Murcia, Region de",
          "Murcia, Region de",
          "Murcia, Region de",
          "Navarra, Comunidad Foral de",
          "Navarra, Comunidad Foral de",
          "Navarra, Comunidad Foral de",
          "Navarra, Comunidad Foral de",
          "Navarra, Comunidad Foral de",
          "Navarra, Comunidad Foral de",
          "Navarra, Comunidad Foral de",
          "Navarra, Comunidad Foral de",
          "Navarra, Comunidad Foral de",
          "Navarra, Comunidad Foral de",
          "Navarra, Comunidad Foral de",
          "Navarra, Comunidad Foral de",
          "Navarra, Comunidad Foral de",
          "Navarra, Comunidad Foral de",
          "Navarra, Comunidad Foral de",
          "Navarra, Comunidad Foral de",
          "Navarra, Comunidad Foral de",
          "Pais Vasco",
          "Pais Vasco",
          "Pais Vasco",
          "Pais Vasco",
          "Pais Vasco",
          "Pais Vasco",
          "Pais Vasco",
          "Pais Vasco",
          "Pais Vasco",
          "Pais Vasco",
          "Pais Vasco",
          "Pais Vasco",
          "Pais Vasco",
          "Pais Vasco",
          "Pais Vasco",
          "Pais Vasco",
          "Pais Vasco",
          "Rioja, La",
          "Rioja, La",
          "Rioja, La",
          "Rioja, La",
          "Rioja, La",
          "Rioja, La",
          "Rioja, La",
          "Rioja, La",
          "Rioja, La",
          "Rioja, La",
          "Rioja, La",
          "Rioja, La",
          "Rioja, La",
          "Rioja, La",
          "Rioja, La",
          "Rioja, La",
          "Rioja, La",
          "Ceuta",
          "Ceuta",
          "Ceuta",
          "Ceuta",
          "Ceuta",
          "Ceuta",
          "Ceuta",
          "Ceuta",
          "Ceuta",
          "Ceuta",
          "Ceuta",
          "Ceuta",
          "Ceuta",
          "Ceuta",
          "Ceuta",
          "Ceuta",
          "Ceuta",
          "Melilla",
          "Melilla",
          "Melilla",
          "Melilla",
          "Melilla",
          "Melilla",
          "Melilla",
          "Melilla",
          "Melilla",
          "Melilla",
          "Melilla",
          "Melilla",
          "Melilla",
          "Melilla",
          "Melilla",
          "Melilla",
          "Melilla"
         ],
         "xaxis": "x",
         "y": [
          380,
          0,
          1,
          14,
          45,
          23,
          34,
          49,
          57,
          41,
          26,
          24,
          23,
          11,
          19,
          12,
          1,
          54,
          0,
          0,
          9,
          6,
          2,
          7,
          6,
          5,
          2,
          2,
          5,
          3,
          2,
          4,
          0,
          1,
          65,
          0,
          0,
          5,
          7,
          3,
          6,
          5,
          9,
          4,
          9,
          3,
          3,
          2,
          5,
          2,
          2,
          45,
          0,
          0,
          4,
          6,
          3,
          4,
          5,
          4,
          7,
          3,
          1,
          6,
          2,
          0,
          0,
          0,
          105,
          0,
          0,
          5,
          12,
          15,
          9,
          17,
          8,
          7,
          9,
          4,
          6,
          5,
          5,
          3,
          0,
          34,
          0,
          0,
          5,
          0,
          2,
          7,
          4,
          1,
          3,
          3,
          3,
          2,
          2,
          1,
          1,
          0,
          1,
          0,
          0,
          8,
          8,
          8,
          13,
          7,
          15,
          11,
          9,
          5,
          10,
          5,
          6,
          4,
          0,
          85,
          0,
          0,
          9,
          9,
          11,
          8,
          10,
          10,
          9,
          5,
          3,
          5,
          1,
          5,
          0,
          0,
          3,
          0,
          4,
          22,
          40,
          24,
          38,
          26,
          36,
          28,
          16,
          23,
          12,
          15,
          8,
          7,
          4,
          228,
          0,
          1,
          19,
          18,
          23,
          34,
          32,
          25,
          19,
          11,
          14,
          9,
          8,
          9,
          4,
          2,
          39,
          0,
          0,
          2,
          3,
          4,
          3,
          2,
          2,
          6,
          5,
          4,
          4,
          2,
          1,
          1,
          0,
          151,
          0,
          1,
          10,
          13,
          8,
          16,
          21,
          11,
          19,
          14,
          5,
          6,
          11,
          11,
          4,
          1,
          2,
          0,
          0,
          20,
          21,
          18,
          19,
          24,
          28,
          19,
          10,
          13,
          13,
          9,
          7,
          4,
          2,
          70,
          0,
          0,
          7,
          9,
          9,
          9,
          9,
          4,
          3,
          4,
          5,
          6,
          3,
          2,
          0,
          0,
          30,
          0,
          0,
          3,
          2,
          1,
          4,
          0,
          4,
          5,
          2,
          0,
          2,
          4,
          1,
          1,
          1,
          78,
          0,
          0,
          7,
          8,
          7,
          6,
          6,
          10,
          5,
          8,
          5,
          3,
          7,
          3,
          2,
          1,
          17,
          0,
          0,
          0,
          1,
          2,
          0,
          2,
          2,
          1,
          1,
          1,
          2,
          1,
          1,
          3,
          0,
          0,
          0,
          0,
          0,
          0,
          0,
          0,
          0,
          0,
          0,
          0,
          0,
          0,
          0,
          0,
          0,
          0,
          1,
          0,
          0,
          0,
          0,
          0,
          0,
          1,
          0,
          0,
          0,
          0,
          0,
          0,
          0,
          0,
          0
         ],
         "yaxis": "y"
        },
        {
         "alignmentgroup": "True",
         "hovertemplate": "<b>%{hovertext}</b><br><br>Sexo=Hombres<br>Comunidades autónomas=%{x}<br>Número de suicidios=%{y}<extra></extra>",
         "hovertext": [
          "Todas las edades",
          "Menores de 1 año",
          "De 1 a 14 años",
          "De 15 a 29 años",
          "De 30 a 39 años",
          "De 40 a 44 años",
          "De 45 a 49 años",
          "De 50 a 54 años",
          "De 55 a 59 años",
          "De 60 a 64 años",
          "De 65 a 69 años",
          "De 70 a 74 años",
          "De 75 a 79 años",
          "De 80 a 84 años",
          "De 85 a 89 años",
          "De 90 a 94 años",
          "De 95 años y mas",
          "Todas las edades",
          "Menores de 1 año",
          "De 1 a 14 años",
          "De 15 a 29 años",
          "De 30 a 39 años",
          "De 40 a 44 años",
          "De 45 a 49 años",
          "De 50 a 54 años",
          "De 55 a 59 años",
          "De 60 a 64 años",
          "De 65 a 69 años",
          "De 70 a 74 años",
          "De 75 a 79 años",
          "De 80 a 84 años",
          "De 85 a 89 años",
          "De 90 a 94 años",
          "De 95 años y mas",
          "Todas las edades",
          "Menores de 1 año",
          "De 1 a 14 años",
          "De 15 a 29 años",
          "De 30 a 39 años",
          "De 40 a 44 años",
          "De 45 a 49 años",
          "De 50 a 54 años",
          "De 55 a 59 años",
          "De 60 a 64 años",
          "De 65 a 69 años",
          "De 70 a 74 años",
          "De 75 a 79 años",
          "De 80 a 84 años",
          "De 85 a 89 años",
          "De 90 a 94 años",
          "De 95 años y mas",
          "Todas las edades",
          "Menores de 1 año",
          "De 1 a 14 años",
          "De 15 a 29 años",
          "De 30 a 39 años",
          "De 40 a 44 años",
          "De 45 a 49 años",
          "De 50 a 54 años",
          "De 55 a 59 años",
          "De 60 a 64 años",
          "De 65 a 69 años",
          "De 70 a 74 años",
          "De 75 a 79 años",
          "De 80 a 84 años",
          "De 85 a 89 años",
          "De 90 a 94 años",
          "De 95 años y mas",
          "Todas las edades",
          "Menores de 1 año",
          "De 1 a 14 años",
          "De 15 a 29 años",
          "De 30 a 39 años",
          "De 40 a 44 años",
          "De 45 a 49 años",
          "De 50 a 54 años",
          "De 55 a 59 años",
          "De 60 a 64 años",
          "De 65 a 69 años",
          "De 70 a 74 años",
          "De 75 a 79 años",
          "De 80 a 84 años",
          "De 85 a 89 años",
          "De 90 a 94 años",
          "De 95 años y mas",
          "Todas las edades",
          "Menores de 1 año",
          "De 1 a 14 años",
          "De 15 a 29 años",
          "De 30 a 39 años",
          "De 40 a 44 años",
          "De 45 a 49 años",
          "De 50 a 54 años",
          "De 55 a 59 años",
          "De 60 a 64 años",
          "De 65 a 69 años",
          "De 70 a 74 años",
          "De 75 a 79 años",
          "De 80 a 84 años",
          "De 85 a 89 años",
          "De 90 a 94 años",
          "De 95 años y mas",
          "Todas las edades",
          "Menores de 1 año",
          "De 1 a 14 años",
          "De 15 a 29 años",
          "De 30 a 39 años",
          "De 40 a 44 años",
          "De 45 a 49 años",
          "De 50 a 54 años",
          "De 55 a 59 años",
          "De 60 a 64 años",
          "De 65 a 69 años",
          "De 70 a 74 años",
          "De 75 a 79 años",
          "De 80 a 84 años",
          "De 85 a 89 años",
          "De 90 a 94 años",
          "De 95 años y mas",
          "Todas las edades",
          "Menores de 1 año",
          "De 1 a 14 años",
          "De 15 a 29 años",
          "De 30 a 39 años",
          "De 40 a 44 años",
          "De 45 a 49 años",
          "De 50 a 54 años",
          "De 55 a 59 años",
          "De 60 a 64 años",
          "De 65 a 69 años",
          "De 70 a 74 años",
          "De 75 a 79 años",
          "De 80 a 84 años",
          "De 85 a 89 años",
          "De 90 a 94 años",
          "De 95 años y mas",
          "Todas las edades",
          "Menores de 1 año",
          "De 1 a 14 años",
          "De 15 a 29 años",
          "De 30 a 39 años",
          "De 40 a 44 años",
          "De 45 a 49 años",
          "De 50 a 54 años",
          "De 55 a 59 años",
          "De 60 a 64 años",
          "De 65 a 69 años",
          "De 70 a 74 años",
          "De 75 a 79 años",
          "De 80 a 84 años",
          "De 85 a 89 años",
          "De 90 a 94 años",
          "De 95 años y mas",
          "Todas las edades",
          "Menores de 1 año",
          "De 1 a 14 años",
          "De 15 a 29 años",
          "De 30 a 39 años",
          "De 40 a 44 años",
          "De 45 a 49 años",
          "De 50 a 54 años",
          "De 55 a 59 años",
          "De 60 a 64 años",
          "De 65 a 69 años",
          "De 70 a 74 años",
          "De 75 a 79 años",
          "De 80 a 84 años",
          "De 85 a 89 años",
          "De 90 a 94 años",
          "De 95 años y mas",
          "Todas las edades",
          "Menores de 1 año",
          "De 1 a 14 años",
          "De 15 a 29 años",
          "De 30 a 39 años",
          "De 40 a 44 años",
          "De 45 a 49 años",
          "De 50 a 54 años",
          "De 55 a 59 años",
          "De 60 a 64 años",
          "De 65 a 69 años",
          "De 70 a 74 años",
          "De 75 a 79 años",
          "De 80 a 84 años",
          "De 85 a 89 años",
          "De 90 a 94 años",
          "De 95 años y mas",
          "Todas las edades",
          "Menores de 1 año",
          "De 1 a 14 años",
          "De 15 a 29 años",
          "De 30 a 39 años",
          "De 40 a 44 años",
          "De 45 a 49 años",
          "De 50 a 54 años",
          "De 55 a 59 años",
          "De 60 a 64 años",
          "De 65 a 69 años",
          "De 70 a 74 años",
          "De 75 a 79 años",
          "De 80 a 84 años",
          "De 85 a 89 años",
          "De 90 a 94 años",
          "De 95 años y mas",
          "Todas las edades",
          "Menores de 1 año",
          "De 1 a 14 años",
          "De 15 a 29 años",
          "De 30 a 39 años",
          "De 40 a 44 años",
          "De 45 a 49 años",
          "De 50 a 54 años",
          "De 55 a 59 años",
          "De 60 a 64 años",
          "De 65 a 69 años",
          "De 70 a 74 años",
          "De 75 a 79 años",
          "De 80 a 84 años",
          "De 85 a 89 años",
          "De 90 a 94 años",
          "De 95 años y mas",
          "Todas las edades",
          "Menores de 1 año",
          "De 1 a 14 años",
          "De 15 a 29 años",
          "De 30 a 39 años",
          "De 40 a 44 años",
          "De 45 a 49 años",
          "De 50 a 54 años",
          "De 55 a 59 años",
          "De 60 a 64 años",
          "De 65 a 69 años",
          "De 70 a 74 años",
          "De 75 a 79 años",
          "De 80 a 84 años",
          "De 85 a 89 años",
          "De 90 a 94 años",
          "De 95 años y mas",
          "Todas las edades",
          "Menores de 1 año",
          "De 1 a 14 años",
          "De 15 a 29 años",
          "De 30 a 39 años",
          "De 40 a 44 años",
          "De 45 a 49 años",
          "De 50 a 54 años",
          "De 55 a 59 años",
          "De 60 a 64 años",
          "De 65 a 69 años",
          "De 70 a 74 años",
          "De 75 a 79 años",
          "De 80 a 84 años",
          "De 85 a 89 años",
          "De 90 a 94 años",
          "De 95 años y mas",
          "Todas las edades",
          "Menores de 1 año",
          "De 1 a 14 años",
          "De 15 a 29 años",
          "De 30 a 39 años",
          "De 40 a 44 años",
          "De 45 a 49 años",
          "De 50 a 54 años",
          "De 55 a 59 años",
          "De 60 a 64 años",
          "De 65 a 69 años",
          "De 70 a 74 años",
          "De 75 a 79 años",
          "De 80 a 84 años",
          "De 85 a 89 años",
          "De 90 a 94 años",
          "De 95 años y mas",
          "Todas las edades",
          "Menores de 1 año",
          "De 1 a 14 años",
          "De 15 a 29 años",
          "De 30 a 39 años",
          "De 40 a 44 años",
          "De 45 a 49 años",
          "De 50 a 54 años",
          "De 55 a 59 años",
          "De 60 a 64 años",
          "De 65 a 69 años",
          "De 70 a 74 años",
          "De 75 a 79 años",
          "De 80 a 84 años",
          "De 85 a 89 años",
          "De 90 a 94 años",
          "De 95 años y mas",
          "Todas las edades",
          "Menores de 1 año",
          "De 1 a 14 años",
          "De 15 a 29 años",
          "De 30 a 39 años",
          "De 40 a 44 años",
          "De 45 a 49 años",
          "De 50 a 54 años",
          "De 55 a 59 años",
          "De 60 a 64 años",
          "De 65 a 69 años",
          "De 70 a 74 años",
          "De 75 a 79 años",
          "De 80 a 84 años",
          "De 85 a 89 años",
          "De 90 a 94 años",
          "De 95 años y mas",
          "Todas las edades",
          "Menores de 1 año",
          "De 1 a 14 años",
          "De 15 a 29 años",
          "De 30 a 39 años",
          "De 40 a 44 años",
          "De 45 a 49 años",
          "De 50 a 54 años",
          "De 55 a 59 años",
          "De 60 a 64 años",
          "De 65 a 69 años",
          "De 70 a 74 años",
          "De 75 a 79 años",
          "De 80 a 84 años",
          "De 85 a 89 años",
          "De 90 a 94 años",
          "De 95 años y mas"
         ],
         "legendgroup": "Hombres",
         "marker": {
          "color": "rgb(221,132,82)",
          "pattern": {
           "shape": ""
          }
         },
         "name": "Hombres",
         "offsetgroup": "Hombres",
         "orientation": "v",
         "showlegend": true,
         "textposition": "auto",
         "type": "bar",
         "x": [
          "Andalucia",
          "Andalucia",
          "Andalucia",
          "Andalucia",
          "Andalucia",
          "Andalucia",
          "Andalucia",
          "Andalucia",
          "Andalucia",
          "Andalucia",
          "Andalucia",
          "Andalucia",
          "Andalucia",
          "Andalucia",
          "Andalucia",
          "Andalucia",
          "Andalucia",
          "Aragon",
          "Aragon",
          "Aragon",
          "Aragon",
          "Aragon",
          "Aragon",
          "Aragon",
          "Aragon",
          "Aragon",
          "Aragon",
          "Aragon",
          "Aragon",
          "Aragon",
          "Aragon",
          "Aragon",
          "Aragon",
          "Aragon",
          "Asturias, Principado de",
          "Asturias, Principado de",
          "Asturias, Principado de",
          "Asturias, Principado de",
          "Asturias, Principado de",
          "Asturias, Principado de",
          "Asturias, Principado de",
          "Asturias, Principado de",
          "Asturias, Principado de",
          "Asturias, Principado de",
          "Asturias, Principado de",
          "Asturias, Principado de",
          "Asturias, Principado de",
          "Asturias, Principado de",
          "Asturias, Principado de",
          "Asturias, Principado de",
          "Asturias, Principado de",
          "Balears, Illes",
          "Balears, Illes",
          "Balears, Illes",
          "Balears, Illes",
          "Balears, Illes",
          "Balears, Illes",
          "Balears, Illes",
          "Balears, Illes",
          "Balears, Illes",
          "Balears, Illes",
          "Balears, Illes",
          "Balears, Illes",
          "Balears, Illes",
          "Balears, Illes",
          "Balears, Illes",
          "Balears, Illes",
          "Balears, Illes",
          "Canarias",
          "Canarias",
          "Canarias",
          "Canarias",
          "Canarias",
          "Canarias",
          "Canarias",
          "Canarias",
          "Canarias",
          "Canarias",
          "Canarias",
          "Canarias",
          "Canarias",
          "Canarias",
          "Canarias",
          "Canarias",
          "Canarias",
          "Cantabria",
          "Cantabria",
          "Cantabria",
          "Cantabria",
          "Cantabria",
          "Cantabria",
          "Cantabria",
          "Cantabria",
          "Cantabria",
          "Cantabria",
          "Cantabria",
          "Cantabria",
          "Cantabria",
          "Cantabria",
          "Cantabria",
          "Cantabria",
          "Cantabria",
          "Castilla y Leon",
          "Castilla y Leon",
          "Castilla y Leon",
          "Castilla y Leon",
          "Castilla y Leon",
          "Castilla y Leon",
          "Castilla y Leon",
          "Castilla y Leon",
          "Castilla y Leon",
          "Castilla y Leon",
          "Castilla y Leon",
          "Castilla y Leon",
          "Castilla y Leon",
          "Castilla y Leon",
          "Castilla y Leon",
          "Castilla y Leon",
          "Castilla y Leon",
          "Castilla - La Mancha",
          "Castilla - La Mancha",
          "Castilla - La Mancha",
          "Castilla - La Mancha",
          "Castilla - La Mancha",
          "Castilla - La Mancha",
          "Castilla - La Mancha",
          "Castilla - La Mancha",
          "Castilla - La Mancha",
          "Castilla - La Mancha",
          "Castilla - La Mancha",
          "Castilla - La Mancha",
          "Castilla - La Mancha",
          "Castilla - La Mancha",
          "Castilla - La Mancha",
          "Castilla - La Mancha",
          "Castilla - La Mancha",
          "Cataluña",
          "Cataluña",
          "Cataluña",
          "Cataluña",
          "Cataluña",
          "Cataluña",
          "Cataluña",
          "Cataluña",
          "Cataluña",
          "Cataluña",
          "Cataluña",
          "Cataluña",
          "Cataluña",
          "Cataluña",
          "Cataluña",
          "Cataluña",
          "Cataluña",
          "Comunitat Valenciana",
          "Comunitat Valenciana",
          "Comunitat Valenciana",
          "Comunitat Valenciana",
          "Comunitat Valenciana",
          "Comunitat Valenciana",
          "Comunitat Valenciana",
          "Comunitat Valenciana",
          "Comunitat Valenciana",
          "Comunitat Valenciana",
          "Comunitat Valenciana",
          "Comunitat Valenciana",
          "Comunitat Valenciana",
          "Comunitat Valenciana",
          "Comunitat Valenciana",
          "Comunitat Valenciana",
          "Comunitat Valenciana",
          "Extremadura",
          "Extremadura",
          "Extremadura",
          "Extremadura",
          "Extremadura",
          "Extremadura",
          "Extremadura",
          "Extremadura",
          "Extremadura",
          "Extremadura",
          "Extremadura",
          "Extremadura",
          "Extremadura",
          "Extremadura",
          "Extremadura",
          "Extremadura",
          "Extremadura",
          "Galicia",
          "Galicia",
          "Galicia",
          "Galicia",
          "Galicia",
          "Galicia",
          "Galicia",
          "Galicia",
          "Galicia",
          "Galicia",
          "Galicia",
          "Galicia",
          "Galicia",
          "Galicia",
          "Galicia",
          "Galicia",
          "Galicia",
          "Madrid, Comunidad de",
          "Madrid, Comunidad de",
          "Madrid, Comunidad de",
          "Madrid, Comunidad de",
          "Madrid, Comunidad de",
          "Madrid, Comunidad de",
          "Madrid, Comunidad de",
          "Madrid, Comunidad de",
          "Madrid, Comunidad de",
          "Madrid, Comunidad de",
          "Madrid, Comunidad de",
          "Madrid, Comunidad de",
          "Madrid, Comunidad de",
          "Madrid, Comunidad de",
          "Madrid, Comunidad de",
          "Madrid, Comunidad de",
          "Madrid, Comunidad de",
          "Murcia, Region de",
          "Murcia, Region de",
          "Murcia, Region de",
          "Murcia, Region de",
          "Murcia, Region de",
          "Murcia, Region de",
          "Murcia, Region de",
          "Murcia, Region de",
          "Murcia, Region de",
          "Murcia, Region de",
          "Murcia, Region de",
          "Murcia, Region de",
          "Murcia, Region de",
          "Murcia, Region de",
          "Murcia, Region de",
          "Murcia, Region de",
          "Murcia, Region de",
          "Navarra, Comunidad Foral de",
          "Navarra, Comunidad Foral de",
          "Navarra, Comunidad Foral de",
          "Navarra, Comunidad Foral de",
          "Navarra, Comunidad Foral de",
          "Navarra, Comunidad Foral de",
          "Navarra, Comunidad Foral de",
          "Navarra, Comunidad Foral de",
          "Navarra, Comunidad Foral de",
          "Navarra, Comunidad Foral de",
          "Navarra, Comunidad Foral de",
          "Navarra, Comunidad Foral de",
          "Navarra, Comunidad Foral de",
          "Navarra, Comunidad Foral de",
          "Navarra, Comunidad Foral de",
          "Navarra, Comunidad Foral de",
          "Navarra, Comunidad Foral de",
          "Pais Vasco",
          "Pais Vasco",
          "Pais Vasco",
          "Pais Vasco",
          "Pais Vasco",
          "Pais Vasco",
          "Pais Vasco",
          "Pais Vasco",
          "Pais Vasco",
          "Pais Vasco",
          "Pais Vasco",
          "Pais Vasco",
          "Pais Vasco",
          "Pais Vasco",
          "Pais Vasco",
          "Pais Vasco",
          "Pais Vasco",
          "Rioja, La",
          "Rioja, La",
          "Rioja, La",
          "Rioja, La",
          "Rioja, La",
          "Rioja, La",
          "Rioja, La",
          "Rioja, La",
          "Rioja, La",
          "Rioja, La",
          "Rioja, La",
          "Rioja, La",
          "Rioja, La",
          "Rioja, La",
          "Rioja, La",
          "Rioja, La",
          "Rioja, La",
          "Ceuta",
          "Ceuta",
          "Ceuta",
          "Ceuta",
          "Ceuta",
          "Ceuta",
          "Ceuta",
          "Ceuta",
          "Ceuta",
          "Ceuta",
          "Ceuta",
          "Ceuta",
          "Ceuta",
          "Ceuta",
          "Ceuta",
          "Ceuta",
          "Ceuta",
          "Melilla",
          "Melilla",
          "Melilla",
          "Melilla",
          "Melilla",
          "Melilla",
          "Melilla",
          "Melilla",
          "Melilla",
          "Melilla",
          "Melilla",
          "Melilla",
          "Melilla",
          "Melilla",
          "Melilla",
          "Melilla",
          "Melilla"
         ],
         "xaxis": "x",
         "y": [
          294,
          0,
          1,
          9,
          37,
          18,
          30,
          38,
          37,
          34,
          20,
          18,
          17,
          8,
          16,
          10,
          1,
          46,
          0,
          0,
          6,
          5,
          2,
          5,
          6,
          5,
          2,
          1,
          5,
          3,
          2,
          3,
          0,
          1,
          47,
          0,
          0,
          3,
          7,
          2,
          4,
          4,
          6,
          3,
          8,
          0,
          2,
          1,
          4,
          1,
          2,
          28,
          0,
          0,
          2,
          3,
          1,
          3,
          2,
          3,
          7,
          2,
          0,
          4,
          1,
          0,
          0,
          0,
          81,
          0,
          0,
          3,
          9,
          12,
          8,
          14,
          7,
          7,
          5,
          2,
          3,
          3,
          5,
          3,
          0,
          24,
          0,
          0,
          2,
          0,
          2,
          6,
          2,
          1,
          3,
          2,
          3,
          1,
          1,
          0,
          1,
          0,
          82,
          0,
          0,
          5,
          5,
          7,
          9,
          2,
          14,
          9,
          7,
          2,
          10,
          4,
          6,
          2,
          0,
          70,
          0,
          0,
          7,
          8,
          9,
          6,
          7,
          9,
          9,
          5,
          2,
          5,
          0,
          3,
          0,
          0,
          213,
          0,
          4,
          11,
          25,
          21,
          29,
          18,
          22,
          19,
          13,
          17,
          9,
          10,
          7,
          5,
          3,
          169,
          0,
          1,
          11,
          14,
          17,
          26,
          25,
          19,
          17,
          8,
          8,
          6,
          5,
          7,
          3,
          2,
          31,
          0,
          0,
          1,
          3,
          3,
          3,
          2,
          2,
          5,
          1,
          4,
          4,
          1,
          1,
          1,
          0,
          1,
          0,
          0,
          5,
          11,
          7,
          12,
          12,
          7,
          12,
          13,
          1,
          5,
          7,
          9,
          3,
          0,
          137,
          0,
          0,
          11,
          17,
          15,
          14,
          15,
          16,
          13,
          6,
          6,
          9,
          6,
          5,
          3,
          1,
          56,
          0,
          0,
          5,
          7,
          4,
          9,
          8,
          4,
          3,
          2,
          4,
          6,
          2,
          2,
          0,
          0,
          18,
          0,
          0,
          1,
          2,
          0,
          2,
          0,
          4,
          3,
          0,
          0,
          2,
          2,
          1,
          0,
          1,
          53,
          0,
          0,
          4,
          5,
          6,
          5,
          5,
          6,
          3,
          4,
          3,
          2,
          5,
          3,
          2,
          0,
          14,
          0,
          0,
          0,
          1,
          1,
          0,
          2,
          1,
          1,
          1,
          1,
          2,
          1,
          1,
          2,
          0,
          0,
          0,
          0,
          0,
          0,
          0,
          0,
          0,
          0,
          0,
          0,
          0,
          0,
          0,
          0,
          0,
          0,
          1,
          0,
          0,
          0,
          0,
          0,
          0,
          1,
          0,
          0,
          0,
          0,
          0,
          0,
          0,
          0,
          0
         ],
         "yaxis": "y"
        },
        {
         "alignmentgroup": "True",
         "hovertemplate": "<b>%{hovertext}</b><br><br>Sexo=Mujeres<br>Comunidades autónomas=%{x}<br>Número de suicidios=%{y}<extra></extra>",
         "hovertext": [
          "Todas las edades",
          "Menores de 1 año",
          "De 1 a 14 años",
          "De 15 a 29 años",
          "De 30 a 39 años",
          "De 40 a 44 años",
          "De 45 a 49 años",
          "De 50 a 54 años",
          "De 55 a 59 años",
          "De 60 a 64 años",
          "De 65 a 69 años",
          "De 70 a 74 años",
          "De 75 a 79 años",
          "De 80 a 84 años",
          "De 85 a 89 años",
          "De 90 a 94 años",
          "De 95 años y mas",
          "Todas las edades",
          "Menores de 1 año",
          "De 1 a 14 años",
          "De 15 a 29 años",
          "De 30 a 39 años",
          "De 40 a 44 años",
          "De 45 a 49 años",
          "De 50 a 54 años",
          "De 55 a 59 años",
          "De 60 a 64 años",
          "De 65 a 69 años",
          "De 70 a 74 años",
          "De 75 a 79 años",
          "De 80 a 84 años",
          "De 85 a 89 años",
          "De 90 a 94 años",
          "De 95 años y mas",
          "Todas las edades",
          "Menores de 1 año",
          "De 1 a 14 años",
          "De 15 a 29 años",
          "De 30 a 39 años",
          "De 40 a 44 años",
          "De 45 a 49 años",
          "De 50 a 54 años",
          "De 55 a 59 años",
          "De 60 a 64 años",
          "De 65 a 69 años",
          "De 70 a 74 años",
          "De 75 a 79 años",
          "De 80 a 84 años",
          "De 85 a 89 años",
          "De 90 a 94 años",
          "De 95 años y mas",
          "Todas las edades",
          "Menores de 1 año",
          "De 1 a 14 años",
          "De 15 a 29 años",
          "De 30 a 39 años",
          "De 40 a 44 años",
          "De 45 a 49 años",
          "De 50 a 54 años",
          "De 55 a 59 años",
          "De 60 a 64 años",
          "De 65 a 69 años",
          "De 70 a 74 años",
          "De 75 a 79 años",
          "De 80 a 84 años",
          "De 85 a 89 años",
          "De 90 a 94 años",
          "De 95 años y mas",
          "Todas las edades",
          "Menores de 1 año",
          "De 1 a 14 años",
          "De 15 a 29 años",
          "De 30 a 39 años",
          "De 40 a 44 años",
          "De 45 a 49 años",
          "De 50 a 54 años",
          "De 55 a 59 años",
          "De 60 a 64 años",
          "De 65 a 69 años",
          "De 70 a 74 años",
          "De 75 a 79 años",
          "De 80 a 84 años",
          "De 85 a 89 años",
          "De 90 a 94 años",
          "De 95 años y mas",
          "Todas las edades",
          "Menores de 1 año",
          "De 1 a 14 años",
          "De 15 a 29 años",
          "De 30 a 39 años",
          "De 40 a 44 años",
          "De 45 a 49 años",
          "De 50 a 54 años",
          "De 55 a 59 años",
          "De 60 a 64 años",
          "De 65 a 69 años",
          "De 70 a 74 años",
          "De 75 a 79 años",
          "De 80 a 84 años",
          "De 85 a 89 años",
          "De 90 a 94 años",
          "De 95 años y mas",
          "Todas las edades",
          "Menores de 1 año",
          "De 1 a 14 años",
          "De 15 a 29 años",
          "De 30 a 39 años",
          "De 40 a 44 años",
          "De 45 a 49 años",
          "De 50 a 54 años",
          "De 55 a 59 años",
          "De 60 a 64 años",
          "De 65 a 69 años",
          "De 70 a 74 años",
          "De 75 a 79 años",
          "De 80 a 84 años",
          "De 85 a 89 años",
          "De 90 a 94 años",
          "De 95 años y mas",
          "Todas las edades",
          "Menores de 1 año",
          "De 1 a 14 años",
          "De 15 a 29 años",
          "De 30 a 39 años",
          "De 40 a 44 años",
          "De 45 a 49 años",
          "De 50 a 54 años",
          "De 55 a 59 años",
          "De 60 a 64 años",
          "De 65 a 69 años",
          "De 70 a 74 años",
          "De 75 a 79 años",
          "De 80 a 84 años",
          "De 85 a 89 años",
          "De 90 a 94 años",
          "De 95 años y mas",
          "Todas las edades",
          "Menores de 1 año",
          "De 1 a 14 años",
          "De 15 a 29 años",
          "De 30 a 39 años",
          "De 40 a 44 años",
          "De 45 a 49 años",
          "De 50 a 54 años",
          "De 55 a 59 años",
          "De 60 a 64 años",
          "De 65 a 69 años",
          "De 70 a 74 años",
          "De 75 a 79 años",
          "De 80 a 84 años",
          "De 85 a 89 años",
          "De 90 a 94 años",
          "De 95 años y mas",
          "Todas las edades",
          "Menores de 1 año",
          "De 1 a 14 años",
          "De 15 a 29 años",
          "De 30 a 39 años",
          "De 40 a 44 años",
          "De 45 a 49 años",
          "De 50 a 54 años",
          "De 55 a 59 años",
          "De 60 a 64 años",
          "De 65 a 69 años",
          "De 70 a 74 años",
          "De 75 a 79 años",
          "De 80 a 84 años",
          "De 85 a 89 años",
          "De 90 a 94 años",
          "De 95 años y mas",
          "Todas las edades",
          "Menores de 1 año",
          "De 1 a 14 años",
          "De 15 a 29 años",
          "De 30 a 39 años",
          "De 40 a 44 años",
          "De 45 a 49 años",
          "De 50 a 54 años",
          "De 55 a 59 años",
          "De 60 a 64 años",
          "De 65 a 69 años",
          "De 70 a 74 años",
          "De 75 a 79 años",
          "De 80 a 84 años",
          "De 85 a 89 años",
          "De 90 a 94 años",
          "De 95 años y mas",
          "Todas las edades",
          "Menores de 1 año",
          "De 1 a 14 años",
          "De 15 a 29 años",
          "De 30 a 39 años",
          "De 40 a 44 años",
          "De 45 a 49 años",
          "De 50 a 54 años",
          "De 55 a 59 años",
          "De 60 a 64 años",
          "De 65 a 69 años",
          "De 70 a 74 años",
          "De 75 a 79 años",
          "De 80 a 84 años",
          "De 85 a 89 años",
          "De 90 a 94 años",
          "De 95 años y mas",
          "Todas las edades",
          "Menores de 1 año",
          "De 1 a 14 años",
          "De 15 a 29 años",
          "De 30 a 39 años",
          "De 40 a 44 años",
          "De 45 a 49 años",
          "De 50 a 54 años",
          "De 55 a 59 años",
          "De 60 a 64 años",
          "De 65 a 69 años",
          "De 70 a 74 años",
          "De 75 a 79 años",
          "De 80 a 84 años",
          "De 85 a 89 años",
          "De 90 a 94 años",
          "De 95 años y mas",
          "Todas las edades",
          "Menores de 1 año",
          "De 1 a 14 años",
          "De 15 a 29 años",
          "De 30 a 39 años",
          "De 40 a 44 años",
          "De 45 a 49 años",
          "De 50 a 54 años",
          "De 55 a 59 años",
          "De 60 a 64 años",
          "De 65 a 69 años",
          "De 70 a 74 años",
          "De 75 a 79 años",
          "De 80 a 84 años",
          "De 85 a 89 años",
          "De 90 a 94 años",
          "De 95 años y mas",
          "Todas las edades",
          "Menores de 1 año",
          "De 1 a 14 años",
          "De 15 a 29 años",
          "De 30 a 39 años",
          "De 40 a 44 años",
          "De 45 a 49 años",
          "De 50 a 54 años",
          "De 55 a 59 años",
          "De 60 a 64 años",
          "De 65 a 69 años",
          "De 70 a 74 años",
          "De 75 a 79 años",
          "De 80 a 84 años",
          "De 85 a 89 años",
          "De 90 a 94 años",
          "De 95 años y mas",
          "Todas las edades",
          "Menores de 1 año",
          "De 1 a 14 años",
          "De 15 a 29 años",
          "De 30 a 39 años",
          "De 40 a 44 años",
          "De 45 a 49 años",
          "De 50 a 54 años",
          "De 55 a 59 años",
          "De 60 a 64 años",
          "De 65 a 69 años",
          "De 70 a 74 años",
          "De 75 a 79 años",
          "De 80 a 84 años",
          "De 85 a 89 años",
          "De 90 a 94 años",
          "De 95 años y mas",
          "Todas las edades",
          "Menores de 1 año",
          "De 1 a 14 años",
          "De 15 a 29 años",
          "De 30 a 39 años",
          "De 40 a 44 años",
          "De 45 a 49 años",
          "De 50 a 54 años",
          "De 55 a 59 años",
          "De 60 a 64 años",
          "De 65 a 69 años",
          "De 70 a 74 años",
          "De 75 a 79 años",
          "De 80 a 84 años",
          "De 85 a 89 años",
          "De 90 a 94 años",
          "De 95 años y mas",
          "Todas las edades",
          "Menores de 1 año",
          "De 1 a 14 años",
          "De 15 a 29 años",
          "De 30 a 39 años",
          "De 40 a 44 años",
          "De 45 a 49 años",
          "De 50 a 54 años",
          "De 55 a 59 años",
          "De 60 a 64 años",
          "De 65 a 69 años",
          "De 70 a 74 años",
          "De 75 a 79 años",
          "De 80 a 84 años",
          "De 85 a 89 años",
          "De 90 a 94 años",
          "De 95 años y mas",
          "Todas las edades",
          "Menores de 1 año",
          "De 1 a 14 años",
          "De 15 a 29 años",
          "De 30 a 39 años",
          "De 40 a 44 años",
          "De 45 a 49 años",
          "De 50 a 54 años",
          "De 55 a 59 años",
          "De 60 a 64 años",
          "De 65 a 69 años",
          "De 70 a 74 años",
          "De 75 a 79 años",
          "De 80 a 84 años",
          "De 85 a 89 años",
          "De 90 a 94 años",
          "De 95 años y mas"
         ],
         "legendgroup": "Mujeres",
         "marker": {
          "color": "rgb(85,168,104)",
          "pattern": {
           "shape": ""
          }
         },
         "name": "Mujeres",
         "offsetgroup": "Mujeres",
         "orientation": "v",
         "showlegend": true,
         "textposition": "auto",
         "type": "bar",
         "x": [
          "Andalucia",
          "Andalucia",
          "Andalucia",
          "Andalucia",
          "Andalucia",
          "Andalucia",
          "Andalucia",
          "Andalucia",
          "Andalucia",
          "Andalucia",
          "Andalucia",
          "Andalucia",
          "Andalucia",
          "Andalucia",
          "Andalucia",
          "Andalucia",
          "Andalucia",
          "Aragon",
          "Aragon",
          "Aragon",
          "Aragon",
          "Aragon",
          "Aragon",
          "Aragon",
          "Aragon",
          "Aragon",
          "Aragon",
          "Aragon",
          "Aragon",
          "Aragon",
          "Aragon",
          "Aragon",
          "Aragon",
          "Aragon",
          "Asturias, Principado de",
          "Asturias, Principado de",
          "Asturias, Principado de",
          "Asturias, Principado de",
          "Asturias, Principado de",
          "Asturias, Principado de",
          "Asturias, Principado de",
          "Asturias, Principado de",
          "Asturias, Principado de",
          "Asturias, Principado de",
          "Asturias, Principado de",
          "Asturias, Principado de",
          "Asturias, Principado de",
          "Asturias, Principado de",
          "Asturias, Principado de",
          "Asturias, Principado de",
          "Asturias, Principado de",
          "Balears, Illes",
          "Balears, Illes",
          "Balears, Illes",
          "Balears, Illes",
          "Balears, Illes",
          "Balears, Illes",
          "Balears, Illes",
          "Balears, Illes",
          "Balears, Illes",
          "Balears, Illes",
          "Balears, Illes",
          "Balears, Illes",
          "Balears, Illes",
          "Balears, Illes",
          "Balears, Illes",
          "Balears, Illes",
          "Balears, Illes",
          "Canarias",
          "Canarias",
          "Canarias",
          "Canarias",
          "Canarias",
          "Canarias",
          "Canarias",
          "Canarias",
          "Canarias",
          "Canarias",
          "Canarias",
          "Canarias",
          "Canarias",
          "Canarias",
          "Canarias",
          "Canarias",
          "Canarias",
          "Cantabria",
          "Cantabria",
          "Cantabria",
          "Cantabria",
          "Cantabria",
          "Cantabria",
          "Cantabria",
          "Cantabria",
          "Cantabria",
          "Cantabria",
          "Cantabria",
          "Cantabria",
          "Cantabria",
          "Cantabria",
          "Cantabria",
          "Cantabria",
          "Cantabria",
          "Castilla y Leon",
          "Castilla y Leon",
          "Castilla y Leon",
          "Castilla y Leon",
          "Castilla y Leon",
          "Castilla y Leon",
          "Castilla y Leon",
          "Castilla y Leon",
          "Castilla y Leon",
          "Castilla y Leon",
          "Castilla y Leon",
          "Castilla y Leon",
          "Castilla y Leon",
          "Castilla y Leon",
          "Castilla y Leon",
          "Castilla y Leon",
          "Castilla y Leon",
          "Castilla - La Mancha",
          "Castilla - La Mancha",
          "Castilla - La Mancha",
          "Castilla - La Mancha",
          "Castilla - La Mancha",
          "Castilla - La Mancha",
          "Castilla - La Mancha",
          "Castilla - La Mancha",
          "Castilla - La Mancha",
          "Castilla - La Mancha",
          "Castilla - La Mancha",
          "Castilla - La Mancha",
          "Castilla - La Mancha",
          "Castilla - La Mancha",
          "Castilla - La Mancha",
          "Castilla - La Mancha",
          "Castilla - La Mancha",
          "Cataluña",
          "Cataluña",
          "Cataluña",
          "Cataluña",
          "Cataluña",
          "Cataluña",
          "Cataluña",
          "Cataluña",
          "Cataluña",
          "Cataluña",
          "Cataluña",
          "Cataluña",
          "Cataluña",
          "Cataluña",
          "Cataluña",
          "Cataluña",
          "Cataluña",
          "Comunitat Valenciana",
          "Comunitat Valenciana",
          "Comunitat Valenciana",
          "Comunitat Valenciana",
          "Comunitat Valenciana",
          "Comunitat Valenciana",
          "Comunitat Valenciana",
          "Comunitat Valenciana",
          "Comunitat Valenciana",
          "Comunitat Valenciana",
          "Comunitat Valenciana",
          "Comunitat Valenciana",
          "Comunitat Valenciana",
          "Comunitat Valenciana",
          "Comunitat Valenciana",
          "Comunitat Valenciana",
          "Comunitat Valenciana",
          "Extremadura",
          "Extremadura",
          "Extremadura",
          "Extremadura",
          "Extremadura",
          "Extremadura",
          "Extremadura",
          "Extremadura",
          "Extremadura",
          "Extremadura",
          "Extremadura",
          "Extremadura",
          "Extremadura",
          "Extremadura",
          "Extremadura",
          "Extremadura",
          "Extremadura",
          "Galicia",
          "Galicia",
          "Galicia",
          "Galicia",
          "Galicia",
          "Galicia",
          "Galicia",
          "Galicia",
          "Galicia",
          "Galicia",
          "Galicia",
          "Galicia",
          "Galicia",
          "Galicia",
          "Galicia",
          "Galicia",
          "Galicia",
          "Madrid, Comunidad de",
          "Madrid, Comunidad de",
          "Madrid, Comunidad de",
          "Madrid, Comunidad de",
          "Madrid, Comunidad de",
          "Madrid, Comunidad de",
          "Madrid, Comunidad de",
          "Madrid, Comunidad de",
          "Madrid, Comunidad de",
          "Madrid, Comunidad de",
          "Madrid, Comunidad de",
          "Madrid, Comunidad de",
          "Madrid, Comunidad de",
          "Madrid, Comunidad de",
          "Madrid, Comunidad de",
          "Madrid, Comunidad de",
          "Madrid, Comunidad de",
          "Murcia, Region de",
          "Murcia, Region de",
          "Murcia, Region de",
          "Murcia, Region de",
          "Murcia, Region de",
          "Murcia, Region de",
          "Murcia, Region de",
          "Murcia, Region de",
          "Murcia, Region de",
          "Murcia, Region de",
          "Murcia, Region de",
          "Murcia, Region de",
          "Murcia, Region de",
          "Murcia, Region de",
          "Murcia, Region de",
          "Murcia, Region de",
          "Murcia, Region de",
          "Navarra, Comunidad Foral de",
          "Navarra, Comunidad Foral de",
          "Navarra, Comunidad Foral de",
          "Navarra, Comunidad Foral de",
          "Navarra, Comunidad Foral de",
          "Navarra, Comunidad Foral de",
          "Navarra, Comunidad Foral de",
          "Navarra, Comunidad Foral de",
          "Navarra, Comunidad Foral de",
          "Navarra, Comunidad Foral de",
          "Navarra, Comunidad Foral de",
          "Navarra, Comunidad Foral de",
          "Navarra, Comunidad Foral de",
          "Navarra, Comunidad Foral de",
          "Navarra, Comunidad Foral de",
          "Navarra, Comunidad Foral de",
          "Navarra, Comunidad Foral de",
          "Pais Vasco",
          "Pais Vasco",
          "Pais Vasco",
          "Pais Vasco",
          "Pais Vasco",
          "Pais Vasco",
          "Pais Vasco",
          "Pais Vasco",
          "Pais Vasco",
          "Pais Vasco",
          "Pais Vasco",
          "Pais Vasco",
          "Pais Vasco",
          "Pais Vasco",
          "Pais Vasco",
          "Pais Vasco",
          "Pais Vasco",
          "Rioja, La",
          "Rioja, La",
          "Rioja, La",
          "Rioja, La",
          "Rioja, La",
          "Rioja, La",
          "Rioja, La",
          "Rioja, La",
          "Rioja, La",
          "Rioja, La",
          "Rioja, La",
          "Rioja, La",
          "Rioja, La",
          "Rioja, La",
          "Rioja, La",
          "Rioja, La",
          "Rioja, La",
          "Ceuta",
          "Ceuta",
          "Ceuta",
          "Ceuta",
          "Ceuta",
          "Ceuta",
          "Ceuta",
          "Ceuta",
          "Ceuta",
          "Ceuta",
          "Ceuta",
          "Ceuta",
          "Ceuta",
          "Ceuta",
          "Ceuta",
          "Ceuta",
          "Ceuta",
          "Melilla",
          "Melilla",
          "Melilla",
          "Melilla",
          "Melilla",
          "Melilla",
          "Melilla",
          "Melilla",
          "Melilla",
          "Melilla",
          "Melilla",
          "Melilla",
          "Melilla",
          "Melilla",
          "Melilla",
          "Melilla",
          "Melilla"
         ],
         "xaxis": "x",
         "y": [
          86,
          0,
          0,
          5,
          8,
          5,
          4,
          11,
          20,
          7,
          6,
          6,
          6,
          3,
          3,
          2,
          0,
          8,
          0,
          0,
          3,
          1,
          0,
          2,
          0,
          0,
          0,
          1,
          0,
          0,
          0,
          1,
          0,
          0,
          18,
          0,
          0,
          2,
          0,
          1,
          2,
          1,
          3,
          1,
          1,
          3,
          1,
          1,
          1,
          1,
          0,
          17,
          0,
          0,
          2,
          3,
          2,
          1,
          3,
          1,
          0,
          1,
          1,
          2,
          1,
          0,
          0,
          0,
          24,
          0,
          0,
          2,
          3,
          3,
          1,
          3,
          1,
          0,
          4,
          2,
          3,
          2,
          0,
          0,
          0,
          10,
          0,
          0,
          3,
          0,
          0,
          1,
          2,
          0,
          0,
          1,
          0,
          1,
          1,
          1,
          0,
          0,
          27,
          0,
          0,
          3,
          3,
          1,
          4,
          5,
          1,
          2,
          2,
          3,
          0,
          1,
          0,
          2,
          0,
          15,
          0,
          0,
          2,
          1,
          2,
          2,
          3,
          1,
          0,
          0,
          1,
          0,
          1,
          2,
          0,
          0,
          90,
          0,
          0,
          11,
          15,
          3,
          9,
          8,
          14,
          9,
          3,
          6,
          3,
          5,
          1,
          2,
          1,
          59,
          0,
          0,
          8,
          4,
          6,
          8,
          7,
          6,
          2,
          3,
          6,
          3,
          3,
          2,
          1,
          0,
          8,
          0,
          0,
          1,
          0,
          1,
          0,
          0,
          0,
          1,
          4,
          0,
          0,
          1,
          0,
          0,
          0,
          47,
          0,
          1,
          5,
          2,
          1,
          4,
          9,
          4,
          7,
          1,
          4,
          1,
          4,
          2,
          1,
          1,
          70,
          0,
          0,
          9,
          4,
          3,
          5,
          9,
          12,
          6,
          4,
          7,
          4,
          3,
          2,
          1,
          1,
          14,
          0,
          0,
          2,
          2,
          5,
          0,
          1,
          0,
          0,
          2,
          1,
          0,
          1,
          0,
          0,
          0,
          12,
          0,
          0,
          2,
          0,
          1,
          2,
          0,
          0,
          2,
          2,
          0,
          0,
          2,
          0,
          1,
          0,
          25,
          0,
          0,
          3,
          3,
          1,
          1,
          1,
          4,
          2,
          4,
          2,
          1,
          2,
          0,
          0,
          1,
          3,
          0,
          0,
          0,
          0,
          1,
          0,
          0,
          1,
          0,
          0,
          0,
          0,
          0,
          0,
          1,
          0,
          0,
          0,
          0,
          0,
          0,
          0,
          0,
          0,
          0,
          0,
          0,
          0,
          0,
          0,
          0,
          0,
          0,
          0,
          0,
          0,
          0,
          0,
          0,
          0,
          0,
          0,
          0,
          0,
          0,
          0,
          0,
          0,
          0,
          0
         ],
         "yaxis": "y"
        }
       ],
       "layout": {
        "barmode": "relative",
        "legend": {
         "title": {
          "text": "Sexo"
         },
         "tracegroupgap": 0
        },
        "template": {
         "data": {
          "bar": [
           {
            "error_x": {
             "color": "rgb(36,36,36)"
            },
            "error_y": {
             "color": "rgb(36,36,36)"
            },
            "marker": {
             "line": {
              "color": "rgb(234,234,242)",
              "width": 0.5
             },
             "pattern": {
              "fillmode": "overlay",
              "size": 10,
              "solidity": 0.2
             }
            },
            "type": "bar"
           }
          ],
          "barpolar": [
           {
            "marker": {
             "line": {
              "color": "rgb(234,234,242)",
              "width": 0.5
             },
             "pattern": {
              "fillmode": "overlay",
              "size": 10,
              "solidity": 0.2
             }
            },
            "type": "barpolar"
           }
          ],
          "carpet": [
           {
            "aaxis": {
             "endlinecolor": "rgb(36,36,36)",
             "gridcolor": "white",
             "linecolor": "white",
             "minorgridcolor": "white",
             "startlinecolor": "rgb(36,36,36)"
            },
            "baxis": {
             "endlinecolor": "rgb(36,36,36)",
             "gridcolor": "white",
             "linecolor": "white",
             "minorgridcolor": "white",
             "startlinecolor": "rgb(36,36,36)"
            },
            "type": "carpet"
           }
          ],
          "choropleth": [
           {
            "colorbar": {
             "outlinewidth": 0,
             "tickcolor": "rgb(36,36,36)",
             "ticklen": 8,
             "ticks": "outside",
             "tickwidth": 2
            },
            "type": "choropleth"
           }
          ],
          "contour": [
           {
            "colorbar": {
             "outlinewidth": 0,
             "tickcolor": "rgb(36,36,36)",
             "ticklen": 8,
             "ticks": "outside",
             "tickwidth": 2
            },
            "colorscale": [
             [
              0,
              "rgb(2,4,25)"
             ],
             [
              0.06274509803921569,
              "rgb(24,15,41)"
             ],
             [
              0.12549019607843137,
              "rgb(47,23,57)"
             ],
             [
              0.18823529411764706,
              "rgb(71,28,72)"
             ],
             [
              0.25098039215686274,
              "rgb(97,30,82)"
             ],
             [
              0.3137254901960784,
              "rgb(123,30,89)"
             ],
             [
              0.3764705882352941,
              "rgb(150,27,91)"
             ],
             [
              0.4392156862745098,
              "rgb(177,22,88)"
             ],
             [
              0.5019607843137255,
              "rgb(203,26,79)"
             ],
             [
              0.5647058823529412,
              "rgb(223,47,67)"
             ],
             [
              0.6274509803921569,
              "rgb(236,76,61)"
             ],
             [
              0.6901960784313725,
              "rgb(242,107,73)"
             ],
             [
              0.7529411764705882,
              "rgb(244,135,95)"
             ],
             [
              0.8156862745098039,
              "rgb(245,162,122)"
             ],
             [
              0.8784313725490196,
              "rgb(246,188,153)"
             ],
             [
              0.9411764705882353,
              "rgb(247,212,187)"
             ],
             [
              1,
              "rgb(250,234,220)"
             ]
            ],
            "type": "contour"
           }
          ],
          "contourcarpet": [
           {
            "colorbar": {
             "outlinewidth": 0,
             "tickcolor": "rgb(36,36,36)",
             "ticklen": 8,
             "ticks": "outside",
             "tickwidth": 2
            },
            "type": "contourcarpet"
           }
          ],
          "heatmap": [
           {
            "colorbar": {
             "outlinewidth": 0,
             "tickcolor": "rgb(36,36,36)",
             "ticklen": 8,
             "ticks": "outside",
             "tickwidth": 2
            },
            "colorscale": [
             [
              0,
              "rgb(2,4,25)"
             ],
             [
              0.06274509803921569,
              "rgb(24,15,41)"
             ],
             [
              0.12549019607843137,
              "rgb(47,23,57)"
             ],
             [
              0.18823529411764706,
              "rgb(71,28,72)"
             ],
             [
              0.25098039215686274,
              "rgb(97,30,82)"
             ],
             [
              0.3137254901960784,
              "rgb(123,30,89)"
             ],
             [
              0.3764705882352941,
              "rgb(150,27,91)"
             ],
             [
              0.4392156862745098,
              "rgb(177,22,88)"
             ],
             [
              0.5019607843137255,
              "rgb(203,26,79)"
             ],
             [
              0.5647058823529412,
              "rgb(223,47,67)"
             ],
             [
              0.6274509803921569,
              "rgb(236,76,61)"
             ],
             [
              0.6901960784313725,
              "rgb(242,107,73)"
             ],
             [
              0.7529411764705882,
              "rgb(244,135,95)"
             ],
             [
              0.8156862745098039,
              "rgb(245,162,122)"
             ],
             [
              0.8784313725490196,
              "rgb(246,188,153)"
             ],
             [
              0.9411764705882353,
              "rgb(247,212,187)"
             ],
             [
              1,
              "rgb(250,234,220)"
             ]
            ],
            "type": "heatmap"
           }
          ],
          "heatmapgl": [
           {
            "colorbar": {
             "outlinewidth": 0,
             "tickcolor": "rgb(36,36,36)",
             "ticklen": 8,
             "ticks": "outside",
             "tickwidth": 2
            },
            "colorscale": [
             [
              0,
              "rgb(2,4,25)"
             ],
             [
              0.06274509803921569,
              "rgb(24,15,41)"
             ],
             [
              0.12549019607843137,
              "rgb(47,23,57)"
             ],
             [
              0.18823529411764706,
              "rgb(71,28,72)"
             ],
             [
              0.25098039215686274,
              "rgb(97,30,82)"
             ],
             [
              0.3137254901960784,
              "rgb(123,30,89)"
             ],
             [
              0.3764705882352941,
              "rgb(150,27,91)"
             ],
             [
              0.4392156862745098,
              "rgb(177,22,88)"
             ],
             [
              0.5019607843137255,
              "rgb(203,26,79)"
             ],
             [
              0.5647058823529412,
              "rgb(223,47,67)"
             ],
             [
              0.6274509803921569,
              "rgb(236,76,61)"
             ],
             [
              0.6901960784313725,
              "rgb(242,107,73)"
             ],
             [
              0.7529411764705882,
              "rgb(244,135,95)"
             ],
             [
              0.8156862745098039,
              "rgb(245,162,122)"
             ],
             [
              0.8784313725490196,
              "rgb(246,188,153)"
             ],
             [
              0.9411764705882353,
              "rgb(247,212,187)"
             ],
             [
              1,
              "rgb(250,234,220)"
             ]
            ],
            "type": "heatmapgl"
           }
          ],
          "histogram": [
           {
            "marker": {
             "pattern": {
              "fillmode": "overlay",
              "size": 10,
              "solidity": 0.2
             }
            },
            "type": "histogram"
           }
          ],
          "histogram2d": [
           {
            "colorbar": {
             "outlinewidth": 0,
             "tickcolor": "rgb(36,36,36)",
             "ticklen": 8,
             "ticks": "outside",
             "tickwidth": 2
            },
            "colorscale": [
             [
              0,
              "rgb(2,4,25)"
             ],
             [
              0.06274509803921569,
              "rgb(24,15,41)"
             ],
             [
              0.12549019607843137,
              "rgb(47,23,57)"
             ],
             [
              0.18823529411764706,
              "rgb(71,28,72)"
             ],
             [
              0.25098039215686274,
              "rgb(97,30,82)"
             ],
             [
              0.3137254901960784,
              "rgb(123,30,89)"
             ],
             [
              0.3764705882352941,
              "rgb(150,27,91)"
             ],
             [
              0.4392156862745098,
              "rgb(177,22,88)"
             ],
             [
              0.5019607843137255,
              "rgb(203,26,79)"
             ],
             [
              0.5647058823529412,
              "rgb(223,47,67)"
             ],
             [
              0.6274509803921569,
              "rgb(236,76,61)"
             ],
             [
              0.6901960784313725,
              "rgb(242,107,73)"
             ],
             [
              0.7529411764705882,
              "rgb(244,135,95)"
             ],
             [
              0.8156862745098039,
              "rgb(245,162,122)"
             ],
             [
              0.8784313725490196,
              "rgb(246,188,153)"
             ],
             [
              0.9411764705882353,
              "rgb(247,212,187)"
             ],
             [
              1,
              "rgb(250,234,220)"
             ]
            ],
            "type": "histogram2d"
           }
          ],
          "histogram2dcontour": [
           {
            "colorbar": {
             "outlinewidth": 0,
             "tickcolor": "rgb(36,36,36)",
             "ticklen": 8,
             "ticks": "outside",
             "tickwidth": 2
            },
            "colorscale": [
             [
              0,
              "rgb(2,4,25)"
             ],
             [
              0.06274509803921569,
              "rgb(24,15,41)"
             ],
             [
              0.12549019607843137,
              "rgb(47,23,57)"
             ],
             [
              0.18823529411764706,
              "rgb(71,28,72)"
             ],
             [
              0.25098039215686274,
              "rgb(97,30,82)"
             ],
             [
              0.3137254901960784,
              "rgb(123,30,89)"
             ],
             [
              0.3764705882352941,
              "rgb(150,27,91)"
             ],
             [
              0.4392156862745098,
              "rgb(177,22,88)"
             ],
             [
              0.5019607843137255,
              "rgb(203,26,79)"
             ],
             [
              0.5647058823529412,
              "rgb(223,47,67)"
             ],
             [
              0.6274509803921569,
              "rgb(236,76,61)"
             ],
             [
              0.6901960784313725,
              "rgb(242,107,73)"
             ],
             [
              0.7529411764705882,
              "rgb(244,135,95)"
             ],
             [
              0.8156862745098039,
              "rgb(245,162,122)"
             ],
             [
              0.8784313725490196,
              "rgb(246,188,153)"
             ],
             [
              0.9411764705882353,
              "rgb(247,212,187)"
             ],
             [
              1,
              "rgb(250,234,220)"
             ]
            ],
            "type": "histogram2dcontour"
           }
          ],
          "mesh3d": [
           {
            "colorbar": {
             "outlinewidth": 0,
             "tickcolor": "rgb(36,36,36)",
             "ticklen": 8,
             "ticks": "outside",
             "tickwidth": 2
            },
            "type": "mesh3d"
           }
          ],
          "parcoords": [
           {
            "line": {
             "colorbar": {
              "outlinewidth": 0,
              "tickcolor": "rgb(36,36,36)",
              "ticklen": 8,
              "ticks": "outside",
              "tickwidth": 2
             }
            },
            "type": "parcoords"
           }
          ],
          "pie": [
           {
            "automargin": true,
            "type": "pie"
           }
          ],
          "scatter": [
           {
            "fillpattern": {
             "fillmode": "overlay",
             "size": 10,
             "solidity": 0.2
            },
            "type": "scatter"
           }
          ],
          "scatter3d": [
           {
            "line": {
             "colorbar": {
              "outlinewidth": 0,
              "tickcolor": "rgb(36,36,36)",
              "ticklen": 8,
              "ticks": "outside",
              "tickwidth": 2
             }
            },
            "marker": {
             "colorbar": {
              "outlinewidth": 0,
              "tickcolor": "rgb(36,36,36)",
              "ticklen": 8,
              "ticks": "outside",
              "tickwidth": 2
             }
            },
            "type": "scatter3d"
           }
          ],
          "scattercarpet": [
           {
            "marker": {
             "colorbar": {
              "outlinewidth": 0,
              "tickcolor": "rgb(36,36,36)",
              "ticklen": 8,
              "ticks": "outside",
              "tickwidth": 2
             }
            },
            "type": "scattercarpet"
           }
          ],
          "scattergeo": [
           {
            "marker": {
             "colorbar": {
              "outlinewidth": 0,
              "tickcolor": "rgb(36,36,36)",
              "ticklen": 8,
              "ticks": "outside",
              "tickwidth": 2
             }
            },
            "type": "scattergeo"
           }
          ],
          "scattergl": [
           {
            "marker": {
             "colorbar": {
              "outlinewidth": 0,
              "tickcolor": "rgb(36,36,36)",
              "ticklen": 8,
              "ticks": "outside",
              "tickwidth": 2
             }
            },
            "type": "scattergl"
           }
          ],
          "scattermapbox": [
           {
            "marker": {
             "colorbar": {
              "outlinewidth": 0,
              "tickcolor": "rgb(36,36,36)",
              "ticklen": 8,
              "ticks": "outside",
              "tickwidth": 2
             }
            },
            "type": "scattermapbox"
           }
          ],
          "scatterpolar": [
           {
            "marker": {
             "colorbar": {
              "outlinewidth": 0,
              "tickcolor": "rgb(36,36,36)",
              "ticklen": 8,
              "ticks": "outside",
              "tickwidth": 2
             }
            },
            "type": "scatterpolar"
           }
          ],
          "scatterpolargl": [
           {
            "marker": {
             "colorbar": {
              "outlinewidth": 0,
              "tickcolor": "rgb(36,36,36)",
              "ticklen": 8,
              "ticks": "outside",
              "tickwidth": 2
             }
            },
            "type": "scatterpolargl"
           }
          ],
          "scatterternary": [
           {
            "marker": {
             "colorbar": {
              "outlinewidth": 0,
              "tickcolor": "rgb(36,36,36)",
              "ticklen": 8,
              "ticks": "outside",
              "tickwidth": 2
             }
            },
            "type": "scatterternary"
           }
          ],
          "surface": [
           {
            "colorbar": {
             "outlinewidth": 0,
             "tickcolor": "rgb(36,36,36)",
             "ticklen": 8,
             "ticks": "outside",
             "tickwidth": 2
            },
            "colorscale": [
             [
              0,
              "rgb(2,4,25)"
             ],
             [
              0.06274509803921569,
              "rgb(24,15,41)"
             ],
             [
              0.12549019607843137,
              "rgb(47,23,57)"
             ],
             [
              0.18823529411764706,
              "rgb(71,28,72)"
             ],
             [
              0.25098039215686274,
              "rgb(97,30,82)"
             ],
             [
              0.3137254901960784,
              "rgb(123,30,89)"
             ],
             [
              0.3764705882352941,
              "rgb(150,27,91)"
             ],
             [
              0.4392156862745098,
              "rgb(177,22,88)"
             ],
             [
              0.5019607843137255,
              "rgb(203,26,79)"
             ],
             [
              0.5647058823529412,
              "rgb(223,47,67)"
             ],
             [
              0.6274509803921569,
              "rgb(236,76,61)"
             ],
             [
              0.6901960784313725,
              "rgb(242,107,73)"
             ],
             [
              0.7529411764705882,
              "rgb(244,135,95)"
             ],
             [
              0.8156862745098039,
              "rgb(245,162,122)"
             ],
             [
              0.8784313725490196,
              "rgb(246,188,153)"
             ],
             [
              0.9411764705882353,
              "rgb(247,212,187)"
             ],
             [
              1,
              "rgb(250,234,220)"
             ]
            ],
            "type": "surface"
           }
          ],
          "table": [
           {
            "cells": {
             "fill": {
              "color": "rgb(231,231,240)"
             },
             "line": {
              "color": "white"
             }
            },
            "header": {
             "fill": {
              "color": "rgb(183,183,191)"
             },
             "line": {
              "color": "white"
             }
            },
            "type": "table"
           }
          ]
         },
         "layout": {
          "annotationdefaults": {
           "arrowcolor": "rgb(67,103,167)"
          },
          "autotypenumbers": "strict",
          "coloraxis": {
           "colorbar": {
            "outlinewidth": 0,
            "tickcolor": "rgb(36,36,36)",
            "ticklen": 8,
            "ticks": "outside",
            "tickwidth": 2
           }
          },
          "colorscale": {
           "sequential": [
            [
             0,
             "rgb(2,4,25)"
            ],
            [
             0.06274509803921569,
             "rgb(24,15,41)"
            ],
            [
             0.12549019607843137,
             "rgb(47,23,57)"
            ],
            [
             0.18823529411764706,
             "rgb(71,28,72)"
            ],
            [
             0.25098039215686274,
             "rgb(97,30,82)"
            ],
            [
             0.3137254901960784,
             "rgb(123,30,89)"
            ],
            [
             0.3764705882352941,
             "rgb(150,27,91)"
            ],
            [
             0.4392156862745098,
             "rgb(177,22,88)"
            ],
            [
             0.5019607843137255,
             "rgb(203,26,79)"
            ],
            [
             0.5647058823529412,
             "rgb(223,47,67)"
            ],
            [
             0.6274509803921569,
             "rgb(236,76,61)"
            ],
            [
             0.6901960784313725,
             "rgb(242,107,73)"
            ],
            [
             0.7529411764705882,
             "rgb(244,135,95)"
            ],
            [
             0.8156862745098039,
             "rgb(245,162,122)"
            ],
            [
             0.8784313725490196,
             "rgb(246,188,153)"
            ],
            [
             0.9411764705882353,
             "rgb(247,212,187)"
            ],
            [
             1,
             "rgb(250,234,220)"
            ]
           ],
           "sequentialminus": [
            [
             0,
             "rgb(2,4,25)"
            ],
            [
             0.06274509803921569,
             "rgb(24,15,41)"
            ],
            [
             0.12549019607843137,
             "rgb(47,23,57)"
            ],
            [
             0.18823529411764706,
             "rgb(71,28,72)"
            ],
            [
             0.25098039215686274,
             "rgb(97,30,82)"
            ],
            [
             0.3137254901960784,
             "rgb(123,30,89)"
            ],
            [
             0.3764705882352941,
             "rgb(150,27,91)"
            ],
            [
             0.4392156862745098,
             "rgb(177,22,88)"
            ],
            [
             0.5019607843137255,
             "rgb(203,26,79)"
            ],
            [
             0.5647058823529412,
             "rgb(223,47,67)"
            ],
            [
             0.6274509803921569,
             "rgb(236,76,61)"
            ],
            [
             0.6901960784313725,
             "rgb(242,107,73)"
            ],
            [
             0.7529411764705882,
             "rgb(244,135,95)"
            ],
            [
             0.8156862745098039,
             "rgb(245,162,122)"
            ],
            [
             0.8784313725490196,
             "rgb(246,188,153)"
            ],
            [
             0.9411764705882353,
             "rgb(247,212,187)"
            ],
            [
             1,
             "rgb(250,234,220)"
            ]
           ]
          },
          "colorway": [
           "rgb(76,114,176)",
           "rgb(221,132,82)",
           "rgb(85,168,104)",
           "rgb(196,78,82)",
           "rgb(129,114,179)",
           "rgb(147,120,96)",
           "rgb(218,139,195)",
           "rgb(140,140,140)",
           "rgb(204,185,116)",
           "rgb(100,181,205)"
          ],
          "font": {
           "color": "rgb(36,36,36)"
          },
          "geo": {
           "bgcolor": "white",
           "lakecolor": "white",
           "landcolor": "rgb(234,234,242)",
           "showlakes": true,
           "showland": true,
           "subunitcolor": "white"
          },
          "hoverlabel": {
           "align": "left"
          },
          "hovermode": "closest",
          "paper_bgcolor": "white",
          "plot_bgcolor": "rgb(234,234,242)",
          "polar": {
           "angularaxis": {
            "gridcolor": "white",
            "linecolor": "white",
            "showgrid": true,
            "ticks": ""
           },
           "bgcolor": "rgb(234,234,242)",
           "radialaxis": {
            "gridcolor": "white",
            "linecolor": "white",
            "showgrid": true,
            "ticks": ""
           }
          },
          "scene": {
           "xaxis": {
            "backgroundcolor": "rgb(234,234,242)",
            "gridcolor": "white",
            "gridwidth": 2,
            "linecolor": "white",
            "showbackground": true,
            "showgrid": true,
            "ticks": "",
            "zerolinecolor": "white"
           },
           "yaxis": {
            "backgroundcolor": "rgb(234,234,242)",
            "gridcolor": "white",
            "gridwidth": 2,
            "linecolor": "white",
            "showbackground": true,
            "showgrid": true,
            "ticks": "",
            "zerolinecolor": "white"
           },
           "zaxis": {
            "backgroundcolor": "rgb(234,234,242)",
            "gridcolor": "white",
            "gridwidth": 2,
            "linecolor": "white",
            "showbackground": true,
            "showgrid": true,
            "ticks": "",
            "zerolinecolor": "white"
           }
          },
          "shapedefaults": {
           "fillcolor": "rgb(67,103,167)",
           "line": {
            "width": 0
           },
           "opacity": 0.5
          },
          "ternary": {
           "aaxis": {
            "gridcolor": "white",
            "linecolor": "white",
            "showgrid": true,
            "ticks": ""
           },
           "baxis": {
            "gridcolor": "white",
            "linecolor": "white",
            "showgrid": true,
            "ticks": ""
           },
           "bgcolor": "rgb(234,234,242)",
           "caxis": {
            "gridcolor": "white",
            "linecolor": "white",
            "showgrid": true,
            "ticks": ""
           }
          },
          "xaxis": {
           "automargin": true,
           "gridcolor": "white",
           "linecolor": "white",
           "showgrid": true,
           "ticks": "",
           "title": {
            "standoff": 15
           },
           "zerolinecolor": "white"
          },
          "yaxis": {
           "automargin": true,
           "gridcolor": "white",
           "linecolor": "white",
           "showgrid": true,
           "ticks": "",
           "title": {
            "standoff": 15
           },
           "zerolinecolor": "white"
          }
         }
        },
        "title": {
         "text": "Suicidios 2022 por comunidad autónoma (Enero - Junio)"
        },
        "xaxis": {
         "anchor": "y",
         "domain": [
          0,
          1
         ],
         "title": {
          "text": "Comunidades autónomas"
         }
        },
        "yaxis": {
         "anchor": "x",
         "domain": [
          0,
          1
         ],
         "title": {
          "text": "Número de suicidios"
         }
        }
       }
      }
     },
     "metadata": {},
     "output_type": "display_data"
    }
   ],
   "source": [
    "fig10 = px.bar(com2022, x= \"Comunidades autónomas\", y=\"Total\", color=\"Sexo\",\n",
    "             barmode = \"relative\", hover_name= \"Edad\", title= \"Suicidios 2022 por comunidad autónoma (Enero - Junio)\", template=\"seaborn\", labels={\"Total\": \"Número de suicidios\"})\n",
    "fig10.show()"
   ]
  },
  {
   "attachments": {},
   "cell_type": "markdown",
   "metadata": {},
   "source": [
    "## **DATOS DE INTERÉS**"
   ]
  },
  {
   "attachments": {},
   "cell_type": "markdown",
   "metadata": {},
   "source": [
    "EVOLUCIÓN DE LOS SUICIDIOS EN LOS AÑOS ESTUDIADOS"
   ]
  },
  {
   "cell_type": "code",
   "execution_count": 105,
   "metadata": {},
   "outputs": [
    {
     "data": {
      "application/vnd.plotly.v1+json": {
       "config": {
        "linkText": "Export to plot.ly",
        "plotlyServerURL": "https://plot.ly",
        "showLink": false
       },
       "data": [
        {
         "marker": {
          "color": "LightSkyBlue"
         },
         "mode": "lines+markers",
         "name": "Total suicidios",
         "type": "scatter",
         "x": [
          2018,
          2019,
          2020,
          2021,
          2022
         ],
         "y": [
          3539,
          3671,
          3941,
          4003,
          2015
         ]
        }
       ],
       "layout": {
        "template": {
         "data": {
          "bar": [
           {
            "error_x": {
             "color": "#2a3f5f"
            },
            "error_y": {
             "color": "#2a3f5f"
            },
            "marker": {
             "line": {
              "color": "#E5ECF6",
              "width": 0.5
             },
             "pattern": {
              "fillmode": "overlay",
              "size": 10,
              "solidity": 0.2
             }
            },
            "type": "bar"
           }
          ],
          "barpolar": [
           {
            "marker": {
             "line": {
              "color": "#E5ECF6",
              "width": 0.5
             },
             "pattern": {
              "fillmode": "overlay",
              "size": 10,
              "solidity": 0.2
             }
            },
            "type": "barpolar"
           }
          ],
          "carpet": [
           {
            "aaxis": {
             "endlinecolor": "#2a3f5f",
             "gridcolor": "white",
             "linecolor": "white",
             "minorgridcolor": "white",
             "startlinecolor": "#2a3f5f"
            },
            "baxis": {
             "endlinecolor": "#2a3f5f",
             "gridcolor": "white",
             "linecolor": "white",
             "minorgridcolor": "white",
             "startlinecolor": "#2a3f5f"
            },
            "type": "carpet"
           }
          ],
          "choropleth": [
           {
            "colorbar": {
             "outlinewidth": 0,
             "ticks": ""
            },
            "type": "choropleth"
           }
          ],
          "contour": [
           {
            "colorbar": {
             "outlinewidth": 0,
             "ticks": ""
            },
            "colorscale": [
             [
              0,
              "#0d0887"
             ],
             [
              0.1111111111111111,
              "#46039f"
             ],
             [
              0.2222222222222222,
              "#7201a8"
             ],
             [
              0.3333333333333333,
              "#9c179e"
             ],
             [
              0.4444444444444444,
              "#bd3786"
             ],
             [
              0.5555555555555556,
              "#d8576b"
             ],
             [
              0.6666666666666666,
              "#ed7953"
             ],
             [
              0.7777777777777778,
              "#fb9f3a"
             ],
             [
              0.8888888888888888,
              "#fdca26"
             ],
             [
              1,
              "#f0f921"
             ]
            ],
            "type": "contour"
           }
          ],
          "contourcarpet": [
           {
            "colorbar": {
             "outlinewidth": 0,
             "ticks": ""
            },
            "type": "contourcarpet"
           }
          ],
          "heatmap": [
           {
            "colorbar": {
             "outlinewidth": 0,
             "ticks": ""
            },
            "colorscale": [
             [
              0,
              "#0d0887"
             ],
             [
              0.1111111111111111,
              "#46039f"
             ],
             [
              0.2222222222222222,
              "#7201a8"
             ],
             [
              0.3333333333333333,
              "#9c179e"
             ],
             [
              0.4444444444444444,
              "#bd3786"
             ],
             [
              0.5555555555555556,
              "#d8576b"
             ],
             [
              0.6666666666666666,
              "#ed7953"
             ],
             [
              0.7777777777777778,
              "#fb9f3a"
             ],
             [
              0.8888888888888888,
              "#fdca26"
             ],
             [
              1,
              "#f0f921"
             ]
            ],
            "type": "heatmap"
           }
          ],
          "heatmapgl": [
           {
            "colorbar": {
             "outlinewidth": 0,
             "ticks": ""
            },
            "colorscale": [
             [
              0,
              "#0d0887"
             ],
             [
              0.1111111111111111,
              "#46039f"
             ],
             [
              0.2222222222222222,
              "#7201a8"
             ],
             [
              0.3333333333333333,
              "#9c179e"
             ],
             [
              0.4444444444444444,
              "#bd3786"
             ],
             [
              0.5555555555555556,
              "#d8576b"
             ],
             [
              0.6666666666666666,
              "#ed7953"
             ],
             [
              0.7777777777777778,
              "#fb9f3a"
             ],
             [
              0.8888888888888888,
              "#fdca26"
             ],
             [
              1,
              "#f0f921"
             ]
            ],
            "type": "heatmapgl"
           }
          ],
          "histogram": [
           {
            "marker": {
             "pattern": {
              "fillmode": "overlay",
              "size": 10,
              "solidity": 0.2
             }
            },
            "type": "histogram"
           }
          ],
          "histogram2d": [
           {
            "colorbar": {
             "outlinewidth": 0,
             "ticks": ""
            },
            "colorscale": [
             [
              0,
              "#0d0887"
             ],
             [
              0.1111111111111111,
              "#46039f"
             ],
             [
              0.2222222222222222,
              "#7201a8"
             ],
             [
              0.3333333333333333,
              "#9c179e"
             ],
             [
              0.4444444444444444,
              "#bd3786"
             ],
             [
              0.5555555555555556,
              "#d8576b"
             ],
             [
              0.6666666666666666,
              "#ed7953"
             ],
             [
              0.7777777777777778,
              "#fb9f3a"
             ],
             [
              0.8888888888888888,
              "#fdca26"
             ],
             [
              1,
              "#f0f921"
             ]
            ],
            "type": "histogram2d"
           }
          ],
          "histogram2dcontour": [
           {
            "colorbar": {
             "outlinewidth": 0,
             "ticks": ""
            },
            "colorscale": [
             [
              0,
              "#0d0887"
             ],
             [
              0.1111111111111111,
              "#46039f"
             ],
             [
              0.2222222222222222,
              "#7201a8"
             ],
             [
              0.3333333333333333,
              "#9c179e"
             ],
             [
              0.4444444444444444,
              "#bd3786"
             ],
             [
              0.5555555555555556,
              "#d8576b"
             ],
             [
              0.6666666666666666,
              "#ed7953"
             ],
             [
              0.7777777777777778,
              "#fb9f3a"
             ],
             [
              0.8888888888888888,
              "#fdca26"
             ],
             [
              1,
              "#f0f921"
             ]
            ],
            "type": "histogram2dcontour"
           }
          ],
          "mesh3d": [
           {
            "colorbar": {
             "outlinewidth": 0,
             "ticks": ""
            },
            "type": "mesh3d"
           }
          ],
          "parcoords": [
           {
            "line": {
             "colorbar": {
              "outlinewidth": 0,
              "ticks": ""
             }
            },
            "type": "parcoords"
           }
          ],
          "pie": [
           {
            "automargin": true,
            "type": "pie"
           }
          ],
          "scatter": [
           {
            "fillpattern": {
             "fillmode": "overlay",
             "size": 10,
             "solidity": 0.2
            },
            "type": "scatter"
           }
          ],
          "scatter3d": [
           {
            "line": {
             "colorbar": {
              "outlinewidth": 0,
              "ticks": ""
             }
            },
            "marker": {
             "colorbar": {
              "outlinewidth": 0,
              "ticks": ""
             }
            },
            "type": "scatter3d"
           }
          ],
          "scattercarpet": [
           {
            "marker": {
             "colorbar": {
              "outlinewidth": 0,
              "ticks": ""
             }
            },
            "type": "scattercarpet"
           }
          ],
          "scattergeo": [
           {
            "marker": {
             "colorbar": {
              "outlinewidth": 0,
              "ticks": ""
             }
            },
            "type": "scattergeo"
           }
          ],
          "scattergl": [
           {
            "marker": {
             "colorbar": {
              "outlinewidth": 0,
              "ticks": ""
             }
            },
            "type": "scattergl"
           }
          ],
          "scattermapbox": [
           {
            "marker": {
             "colorbar": {
              "outlinewidth": 0,
              "ticks": ""
             }
            },
            "type": "scattermapbox"
           }
          ],
          "scatterpolar": [
           {
            "marker": {
             "colorbar": {
              "outlinewidth": 0,
              "ticks": ""
             }
            },
            "type": "scatterpolar"
           }
          ],
          "scatterpolargl": [
           {
            "marker": {
             "colorbar": {
              "outlinewidth": 0,
              "ticks": ""
             }
            },
            "type": "scatterpolargl"
           }
          ],
          "scatterternary": [
           {
            "marker": {
             "colorbar": {
              "outlinewidth": 0,
              "ticks": ""
             }
            },
            "type": "scatterternary"
           }
          ],
          "surface": [
           {
            "colorbar": {
             "outlinewidth": 0,
             "ticks": ""
            },
            "colorscale": [
             [
              0,
              "#0d0887"
             ],
             [
              0.1111111111111111,
              "#46039f"
             ],
             [
              0.2222222222222222,
              "#7201a8"
             ],
             [
              0.3333333333333333,
              "#9c179e"
             ],
             [
              0.4444444444444444,
              "#bd3786"
             ],
             [
              0.5555555555555556,
              "#d8576b"
             ],
             [
              0.6666666666666666,
              "#ed7953"
             ],
             [
              0.7777777777777778,
              "#fb9f3a"
             ],
             [
              0.8888888888888888,
              "#fdca26"
             ],
             [
              1,
              "#f0f921"
             ]
            ],
            "type": "surface"
           }
          ],
          "table": [
           {
            "cells": {
             "fill": {
              "color": "#EBF0F8"
             },
             "line": {
              "color": "white"
             }
            },
            "header": {
             "fill": {
              "color": "#C8D4E3"
             },
             "line": {
              "color": "white"
             }
            },
            "type": "table"
           }
          ]
         },
         "layout": {
          "annotationdefaults": {
           "arrowcolor": "#2a3f5f",
           "arrowhead": 0,
           "arrowwidth": 1
          },
          "autotypenumbers": "strict",
          "coloraxis": {
           "colorbar": {
            "outlinewidth": 0,
            "ticks": ""
           }
          },
          "colorscale": {
           "diverging": [
            [
             0,
             "#8e0152"
            ],
            [
             0.1,
             "#c51b7d"
            ],
            [
             0.2,
             "#de77ae"
            ],
            [
             0.3,
             "#f1b6da"
            ],
            [
             0.4,
             "#fde0ef"
            ],
            [
             0.5,
             "#f7f7f7"
            ],
            [
             0.6,
             "#e6f5d0"
            ],
            [
             0.7,
             "#b8e186"
            ],
            [
             0.8,
             "#7fbc41"
            ],
            [
             0.9,
             "#4d9221"
            ],
            [
             1,
             "#276419"
            ]
           ],
           "sequential": [
            [
             0,
             "#0d0887"
            ],
            [
             0.1111111111111111,
             "#46039f"
            ],
            [
             0.2222222222222222,
             "#7201a8"
            ],
            [
             0.3333333333333333,
             "#9c179e"
            ],
            [
             0.4444444444444444,
             "#bd3786"
            ],
            [
             0.5555555555555556,
             "#d8576b"
            ],
            [
             0.6666666666666666,
             "#ed7953"
            ],
            [
             0.7777777777777778,
             "#fb9f3a"
            ],
            [
             0.8888888888888888,
             "#fdca26"
            ],
            [
             1,
             "#f0f921"
            ]
           ],
           "sequentialminus": [
            [
             0,
             "#0d0887"
            ],
            [
             0.1111111111111111,
             "#46039f"
            ],
            [
             0.2222222222222222,
             "#7201a8"
            ],
            [
             0.3333333333333333,
             "#9c179e"
            ],
            [
             0.4444444444444444,
             "#bd3786"
            ],
            [
             0.5555555555555556,
             "#d8576b"
            ],
            [
             0.6666666666666666,
             "#ed7953"
            ],
            [
             0.7777777777777778,
             "#fb9f3a"
            ],
            [
             0.8888888888888888,
             "#fdca26"
            ],
            [
             1,
             "#f0f921"
            ]
           ]
          },
          "colorway": [
           "#636efa",
           "#EF553B",
           "#00cc96",
           "#ab63fa",
           "#FFA15A",
           "#19d3f3",
           "#FF6692",
           "#B6E880",
           "#FF97FF",
           "#FECB52"
          ],
          "font": {
           "color": "#2a3f5f"
          },
          "geo": {
           "bgcolor": "white",
           "lakecolor": "white",
           "landcolor": "#E5ECF6",
           "showlakes": true,
           "showland": true,
           "subunitcolor": "white"
          },
          "hoverlabel": {
           "align": "left"
          },
          "hovermode": "closest",
          "mapbox": {
           "style": "light"
          },
          "paper_bgcolor": "white",
          "plot_bgcolor": "#E5ECF6",
          "polar": {
           "angularaxis": {
            "gridcolor": "white",
            "linecolor": "white",
            "ticks": ""
           },
           "bgcolor": "#E5ECF6",
           "radialaxis": {
            "gridcolor": "white",
            "linecolor": "white",
            "ticks": ""
           }
          },
          "scene": {
           "xaxis": {
            "backgroundcolor": "#E5ECF6",
            "gridcolor": "white",
            "gridwidth": 2,
            "linecolor": "white",
            "showbackground": true,
            "ticks": "",
            "zerolinecolor": "white"
           },
           "yaxis": {
            "backgroundcolor": "#E5ECF6",
            "gridcolor": "white",
            "gridwidth": 2,
            "linecolor": "white",
            "showbackground": true,
            "ticks": "",
            "zerolinecolor": "white"
           },
           "zaxis": {
            "backgroundcolor": "#E5ECF6",
            "gridcolor": "white",
            "gridwidth": 2,
            "linecolor": "white",
            "showbackground": true,
            "ticks": "",
            "zerolinecolor": "white"
           }
          },
          "shapedefaults": {
           "line": {
            "color": "#2a3f5f"
           }
          },
          "ternary": {
           "aaxis": {
            "gridcolor": "white",
            "linecolor": "white",
            "ticks": ""
           },
           "baxis": {
            "gridcolor": "white",
            "linecolor": "white",
            "ticks": ""
           },
           "bgcolor": "#E5ECF6",
           "caxis": {
            "gridcolor": "white",
            "linecolor": "white",
            "ticks": ""
           }
          },
          "title": {
           "x": 0.05
          },
          "xaxis": {
           "automargin": true,
           "gridcolor": "white",
           "linecolor": "white",
           "ticks": "",
           "title": {
            "standoff": 15
           },
           "zerolinecolor": "white",
           "zerolinewidth": 2
          },
          "yaxis": {
           "automargin": true,
           "gridcolor": "white",
           "linecolor": "white",
           "ticks": "",
           "title": {
            "standoff": 15
           },
           "zerolinecolor": "white",
           "zerolinewidth": 2
          }
         }
        },
        "title": {
         "text": "Suicidios 2018 - 2022"
        },
        "xaxis": {
         "title": {
          "text": "Año"
         }
        }
       }
      }
     },
     "metadata": {},
     "output_type": "display_data"
    }
   ],
   "source": [
    "grafico_1 = go.Scatter(x = total[\"Año\"],\n",
    "                y = total[\"Total\"], name=\"Total suicidios\", mode= \"lines+markers\",\n",
    "                marker = dict(color = \"LightSkyBlue\"))\n",
    "data = [grafico_1]\n",
    "layout = go.Layout (title= \"Suicidios 2018 - 2022\", xaxis=dict(title=\"Año\"))\n",
    "fig = go.Figure(data, layout)\n",
    "iplot(fig)"
   ]
  },
  {
   "cell_type": "code",
   "execution_count": 106,
   "metadata": {},
   "outputs": [
    {
     "data": {
      "application/vnd.plotly.v1+json": {
       "config": {
        "plotlyServerURL": "https://plot.ly"
       },
       "data": [
        {
         "alignmentgroup": "True",
         "hovertemplate": "Año=%{x}<br>Número de suicidios=%{y}<extra></extra>",
         "legendgroup": "",
         "marker": {
          "color": "rgb(76,114,176)",
          "pattern": {
           "shape": ""
          }
         },
         "name": "",
         "offsetgroup": "",
         "orientation": "v",
         "showlegend": false,
         "textposition": "auto",
         "texttemplate": "%{y}",
         "type": "bar",
         "x": [
          2018,
          2019,
          2020,
          2021,
          2022
         ],
         "xaxis": "x",
         "y": [
          3539,
          3671,
          3941,
          4003,
          2015
         ],
         "yaxis": "y"
        }
       ],
       "layout": {
        "barmode": "relative",
        "legend": {
         "tracegroupgap": 0
        },
        "template": {
         "data": {
          "bar": [
           {
            "error_x": {
             "color": "rgb(36,36,36)"
            },
            "error_y": {
             "color": "rgb(36,36,36)"
            },
            "marker": {
             "line": {
              "color": "rgb(234,234,242)",
              "width": 0.5
             },
             "pattern": {
              "fillmode": "overlay",
              "size": 10,
              "solidity": 0.2
             }
            },
            "type": "bar"
           }
          ],
          "barpolar": [
           {
            "marker": {
             "line": {
              "color": "rgb(234,234,242)",
              "width": 0.5
             },
             "pattern": {
              "fillmode": "overlay",
              "size": 10,
              "solidity": 0.2
             }
            },
            "type": "barpolar"
           }
          ],
          "carpet": [
           {
            "aaxis": {
             "endlinecolor": "rgb(36,36,36)",
             "gridcolor": "white",
             "linecolor": "white",
             "minorgridcolor": "white",
             "startlinecolor": "rgb(36,36,36)"
            },
            "baxis": {
             "endlinecolor": "rgb(36,36,36)",
             "gridcolor": "white",
             "linecolor": "white",
             "minorgridcolor": "white",
             "startlinecolor": "rgb(36,36,36)"
            },
            "type": "carpet"
           }
          ],
          "choropleth": [
           {
            "colorbar": {
             "outlinewidth": 0,
             "tickcolor": "rgb(36,36,36)",
             "ticklen": 8,
             "ticks": "outside",
             "tickwidth": 2
            },
            "type": "choropleth"
           }
          ],
          "contour": [
           {
            "colorbar": {
             "outlinewidth": 0,
             "tickcolor": "rgb(36,36,36)",
             "ticklen": 8,
             "ticks": "outside",
             "tickwidth": 2
            },
            "colorscale": [
             [
              0,
              "rgb(2,4,25)"
             ],
             [
              0.06274509803921569,
              "rgb(24,15,41)"
             ],
             [
              0.12549019607843137,
              "rgb(47,23,57)"
             ],
             [
              0.18823529411764706,
              "rgb(71,28,72)"
             ],
             [
              0.25098039215686274,
              "rgb(97,30,82)"
             ],
             [
              0.3137254901960784,
              "rgb(123,30,89)"
             ],
             [
              0.3764705882352941,
              "rgb(150,27,91)"
             ],
             [
              0.4392156862745098,
              "rgb(177,22,88)"
             ],
             [
              0.5019607843137255,
              "rgb(203,26,79)"
             ],
             [
              0.5647058823529412,
              "rgb(223,47,67)"
             ],
             [
              0.6274509803921569,
              "rgb(236,76,61)"
             ],
             [
              0.6901960784313725,
              "rgb(242,107,73)"
             ],
             [
              0.7529411764705882,
              "rgb(244,135,95)"
             ],
             [
              0.8156862745098039,
              "rgb(245,162,122)"
             ],
             [
              0.8784313725490196,
              "rgb(246,188,153)"
             ],
             [
              0.9411764705882353,
              "rgb(247,212,187)"
             ],
             [
              1,
              "rgb(250,234,220)"
             ]
            ],
            "type": "contour"
           }
          ],
          "contourcarpet": [
           {
            "colorbar": {
             "outlinewidth": 0,
             "tickcolor": "rgb(36,36,36)",
             "ticklen": 8,
             "ticks": "outside",
             "tickwidth": 2
            },
            "type": "contourcarpet"
           }
          ],
          "heatmap": [
           {
            "colorbar": {
             "outlinewidth": 0,
             "tickcolor": "rgb(36,36,36)",
             "ticklen": 8,
             "ticks": "outside",
             "tickwidth": 2
            },
            "colorscale": [
             [
              0,
              "rgb(2,4,25)"
             ],
             [
              0.06274509803921569,
              "rgb(24,15,41)"
             ],
             [
              0.12549019607843137,
              "rgb(47,23,57)"
             ],
             [
              0.18823529411764706,
              "rgb(71,28,72)"
             ],
             [
              0.25098039215686274,
              "rgb(97,30,82)"
             ],
             [
              0.3137254901960784,
              "rgb(123,30,89)"
             ],
             [
              0.3764705882352941,
              "rgb(150,27,91)"
             ],
             [
              0.4392156862745098,
              "rgb(177,22,88)"
             ],
             [
              0.5019607843137255,
              "rgb(203,26,79)"
             ],
             [
              0.5647058823529412,
              "rgb(223,47,67)"
             ],
             [
              0.6274509803921569,
              "rgb(236,76,61)"
             ],
             [
              0.6901960784313725,
              "rgb(242,107,73)"
             ],
             [
              0.7529411764705882,
              "rgb(244,135,95)"
             ],
             [
              0.8156862745098039,
              "rgb(245,162,122)"
             ],
             [
              0.8784313725490196,
              "rgb(246,188,153)"
             ],
             [
              0.9411764705882353,
              "rgb(247,212,187)"
             ],
             [
              1,
              "rgb(250,234,220)"
             ]
            ],
            "type": "heatmap"
           }
          ],
          "heatmapgl": [
           {
            "colorbar": {
             "outlinewidth": 0,
             "tickcolor": "rgb(36,36,36)",
             "ticklen": 8,
             "ticks": "outside",
             "tickwidth": 2
            },
            "colorscale": [
             [
              0,
              "rgb(2,4,25)"
             ],
             [
              0.06274509803921569,
              "rgb(24,15,41)"
             ],
             [
              0.12549019607843137,
              "rgb(47,23,57)"
             ],
             [
              0.18823529411764706,
              "rgb(71,28,72)"
             ],
             [
              0.25098039215686274,
              "rgb(97,30,82)"
             ],
             [
              0.3137254901960784,
              "rgb(123,30,89)"
             ],
             [
              0.3764705882352941,
              "rgb(150,27,91)"
             ],
             [
              0.4392156862745098,
              "rgb(177,22,88)"
             ],
             [
              0.5019607843137255,
              "rgb(203,26,79)"
             ],
             [
              0.5647058823529412,
              "rgb(223,47,67)"
             ],
             [
              0.6274509803921569,
              "rgb(236,76,61)"
             ],
             [
              0.6901960784313725,
              "rgb(242,107,73)"
             ],
             [
              0.7529411764705882,
              "rgb(244,135,95)"
             ],
             [
              0.8156862745098039,
              "rgb(245,162,122)"
             ],
             [
              0.8784313725490196,
              "rgb(246,188,153)"
             ],
             [
              0.9411764705882353,
              "rgb(247,212,187)"
             ],
             [
              1,
              "rgb(250,234,220)"
             ]
            ],
            "type": "heatmapgl"
           }
          ],
          "histogram": [
           {
            "marker": {
             "pattern": {
              "fillmode": "overlay",
              "size": 10,
              "solidity": 0.2
             }
            },
            "type": "histogram"
           }
          ],
          "histogram2d": [
           {
            "colorbar": {
             "outlinewidth": 0,
             "tickcolor": "rgb(36,36,36)",
             "ticklen": 8,
             "ticks": "outside",
             "tickwidth": 2
            },
            "colorscale": [
             [
              0,
              "rgb(2,4,25)"
             ],
             [
              0.06274509803921569,
              "rgb(24,15,41)"
             ],
             [
              0.12549019607843137,
              "rgb(47,23,57)"
             ],
             [
              0.18823529411764706,
              "rgb(71,28,72)"
             ],
             [
              0.25098039215686274,
              "rgb(97,30,82)"
             ],
             [
              0.3137254901960784,
              "rgb(123,30,89)"
             ],
             [
              0.3764705882352941,
              "rgb(150,27,91)"
             ],
             [
              0.4392156862745098,
              "rgb(177,22,88)"
             ],
             [
              0.5019607843137255,
              "rgb(203,26,79)"
             ],
             [
              0.5647058823529412,
              "rgb(223,47,67)"
             ],
             [
              0.6274509803921569,
              "rgb(236,76,61)"
             ],
             [
              0.6901960784313725,
              "rgb(242,107,73)"
             ],
             [
              0.7529411764705882,
              "rgb(244,135,95)"
             ],
             [
              0.8156862745098039,
              "rgb(245,162,122)"
             ],
             [
              0.8784313725490196,
              "rgb(246,188,153)"
             ],
             [
              0.9411764705882353,
              "rgb(247,212,187)"
             ],
             [
              1,
              "rgb(250,234,220)"
             ]
            ],
            "type": "histogram2d"
           }
          ],
          "histogram2dcontour": [
           {
            "colorbar": {
             "outlinewidth": 0,
             "tickcolor": "rgb(36,36,36)",
             "ticklen": 8,
             "ticks": "outside",
             "tickwidth": 2
            },
            "colorscale": [
             [
              0,
              "rgb(2,4,25)"
             ],
             [
              0.06274509803921569,
              "rgb(24,15,41)"
             ],
             [
              0.12549019607843137,
              "rgb(47,23,57)"
             ],
             [
              0.18823529411764706,
              "rgb(71,28,72)"
             ],
             [
              0.25098039215686274,
              "rgb(97,30,82)"
             ],
             [
              0.3137254901960784,
              "rgb(123,30,89)"
             ],
             [
              0.3764705882352941,
              "rgb(150,27,91)"
             ],
             [
              0.4392156862745098,
              "rgb(177,22,88)"
             ],
             [
              0.5019607843137255,
              "rgb(203,26,79)"
             ],
             [
              0.5647058823529412,
              "rgb(223,47,67)"
             ],
             [
              0.6274509803921569,
              "rgb(236,76,61)"
             ],
             [
              0.6901960784313725,
              "rgb(242,107,73)"
             ],
             [
              0.7529411764705882,
              "rgb(244,135,95)"
             ],
             [
              0.8156862745098039,
              "rgb(245,162,122)"
             ],
             [
              0.8784313725490196,
              "rgb(246,188,153)"
             ],
             [
              0.9411764705882353,
              "rgb(247,212,187)"
             ],
             [
              1,
              "rgb(250,234,220)"
             ]
            ],
            "type": "histogram2dcontour"
           }
          ],
          "mesh3d": [
           {
            "colorbar": {
             "outlinewidth": 0,
             "tickcolor": "rgb(36,36,36)",
             "ticklen": 8,
             "ticks": "outside",
             "tickwidth": 2
            },
            "type": "mesh3d"
           }
          ],
          "parcoords": [
           {
            "line": {
             "colorbar": {
              "outlinewidth": 0,
              "tickcolor": "rgb(36,36,36)",
              "ticklen": 8,
              "ticks": "outside",
              "tickwidth": 2
             }
            },
            "type": "parcoords"
           }
          ],
          "pie": [
           {
            "automargin": true,
            "type": "pie"
           }
          ],
          "scatter": [
           {
            "fillpattern": {
             "fillmode": "overlay",
             "size": 10,
             "solidity": 0.2
            },
            "type": "scatter"
           }
          ],
          "scatter3d": [
           {
            "line": {
             "colorbar": {
              "outlinewidth": 0,
              "tickcolor": "rgb(36,36,36)",
              "ticklen": 8,
              "ticks": "outside",
              "tickwidth": 2
             }
            },
            "marker": {
             "colorbar": {
              "outlinewidth": 0,
              "tickcolor": "rgb(36,36,36)",
              "ticklen": 8,
              "ticks": "outside",
              "tickwidth": 2
             }
            },
            "type": "scatter3d"
           }
          ],
          "scattercarpet": [
           {
            "marker": {
             "colorbar": {
              "outlinewidth": 0,
              "tickcolor": "rgb(36,36,36)",
              "ticklen": 8,
              "ticks": "outside",
              "tickwidth": 2
             }
            },
            "type": "scattercarpet"
           }
          ],
          "scattergeo": [
           {
            "marker": {
             "colorbar": {
              "outlinewidth": 0,
              "tickcolor": "rgb(36,36,36)",
              "ticklen": 8,
              "ticks": "outside",
              "tickwidth": 2
             }
            },
            "type": "scattergeo"
           }
          ],
          "scattergl": [
           {
            "marker": {
             "colorbar": {
              "outlinewidth": 0,
              "tickcolor": "rgb(36,36,36)",
              "ticklen": 8,
              "ticks": "outside",
              "tickwidth": 2
             }
            },
            "type": "scattergl"
           }
          ],
          "scattermapbox": [
           {
            "marker": {
             "colorbar": {
              "outlinewidth": 0,
              "tickcolor": "rgb(36,36,36)",
              "ticklen": 8,
              "ticks": "outside",
              "tickwidth": 2
             }
            },
            "type": "scattermapbox"
           }
          ],
          "scatterpolar": [
           {
            "marker": {
             "colorbar": {
              "outlinewidth": 0,
              "tickcolor": "rgb(36,36,36)",
              "ticklen": 8,
              "ticks": "outside",
              "tickwidth": 2
             }
            },
            "type": "scatterpolar"
           }
          ],
          "scatterpolargl": [
           {
            "marker": {
             "colorbar": {
              "outlinewidth": 0,
              "tickcolor": "rgb(36,36,36)",
              "ticklen": 8,
              "ticks": "outside",
              "tickwidth": 2
             }
            },
            "type": "scatterpolargl"
           }
          ],
          "scatterternary": [
           {
            "marker": {
             "colorbar": {
              "outlinewidth": 0,
              "tickcolor": "rgb(36,36,36)",
              "ticklen": 8,
              "ticks": "outside",
              "tickwidth": 2
             }
            },
            "type": "scatterternary"
           }
          ],
          "surface": [
           {
            "colorbar": {
             "outlinewidth": 0,
             "tickcolor": "rgb(36,36,36)",
             "ticklen": 8,
             "ticks": "outside",
             "tickwidth": 2
            },
            "colorscale": [
             [
              0,
              "rgb(2,4,25)"
             ],
             [
              0.06274509803921569,
              "rgb(24,15,41)"
             ],
             [
              0.12549019607843137,
              "rgb(47,23,57)"
             ],
             [
              0.18823529411764706,
              "rgb(71,28,72)"
             ],
             [
              0.25098039215686274,
              "rgb(97,30,82)"
             ],
             [
              0.3137254901960784,
              "rgb(123,30,89)"
             ],
             [
              0.3764705882352941,
              "rgb(150,27,91)"
             ],
             [
              0.4392156862745098,
              "rgb(177,22,88)"
             ],
             [
              0.5019607843137255,
              "rgb(203,26,79)"
             ],
             [
              0.5647058823529412,
              "rgb(223,47,67)"
             ],
             [
              0.6274509803921569,
              "rgb(236,76,61)"
             ],
             [
              0.6901960784313725,
              "rgb(242,107,73)"
             ],
             [
              0.7529411764705882,
              "rgb(244,135,95)"
             ],
             [
              0.8156862745098039,
              "rgb(245,162,122)"
             ],
             [
              0.8784313725490196,
              "rgb(246,188,153)"
             ],
             [
              0.9411764705882353,
              "rgb(247,212,187)"
             ],
             [
              1,
              "rgb(250,234,220)"
             ]
            ],
            "type": "surface"
           }
          ],
          "table": [
           {
            "cells": {
             "fill": {
              "color": "rgb(231,231,240)"
             },
             "line": {
              "color": "white"
             }
            },
            "header": {
             "fill": {
              "color": "rgb(183,183,191)"
             },
             "line": {
              "color": "white"
             }
            },
            "type": "table"
           }
          ]
         },
         "layout": {
          "annotationdefaults": {
           "arrowcolor": "rgb(67,103,167)"
          },
          "autotypenumbers": "strict",
          "coloraxis": {
           "colorbar": {
            "outlinewidth": 0,
            "tickcolor": "rgb(36,36,36)",
            "ticklen": 8,
            "ticks": "outside",
            "tickwidth": 2
           }
          },
          "colorscale": {
           "sequential": [
            [
             0,
             "rgb(2,4,25)"
            ],
            [
             0.06274509803921569,
             "rgb(24,15,41)"
            ],
            [
             0.12549019607843137,
             "rgb(47,23,57)"
            ],
            [
             0.18823529411764706,
             "rgb(71,28,72)"
            ],
            [
             0.25098039215686274,
             "rgb(97,30,82)"
            ],
            [
             0.3137254901960784,
             "rgb(123,30,89)"
            ],
            [
             0.3764705882352941,
             "rgb(150,27,91)"
            ],
            [
             0.4392156862745098,
             "rgb(177,22,88)"
            ],
            [
             0.5019607843137255,
             "rgb(203,26,79)"
            ],
            [
             0.5647058823529412,
             "rgb(223,47,67)"
            ],
            [
             0.6274509803921569,
             "rgb(236,76,61)"
            ],
            [
             0.6901960784313725,
             "rgb(242,107,73)"
            ],
            [
             0.7529411764705882,
             "rgb(244,135,95)"
            ],
            [
             0.8156862745098039,
             "rgb(245,162,122)"
            ],
            [
             0.8784313725490196,
             "rgb(246,188,153)"
            ],
            [
             0.9411764705882353,
             "rgb(247,212,187)"
            ],
            [
             1,
             "rgb(250,234,220)"
            ]
           ],
           "sequentialminus": [
            [
             0,
             "rgb(2,4,25)"
            ],
            [
             0.06274509803921569,
             "rgb(24,15,41)"
            ],
            [
             0.12549019607843137,
             "rgb(47,23,57)"
            ],
            [
             0.18823529411764706,
             "rgb(71,28,72)"
            ],
            [
             0.25098039215686274,
             "rgb(97,30,82)"
            ],
            [
             0.3137254901960784,
             "rgb(123,30,89)"
            ],
            [
             0.3764705882352941,
             "rgb(150,27,91)"
            ],
            [
             0.4392156862745098,
             "rgb(177,22,88)"
            ],
            [
             0.5019607843137255,
             "rgb(203,26,79)"
            ],
            [
             0.5647058823529412,
             "rgb(223,47,67)"
            ],
            [
             0.6274509803921569,
             "rgb(236,76,61)"
            ],
            [
             0.6901960784313725,
             "rgb(242,107,73)"
            ],
            [
             0.7529411764705882,
             "rgb(244,135,95)"
            ],
            [
             0.8156862745098039,
             "rgb(245,162,122)"
            ],
            [
             0.8784313725490196,
             "rgb(246,188,153)"
            ],
            [
             0.9411764705882353,
             "rgb(247,212,187)"
            ],
            [
             1,
             "rgb(250,234,220)"
            ]
           ]
          },
          "colorway": [
           "rgb(76,114,176)",
           "rgb(221,132,82)",
           "rgb(85,168,104)",
           "rgb(196,78,82)",
           "rgb(129,114,179)",
           "rgb(147,120,96)",
           "rgb(218,139,195)",
           "rgb(140,140,140)",
           "rgb(204,185,116)",
           "rgb(100,181,205)"
          ],
          "font": {
           "color": "rgb(36,36,36)"
          },
          "geo": {
           "bgcolor": "white",
           "lakecolor": "white",
           "landcolor": "rgb(234,234,242)",
           "showlakes": true,
           "showland": true,
           "subunitcolor": "white"
          },
          "hoverlabel": {
           "align": "left"
          },
          "hovermode": "closest",
          "paper_bgcolor": "white",
          "plot_bgcolor": "rgb(234,234,242)",
          "polar": {
           "angularaxis": {
            "gridcolor": "white",
            "linecolor": "white",
            "showgrid": true,
            "ticks": ""
           },
           "bgcolor": "rgb(234,234,242)",
           "radialaxis": {
            "gridcolor": "white",
            "linecolor": "white",
            "showgrid": true,
            "ticks": ""
           }
          },
          "scene": {
           "xaxis": {
            "backgroundcolor": "rgb(234,234,242)",
            "gridcolor": "white",
            "gridwidth": 2,
            "linecolor": "white",
            "showbackground": true,
            "showgrid": true,
            "ticks": "",
            "zerolinecolor": "white"
           },
           "yaxis": {
            "backgroundcolor": "rgb(234,234,242)",
            "gridcolor": "white",
            "gridwidth": 2,
            "linecolor": "white",
            "showbackground": true,
            "showgrid": true,
            "ticks": "",
            "zerolinecolor": "white"
           },
           "zaxis": {
            "backgroundcolor": "rgb(234,234,242)",
            "gridcolor": "white",
            "gridwidth": 2,
            "linecolor": "white",
            "showbackground": true,
            "showgrid": true,
            "ticks": "",
            "zerolinecolor": "white"
           }
          },
          "shapedefaults": {
           "fillcolor": "rgb(67,103,167)",
           "line": {
            "width": 0
           },
           "opacity": 0.5
          },
          "ternary": {
           "aaxis": {
            "gridcolor": "white",
            "linecolor": "white",
            "showgrid": true,
            "ticks": ""
           },
           "baxis": {
            "gridcolor": "white",
            "linecolor": "white",
            "showgrid": true,
            "ticks": ""
           },
           "bgcolor": "rgb(234,234,242)",
           "caxis": {
            "gridcolor": "white",
            "linecolor": "white",
            "showgrid": true,
            "ticks": ""
           }
          },
          "xaxis": {
           "automargin": true,
           "gridcolor": "white",
           "linecolor": "white",
           "showgrid": true,
           "ticks": "",
           "title": {
            "standoff": 15
           },
           "zerolinecolor": "white"
          },
          "yaxis": {
           "automargin": true,
           "gridcolor": "white",
           "linecolor": "white",
           "showgrid": true,
           "ticks": "",
           "title": {
            "standoff": 15
           },
           "zerolinecolor": "white"
          }
         }
        },
        "title": {
         "text": "Suicidios años 2018- 2022"
        },
        "xaxis": {
         "anchor": "y",
         "domain": [
          0,
          1
         ],
         "title": {
          "text": "Año"
         }
        },
        "yaxis": {
         "anchor": "x",
         "domain": [
          0,
          1
         ],
         "title": {
          "text": "Número de suicidios"
         }
        }
       }
      }
     },
     "metadata": {},
     "output_type": "display_data"
    }
   ],
   "source": [
    "fig11 = px.bar(total, x= \"Año\", y=\"Total\",\n",
    "             barmode = \"relative\", title= \"Suicidios años 2018- 2022\", template=\"seaborn\", labels={\"Total\": \"Número de suicidios\"}, text_auto= True)\n",
    "fig11.show()"
   ]
  },
  {
   "attachments": {},
   "cell_type": "markdown",
   "metadata": {},
   "source": [
    "**EVOLUCIÓN DEL NÚMERO DE SUICIDIOS EN ANDALUCIA**"
   ]
  },
  {
   "cell_type": "code",
   "execution_count": 214,
   "metadata": {},
   "outputs": [],
   "source": [
    "andalucia = total_comunidades[total_comunidades[\"Comunidad autónoma\"] == \"Andalucía\"]"
   ]
  },
  {
   "cell_type": "code",
   "execution_count": 215,
   "metadata": {},
   "outputs": [
    {
     "data": {
      "text/html": [
       "<div>\n",
       "<style scoped>\n",
       "    .dataframe tbody tr th:only-of-type {\n",
       "        vertical-align: middle;\n",
       "    }\n",
       "\n",
       "    .dataframe tbody tr th {\n",
       "        vertical-align: top;\n",
       "    }\n",
       "\n",
       "    .dataframe thead th {\n",
       "        text-align: right;\n",
       "    }\n",
       "</style>\n",
       "<table border=\"1\" class=\"dataframe\">\n",
       "  <thead>\n",
       "    <tr style=\"text-align: right;\">\n",
       "      <th></th>\n",
       "      <th>Comunidad autónoma</th>\n",
       "      <th>Sexo</th>\n",
       "      <th>Edad</th>\n",
       "      <th>Total</th>\n",
       "      <th>Año</th>\n",
       "    </tr>\n",
       "  </thead>\n",
       "  <tbody>\n",
       "    <tr>\n",
       "      <th>0</th>\n",
       "      <td>Andalucía</td>\n",
       "      <td>Ambos sexos</td>\n",
       "      <td>Todas las edades</td>\n",
       "      <td>653</td>\n",
       "      <td>2018</td>\n",
       "    </tr>\n",
       "    <tr>\n",
       "      <th>1</th>\n",
       "      <td>Andalucía</td>\n",
       "      <td>Ambos sexos</td>\n",
       "      <td>Todas las edades</td>\n",
       "      <td>640</td>\n",
       "      <td>2019</td>\n",
       "    </tr>\n",
       "    <tr>\n",
       "      <th>2</th>\n",
       "      <td>Andalucía</td>\n",
       "      <td>Ambos sexos</td>\n",
       "      <td>Todas las edades</td>\n",
       "      <td>793</td>\n",
       "      <td>2020</td>\n",
       "    </tr>\n",
       "    <tr>\n",
       "      <th>3</th>\n",
       "      <td>Andalucía</td>\n",
       "      <td>Ambos sexos</td>\n",
       "      <td>Todas las edades</td>\n",
       "      <td>849</td>\n",
       "      <td>2021</td>\n",
       "    </tr>\n",
       "  </tbody>\n",
       "</table>\n",
       "</div>"
      ],
      "text/plain": [
       "  Comunidad autónoma         Sexo              Edad  Total   Año\n",
       "0          Andalucía  Ambos sexos  Todas las edades    653  2018\n",
       "1          Andalucía  Ambos sexos  Todas las edades    640  2019\n",
       "2          Andalucía  Ambos sexos  Todas las edades    793  2020\n",
       "3          Andalucía  Ambos sexos  Todas las edades    849  2021"
      ]
     },
     "execution_count": 215,
     "metadata": {},
     "output_type": "execute_result"
    }
   ],
   "source": [
    "andalucia"
   ]
  },
  {
   "cell_type": "code",
   "execution_count": 221,
   "metadata": {},
   "outputs": [
    {
     "data": {
      "application/vnd.plotly.v1+json": {
       "config": {
        "linkText": "Export to plot.ly",
        "plotlyServerURL": "https://plot.ly",
        "showLink": false
       },
       "data": [
        {
         "marker": {
          "color": "LightSkyBlue"
         },
         "mode": "lines+markers",
         "name": "Total suicidios",
         "type": "scatter",
         "x": [
          2018,
          2019,
          2020,
          2021
         ],
         "y": [
          653,
          640,
          793,
          849
         ]
        }
       ],
       "layout": {
        "template": {
         "data": {
          "bar": [
           {
            "error_x": {
             "color": "#2a3f5f"
            },
            "error_y": {
             "color": "#2a3f5f"
            },
            "marker": {
             "line": {
              "color": "#E5ECF6",
              "width": 0.5
             },
             "pattern": {
              "fillmode": "overlay",
              "size": 10,
              "solidity": 0.2
             }
            },
            "type": "bar"
           }
          ],
          "barpolar": [
           {
            "marker": {
             "line": {
              "color": "#E5ECF6",
              "width": 0.5
             },
             "pattern": {
              "fillmode": "overlay",
              "size": 10,
              "solidity": 0.2
             }
            },
            "type": "barpolar"
           }
          ],
          "carpet": [
           {
            "aaxis": {
             "endlinecolor": "#2a3f5f",
             "gridcolor": "white",
             "linecolor": "white",
             "minorgridcolor": "white",
             "startlinecolor": "#2a3f5f"
            },
            "baxis": {
             "endlinecolor": "#2a3f5f",
             "gridcolor": "white",
             "linecolor": "white",
             "minorgridcolor": "white",
             "startlinecolor": "#2a3f5f"
            },
            "type": "carpet"
           }
          ],
          "choropleth": [
           {
            "colorbar": {
             "outlinewidth": 0,
             "ticks": ""
            },
            "type": "choropleth"
           }
          ],
          "contour": [
           {
            "colorbar": {
             "outlinewidth": 0,
             "ticks": ""
            },
            "colorscale": [
             [
              0,
              "#0d0887"
             ],
             [
              0.1111111111111111,
              "#46039f"
             ],
             [
              0.2222222222222222,
              "#7201a8"
             ],
             [
              0.3333333333333333,
              "#9c179e"
             ],
             [
              0.4444444444444444,
              "#bd3786"
             ],
             [
              0.5555555555555556,
              "#d8576b"
             ],
             [
              0.6666666666666666,
              "#ed7953"
             ],
             [
              0.7777777777777778,
              "#fb9f3a"
             ],
             [
              0.8888888888888888,
              "#fdca26"
             ],
             [
              1,
              "#f0f921"
             ]
            ],
            "type": "contour"
           }
          ],
          "contourcarpet": [
           {
            "colorbar": {
             "outlinewidth": 0,
             "ticks": ""
            },
            "type": "contourcarpet"
           }
          ],
          "heatmap": [
           {
            "colorbar": {
             "outlinewidth": 0,
             "ticks": ""
            },
            "colorscale": [
             [
              0,
              "#0d0887"
             ],
             [
              0.1111111111111111,
              "#46039f"
             ],
             [
              0.2222222222222222,
              "#7201a8"
             ],
             [
              0.3333333333333333,
              "#9c179e"
             ],
             [
              0.4444444444444444,
              "#bd3786"
             ],
             [
              0.5555555555555556,
              "#d8576b"
             ],
             [
              0.6666666666666666,
              "#ed7953"
             ],
             [
              0.7777777777777778,
              "#fb9f3a"
             ],
             [
              0.8888888888888888,
              "#fdca26"
             ],
             [
              1,
              "#f0f921"
             ]
            ],
            "type": "heatmap"
           }
          ],
          "heatmapgl": [
           {
            "colorbar": {
             "outlinewidth": 0,
             "ticks": ""
            },
            "colorscale": [
             [
              0,
              "#0d0887"
             ],
             [
              0.1111111111111111,
              "#46039f"
             ],
             [
              0.2222222222222222,
              "#7201a8"
             ],
             [
              0.3333333333333333,
              "#9c179e"
             ],
             [
              0.4444444444444444,
              "#bd3786"
             ],
             [
              0.5555555555555556,
              "#d8576b"
             ],
             [
              0.6666666666666666,
              "#ed7953"
             ],
             [
              0.7777777777777778,
              "#fb9f3a"
             ],
             [
              0.8888888888888888,
              "#fdca26"
             ],
             [
              1,
              "#f0f921"
             ]
            ],
            "type": "heatmapgl"
           }
          ],
          "histogram": [
           {
            "marker": {
             "pattern": {
              "fillmode": "overlay",
              "size": 10,
              "solidity": 0.2
             }
            },
            "type": "histogram"
           }
          ],
          "histogram2d": [
           {
            "colorbar": {
             "outlinewidth": 0,
             "ticks": ""
            },
            "colorscale": [
             [
              0,
              "#0d0887"
             ],
             [
              0.1111111111111111,
              "#46039f"
             ],
             [
              0.2222222222222222,
              "#7201a8"
             ],
             [
              0.3333333333333333,
              "#9c179e"
             ],
             [
              0.4444444444444444,
              "#bd3786"
             ],
             [
              0.5555555555555556,
              "#d8576b"
             ],
             [
              0.6666666666666666,
              "#ed7953"
             ],
             [
              0.7777777777777778,
              "#fb9f3a"
             ],
             [
              0.8888888888888888,
              "#fdca26"
             ],
             [
              1,
              "#f0f921"
             ]
            ],
            "type": "histogram2d"
           }
          ],
          "histogram2dcontour": [
           {
            "colorbar": {
             "outlinewidth": 0,
             "ticks": ""
            },
            "colorscale": [
             [
              0,
              "#0d0887"
             ],
             [
              0.1111111111111111,
              "#46039f"
             ],
             [
              0.2222222222222222,
              "#7201a8"
             ],
             [
              0.3333333333333333,
              "#9c179e"
             ],
             [
              0.4444444444444444,
              "#bd3786"
             ],
             [
              0.5555555555555556,
              "#d8576b"
             ],
             [
              0.6666666666666666,
              "#ed7953"
             ],
             [
              0.7777777777777778,
              "#fb9f3a"
             ],
             [
              0.8888888888888888,
              "#fdca26"
             ],
             [
              1,
              "#f0f921"
             ]
            ],
            "type": "histogram2dcontour"
           }
          ],
          "mesh3d": [
           {
            "colorbar": {
             "outlinewidth": 0,
             "ticks": ""
            },
            "type": "mesh3d"
           }
          ],
          "parcoords": [
           {
            "line": {
             "colorbar": {
              "outlinewidth": 0,
              "ticks": ""
             }
            },
            "type": "parcoords"
           }
          ],
          "pie": [
           {
            "automargin": true,
            "type": "pie"
           }
          ],
          "scatter": [
           {
            "fillpattern": {
             "fillmode": "overlay",
             "size": 10,
             "solidity": 0.2
            },
            "type": "scatter"
           }
          ],
          "scatter3d": [
           {
            "line": {
             "colorbar": {
              "outlinewidth": 0,
              "ticks": ""
             }
            },
            "marker": {
             "colorbar": {
              "outlinewidth": 0,
              "ticks": ""
             }
            },
            "type": "scatter3d"
           }
          ],
          "scattercarpet": [
           {
            "marker": {
             "colorbar": {
              "outlinewidth": 0,
              "ticks": ""
             }
            },
            "type": "scattercarpet"
           }
          ],
          "scattergeo": [
           {
            "marker": {
             "colorbar": {
              "outlinewidth": 0,
              "ticks": ""
             }
            },
            "type": "scattergeo"
           }
          ],
          "scattergl": [
           {
            "marker": {
             "colorbar": {
              "outlinewidth": 0,
              "ticks": ""
             }
            },
            "type": "scattergl"
           }
          ],
          "scattermapbox": [
           {
            "marker": {
             "colorbar": {
              "outlinewidth": 0,
              "ticks": ""
             }
            },
            "type": "scattermapbox"
           }
          ],
          "scatterpolar": [
           {
            "marker": {
             "colorbar": {
              "outlinewidth": 0,
              "ticks": ""
             }
            },
            "type": "scatterpolar"
           }
          ],
          "scatterpolargl": [
           {
            "marker": {
             "colorbar": {
              "outlinewidth": 0,
              "ticks": ""
             }
            },
            "type": "scatterpolargl"
           }
          ],
          "scatterternary": [
           {
            "marker": {
             "colorbar": {
              "outlinewidth": 0,
              "ticks": ""
             }
            },
            "type": "scatterternary"
           }
          ],
          "surface": [
           {
            "colorbar": {
             "outlinewidth": 0,
             "ticks": ""
            },
            "colorscale": [
             [
              0,
              "#0d0887"
             ],
             [
              0.1111111111111111,
              "#46039f"
             ],
             [
              0.2222222222222222,
              "#7201a8"
             ],
             [
              0.3333333333333333,
              "#9c179e"
             ],
             [
              0.4444444444444444,
              "#bd3786"
             ],
             [
              0.5555555555555556,
              "#d8576b"
             ],
             [
              0.6666666666666666,
              "#ed7953"
             ],
             [
              0.7777777777777778,
              "#fb9f3a"
             ],
             [
              0.8888888888888888,
              "#fdca26"
             ],
             [
              1,
              "#f0f921"
             ]
            ],
            "type": "surface"
           }
          ],
          "table": [
           {
            "cells": {
             "fill": {
              "color": "#EBF0F8"
             },
             "line": {
              "color": "white"
             }
            },
            "header": {
             "fill": {
              "color": "#C8D4E3"
             },
             "line": {
              "color": "white"
             }
            },
            "type": "table"
           }
          ]
         },
         "layout": {
          "annotationdefaults": {
           "arrowcolor": "#2a3f5f",
           "arrowhead": 0,
           "arrowwidth": 1
          },
          "autotypenumbers": "strict",
          "coloraxis": {
           "colorbar": {
            "outlinewidth": 0,
            "ticks": ""
           }
          },
          "colorscale": {
           "diverging": [
            [
             0,
             "#8e0152"
            ],
            [
             0.1,
             "#c51b7d"
            ],
            [
             0.2,
             "#de77ae"
            ],
            [
             0.3,
             "#f1b6da"
            ],
            [
             0.4,
             "#fde0ef"
            ],
            [
             0.5,
             "#f7f7f7"
            ],
            [
             0.6,
             "#e6f5d0"
            ],
            [
             0.7,
             "#b8e186"
            ],
            [
             0.8,
             "#7fbc41"
            ],
            [
             0.9,
             "#4d9221"
            ],
            [
             1,
             "#276419"
            ]
           ],
           "sequential": [
            [
             0,
             "#0d0887"
            ],
            [
             0.1111111111111111,
             "#46039f"
            ],
            [
             0.2222222222222222,
             "#7201a8"
            ],
            [
             0.3333333333333333,
             "#9c179e"
            ],
            [
             0.4444444444444444,
             "#bd3786"
            ],
            [
             0.5555555555555556,
             "#d8576b"
            ],
            [
             0.6666666666666666,
             "#ed7953"
            ],
            [
             0.7777777777777778,
             "#fb9f3a"
            ],
            [
             0.8888888888888888,
             "#fdca26"
            ],
            [
             1,
             "#f0f921"
            ]
           ],
           "sequentialminus": [
            [
             0,
             "#0d0887"
            ],
            [
             0.1111111111111111,
             "#46039f"
            ],
            [
             0.2222222222222222,
             "#7201a8"
            ],
            [
             0.3333333333333333,
             "#9c179e"
            ],
            [
             0.4444444444444444,
             "#bd3786"
            ],
            [
             0.5555555555555556,
             "#d8576b"
            ],
            [
             0.6666666666666666,
             "#ed7953"
            ],
            [
             0.7777777777777778,
             "#fb9f3a"
            ],
            [
             0.8888888888888888,
             "#fdca26"
            ],
            [
             1,
             "#f0f921"
            ]
           ]
          },
          "colorway": [
           "#636efa",
           "#EF553B",
           "#00cc96",
           "#ab63fa",
           "#FFA15A",
           "#19d3f3",
           "#FF6692",
           "#B6E880",
           "#FF97FF",
           "#FECB52"
          ],
          "font": {
           "color": "#2a3f5f"
          },
          "geo": {
           "bgcolor": "white",
           "lakecolor": "white",
           "landcolor": "#E5ECF6",
           "showlakes": true,
           "showland": true,
           "subunitcolor": "white"
          },
          "hoverlabel": {
           "align": "left"
          },
          "hovermode": "closest",
          "mapbox": {
           "style": "light"
          },
          "paper_bgcolor": "white",
          "plot_bgcolor": "#E5ECF6",
          "polar": {
           "angularaxis": {
            "gridcolor": "white",
            "linecolor": "white",
            "ticks": ""
           },
           "bgcolor": "#E5ECF6",
           "radialaxis": {
            "gridcolor": "white",
            "linecolor": "white",
            "ticks": ""
           }
          },
          "scene": {
           "xaxis": {
            "backgroundcolor": "#E5ECF6",
            "gridcolor": "white",
            "gridwidth": 2,
            "linecolor": "white",
            "showbackground": true,
            "ticks": "",
            "zerolinecolor": "white"
           },
           "yaxis": {
            "backgroundcolor": "#E5ECF6",
            "gridcolor": "white",
            "gridwidth": 2,
            "linecolor": "white",
            "showbackground": true,
            "ticks": "",
            "zerolinecolor": "white"
           },
           "zaxis": {
            "backgroundcolor": "#E5ECF6",
            "gridcolor": "white",
            "gridwidth": 2,
            "linecolor": "white",
            "showbackground": true,
            "ticks": "",
            "zerolinecolor": "white"
           }
          },
          "shapedefaults": {
           "line": {
            "color": "#2a3f5f"
           }
          },
          "ternary": {
           "aaxis": {
            "gridcolor": "white",
            "linecolor": "white",
            "ticks": ""
           },
           "baxis": {
            "gridcolor": "white",
            "linecolor": "white",
            "ticks": ""
           },
           "bgcolor": "#E5ECF6",
           "caxis": {
            "gridcolor": "white",
            "linecolor": "white",
            "ticks": ""
           }
          },
          "title": {
           "x": 0.05
          },
          "xaxis": {
           "automargin": true,
           "gridcolor": "white",
           "linecolor": "white",
           "ticks": "",
           "title": {
            "standoff": 15
           },
           "zerolinecolor": "white",
           "zerolinewidth": 2
          },
          "yaxis": {
           "automargin": true,
           "gridcolor": "white",
           "linecolor": "white",
           "ticks": "",
           "title": {
            "standoff": 15
           },
           "zerolinecolor": "white",
           "zerolinewidth": 2
          }
         }
        },
        "title": {
         "text": "Suicidios 2018 - 2021 en Andalucía"
        },
        "xaxis": {
         "title": {
          "text": "Año"
         }
        }
       }
      }
     },
     "metadata": {},
     "output_type": "display_data"
    }
   ],
   "source": [
    "grafico_13 = go.Scatter(x = andalucia[\"Año\"],\n",
    "                y = andalucia[\"Total\"], name=\"Total suicidios\", mode= \"lines+markers\",\n",
    "                marker = dict(color = \"LightSkyBlue\"))\n",
    "data = [grafico_13]\n",
    "layout = go.Layout (title= \"Suicidios 2018 - 2021 en Andalucía\", xaxis=dict(title=\"Año\"))\n",
    "fig = go.Figure(data, layout)\n",
    "iplot(fig)"
   ]
  },
  {
   "cell_type": "code",
   "execution_count": 207,
   "metadata": {},
   "outputs": [],
   "source": [
    "# Crecimiento de 2018 a 2019\n",
    "and1819 = andalucia.iloc[1][\"Total\"] / andalucia.iloc[0][\"Total\"]\n"
   ]
  },
  {
   "attachments": {},
   "cell_type": "markdown",
   "metadata": {},
   "source": [
    "DE 2018 A 2019 LAS DEFUNCIONES EN ANDALUCIA BAJARON UN 2%"
   ]
  },
  {
   "cell_type": "code",
   "execution_count": 208,
   "metadata": {},
   "outputs": [
    {
     "data": {
      "text/plain": [
       "0.9800918836140888"
      ]
     },
     "execution_count": 208,
     "metadata": {},
     "output_type": "execute_result"
    }
   ],
   "source": [
    "and1819"
   ]
  },
  {
   "cell_type": "code",
   "execution_count": 209,
   "metadata": {},
   "outputs": [],
   "source": [
    "# Crecimiento de 2019 a 2020\n",
    "and1920 = andalucia.iloc[2][\"Total\"] / andalucia.iloc[1][\"Total\"]"
   ]
  },
  {
   "attachments": {},
   "cell_type": "markdown",
   "metadata": {},
   "source": [
    "DE 2019 A 2020 LAS DEFUNCIONES EN ANDALUCIA SUBIERON UN 2.4%"
   ]
  },
  {
   "cell_type": "code",
   "execution_count": 210,
   "metadata": {},
   "outputs": [
    {
     "data": {
      "text/plain": [
       "1.2390625"
      ]
     },
     "execution_count": 210,
     "metadata": {},
     "output_type": "execute_result"
    }
   ],
   "source": [
    "and1920"
   ]
  },
  {
   "cell_type": "code",
   "execution_count": 211,
   "metadata": {},
   "outputs": [],
   "source": [
    "# Crecimiento de 2020 a 2021\n",
    "and2021 = andalucia.iloc[3][\"Total\"] / andalucia.iloc[2][\"Total\"]"
   ]
  },
  {
   "attachments": {},
   "cell_type": "markdown",
   "metadata": {},
   "source": [
    "DE 2020 A 2021 LAS DEFUNCIONES EN ANDALUCIA SUBIERON UN 0.7 %"
   ]
  },
  {
   "cell_type": "code",
   "execution_count": 212,
   "metadata": {},
   "outputs": [
    {
     "data": {
      "text/plain": [
       "1.0706179066834804"
      ]
     },
     "execution_count": 212,
     "metadata": {},
     "output_type": "execute_result"
    }
   ],
   "source": [
    "and2021"
   ]
  },
  {
   "attachments": {},
   "cell_type": "markdown",
   "metadata": {},
   "source": [
    "**SUICIDIOS DIARIOS EN ESPAÑA**"
   ]
  },
  {
   "cell_type": "code",
   "execution_count": 107,
   "metadata": {},
   "outputs": [],
   "source": [
    "diario = total[\"Total\"]/365"
   ]
  },
  {
   "cell_type": "code",
   "execution_count": 108,
   "metadata": {},
   "outputs": [],
   "source": [
    "total[\"Diario\"] = diario"
   ]
  },
  {
   "cell_type": "code",
   "execution_count": 109,
   "metadata": {},
   "outputs": [
    {
     "data": {
      "application/vnd.plotly.v1+json": {
       "config": {
        "plotlyServerURL": "https://plot.ly"
       },
       "data": [
        {
         "alignmentgroup": "True",
         "hovertemplate": "Año=%{x}<br>Número de suicidios=%{y}<extra></extra>",
         "legendgroup": "",
         "marker": {
          "color": "rgb(76,114,176)",
          "pattern": {
           "shape": ""
          }
         },
         "name": "",
         "offsetgroup": "",
         "orientation": "v",
         "showlegend": false,
         "textposition": "auto",
         "texttemplate": "%{y}",
         "type": "bar",
         "x": [
          2018,
          2019,
          2020,
          2021,
          2022
         ],
         "xaxis": "x",
         "y": [
          9.695890410958905,
          10.057534246575342,
          10.797260273972602,
          10.967123287671233,
          5.52054794520548
         ],
         "yaxis": "y"
        }
       ],
       "layout": {
        "barmode": "relative",
        "legend": {
         "tracegroupgap": 0
        },
        "template": {
         "data": {
          "bar": [
           {
            "error_x": {
             "color": "rgb(36,36,36)"
            },
            "error_y": {
             "color": "rgb(36,36,36)"
            },
            "marker": {
             "line": {
              "color": "rgb(234,234,242)",
              "width": 0.5
             },
             "pattern": {
              "fillmode": "overlay",
              "size": 10,
              "solidity": 0.2
             }
            },
            "type": "bar"
           }
          ],
          "barpolar": [
           {
            "marker": {
             "line": {
              "color": "rgb(234,234,242)",
              "width": 0.5
             },
             "pattern": {
              "fillmode": "overlay",
              "size": 10,
              "solidity": 0.2
             }
            },
            "type": "barpolar"
           }
          ],
          "carpet": [
           {
            "aaxis": {
             "endlinecolor": "rgb(36,36,36)",
             "gridcolor": "white",
             "linecolor": "white",
             "minorgridcolor": "white",
             "startlinecolor": "rgb(36,36,36)"
            },
            "baxis": {
             "endlinecolor": "rgb(36,36,36)",
             "gridcolor": "white",
             "linecolor": "white",
             "minorgridcolor": "white",
             "startlinecolor": "rgb(36,36,36)"
            },
            "type": "carpet"
           }
          ],
          "choropleth": [
           {
            "colorbar": {
             "outlinewidth": 0,
             "tickcolor": "rgb(36,36,36)",
             "ticklen": 8,
             "ticks": "outside",
             "tickwidth": 2
            },
            "type": "choropleth"
           }
          ],
          "contour": [
           {
            "colorbar": {
             "outlinewidth": 0,
             "tickcolor": "rgb(36,36,36)",
             "ticklen": 8,
             "ticks": "outside",
             "tickwidth": 2
            },
            "colorscale": [
             [
              0,
              "rgb(2,4,25)"
             ],
             [
              0.06274509803921569,
              "rgb(24,15,41)"
             ],
             [
              0.12549019607843137,
              "rgb(47,23,57)"
             ],
             [
              0.18823529411764706,
              "rgb(71,28,72)"
             ],
             [
              0.25098039215686274,
              "rgb(97,30,82)"
             ],
             [
              0.3137254901960784,
              "rgb(123,30,89)"
             ],
             [
              0.3764705882352941,
              "rgb(150,27,91)"
             ],
             [
              0.4392156862745098,
              "rgb(177,22,88)"
             ],
             [
              0.5019607843137255,
              "rgb(203,26,79)"
             ],
             [
              0.5647058823529412,
              "rgb(223,47,67)"
             ],
             [
              0.6274509803921569,
              "rgb(236,76,61)"
             ],
             [
              0.6901960784313725,
              "rgb(242,107,73)"
             ],
             [
              0.7529411764705882,
              "rgb(244,135,95)"
             ],
             [
              0.8156862745098039,
              "rgb(245,162,122)"
             ],
             [
              0.8784313725490196,
              "rgb(246,188,153)"
             ],
             [
              0.9411764705882353,
              "rgb(247,212,187)"
             ],
             [
              1,
              "rgb(250,234,220)"
             ]
            ],
            "type": "contour"
           }
          ],
          "contourcarpet": [
           {
            "colorbar": {
             "outlinewidth": 0,
             "tickcolor": "rgb(36,36,36)",
             "ticklen": 8,
             "ticks": "outside",
             "tickwidth": 2
            },
            "type": "contourcarpet"
           }
          ],
          "heatmap": [
           {
            "colorbar": {
             "outlinewidth": 0,
             "tickcolor": "rgb(36,36,36)",
             "ticklen": 8,
             "ticks": "outside",
             "tickwidth": 2
            },
            "colorscale": [
             [
              0,
              "rgb(2,4,25)"
             ],
             [
              0.06274509803921569,
              "rgb(24,15,41)"
             ],
             [
              0.12549019607843137,
              "rgb(47,23,57)"
             ],
             [
              0.18823529411764706,
              "rgb(71,28,72)"
             ],
             [
              0.25098039215686274,
              "rgb(97,30,82)"
             ],
             [
              0.3137254901960784,
              "rgb(123,30,89)"
             ],
             [
              0.3764705882352941,
              "rgb(150,27,91)"
             ],
             [
              0.4392156862745098,
              "rgb(177,22,88)"
             ],
             [
              0.5019607843137255,
              "rgb(203,26,79)"
             ],
             [
              0.5647058823529412,
              "rgb(223,47,67)"
             ],
             [
              0.6274509803921569,
              "rgb(236,76,61)"
             ],
             [
              0.6901960784313725,
              "rgb(242,107,73)"
             ],
             [
              0.7529411764705882,
              "rgb(244,135,95)"
             ],
             [
              0.8156862745098039,
              "rgb(245,162,122)"
             ],
             [
              0.8784313725490196,
              "rgb(246,188,153)"
             ],
             [
              0.9411764705882353,
              "rgb(247,212,187)"
             ],
             [
              1,
              "rgb(250,234,220)"
             ]
            ],
            "type": "heatmap"
           }
          ],
          "heatmapgl": [
           {
            "colorbar": {
             "outlinewidth": 0,
             "tickcolor": "rgb(36,36,36)",
             "ticklen": 8,
             "ticks": "outside",
             "tickwidth": 2
            },
            "colorscale": [
             [
              0,
              "rgb(2,4,25)"
             ],
             [
              0.06274509803921569,
              "rgb(24,15,41)"
             ],
             [
              0.12549019607843137,
              "rgb(47,23,57)"
             ],
             [
              0.18823529411764706,
              "rgb(71,28,72)"
             ],
             [
              0.25098039215686274,
              "rgb(97,30,82)"
             ],
             [
              0.3137254901960784,
              "rgb(123,30,89)"
             ],
             [
              0.3764705882352941,
              "rgb(150,27,91)"
             ],
             [
              0.4392156862745098,
              "rgb(177,22,88)"
             ],
             [
              0.5019607843137255,
              "rgb(203,26,79)"
             ],
             [
              0.5647058823529412,
              "rgb(223,47,67)"
             ],
             [
              0.6274509803921569,
              "rgb(236,76,61)"
             ],
             [
              0.6901960784313725,
              "rgb(242,107,73)"
             ],
             [
              0.7529411764705882,
              "rgb(244,135,95)"
             ],
             [
              0.8156862745098039,
              "rgb(245,162,122)"
             ],
             [
              0.8784313725490196,
              "rgb(246,188,153)"
             ],
             [
              0.9411764705882353,
              "rgb(247,212,187)"
             ],
             [
              1,
              "rgb(250,234,220)"
             ]
            ],
            "type": "heatmapgl"
           }
          ],
          "histogram": [
           {
            "marker": {
             "pattern": {
              "fillmode": "overlay",
              "size": 10,
              "solidity": 0.2
             }
            },
            "type": "histogram"
           }
          ],
          "histogram2d": [
           {
            "colorbar": {
             "outlinewidth": 0,
             "tickcolor": "rgb(36,36,36)",
             "ticklen": 8,
             "ticks": "outside",
             "tickwidth": 2
            },
            "colorscale": [
             [
              0,
              "rgb(2,4,25)"
             ],
             [
              0.06274509803921569,
              "rgb(24,15,41)"
             ],
             [
              0.12549019607843137,
              "rgb(47,23,57)"
             ],
             [
              0.18823529411764706,
              "rgb(71,28,72)"
             ],
             [
              0.25098039215686274,
              "rgb(97,30,82)"
             ],
             [
              0.3137254901960784,
              "rgb(123,30,89)"
             ],
             [
              0.3764705882352941,
              "rgb(150,27,91)"
             ],
             [
              0.4392156862745098,
              "rgb(177,22,88)"
             ],
             [
              0.5019607843137255,
              "rgb(203,26,79)"
             ],
             [
              0.5647058823529412,
              "rgb(223,47,67)"
             ],
             [
              0.6274509803921569,
              "rgb(236,76,61)"
             ],
             [
              0.6901960784313725,
              "rgb(242,107,73)"
             ],
             [
              0.7529411764705882,
              "rgb(244,135,95)"
             ],
             [
              0.8156862745098039,
              "rgb(245,162,122)"
             ],
             [
              0.8784313725490196,
              "rgb(246,188,153)"
             ],
             [
              0.9411764705882353,
              "rgb(247,212,187)"
             ],
             [
              1,
              "rgb(250,234,220)"
             ]
            ],
            "type": "histogram2d"
           }
          ],
          "histogram2dcontour": [
           {
            "colorbar": {
             "outlinewidth": 0,
             "tickcolor": "rgb(36,36,36)",
             "ticklen": 8,
             "ticks": "outside",
             "tickwidth": 2
            },
            "colorscale": [
             [
              0,
              "rgb(2,4,25)"
             ],
             [
              0.06274509803921569,
              "rgb(24,15,41)"
             ],
             [
              0.12549019607843137,
              "rgb(47,23,57)"
             ],
             [
              0.18823529411764706,
              "rgb(71,28,72)"
             ],
             [
              0.25098039215686274,
              "rgb(97,30,82)"
             ],
             [
              0.3137254901960784,
              "rgb(123,30,89)"
             ],
             [
              0.3764705882352941,
              "rgb(150,27,91)"
             ],
             [
              0.4392156862745098,
              "rgb(177,22,88)"
             ],
             [
              0.5019607843137255,
              "rgb(203,26,79)"
             ],
             [
              0.5647058823529412,
              "rgb(223,47,67)"
             ],
             [
              0.6274509803921569,
              "rgb(236,76,61)"
             ],
             [
              0.6901960784313725,
              "rgb(242,107,73)"
             ],
             [
              0.7529411764705882,
              "rgb(244,135,95)"
             ],
             [
              0.8156862745098039,
              "rgb(245,162,122)"
             ],
             [
              0.8784313725490196,
              "rgb(246,188,153)"
             ],
             [
              0.9411764705882353,
              "rgb(247,212,187)"
             ],
             [
              1,
              "rgb(250,234,220)"
             ]
            ],
            "type": "histogram2dcontour"
           }
          ],
          "mesh3d": [
           {
            "colorbar": {
             "outlinewidth": 0,
             "tickcolor": "rgb(36,36,36)",
             "ticklen": 8,
             "ticks": "outside",
             "tickwidth": 2
            },
            "type": "mesh3d"
           }
          ],
          "parcoords": [
           {
            "line": {
             "colorbar": {
              "outlinewidth": 0,
              "tickcolor": "rgb(36,36,36)",
              "ticklen": 8,
              "ticks": "outside",
              "tickwidth": 2
             }
            },
            "type": "parcoords"
           }
          ],
          "pie": [
           {
            "automargin": true,
            "type": "pie"
           }
          ],
          "scatter": [
           {
            "fillpattern": {
             "fillmode": "overlay",
             "size": 10,
             "solidity": 0.2
            },
            "type": "scatter"
           }
          ],
          "scatter3d": [
           {
            "line": {
             "colorbar": {
              "outlinewidth": 0,
              "tickcolor": "rgb(36,36,36)",
              "ticklen": 8,
              "ticks": "outside",
              "tickwidth": 2
             }
            },
            "marker": {
             "colorbar": {
              "outlinewidth": 0,
              "tickcolor": "rgb(36,36,36)",
              "ticklen": 8,
              "ticks": "outside",
              "tickwidth": 2
             }
            },
            "type": "scatter3d"
           }
          ],
          "scattercarpet": [
           {
            "marker": {
             "colorbar": {
              "outlinewidth": 0,
              "tickcolor": "rgb(36,36,36)",
              "ticklen": 8,
              "ticks": "outside",
              "tickwidth": 2
             }
            },
            "type": "scattercarpet"
           }
          ],
          "scattergeo": [
           {
            "marker": {
             "colorbar": {
              "outlinewidth": 0,
              "tickcolor": "rgb(36,36,36)",
              "ticklen": 8,
              "ticks": "outside",
              "tickwidth": 2
             }
            },
            "type": "scattergeo"
           }
          ],
          "scattergl": [
           {
            "marker": {
             "colorbar": {
              "outlinewidth": 0,
              "tickcolor": "rgb(36,36,36)",
              "ticklen": 8,
              "ticks": "outside",
              "tickwidth": 2
             }
            },
            "type": "scattergl"
           }
          ],
          "scattermapbox": [
           {
            "marker": {
             "colorbar": {
              "outlinewidth": 0,
              "tickcolor": "rgb(36,36,36)",
              "ticklen": 8,
              "ticks": "outside",
              "tickwidth": 2
             }
            },
            "type": "scattermapbox"
           }
          ],
          "scatterpolar": [
           {
            "marker": {
             "colorbar": {
              "outlinewidth": 0,
              "tickcolor": "rgb(36,36,36)",
              "ticklen": 8,
              "ticks": "outside",
              "tickwidth": 2
             }
            },
            "type": "scatterpolar"
           }
          ],
          "scatterpolargl": [
           {
            "marker": {
             "colorbar": {
              "outlinewidth": 0,
              "tickcolor": "rgb(36,36,36)",
              "ticklen": 8,
              "ticks": "outside",
              "tickwidth": 2
             }
            },
            "type": "scatterpolargl"
           }
          ],
          "scatterternary": [
           {
            "marker": {
             "colorbar": {
              "outlinewidth": 0,
              "tickcolor": "rgb(36,36,36)",
              "ticklen": 8,
              "ticks": "outside",
              "tickwidth": 2
             }
            },
            "type": "scatterternary"
           }
          ],
          "surface": [
           {
            "colorbar": {
             "outlinewidth": 0,
             "tickcolor": "rgb(36,36,36)",
             "ticklen": 8,
             "ticks": "outside",
             "tickwidth": 2
            },
            "colorscale": [
             [
              0,
              "rgb(2,4,25)"
             ],
             [
              0.06274509803921569,
              "rgb(24,15,41)"
             ],
             [
              0.12549019607843137,
              "rgb(47,23,57)"
             ],
             [
              0.18823529411764706,
              "rgb(71,28,72)"
             ],
             [
              0.25098039215686274,
              "rgb(97,30,82)"
             ],
             [
              0.3137254901960784,
              "rgb(123,30,89)"
             ],
             [
              0.3764705882352941,
              "rgb(150,27,91)"
             ],
             [
              0.4392156862745098,
              "rgb(177,22,88)"
             ],
             [
              0.5019607843137255,
              "rgb(203,26,79)"
             ],
             [
              0.5647058823529412,
              "rgb(223,47,67)"
             ],
             [
              0.6274509803921569,
              "rgb(236,76,61)"
             ],
             [
              0.6901960784313725,
              "rgb(242,107,73)"
             ],
             [
              0.7529411764705882,
              "rgb(244,135,95)"
             ],
             [
              0.8156862745098039,
              "rgb(245,162,122)"
             ],
             [
              0.8784313725490196,
              "rgb(246,188,153)"
             ],
             [
              0.9411764705882353,
              "rgb(247,212,187)"
             ],
             [
              1,
              "rgb(250,234,220)"
             ]
            ],
            "type": "surface"
           }
          ],
          "table": [
           {
            "cells": {
             "fill": {
              "color": "rgb(231,231,240)"
             },
             "line": {
              "color": "white"
             }
            },
            "header": {
             "fill": {
              "color": "rgb(183,183,191)"
             },
             "line": {
              "color": "white"
             }
            },
            "type": "table"
           }
          ]
         },
         "layout": {
          "annotationdefaults": {
           "arrowcolor": "rgb(67,103,167)"
          },
          "autotypenumbers": "strict",
          "coloraxis": {
           "colorbar": {
            "outlinewidth": 0,
            "tickcolor": "rgb(36,36,36)",
            "ticklen": 8,
            "ticks": "outside",
            "tickwidth": 2
           }
          },
          "colorscale": {
           "sequential": [
            [
             0,
             "rgb(2,4,25)"
            ],
            [
             0.06274509803921569,
             "rgb(24,15,41)"
            ],
            [
             0.12549019607843137,
             "rgb(47,23,57)"
            ],
            [
             0.18823529411764706,
             "rgb(71,28,72)"
            ],
            [
             0.25098039215686274,
             "rgb(97,30,82)"
            ],
            [
             0.3137254901960784,
             "rgb(123,30,89)"
            ],
            [
             0.3764705882352941,
             "rgb(150,27,91)"
            ],
            [
             0.4392156862745098,
             "rgb(177,22,88)"
            ],
            [
             0.5019607843137255,
             "rgb(203,26,79)"
            ],
            [
             0.5647058823529412,
             "rgb(223,47,67)"
            ],
            [
             0.6274509803921569,
             "rgb(236,76,61)"
            ],
            [
             0.6901960784313725,
             "rgb(242,107,73)"
            ],
            [
             0.7529411764705882,
             "rgb(244,135,95)"
            ],
            [
             0.8156862745098039,
             "rgb(245,162,122)"
            ],
            [
             0.8784313725490196,
             "rgb(246,188,153)"
            ],
            [
             0.9411764705882353,
             "rgb(247,212,187)"
            ],
            [
             1,
             "rgb(250,234,220)"
            ]
           ],
           "sequentialminus": [
            [
             0,
             "rgb(2,4,25)"
            ],
            [
             0.06274509803921569,
             "rgb(24,15,41)"
            ],
            [
             0.12549019607843137,
             "rgb(47,23,57)"
            ],
            [
             0.18823529411764706,
             "rgb(71,28,72)"
            ],
            [
             0.25098039215686274,
             "rgb(97,30,82)"
            ],
            [
             0.3137254901960784,
             "rgb(123,30,89)"
            ],
            [
             0.3764705882352941,
             "rgb(150,27,91)"
            ],
            [
             0.4392156862745098,
             "rgb(177,22,88)"
            ],
            [
             0.5019607843137255,
             "rgb(203,26,79)"
            ],
            [
             0.5647058823529412,
             "rgb(223,47,67)"
            ],
            [
             0.6274509803921569,
             "rgb(236,76,61)"
            ],
            [
             0.6901960784313725,
             "rgb(242,107,73)"
            ],
            [
             0.7529411764705882,
             "rgb(244,135,95)"
            ],
            [
             0.8156862745098039,
             "rgb(245,162,122)"
            ],
            [
             0.8784313725490196,
             "rgb(246,188,153)"
            ],
            [
             0.9411764705882353,
             "rgb(247,212,187)"
            ],
            [
             1,
             "rgb(250,234,220)"
            ]
           ]
          },
          "colorway": [
           "rgb(76,114,176)",
           "rgb(221,132,82)",
           "rgb(85,168,104)",
           "rgb(196,78,82)",
           "rgb(129,114,179)",
           "rgb(147,120,96)",
           "rgb(218,139,195)",
           "rgb(140,140,140)",
           "rgb(204,185,116)",
           "rgb(100,181,205)"
          ],
          "font": {
           "color": "rgb(36,36,36)"
          },
          "geo": {
           "bgcolor": "white",
           "lakecolor": "white",
           "landcolor": "rgb(234,234,242)",
           "showlakes": true,
           "showland": true,
           "subunitcolor": "white"
          },
          "hoverlabel": {
           "align": "left"
          },
          "hovermode": "closest",
          "paper_bgcolor": "white",
          "plot_bgcolor": "rgb(234,234,242)",
          "polar": {
           "angularaxis": {
            "gridcolor": "white",
            "linecolor": "white",
            "showgrid": true,
            "ticks": ""
           },
           "bgcolor": "rgb(234,234,242)",
           "radialaxis": {
            "gridcolor": "white",
            "linecolor": "white",
            "showgrid": true,
            "ticks": ""
           }
          },
          "scene": {
           "xaxis": {
            "backgroundcolor": "rgb(234,234,242)",
            "gridcolor": "white",
            "gridwidth": 2,
            "linecolor": "white",
            "showbackground": true,
            "showgrid": true,
            "ticks": "",
            "zerolinecolor": "white"
           },
           "yaxis": {
            "backgroundcolor": "rgb(234,234,242)",
            "gridcolor": "white",
            "gridwidth": 2,
            "linecolor": "white",
            "showbackground": true,
            "showgrid": true,
            "ticks": "",
            "zerolinecolor": "white"
           },
           "zaxis": {
            "backgroundcolor": "rgb(234,234,242)",
            "gridcolor": "white",
            "gridwidth": 2,
            "linecolor": "white",
            "showbackground": true,
            "showgrid": true,
            "ticks": "",
            "zerolinecolor": "white"
           }
          },
          "shapedefaults": {
           "fillcolor": "rgb(67,103,167)",
           "line": {
            "width": 0
           },
           "opacity": 0.5
          },
          "ternary": {
           "aaxis": {
            "gridcolor": "white",
            "linecolor": "white",
            "showgrid": true,
            "ticks": ""
           },
           "baxis": {
            "gridcolor": "white",
            "linecolor": "white",
            "showgrid": true,
            "ticks": ""
           },
           "bgcolor": "rgb(234,234,242)",
           "caxis": {
            "gridcolor": "white",
            "linecolor": "white",
            "showgrid": true,
            "ticks": ""
           }
          },
          "xaxis": {
           "automargin": true,
           "gridcolor": "white",
           "linecolor": "white",
           "showgrid": true,
           "ticks": "",
           "title": {
            "standoff": 15
           },
           "zerolinecolor": "white"
          },
          "yaxis": {
           "automargin": true,
           "gridcolor": "white",
           "linecolor": "white",
           "showgrid": true,
           "ticks": "",
           "title": {
            "standoff": 15
           },
           "zerolinecolor": "white"
          }
         }
        },
        "title": {
         "text": "Suicidios diarios años 2018- 2022"
        },
        "xaxis": {
         "anchor": "y",
         "domain": [
          0,
          1
         ],
         "title": {
          "text": "Año"
         }
        },
        "yaxis": {
         "anchor": "x",
         "domain": [
          0,
          1
         ],
         "title": {
          "text": "Número de suicidios"
         }
        }
       }
      }
     },
     "metadata": {},
     "output_type": "display_data"
    }
   ],
   "source": [
    "fig12 = px.bar(total, x= \"Año\", y=\"Diario\",\n",
    "             barmode = \"relative\", title= \"Suicidios diarios años 2018 - 2022\", template=\"seaborn\", labels={\"Diario\": \"Número de suicidios\"}, text_auto= True)\n",
    "fig12.show()"
   ]
  },
  {
   "attachments": {},
   "cell_type": "markdown",
   "metadata": {},
   "source": [
    "CRECIMIENTO DEL NÚMERO DE SUICIDIOS PREPANDEMIA - PANDEMIA"
   ]
  },
  {
   "cell_type": "code",
   "execution_count": 168,
   "metadata": {},
   "outputs": [],
   "source": [
    "# Crecimiento de 2018 a 2019\n",
    "prep18 = total.iloc[1][\"Total\"] / total.iloc[0][\"Total\"]"
   ]
  },
  {
   "attachments": {},
   "cell_type": "markdown",
   "metadata": {},
   "source": [
    "DE 2018 A 2019 LAS DEFUNCIONES CRECIERON EN UN 3.7%"
   ]
  },
  {
   "cell_type": "code",
   "execution_count": 169,
   "metadata": {},
   "outputs": [
    {
     "data": {
      "text/plain": [
       "1.0372986719412263"
      ]
     },
     "execution_count": 169,
     "metadata": {},
     "output_type": "execute_result"
    }
   ],
   "source": [
    "prep18"
   ]
  },
  {
   "cell_type": "code",
   "execution_count": 173,
   "metadata": {},
   "outputs": [],
   "source": [
    "#Crecimiento de 2019 a 2020\n",
    "prep19 = total.iloc[2][\"Total\"] / total.iloc[1][\"Total\"]"
   ]
  },
  {
   "attachments": {},
   "cell_type": "markdown",
   "metadata": {},
   "source": [
    "DE 2019 A 2020 LAS DEFUNCIONES CRECIERON EN UN 7.3%"
   ]
  },
  {
   "cell_type": "code",
   "execution_count": 174,
   "metadata": {},
   "outputs": [
    {
     "data": {
      "text/plain": [
       "1.0735494415690547"
      ]
     },
     "execution_count": 174,
     "metadata": {},
     "output_type": "execute_result"
    }
   ],
   "source": [
    "prep19"
   ]
  },
  {
   "cell_type": "code",
   "execution_count": 170,
   "metadata": {},
   "outputs": [],
   "source": [
    "#Crecimiento de 2020 a 2021\n",
    "pand20 = total.iloc[3][\"Total\"] / total.iloc[2][\"Total\"]"
   ]
  },
  {
   "attachments": {},
   "cell_type": "markdown",
   "metadata": {},
   "source": [
    "DE 2020 A 2021 LAS DEFUNCIONES CRECIERON EN UN 1.6%"
   ]
  },
  {
   "cell_type": "code",
   "execution_count": 171,
   "metadata": {},
   "outputs": [
    {
     "data": {
      "text/plain": [
       "1.0157320477036285"
      ]
     },
     "execution_count": 171,
     "metadata": {},
     "output_type": "execute_result"
    }
   ],
   "source": [
    "pand20"
   ]
  },
  {
   "cell_type": "code",
   "execution_count": 114,
   "metadata": {},
   "outputs": [],
   "source": [
    "#Sumo los totales de los años prepandemia y pandemia. Divido entre los resultados para obtener el crecimiento que se ha dado.\n",
    "prep = total.iloc[0:2][\"Total\"].sum()\n",
    "pand = total.iloc[2:4][\"Total\"].sum()"
   ]
  },
  {
   "attachments": {},
   "cell_type": "markdown",
   "metadata": {},
   "source": [
    "EL RESULTADO DE LA DIVISIÓN DE LOS TOTALES ARROJA UN CRECIMIENTO DEL 10% DE LAS DEFUNCIONES POR SUICICIOS DURANTE LOS AÑOS PREPANDEMIA Y PANDEMIA."
   ]
  },
  {
   "cell_type": "code",
   "execution_count": 118,
   "metadata": {},
   "outputs": [
    {
     "data": {
      "text/plain": [
       "1.1018030513176145"
      ]
     },
     "execution_count": 118,
     "metadata": {},
     "output_type": "execute_result"
    }
   ],
   "source": [
    "pand/prep"
   ]
  },
  {
   "attachments": {},
   "cell_type": "markdown",
   "metadata": {},
   "source": [
    "ANALIZAMOS EL CRECIMIENTO DE DEFUNCIONES EN JÓVENES DE 0 A 29 AÑOS EN PREPANDEMIA Y PANDEMIA"
   ]
  },
  {
   "cell_type": "code",
   "execution_count": 136,
   "metadata": {},
   "outputs": [],
   "source": [
    "jov18 = df2018.iloc[[3,6]][\"Total\"].sum()\n",
    "jov19 = df2019.iloc[[3,6]][\"Total\"].sum()\n",
    "jov20 = df2020.iloc[[3,6]][\"Total\"].sum()\n",
    "jov21 = df2021.iloc[[3,6]][\"Total\"].sum()\n",
    "jov22 = df2022.iloc[1:8][\"Total\"].sum()"
   ]
  },
  {
   "attachments": {},
   "cell_type": "markdown",
   "metadata": {},
   "source": [
    "SUMAMOS EL TOTAL DE DEFUNCIONES DE 2018 Y 2019 PARA OBTENER LOS DATOS PREPANDEMIA Y LOS DE 2020 Y 2021 PARA LOS DE PANDEMIA"
   ]
  },
  {
   "cell_type": "code",
   "execution_count": 137,
   "metadata": {},
   "outputs": [],
   "source": [
    "jovprep = jov18 + jov19\n",
    "jovpand = jov20 + jov21"
   ]
  },
  {
   "attachments": {},
   "cell_type": "markdown",
   "metadata": {},
   "source": [
    "EL RESULTADO DE LA DIVISIÓN DE LOS TOTALES ARROJA UN CRECIMIENTO DEL 10.3% DE LAS DEFUNCIONES POR SUICICIOS DURANTE LOS AÑOS PREPANDEMIA Y PANDEMIA EN JÓVENES MENORES DE 30 AÑOS"
   ]
  },
  {
   "cell_type": "code",
   "execution_count": 140,
   "metadata": {},
   "outputs": [
    {
     "data": {
      "text/plain": [
       "1.1032148900169205"
      ]
     },
     "execution_count": 140,
     "metadata": {},
     "output_type": "execute_result"
    }
   ],
   "source": [
    "jovpand/jovprep"
   ]
  },
  {
   "cell_type": "code",
   "execution_count": 145,
   "metadata": {},
   "outputs": [],
   "source": [
    "#Añado la columna jóvenes al df total para que sea más sencillo representarlo de manera gráfica\n",
    "total[\"Jovenes\"] = jov18,jov19,jov20,jov21,jov22"
   ]
  },
  {
   "cell_type": "code",
   "execution_count": 146,
   "metadata": {},
   "outputs": [
    {
     "data": {
      "text/html": [
       "<div>\n",
       "<style scoped>\n",
       "    .dataframe tbody tr th:only-of-type {\n",
       "        vertical-align: middle;\n",
       "    }\n",
       "\n",
       "    .dataframe tbody tr th {\n",
       "        vertical-align: top;\n",
       "    }\n",
       "\n",
       "    .dataframe thead th {\n",
       "        text-align: right;\n",
       "    }\n",
       "</style>\n",
       "<table border=\"1\" class=\"dataframe\">\n",
       "  <thead>\n",
       "    <tr style=\"text-align: right;\">\n",
       "      <th></th>\n",
       "      <th>Edad</th>\n",
       "      <th>Sexo</th>\n",
       "      <th>Total</th>\n",
       "      <th>Año</th>\n",
       "      <th>Diario</th>\n",
       "      <th>Jovenes</th>\n",
       "    </tr>\n",
       "  </thead>\n",
       "  <tbody>\n",
       "    <tr>\n",
       "      <th>0</th>\n",
       "      <td>Todas las edades</td>\n",
       "      <td>Ambos sexos</td>\n",
       "      <td>3539</td>\n",
       "      <td>2018</td>\n",
       "      <td>9.695890</td>\n",
       "      <td>275.0</td>\n",
       "    </tr>\n",
       "    <tr>\n",
       "      <th>1</th>\n",
       "      <td>Todas las edades</td>\n",
       "      <td>Ambos sexos</td>\n",
       "      <td>3671</td>\n",
       "      <td>2019</td>\n",
       "      <td>10.057534</td>\n",
       "      <td>316.0</td>\n",
       "    </tr>\n",
       "    <tr>\n",
       "      <th>2</th>\n",
       "      <td>Todas las edades</td>\n",
       "      <td>Ambos sexos</td>\n",
       "      <td>3941</td>\n",
       "      <td>2020</td>\n",
       "      <td>10.797260</td>\n",
       "      <td>314.0</td>\n",
       "    </tr>\n",
       "    <tr>\n",
       "      <th>3</th>\n",
       "      <td>Todas las edades</td>\n",
       "      <td>Ambos sexos</td>\n",
       "      <td>4003</td>\n",
       "      <td>2021</td>\n",
       "      <td>10.967123</td>\n",
       "      <td>338.0</td>\n",
       "    </tr>\n",
       "    <tr>\n",
       "      <th>4</th>\n",
       "      <td>Todas las edades</td>\n",
       "      <td>Ambos sexos</td>\n",
       "      <td>2015</td>\n",
       "      <td>2022</td>\n",
       "      <td>5.520548</td>\n",
       "      <td>157.0</td>\n",
       "    </tr>\n",
       "  </tbody>\n",
       "</table>\n",
       "</div>"
      ],
      "text/plain": [
       "               Edad         Sexo  Total   Año     Diario  Jovenes\n",
       "0  Todas las edades  Ambos sexos   3539  2018   9.695890    275.0\n",
       "1  Todas las edades  Ambos sexos   3671  2019  10.057534    316.0\n",
       "2  Todas las edades  Ambos sexos   3941  2020  10.797260    314.0\n",
       "3  Todas las edades  Ambos sexos   4003  2021  10.967123    338.0\n",
       "4  Todas las edades  Ambos sexos   2015  2022   5.520548    157.0"
      ]
     },
     "execution_count": 146,
     "metadata": {},
     "output_type": "execute_result"
    }
   ],
   "source": [
    "total"
   ]
  },
  {
   "cell_type": "code",
   "execution_count": 162,
   "metadata": {},
   "outputs": [
    {
     "data": {
      "application/vnd.plotly.v1+json": {
       "config": {
        "linkText": "Export to plot.ly",
        "plotlyServerURL": "https://plot.ly",
        "showLink": false
       },
       "data": [
        {
         "mode": "lines+markers",
         "name": "2018",
         "type": "scatter",
         "x": [
          2018,
          2019,
          2020,
          2021,
          2022
         ],
         "y": [
          275,
          316,
          314,
          338,
          157
         ]
        },
        {
         "mode": "lines+markers",
         "name": "2019",
         "type": "scatter",
         "x": [
          2018,
          2019,
          2020,
          2021,
          2022
         ],
         "y": [
          275,
          316,
          314,
          338,
          157
         ]
        },
        {
         "mode": "lines+markers",
         "name": "2020",
         "type": "scatter",
         "x": [
          2018,
          2019,
          2020,
          2021,
          2022
         ],
         "y": [
          275,
          316,
          314,
          338,
          157
         ]
        },
        {
         "mode": "lines+markers",
         "name": "2021",
         "type": "scatter",
         "x": [
          2018,
          2019,
          2020,
          2021,
          2022
         ],
         "y": [
          275,
          316,
          314,
          338,
          157
         ]
        },
        {
         "marker": {
          "color": "MediumPurple"
         },
         "mode": "lines+markers",
         "name": "2022",
         "type": "scatter",
         "x": [
          2018,
          2019,
          2020,
          2021,
          2022
         ],
         "y": [
          275,
          316,
          314,
          338,
          157
         ]
        }
       ],
       "layout": {
        "template": {
         "data": {
          "bar": [
           {
            "error_x": {
             "color": "#2a3f5f"
            },
            "error_y": {
             "color": "#2a3f5f"
            },
            "marker": {
             "line": {
              "color": "#E5ECF6",
              "width": 0.5
             },
             "pattern": {
              "fillmode": "overlay",
              "size": 10,
              "solidity": 0.2
             }
            },
            "type": "bar"
           }
          ],
          "barpolar": [
           {
            "marker": {
             "line": {
              "color": "#E5ECF6",
              "width": 0.5
             },
             "pattern": {
              "fillmode": "overlay",
              "size": 10,
              "solidity": 0.2
             }
            },
            "type": "barpolar"
           }
          ],
          "carpet": [
           {
            "aaxis": {
             "endlinecolor": "#2a3f5f",
             "gridcolor": "white",
             "linecolor": "white",
             "minorgridcolor": "white",
             "startlinecolor": "#2a3f5f"
            },
            "baxis": {
             "endlinecolor": "#2a3f5f",
             "gridcolor": "white",
             "linecolor": "white",
             "minorgridcolor": "white",
             "startlinecolor": "#2a3f5f"
            },
            "type": "carpet"
           }
          ],
          "choropleth": [
           {
            "colorbar": {
             "outlinewidth": 0,
             "ticks": ""
            },
            "type": "choropleth"
           }
          ],
          "contour": [
           {
            "colorbar": {
             "outlinewidth": 0,
             "ticks": ""
            },
            "colorscale": [
             [
              0,
              "#0d0887"
             ],
             [
              0.1111111111111111,
              "#46039f"
             ],
             [
              0.2222222222222222,
              "#7201a8"
             ],
             [
              0.3333333333333333,
              "#9c179e"
             ],
             [
              0.4444444444444444,
              "#bd3786"
             ],
             [
              0.5555555555555556,
              "#d8576b"
             ],
             [
              0.6666666666666666,
              "#ed7953"
             ],
             [
              0.7777777777777778,
              "#fb9f3a"
             ],
             [
              0.8888888888888888,
              "#fdca26"
             ],
             [
              1,
              "#f0f921"
             ]
            ],
            "type": "contour"
           }
          ],
          "contourcarpet": [
           {
            "colorbar": {
             "outlinewidth": 0,
             "ticks": ""
            },
            "type": "contourcarpet"
           }
          ],
          "heatmap": [
           {
            "colorbar": {
             "outlinewidth": 0,
             "ticks": ""
            },
            "colorscale": [
             [
              0,
              "#0d0887"
             ],
             [
              0.1111111111111111,
              "#46039f"
             ],
             [
              0.2222222222222222,
              "#7201a8"
             ],
             [
              0.3333333333333333,
              "#9c179e"
             ],
             [
              0.4444444444444444,
              "#bd3786"
             ],
             [
              0.5555555555555556,
              "#d8576b"
             ],
             [
              0.6666666666666666,
              "#ed7953"
             ],
             [
              0.7777777777777778,
              "#fb9f3a"
             ],
             [
              0.8888888888888888,
              "#fdca26"
             ],
             [
              1,
              "#f0f921"
             ]
            ],
            "type": "heatmap"
           }
          ],
          "heatmapgl": [
           {
            "colorbar": {
             "outlinewidth": 0,
             "ticks": ""
            },
            "colorscale": [
             [
              0,
              "#0d0887"
             ],
             [
              0.1111111111111111,
              "#46039f"
             ],
             [
              0.2222222222222222,
              "#7201a8"
             ],
             [
              0.3333333333333333,
              "#9c179e"
             ],
             [
              0.4444444444444444,
              "#bd3786"
             ],
             [
              0.5555555555555556,
              "#d8576b"
             ],
             [
              0.6666666666666666,
              "#ed7953"
             ],
             [
              0.7777777777777778,
              "#fb9f3a"
             ],
             [
              0.8888888888888888,
              "#fdca26"
             ],
             [
              1,
              "#f0f921"
             ]
            ],
            "type": "heatmapgl"
           }
          ],
          "histogram": [
           {
            "marker": {
             "pattern": {
              "fillmode": "overlay",
              "size": 10,
              "solidity": 0.2
             }
            },
            "type": "histogram"
           }
          ],
          "histogram2d": [
           {
            "colorbar": {
             "outlinewidth": 0,
             "ticks": ""
            },
            "colorscale": [
             [
              0,
              "#0d0887"
             ],
             [
              0.1111111111111111,
              "#46039f"
             ],
             [
              0.2222222222222222,
              "#7201a8"
             ],
             [
              0.3333333333333333,
              "#9c179e"
             ],
             [
              0.4444444444444444,
              "#bd3786"
             ],
             [
              0.5555555555555556,
              "#d8576b"
             ],
             [
              0.6666666666666666,
              "#ed7953"
             ],
             [
              0.7777777777777778,
              "#fb9f3a"
             ],
             [
              0.8888888888888888,
              "#fdca26"
             ],
             [
              1,
              "#f0f921"
             ]
            ],
            "type": "histogram2d"
           }
          ],
          "histogram2dcontour": [
           {
            "colorbar": {
             "outlinewidth": 0,
             "ticks": ""
            },
            "colorscale": [
             [
              0,
              "#0d0887"
             ],
             [
              0.1111111111111111,
              "#46039f"
             ],
             [
              0.2222222222222222,
              "#7201a8"
             ],
             [
              0.3333333333333333,
              "#9c179e"
             ],
             [
              0.4444444444444444,
              "#bd3786"
             ],
             [
              0.5555555555555556,
              "#d8576b"
             ],
             [
              0.6666666666666666,
              "#ed7953"
             ],
             [
              0.7777777777777778,
              "#fb9f3a"
             ],
             [
              0.8888888888888888,
              "#fdca26"
             ],
             [
              1,
              "#f0f921"
             ]
            ],
            "type": "histogram2dcontour"
           }
          ],
          "mesh3d": [
           {
            "colorbar": {
             "outlinewidth": 0,
             "ticks": ""
            },
            "type": "mesh3d"
           }
          ],
          "parcoords": [
           {
            "line": {
             "colorbar": {
              "outlinewidth": 0,
              "ticks": ""
             }
            },
            "type": "parcoords"
           }
          ],
          "pie": [
           {
            "automargin": true,
            "type": "pie"
           }
          ],
          "scatter": [
           {
            "fillpattern": {
             "fillmode": "overlay",
             "size": 10,
             "solidity": 0.2
            },
            "type": "scatter"
           }
          ],
          "scatter3d": [
           {
            "line": {
             "colorbar": {
              "outlinewidth": 0,
              "ticks": ""
             }
            },
            "marker": {
             "colorbar": {
              "outlinewidth": 0,
              "ticks": ""
             }
            },
            "type": "scatter3d"
           }
          ],
          "scattercarpet": [
           {
            "marker": {
             "colorbar": {
              "outlinewidth": 0,
              "ticks": ""
             }
            },
            "type": "scattercarpet"
           }
          ],
          "scattergeo": [
           {
            "marker": {
             "colorbar": {
              "outlinewidth": 0,
              "ticks": ""
             }
            },
            "type": "scattergeo"
           }
          ],
          "scattergl": [
           {
            "marker": {
             "colorbar": {
              "outlinewidth": 0,
              "ticks": ""
             }
            },
            "type": "scattergl"
           }
          ],
          "scattermapbox": [
           {
            "marker": {
             "colorbar": {
              "outlinewidth": 0,
              "ticks": ""
             }
            },
            "type": "scattermapbox"
           }
          ],
          "scatterpolar": [
           {
            "marker": {
             "colorbar": {
              "outlinewidth": 0,
              "ticks": ""
             }
            },
            "type": "scatterpolar"
           }
          ],
          "scatterpolargl": [
           {
            "marker": {
             "colorbar": {
              "outlinewidth": 0,
              "ticks": ""
             }
            },
            "type": "scatterpolargl"
           }
          ],
          "scatterternary": [
           {
            "marker": {
             "colorbar": {
              "outlinewidth": 0,
              "ticks": ""
             }
            },
            "type": "scatterternary"
           }
          ],
          "surface": [
           {
            "colorbar": {
             "outlinewidth": 0,
             "ticks": ""
            },
            "colorscale": [
             [
              0,
              "#0d0887"
             ],
             [
              0.1111111111111111,
              "#46039f"
             ],
             [
              0.2222222222222222,
              "#7201a8"
             ],
             [
              0.3333333333333333,
              "#9c179e"
             ],
             [
              0.4444444444444444,
              "#bd3786"
             ],
             [
              0.5555555555555556,
              "#d8576b"
             ],
             [
              0.6666666666666666,
              "#ed7953"
             ],
             [
              0.7777777777777778,
              "#fb9f3a"
             ],
             [
              0.8888888888888888,
              "#fdca26"
             ],
             [
              1,
              "#f0f921"
             ]
            ],
            "type": "surface"
           }
          ],
          "table": [
           {
            "cells": {
             "fill": {
              "color": "#EBF0F8"
             },
             "line": {
              "color": "white"
             }
            },
            "header": {
             "fill": {
              "color": "#C8D4E3"
             },
             "line": {
              "color": "white"
             }
            },
            "type": "table"
           }
          ]
         },
         "layout": {
          "annotationdefaults": {
           "arrowcolor": "#2a3f5f",
           "arrowhead": 0,
           "arrowwidth": 1
          },
          "autotypenumbers": "strict",
          "coloraxis": {
           "colorbar": {
            "outlinewidth": 0,
            "ticks": ""
           }
          },
          "colorscale": {
           "diverging": [
            [
             0,
             "#8e0152"
            ],
            [
             0.1,
             "#c51b7d"
            ],
            [
             0.2,
             "#de77ae"
            ],
            [
             0.3,
             "#f1b6da"
            ],
            [
             0.4,
             "#fde0ef"
            ],
            [
             0.5,
             "#f7f7f7"
            ],
            [
             0.6,
             "#e6f5d0"
            ],
            [
             0.7,
             "#b8e186"
            ],
            [
             0.8,
             "#7fbc41"
            ],
            [
             0.9,
             "#4d9221"
            ],
            [
             1,
             "#276419"
            ]
           ],
           "sequential": [
            [
             0,
             "#0d0887"
            ],
            [
             0.1111111111111111,
             "#46039f"
            ],
            [
             0.2222222222222222,
             "#7201a8"
            ],
            [
             0.3333333333333333,
             "#9c179e"
            ],
            [
             0.4444444444444444,
             "#bd3786"
            ],
            [
             0.5555555555555556,
             "#d8576b"
            ],
            [
             0.6666666666666666,
             "#ed7953"
            ],
            [
             0.7777777777777778,
             "#fb9f3a"
            ],
            [
             0.8888888888888888,
             "#fdca26"
            ],
            [
             1,
             "#f0f921"
            ]
           ],
           "sequentialminus": [
            [
             0,
             "#0d0887"
            ],
            [
             0.1111111111111111,
             "#46039f"
            ],
            [
             0.2222222222222222,
             "#7201a8"
            ],
            [
             0.3333333333333333,
             "#9c179e"
            ],
            [
             0.4444444444444444,
             "#bd3786"
            ],
            [
             0.5555555555555556,
             "#d8576b"
            ],
            [
             0.6666666666666666,
             "#ed7953"
            ],
            [
             0.7777777777777778,
             "#fb9f3a"
            ],
            [
             0.8888888888888888,
             "#fdca26"
            ],
            [
             1,
             "#f0f921"
            ]
           ]
          },
          "colorway": [
           "#636efa",
           "#EF553B",
           "#00cc96",
           "#ab63fa",
           "#FFA15A",
           "#19d3f3",
           "#FF6692",
           "#B6E880",
           "#FF97FF",
           "#FECB52"
          ],
          "font": {
           "color": "#2a3f5f"
          },
          "geo": {
           "bgcolor": "white",
           "lakecolor": "white",
           "landcolor": "#E5ECF6",
           "showlakes": true,
           "showland": true,
           "subunitcolor": "white"
          },
          "hoverlabel": {
           "align": "left"
          },
          "hovermode": "closest",
          "mapbox": {
           "style": "light"
          },
          "paper_bgcolor": "white",
          "plot_bgcolor": "#E5ECF6",
          "polar": {
           "angularaxis": {
            "gridcolor": "white",
            "linecolor": "white",
            "ticks": ""
           },
           "bgcolor": "#E5ECF6",
           "radialaxis": {
            "gridcolor": "white",
            "linecolor": "white",
            "ticks": ""
           }
          },
          "scene": {
           "xaxis": {
            "backgroundcolor": "#E5ECF6",
            "gridcolor": "white",
            "gridwidth": 2,
            "linecolor": "white",
            "showbackground": true,
            "ticks": "",
            "zerolinecolor": "white"
           },
           "yaxis": {
            "backgroundcolor": "#E5ECF6",
            "gridcolor": "white",
            "gridwidth": 2,
            "linecolor": "white",
            "showbackground": true,
            "ticks": "",
            "zerolinecolor": "white"
           },
           "zaxis": {
            "backgroundcolor": "#E5ECF6",
            "gridcolor": "white",
            "gridwidth": 2,
            "linecolor": "white",
            "showbackground": true,
            "ticks": "",
            "zerolinecolor": "white"
           }
          },
          "shapedefaults": {
           "line": {
            "color": "#2a3f5f"
           }
          },
          "ternary": {
           "aaxis": {
            "gridcolor": "white",
            "linecolor": "white",
            "ticks": ""
           },
           "baxis": {
            "gridcolor": "white",
            "linecolor": "white",
            "ticks": ""
           },
           "bgcolor": "#E5ECF6",
           "caxis": {
            "gridcolor": "white",
            "linecolor": "white",
            "ticks": ""
           }
          },
          "title": {
           "x": 0.05
          },
          "xaxis": {
           "automargin": true,
           "gridcolor": "white",
           "linecolor": "white",
           "ticks": "",
           "title": {
            "standoff": 15
           },
           "zerolinecolor": "white",
           "zerolinewidth": 2
          },
          "yaxis": {
           "automargin": true,
           "gridcolor": "white",
           "linecolor": "white",
           "ticks": "",
           "title": {
            "standoff": 15
           },
           "zerolinecolor": "white",
           "zerolinewidth": 2
          }
         }
        },
        "title": {
         "text": "Suicidios 2018 - 2022 en jóvenes de 0 a 29 años"
        },
        "xaxis": {
         "title": {
          "text": "Año"
         }
        }
       }
      }
     },
     "metadata": {},
     "output_type": "display_data"
    }
   ],
   "source": [
    "grafico_2 = go.Scatter(x = total[\"Año\"],\n",
    "                y = total[\"Jovenes\"],name=\"2018\", mode= \"lines+markers\",\n",
    "                )\n",
    "grafico_3 = go.Scatter(x = total[\"Año\"],\n",
    "                y = total[\"Jovenes\"],name = \"2019\", mode= \"lines+markers\",\n",
    "                )\n",
    "grafico_4 = go.Scatter(x = total[\"Año\"],\n",
    "                y = total[\"Jovenes\"], name= \"2020\",mode= \"lines+markers\",\n",
    "                )\n",
    "grafico_5 = go.Scatter(x = total[\"Año\"],\n",
    "                y = total[\"Jovenes\"],name= \"2021\",mode= \"lines+markers\",\n",
    "                )\n",
    "grafico_6 = go.Scatter(x = total[\"Año\"],\n",
    "                y = total[\"Jovenes\"],name= \"2022\",mode= \"lines+markers\",\n",
    "                marker = dict(color = \"MediumPurple\"))\n",
    "\n",
    "data = [grafico_2,grafico_3,grafico_4,grafico_5,grafico_6]\n",
    "layout = go.Layout (title= \"Suicidios 2018 - 2022 en jóvenes de 0 a 29 años\", xaxis=dict(title=\"Año\"))\n",
    "fig = go.Figure(data, layout)\n",
    "iplot(fig)"
   ]
  },
  {
   "attachments": {},
   "cell_type": "markdown",
   "metadata": {},
   "source": [
    "## **RESULTADO**"
   ]
  },
  {
   "attachments": {},
   "cell_type": "markdown",
   "metadata": {},
   "source": [
    "Dados los resultados de los cálculos realizados en cuanto al crecimiento anual del número de suicidios, podemos indicar que el incremento de la tasa de suicidios ha sido menor durante la época de pandemia, pudiendo afirmar por tanto que la vuelta a la normalidad ha supuesto un freno en el constante crecimiento de los suicidios."
   ]
  }
 ],
 "metadata": {
  "kernelspec": {
   "display_name": "Python 3",
   "language": "python",
   "name": "python3"
  },
  "language_info": {
   "codemirror_mode": {
    "name": "ipython",
    "version": 3
   },
   "file_extension": ".py",
   "mimetype": "text/x-python",
   "name": "python",
   "nbconvert_exporter": "python",
   "pygments_lexer": "ipython3",
   "version": "3.7.4"
  },
  "orig_nbformat": 4,
  "vscode": {
   "interpreter": {
    "hash": "924a151fb5973f04e416f421822c1ba91474c73a1f889bcdd604a279afead29a"
   }
  }
 },
 "nbformat": 4,
 "nbformat_minor": 2
}
